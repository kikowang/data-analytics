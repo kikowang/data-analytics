{
 "cells": [
  {
   "cell_type": "code",
   "execution_count": 1,
   "metadata": {},
   "outputs": [],
   "source": [
    "import pandas as pd\n",
    "import numpy as np\n",
    "import seaborn as sns\n",
    "import matplotlib.pyplot as plt\n",
    "%matplotlib inline"
   ]
  },
  {
   "cell_type": "markdown",
   "metadata": {},
   "source": [
    "# Load datasets"
   ]
  },
  {
   "cell_type": "code",
   "execution_count": 2,
   "metadata": {},
   "outputs": [
    {
     "name": "stderr",
     "output_type": "stream",
     "text": [
      "C:\\Users\\wan14\\AppData\\Local\\Continuum\\anaconda3\\lib\\site-packages\\IPython\\core\\interactiveshell.py:3057: DtypeWarning: Columns (0,1,2,3,5,8) have mixed types. Specify dtype option on import or set low_memory=False.\n",
      "  interactivity=interactivity, compiler=compiler, result=result)\n"
     ]
    }
   ],
   "source": [
    "#user related data\n",
    "user_engagements = pd.read_csv('user_engagements.csv')"
   ]
  },
  {
   "cell_type": "code",
   "execution_count": 2,
   "metadata": {},
   "outputs": [],
   "source": [
    "# transaction related data\n",
    "\n",
    "transaction_dimensions = pd.read_csv('transaction_dimensions.csv')\n",
    "transaction_financials = pd.read_csv('transaction_financials.csv')\n",
    "dim_channel = pd.read_csv('dim_channel.csv')\n",
    "currency_details = pd.read_csv('currency_details.csv')\n",
    "fx_rates_eur = pd.read_csv('fx_rates_eur.csv')\n",
    "cities = pd.read_csv('cities.csv')"
   ]
  },
  {
   "cell_type": "code",
   "execution_count": 4,
   "metadata": {},
   "outputs": [],
   "source": [
    "# reference data - not useful for this task, so skipped\n",
    "#platforms = pd.read_csv('platforms.csv')\n",
    "#country_currency_mapping = pd.read_csv('country_currency_mapping.csv')"
   ]
  },
  {
   "cell_type": "markdown",
   "metadata": {},
   "source": [
    "# 1 - User related data: checking, cleaning and processing"
   ]
  },
  {
   "cell_type": "code",
   "execution_count": 5,
   "metadata": {},
   "outputs": [
    {
     "data": {
      "text/plain": [
       "sessionid           object\n",
       "funnel_level        object\n",
       "customerid          object\n",
       "userid              object\n",
       "visit_duration     float64\n",
       "loginid             object\n",
       "platform            object\n",
       "transaction_id      object\n",
       "sessiondatetime     object\n",
       "dtype: object"
      ]
     },
     "execution_count": 5,
     "metadata": {},
     "output_type": "execute_result"
    }
   ],
   "source": [
    "user_engagements.dtypes"
   ]
  },
  {
   "cell_type": "code",
   "execution_count": 6,
   "metadata": {},
   "outputs": [
    {
     "data": {
      "text/plain": [
       "1798608"
      ]
     },
     "execution_count": 6,
     "metadata": {},
     "output_type": "execute_result"
    }
   ],
   "source": [
    "len(user_engagements)"
   ]
  },
  {
   "cell_type": "code",
   "execution_count": 7,
   "metadata": {},
   "outputs": [
    {
     "data": {
      "text/plain": [
       "sessionid           642458\n",
       "funnel_level        642479\n",
       "customerid         1042477\n",
       "userid              642458\n",
       "visit_duration      642479\n",
       "loginid            1042464\n",
       "platform                 0\n",
       "transaction_id      400000\n",
       "sessiondatetime     642458\n",
       "dtype: int64"
      ]
     },
     "execution_count": 7,
     "metadata": {},
     "output_type": "execute_result"
    }
   ],
   "source": [
    "user_engagements.isna().sum()"
   ]
  },
  {
   "cell_type": "code",
   "execution_count": 8,
   "metadata": {},
   "outputs": [
    {
     "data": {
      "text/html": [
       "<div>\n",
       "<style scoped>\n",
       "    .dataframe tbody tr th:only-of-type {\n",
       "        vertical-align: middle;\n",
       "    }\n",
       "\n",
       "    .dataframe tbody tr th {\n",
       "        vertical-align: top;\n",
       "    }\n",
       "\n",
       "    .dataframe thead th {\n",
       "        text-align: right;\n",
       "    }\n",
       "</style>\n",
       "<table border=\"1\" class=\"dataframe\">\n",
       "  <thead>\n",
       "    <tr style=\"text-align: right;\">\n",
       "      <th></th>\n",
       "      <th>sessionid</th>\n",
       "      <th>funnel_level</th>\n",
       "      <th>customerid</th>\n",
       "      <th>userid</th>\n",
       "      <th>visit_duration</th>\n",
       "      <th>loginid</th>\n",
       "      <th>platform</th>\n",
       "      <th>transaction_id</th>\n",
       "      <th>sessiondatetime</th>\n",
       "    </tr>\n",
       "  </thead>\n",
       "  <tbody>\n",
       "    <tr>\n",
       "      <th>0</th>\n",
       "      <td>03327977b7c2fba25bb131922983a882f40945b5</td>\n",
       "      <td>service</td>\n",
       "      <td>NaN</td>\n",
       "      <td>d4c7eb82ca3b613e395aaebc1559f4d007899bbc</td>\n",
       "      <td>0.0</td>\n",
       "      <td>NaN</td>\n",
       "      <td>WEB</td>\n",
       "      <td>NaN</td>\n",
       "      <td>2020-05-24 08:41:00</td>\n",
       "    </tr>\n",
       "    <tr>\n",
       "      <th>1</th>\n",
       "      <td>0b56a45b8dbd6cb5323a3a7b80be3eb48ea3f7ba</td>\n",
       "      <td>service</td>\n",
       "      <td>NaN</td>\n",
       "      <td>a07394c246f775799ca71492fcfd6ef6dce4a084</td>\n",
       "      <td>45.0</td>\n",
       "      <td>NaN</td>\n",
       "      <td>APP</td>\n",
       "      <td>NaN</td>\n",
       "      <td>2020-05-10 07:53:06</td>\n",
       "    </tr>\n",
       "    <tr>\n",
       "      <th>2</th>\n",
       "      <td>1d8de5efe1ac81ea2fa193dff9546d3af5af5764</td>\n",
       "      <td>service</td>\n",
       "      <td>NaN</td>\n",
       "      <td>4e13f53409a9887e936107dd3a016d9cfbc5a067</td>\n",
       "      <td>1.0</td>\n",
       "      <td>NaN</td>\n",
       "      <td>APP</td>\n",
       "      <td>NaN</td>\n",
       "      <td>2019-12-26 18:08:22</td>\n",
       "    </tr>\n",
       "    <tr>\n",
       "      <th>3</th>\n",
       "      <td>c9fff1caf5cef6054e76136e5f523974332baea5</td>\n",
       "      <td>service</td>\n",
       "      <td>NaN</td>\n",
       "      <td>f3ad470495b9cd4623edd79a151ad834c8b21c75</td>\n",
       "      <td>1199.0</td>\n",
       "      <td>NaN</td>\n",
       "      <td>APP</td>\n",
       "      <td>NaN</td>\n",
       "      <td>2019-12-23 19:55:24</td>\n",
       "    </tr>\n",
       "    <tr>\n",
       "      <th>4</th>\n",
       "      <td>d7bdc47e1b3ad58e9f80a87c5d5f3a3a2c7cebac</td>\n",
       "      <td>service</td>\n",
       "      <td>NaN</td>\n",
       "      <td>84fa728e41e8b6edd935f275d35772ad294face1</td>\n",
       "      <td>3.0</td>\n",
       "      <td>NaN</td>\n",
       "      <td>APP</td>\n",
       "      <td>NaN</td>\n",
       "      <td>2019-12-29 12:44:49</td>\n",
       "    </tr>\n",
       "  </tbody>\n",
       "</table>\n",
       "</div>"
      ],
      "text/plain": [
       "                                  sessionid funnel_level customerid  \\\n",
       "0  03327977b7c2fba25bb131922983a882f40945b5      service        NaN   \n",
       "1  0b56a45b8dbd6cb5323a3a7b80be3eb48ea3f7ba      service        NaN   \n",
       "2  1d8de5efe1ac81ea2fa193dff9546d3af5af5764      service        NaN   \n",
       "3  c9fff1caf5cef6054e76136e5f523974332baea5      service        NaN   \n",
       "4  d7bdc47e1b3ad58e9f80a87c5d5f3a3a2c7cebac      service        NaN   \n",
       "\n",
       "                                     userid  visit_duration loginid platform  \\\n",
       "0  d4c7eb82ca3b613e395aaebc1559f4d007899bbc             0.0     NaN      WEB   \n",
       "1  a07394c246f775799ca71492fcfd6ef6dce4a084            45.0     NaN      APP   \n",
       "2  4e13f53409a9887e936107dd3a016d9cfbc5a067             1.0     NaN      APP   \n",
       "3  f3ad470495b9cd4623edd79a151ad834c8b21c75          1199.0     NaN      APP   \n",
       "4  84fa728e41e8b6edd935f275d35772ad294face1             3.0     NaN      APP   \n",
       "\n",
       "  transaction_id      sessiondatetime  \n",
       "0            NaN  2020-05-24 08:41:00  \n",
       "1            NaN  2020-05-10 07:53:06  \n",
       "2            NaN  2019-12-26 18:08:22  \n",
       "3            NaN  2019-12-23 19:55:24  \n",
       "4            NaN  2019-12-29 12:44:49  "
      ]
     },
     "execution_count": 8,
     "metadata": {},
     "output_type": "execute_result"
    }
   ],
   "source": [
    "user_engagements.head()"
   ]
  },
  {
   "cell_type": "markdown",
   "metadata": {},
   "source": [
    "Create dummy variable column for transaction and login"
   ]
  },
  {
   "cell_type": "code",
   "execution_count": 9,
   "metadata": {},
   "outputs": [],
   "source": [
    "#fill in missing values,based on if there is no login_id or transaction_id, it means it is not logged in, or not transacted\n",
    "\n",
    "user_engagements['loginid'].fillna(0,inplace=True)\n",
    "user_engagements['transaction_id'].fillna(0,inplace=True)"
   ]
  },
  {
   "cell_type": "code",
   "execution_count": 10,
   "metadata": {},
   "outputs": [],
   "source": [
    "def dummy(x):\n",
    "    if x == 0:\n",
    "        return 0\n",
    "    return 1"
   ]
  },
  {
   "cell_type": "code",
   "execution_count": 11,
   "metadata": {},
   "outputs": [],
   "source": [
    "user_engagements['transaction_dummy'] = user_engagements['transaction_id'].apply(dummy)\n",
    "user_engagements['login_dummy'] = user_engagements['loginid'].apply(dummy)"
   ]
  },
  {
   "cell_type": "code",
   "execution_count": 12,
   "metadata": {},
   "outputs": [
    {
     "data": {
      "text/html": [
       "<div>\n",
       "<style scoped>\n",
       "    .dataframe tbody tr th:only-of-type {\n",
       "        vertical-align: middle;\n",
       "    }\n",
       "\n",
       "    .dataframe tbody tr th {\n",
       "        vertical-align: top;\n",
       "    }\n",
       "\n",
       "    .dataframe thead th {\n",
       "        text-align: right;\n",
       "    }\n",
       "</style>\n",
       "<table border=\"1\" class=\"dataframe\">\n",
       "  <thead>\n",
       "    <tr style=\"text-align: right;\">\n",
       "      <th></th>\n",
       "      <th>sessionid</th>\n",
       "      <th>funnel_level</th>\n",
       "      <th>customerid</th>\n",
       "      <th>userid</th>\n",
       "      <th>visit_duration</th>\n",
       "      <th>loginid</th>\n",
       "      <th>platform</th>\n",
       "      <th>transaction_id</th>\n",
       "      <th>sessiondatetime</th>\n",
       "      <th>transaction_dummy</th>\n",
       "      <th>login_dummy</th>\n",
       "    </tr>\n",
       "  </thead>\n",
       "  <tbody>\n",
       "    <tr>\n",
       "      <th>0</th>\n",
       "      <td>03327977b7c2fba25bb131922983a882f40945b5</td>\n",
       "      <td>service</td>\n",
       "      <td>NaN</td>\n",
       "      <td>d4c7eb82ca3b613e395aaebc1559f4d007899bbc</td>\n",
       "      <td>0.0</td>\n",
       "      <td>0</td>\n",
       "      <td>WEB</td>\n",
       "      <td>0</td>\n",
       "      <td>2020-05-24 08:41:00</td>\n",
       "      <td>0</td>\n",
       "      <td>0</td>\n",
       "    </tr>\n",
       "    <tr>\n",
       "      <th>1</th>\n",
       "      <td>0b56a45b8dbd6cb5323a3a7b80be3eb48ea3f7ba</td>\n",
       "      <td>service</td>\n",
       "      <td>NaN</td>\n",
       "      <td>a07394c246f775799ca71492fcfd6ef6dce4a084</td>\n",
       "      <td>45.0</td>\n",
       "      <td>0</td>\n",
       "      <td>APP</td>\n",
       "      <td>0</td>\n",
       "      <td>2020-05-10 07:53:06</td>\n",
       "      <td>0</td>\n",
       "      <td>0</td>\n",
       "    </tr>\n",
       "    <tr>\n",
       "      <th>2</th>\n",
       "      <td>1d8de5efe1ac81ea2fa193dff9546d3af5af5764</td>\n",
       "      <td>service</td>\n",
       "      <td>NaN</td>\n",
       "      <td>4e13f53409a9887e936107dd3a016d9cfbc5a067</td>\n",
       "      <td>1.0</td>\n",
       "      <td>0</td>\n",
       "      <td>APP</td>\n",
       "      <td>0</td>\n",
       "      <td>2019-12-26 18:08:22</td>\n",
       "      <td>0</td>\n",
       "      <td>0</td>\n",
       "    </tr>\n",
       "    <tr>\n",
       "      <th>3</th>\n",
       "      <td>c9fff1caf5cef6054e76136e5f523974332baea5</td>\n",
       "      <td>service</td>\n",
       "      <td>NaN</td>\n",
       "      <td>f3ad470495b9cd4623edd79a151ad834c8b21c75</td>\n",
       "      <td>1199.0</td>\n",
       "      <td>0</td>\n",
       "      <td>APP</td>\n",
       "      <td>0</td>\n",
       "      <td>2019-12-23 19:55:24</td>\n",
       "      <td>0</td>\n",
       "      <td>0</td>\n",
       "    </tr>\n",
       "    <tr>\n",
       "      <th>4</th>\n",
       "      <td>d7bdc47e1b3ad58e9f80a87c5d5f3a3a2c7cebac</td>\n",
       "      <td>service</td>\n",
       "      <td>NaN</td>\n",
       "      <td>84fa728e41e8b6edd935f275d35772ad294face1</td>\n",
       "      <td>3.0</td>\n",
       "      <td>0</td>\n",
       "      <td>APP</td>\n",
       "      <td>0</td>\n",
       "      <td>2019-12-29 12:44:49</td>\n",
       "      <td>0</td>\n",
       "      <td>0</td>\n",
       "    </tr>\n",
       "  </tbody>\n",
       "</table>\n",
       "</div>"
      ],
      "text/plain": [
       "                                  sessionid funnel_level customerid  \\\n",
       "0  03327977b7c2fba25bb131922983a882f40945b5      service        NaN   \n",
       "1  0b56a45b8dbd6cb5323a3a7b80be3eb48ea3f7ba      service        NaN   \n",
       "2  1d8de5efe1ac81ea2fa193dff9546d3af5af5764      service        NaN   \n",
       "3  c9fff1caf5cef6054e76136e5f523974332baea5      service        NaN   \n",
       "4  d7bdc47e1b3ad58e9f80a87c5d5f3a3a2c7cebac      service        NaN   \n",
       "\n",
       "                                     userid  visit_duration loginid platform  \\\n",
       "0  d4c7eb82ca3b613e395aaebc1559f4d007899bbc             0.0       0      WEB   \n",
       "1  a07394c246f775799ca71492fcfd6ef6dce4a084            45.0       0      APP   \n",
       "2  4e13f53409a9887e936107dd3a016d9cfbc5a067             1.0       0      APP   \n",
       "3  f3ad470495b9cd4623edd79a151ad834c8b21c75          1199.0       0      APP   \n",
       "4  84fa728e41e8b6edd935f275d35772ad294face1             3.0       0      APP   \n",
       "\n",
       "  transaction_id      sessiondatetime  transaction_dummy  login_dummy  \n",
       "0              0  2020-05-24 08:41:00                  0            0  \n",
       "1              0  2020-05-10 07:53:06                  0            0  \n",
       "2              0  2019-12-26 18:08:22                  0            0  \n",
       "3              0  2019-12-23 19:55:24                  0            0  \n",
       "4              0  2019-12-29 12:44:49                  0            0  "
      ]
     },
     "execution_count": 12,
     "metadata": {},
     "output_type": "execute_result"
    }
   ],
   "source": [
    "user_engagements.head()"
   ]
  },
  {
   "cell_type": "markdown",
   "metadata": {},
   "source": [
    "Convert string variables to numeric variables"
   ]
  },
  {
   "cell_type": "code",
   "execution_count": 13,
   "metadata": {},
   "outputs": [],
   "source": [
    "#date to weekday/weekend\n",
    "\n",
    "import datetime"
   ]
  },
  {
   "cell_type": "code",
   "execution_count": 14,
   "metadata": {},
   "outputs": [],
   "source": [
    "#df = user_engagements['sessiondatetime'].dt.strftime('%Y-%m-%d %H:%M:%S')\n",
    "\n",
    "user_engagements['Date'] = pd.to_datetime(user_engagements['sessiondatetime'].str[:10], format='%Y-%m-%d')"
   ]
  },
  {
   "cell_type": "code",
   "execution_count": 15,
   "metadata": {},
   "outputs": [],
   "source": [
    "user_engagements['Time'] = pd.to_datetime(user_engagements['sessiondatetime'].str[12:], format='%H:%M:%S')"
   ]
  },
  {
   "cell_type": "code",
   "execution_count": 16,
   "metadata": {},
   "outputs": [],
   "source": [
    "user_engagements['day_of_week'] = user_engagements['Date'].dt.day_name()"
   ]
  },
  {
   "cell_type": "code",
   "execution_count": 17,
   "metadata": {},
   "outputs": [],
   "source": [
    "# As there are too many flavors in day of week, I'll create a dummy variable for if it's weekday(0) or weekend(1)\n",
    "\n",
    "def day(x):\n",
    "    if x.weekday() <=5:\n",
    "        return \"Weekday\"\n",
    "    if x.weekday() >5:\n",
    "        return \"Weekend\""
   ]
  },
  {
   "cell_type": "code",
   "execution_count": 18,
   "metadata": {},
   "outputs": [
    {
     "data": {
      "text/html": [
       "<div>\n",
       "<style scoped>\n",
       "    .dataframe tbody tr th:only-of-type {\n",
       "        vertical-align: middle;\n",
       "    }\n",
       "\n",
       "    .dataframe tbody tr th {\n",
       "        vertical-align: top;\n",
       "    }\n",
       "\n",
       "    .dataframe thead th {\n",
       "        text-align: right;\n",
       "    }\n",
       "</style>\n",
       "<table border=\"1\" class=\"dataframe\">\n",
       "  <thead>\n",
       "    <tr style=\"text-align: right;\">\n",
       "      <th></th>\n",
       "      <th>sessionid</th>\n",
       "      <th>funnel_level</th>\n",
       "      <th>customerid</th>\n",
       "      <th>userid</th>\n",
       "      <th>visit_duration</th>\n",
       "      <th>loginid</th>\n",
       "      <th>platform</th>\n",
       "      <th>transaction_id</th>\n",
       "      <th>sessiondatetime</th>\n",
       "      <th>transaction_dummy</th>\n",
       "      <th>login_dummy</th>\n",
       "      <th>Date</th>\n",
       "      <th>Time</th>\n",
       "      <th>day_of_week</th>\n",
       "    </tr>\n",
       "  </thead>\n",
       "  <tbody>\n",
       "    <tr>\n",
       "      <th>0</th>\n",
       "      <td>03327977b7c2fba25bb131922983a882f40945b5</td>\n",
       "      <td>service</td>\n",
       "      <td>NaN</td>\n",
       "      <td>d4c7eb82ca3b613e395aaebc1559f4d007899bbc</td>\n",
       "      <td>0.0</td>\n",
       "      <td>0</td>\n",
       "      <td>WEB</td>\n",
       "      <td>0</td>\n",
       "      <td>2020-05-24 08:41:00</td>\n",
       "      <td>0</td>\n",
       "      <td>0</td>\n",
       "      <td>2020-05-24</td>\n",
       "      <td>1900-01-01 08:41:00</td>\n",
       "      <td>Sunday</td>\n",
       "    </tr>\n",
       "    <tr>\n",
       "      <th>1</th>\n",
       "      <td>0b56a45b8dbd6cb5323a3a7b80be3eb48ea3f7ba</td>\n",
       "      <td>service</td>\n",
       "      <td>NaN</td>\n",
       "      <td>a07394c246f775799ca71492fcfd6ef6dce4a084</td>\n",
       "      <td>45.0</td>\n",
       "      <td>0</td>\n",
       "      <td>APP</td>\n",
       "      <td>0</td>\n",
       "      <td>2020-05-10 07:53:06</td>\n",
       "      <td>0</td>\n",
       "      <td>0</td>\n",
       "      <td>2020-05-10</td>\n",
       "      <td>1900-01-01 07:53:06</td>\n",
       "      <td>Sunday</td>\n",
       "    </tr>\n",
       "    <tr>\n",
       "      <th>2</th>\n",
       "      <td>1d8de5efe1ac81ea2fa193dff9546d3af5af5764</td>\n",
       "      <td>service</td>\n",
       "      <td>NaN</td>\n",
       "      <td>4e13f53409a9887e936107dd3a016d9cfbc5a067</td>\n",
       "      <td>1.0</td>\n",
       "      <td>0</td>\n",
       "      <td>APP</td>\n",
       "      <td>0</td>\n",
       "      <td>2019-12-26 18:08:22</td>\n",
       "      <td>0</td>\n",
       "      <td>0</td>\n",
       "      <td>2019-12-26</td>\n",
       "      <td>1900-01-01 08:08:22</td>\n",
       "      <td>Thursday</td>\n",
       "    </tr>\n",
       "    <tr>\n",
       "      <th>3</th>\n",
       "      <td>c9fff1caf5cef6054e76136e5f523974332baea5</td>\n",
       "      <td>service</td>\n",
       "      <td>NaN</td>\n",
       "      <td>f3ad470495b9cd4623edd79a151ad834c8b21c75</td>\n",
       "      <td>1199.0</td>\n",
       "      <td>0</td>\n",
       "      <td>APP</td>\n",
       "      <td>0</td>\n",
       "      <td>2019-12-23 19:55:24</td>\n",
       "      <td>0</td>\n",
       "      <td>0</td>\n",
       "      <td>2019-12-23</td>\n",
       "      <td>1900-01-01 09:55:24</td>\n",
       "      <td>Monday</td>\n",
       "    </tr>\n",
       "    <tr>\n",
       "      <th>4</th>\n",
       "      <td>d7bdc47e1b3ad58e9f80a87c5d5f3a3a2c7cebac</td>\n",
       "      <td>service</td>\n",
       "      <td>NaN</td>\n",
       "      <td>84fa728e41e8b6edd935f275d35772ad294face1</td>\n",
       "      <td>3.0</td>\n",
       "      <td>0</td>\n",
       "      <td>APP</td>\n",
       "      <td>0</td>\n",
       "      <td>2019-12-29 12:44:49</td>\n",
       "      <td>0</td>\n",
       "      <td>0</td>\n",
       "      <td>2019-12-29</td>\n",
       "      <td>1900-01-01 02:44:49</td>\n",
       "      <td>Sunday</td>\n",
       "    </tr>\n",
       "  </tbody>\n",
       "</table>\n",
       "</div>"
      ],
      "text/plain": [
       "                                  sessionid funnel_level customerid  \\\n",
       "0  03327977b7c2fba25bb131922983a882f40945b5      service        NaN   \n",
       "1  0b56a45b8dbd6cb5323a3a7b80be3eb48ea3f7ba      service        NaN   \n",
       "2  1d8de5efe1ac81ea2fa193dff9546d3af5af5764      service        NaN   \n",
       "3  c9fff1caf5cef6054e76136e5f523974332baea5      service        NaN   \n",
       "4  d7bdc47e1b3ad58e9f80a87c5d5f3a3a2c7cebac      service        NaN   \n",
       "\n",
       "                                     userid  visit_duration loginid platform  \\\n",
       "0  d4c7eb82ca3b613e395aaebc1559f4d007899bbc             0.0       0      WEB   \n",
       "1  a07394c246f775799ca71492fcfd6ef6dce4a084            45.0       0      APP   \n",
       "2  4e13f53409a9887e936107dd3a016d9cfbc5a067             1.0       0      APP   \n",
       "3  f3ad470495b9cd4623edd79a151ad834c8b21c75          1199.0       0      APP   \n",
       "4  84fa728e41e8b6edd935f275d35772ad294face1             3.0       0      APP   \n",
       "\n",
       "  transaction_id      sessiondatetime  transaction_dummy  login_dummy  \\\n",
       "0              0  2020-05-24 08:41:00                  0            0   \n",
       "1              0  2020-05-10 07:53:06                  0            0   \n",
       "2              0  2019-12-26 18:08:22                  0            0   \n",
       "3              0  2019-12-23 19:55:24                  0            0   \n",
       "4              0  2019-12-29 12:44:49                  0            0   \n",
       "\n",
       "        Date                Time day_of_week  \n",
       "0 2020-05-24 1900-01-01 08:41:00      Sunday  \n",
       "1 2020-05-10 1900-01-01 07:53:06      Sunday  \n",
       "2 2019-12-26 1900-01-01 08:08:22    Thursday  \n",
       "3 2019-12-23 1900-01-01 09:55:24      Monday  \n",
       "4 2019-12-29 1900-01-01 02:44:49      Sunday  "
      ]
     },
     "execution_count": 18,
     "metadata": {},
     "output_type": "execute_result"
    }
   ],
   "source": [
    "user_engagements.head()"
   ]
  },
  {
   "cell_type": "code",
   "execution_count": 19,
   "metadata": {},
   "outputs": [],
   "source": [
    "user_engagements['Day'] = user_engagements['Date'].apply(day)"
   ]
  },
  {
   "cell_type": "code",
   "execution_count": 20,
   "metadata": {},
   "outputs": [],
   "source": [
    "def weekend(x):\n",
    "    if x == \"Weekend\":\n",
    "        return 1\n",
    "    if x == \"Weekday\":\n",
    "        return 0"
   ]
  },
  {
   "cell_type": "code",
   "execution_count": 21,
   "metadata": {},
   "outputs": [],
   "source": [
    "user_engagements['Weekend_dummy'] = user_engagements['Day'].apply(weekend)"
   ]
  },
  {
   "cell_type": "code",
   "execution_count": 22,
   "metadata": {},
   "outputs": [
    {
     "data": {
      "text/html": [
       "<div>\n",
       "<style scoped>\n",
       "    .dataframe tbody tr th:only-of-type {\n",
       "        vertical-align: middle;\n",
       "    }\n",
       "\n",
       "    .dataframe tbody tr th {\n",
       "        vertical-align: top;\n",
       "    }\n",
       "\n",
       "    .dataframe thead th {\n",
       "        text-align: right;\n",
       "    }\n",
       "</style>\n",
       "<table border=\"1\" class=\"dataframe\">\n",
       "  <thead>\n",
       "    <tr style=\"text-align: right;\">\n",
       "      <th></th>\n",
       "      <th>sessionid</th>\n",
       "      <th>funnel_level</th>\n",
       "      <th>customerid</th>\n",
       "      <th>userid</th>\n",
       "      <th>visit_duration</th>\n",
       "      <th>loginid</th>\n",
       "      <th>platform</th>\n",
       "      <th>transaction_id</th>\n",
       "      <th>sessiondatetime</th>\n",
       "      <th>transaction_dummy</th>\n",
       "      <th>login_dummy</th>\n",
       "      <th>Date</th>\n",
       "      <th>Time</th>\n",
       "      <th>day_of_week</th>\n",
       "      <th>Day</th>\n",
       "      <th>Weekend_dummy</th>\n",
       "    </tr>\n",
       "  </thead>\n",
       "  <tbody>\n",
       "    <tr>\n",
       "      <th>0</th>\n",
       "      <td>03327977b7c2fba25bb131922983a882f40945b5</td>\n",
       "      <td>service</td>\n",
       "      <td>NaN</td>\n",
       "      <td>d4c7eb82ca3b613e395aaebc1559f4d007899bbc</td>\n",
       "      <td>0.0</td>\n",
       "      <td>0</td>\n",
       "      <td>WEB</td>\n",
       "      <td>0</td>\n",
       "      <td>2020-05-24 08:41:00</td>\n",
       "      <td>0</td>\n",
       "      <td>0</td>\n",
       "      <td>2020-05-24</td>\n",
       "      <td>1900-01-01 08:41:00</td>\n",
       "      <td>Sunday</td>\n",
       "      <td>Weekend</td>\n",
       "      <td>1.0</td>\n",
       "    </tr>\n",
       "    <tr>\n",
       "      <th>1</th>\n",
       "      <td>0b56a45b8dbd6cb5323a3a7b80be3eb48ea3f7ba</td>\n",
       "      <td>service</td>\n",
       "      <td>NaN</td>\n",
       "      <td>a07394c246f775799ca71492fcfd6ef6dce4a084</td>\n",
       "      <td>45.0</td>\n",
       "      <td>0</td>\n",
       "      <td>APP</td>\n",
       "      <td>0</td>\n",
       "      <td>2020-05-10 07:53:06</td>\n",
       "      <td>0</td>\n",
       "      <td>0</td>\n",
       "      <td>2020-05-10</td>\n",
       "      <td>1900-01-01 07:53:06</td>\n",
       "      <td>Sunday</td>\n",
       "      <td>Weekend</td>\n",
       "      <td>1.0</td>\n",
       "    </tr>\n",
       "    <tr>\n",
       "      <th>2</th>\n",
       "      <td>1d8de5efe1ac81ea2fa193dff9546d3af5af5764</td>\n",
       "      <td>service</td>\n",
       "      <td>NaN</td>\n",
       "      <td>4e13f53409a9887e936107dd3a016d9cfbc5a067</td>\n",
       "      <td>1.0</td>\n",
       "      <td>0</td>\n",
       "      <td>APP</td>\n",
       "      <td>0</td>\n",
       "      <td>2019-12-26 18:08:22</td>\n",
       "      <td>0</td>\n",
       "      <td>0</td>\n",
       "      <td>2019-12-26</td>\n",
       "      <td>1900-01-01 08:08:22</td>\n",
       "      <td>Thursday</td>\n",
       "      <td>Weekday</td>\n",
       "      <td>0.0</td>\n",
       "    </tr>\n",
       "    <tr>\n",
       "      <th>3</th>\n",
       "      <td>c9fff1caf5cef6054e76136e5f523974332baea5</td>\n",
       "      <td>service</td>\n",
       "      <td>NaN</td>\n",
       "      <td>f3ad470495b9cd4623edd79a151ad834c8b21c75</td>\n",
       "      <td>1199.0</td>\n",
       "      <td>0</td>\n",
       "      <td>APP</td>\n",
       "      <td>0</td>\n",
       "      <td>2019-12-23 19:55:24</td>\n",
       "      <td>0</td>\n",
       "      <td>0</td>\n",
       "      <td>2019-12-23</td>\n",
       "      <td>1900-01-01 09:55:24</td>\n",
       "      <td>Monday</td>\n",
       "      <td>Weekday</td>\n",
       "      <td>0.0</td>\n",
       "    </tr>\n",
       "    <tr>\n",
       "      <th>4</th>\n",
       "      <td>d7bdc47e1b3ad58e9f80a87c5d5f3a3a2c7cebac</td>\n",
       "      <td>service</td>\n",
       "      <td>NaN</td>\n",
       "      <td>84fa728e41e8b6edd935f275d35772ad294face1</td>\n",
       "      <td>3.0</td>\n",
       "      <td>0</td>\n",
       "      <td>APP</td>\n",
       "      <td>0</td>\n",
       "      <td>2019-12-29 12:44:49</td>\n",
       "      <td>0</td>\n",
       "      <td>0</td>\n",
       "      <td>2019-12-29</td>\n",
       "      <td>1900-01-01 02:44:49</td>\n",
       "      <td>Sunday</td>\n",
       "      <td>Weekend</td>\n",
       "      <td>1.0</td>\n",
       "    </tr>\n",
       "  </tbody>\n",
       "</table>\n",
       "</div>"
      ],
      "text/plain": [
       "                                  sessionid funnel_level customerid  \\\n",
       "0  03327977b7c2fba25bb131922983a882f40945b5      service        NaN   \n",
       "1  0b56a45b8dbd6cb5323a3a7b80be3eb48ea3f7ba      service        NaN   \n",
       "2  1d8de5efe1ac81ea2fa193dff9546d3af5af5764      service        NaN   \n",
       "3  c9fff1caf5cef6054e76136e5f523974332baea5      service        NaN   \n",
       "4  d7bdc47e1b3ad58e9f80a87c5d5f3a3a2c7cebac      service        NaN   \n",
       "\n",
       "                                     userid  visit_duration loginid platform  \\\n",
       "0  d4c7eb82ca3b613e395aaebc1559f4d007899bbc             0.0       0      WEB   \n",
       "1  a07394c246f775799ca71492fcfd6ef6dce4a084            45.0       0      APP   \n",
       "2  4e13f53409a9887e936107dd3a016d9cfbc5a067             1.0       0      APP   \n",
       "3  f3ad470495b9cd4623edd79a151ad834c8b21c75          1199.0       0      APP   \n",
       "4  84fa728e41e8b6edd935f275d35772ad294face1             3.0       0      APP   \n",
       "\n",
       "  transaction_id      sessiondatetime  transaction_dummy  login_dummy  \\\n",
       "0              0  2020-05-24 08:41:00                  0            0   \n",
       "1              0  2020-05-10 07:53:06                  0            0   \n",
       "2              0  2019-12-26 18:08:22                  0            0   \n",
       "3              0  2019-12-23 19:55:24                  0            0   \n",
       "4              0  2019-12-29 12:44:49                  0            0   \n",
       "\n",
       "        Date                Time day_of_week      Day  Weekend_dummy  \n",
       "0 2020-05-24 1900-01-01 08:41:00      Sunday  Weekend            1.0  \n",
       "1 2020-05-10 1900-01-01 07:53:06      Sunday  Weekend            1.0  \n",
       "2 2019-12-26 1900-01-01 08:08:22    Thursday  Weekday            0.0  \n",
       "3 2019-12-23 1900-01-01 09:55:24      Monday  Weekday            0.0  \n",
       "4 2019-12-29 1900-01-01 02:44:49      Sunday  Weekend            1.0  "
      ]
     },
     "execution_count": 22,
     "metadata": {},
     "output_type": "execute_result"
    }
   ],
   "source": [
    "user_engagements.head()"
   ]
  },
  {
   "cell_type": "code",
   "execution_count": 23,
   "metadata": {},
   "outputs": [
    {
     "data": {
      "text/plain": [
       "sessionid                    object\n",
       "funnel_level                 object\n",
       "customerid                   object\n",
       "userid                       object\n",
       "visit_duration              float64\n",
       "loginid                      object\n",
       "platform                     object\n",
       "transaction_id               object\n",
       "sessiondatetime              object\n",
       "transaction_dummy             int64\n",
       "login_dummy                   int64\n",
       "Date                 datetime64[ns]\n",
       "Time                 datetime64[ns]\n",
       "day_of_week                  object\n",
       "Day                          object\n",
       "Weekend_dummy               float64\n",
       "dtype: object"
      ]
     },
     "execution_count": 23,
     "metadata": {},
     "output_type": "execute_result"
    }
   ],
   "source": [
    "user_engagements.dtypes"
   ]
  },
  {
   "cell_type": "code",
   "execution_count": 24,
   "metadata": {},
   "outputs": [
    {
     "data": {
      "text/plain": [
       "array(['WEB', 'APP', 'WEBSITE'], dtype=object)"
      ]
     },
     "execution_count": 24,
     "metadata": {},
     "output_type": "execute_result"
    }
   ],
   "source": [
    "#platform\n",
    "\n",
    "user_engagements['platform'].unique()"
   ]
  },
  {
   "cell_type": "code",
   "execution_count": 25,
   "metadata": {},
   "outputs": [],
   "source": [
    "def check_dummy(x, y):\n",
    "    if x == y:\n",
    "        return 1\n",
    "    return 0"
   ]
  },
  {
   "cell_type": "code",
   "execution_count": 26,
   "metadata": {},
   "outputs": [],
   "source": [
    "user_engagements['WEB'] = user_engagements['platform'].apply(check_dummy, args=('WEB',))\n",
    "user_engagements['APP'] = user_engagements['platform'].apply(check_dummy, args=('APP',))\n",
    "user_engagements['WEBSITE'] = user_engagements['platform'].apply(check_dummy, args=('WEBSITE',))"
   ]
  },
  {
   "cell_type": "code",
   "execution_count": 27,
   "metadata": {},
   "outputs": [
    {
     "data": {
      "text/html": [
       "<div>\n",
       "<style scoped>\n",
       "    .dataframe tbody tr th:only-of-type {\n",
       "        vertical-align: middle;\n",
       "    }\n",
       "\n",
       "    .dataframe tbody tr th {\n",
       "        vertical-align: top;\n",
       "    }\n",
       "\n",
       "    .dataframe thead th {\n",
       "        text-align: right;\n",
       "    }\n",
       "</style>\n",
       "<table border=\"1\" class=\"dataframe\">\n",
       "  <thead>\n",
       "    <tr style=\"text-align: right;\">\n",
       "      <th></th>\n",
       "      <th>sessionid</th>\n",
       "      <th>funnel_level</th>\n",
       "      <th>customerid</th>\n",
       "      <th>userid</th>\n",
       "      <th>visit_duration</th>\n",
       "      <th>loginid</th>\n",
       "      <th>platform</th>\n",
       "      <th>transaction_id</th>\n",
       "      <th>sessiondatetime</th>\n",
       "      <th>transaction_dummy</th>\n",
       "      <th>login_dummy</th>\n",
       "      <th>Date</th>\n",
       "      <th>Time</th>\n",
       "      <th>day_of_week</th>\n",
       "      <th>Day</th>\n",
       "      <th>Weekend_dummy</th>\n",
       "      <th>WEB</th>\n",
       "      <th>APP</th>\n",
       "      <th>WEBSITE</th>\n",
       "    </tr>\n",
       "  </thead>\n",
       "  <tbody>\n",
       "    <tr>\n",
       "      <th>0</th>\n",
       "      <td>03327977b7c2fba25bb131922983a882f40945b5</td>\n",
       "      <td>service</td>\n",
       "      <td>NaN</td>\n",
       "      <td>d4c7eb82ca3b613e395aaebc1559f4d007899bbc</td>\n",
       "      <td>0.0</td>\n",
       "      <td>0</td>\n",
       "      <td>WEB</td>\n",
       "      <td>0</td>\n",
       "      <td>2020-05-24 08:41:00</td>\n",
       "      <td>0</td>\n",
       "      <td>0</td>\n",
       "      <td>2020-05-24</td>\n",
       "      <td>1900-01-01 08:41:00</td>\n",
       "      <td>Sunday</td>\n",
       "      <td>Weekend</td>\n",
       "      <td>1.0</td>\n",
       "      <td>1</td>\n",
       "      <td>0</td>\n",
       "      <td>0</td>\n",
       "    </tr>\n",
       "    <tr>\n",
       "      <th>1</th>\n",
       "      <td>0b56a45b8dbd6cb5323a3a7b80be3eb48ea3f7ba</td>\n",
       "      <td>service</td>\n",
       "      <td>NaN</td>\n",
       "      <td>a07394c246f775799ca71492fcfd6ef6dce4a084</td>\n",
       "      <td>45.0</td>\n",
       "      <td>0</td>\n",
       "      <td>APP</td>\n",
       "      <td>0</td>\n",
       "      <td>2020-05-10 07:53:06</td>\n",
       "      <td>0</td>\n",
       "      <td>0</td>\n",
       "      <td>2020-05-10</td>\n",
       "      <td>1900-01-01 07:53:06</td>\n",
       "      <td>Sunday</td>\n",
       "      <td>Weekend</td>\n",
       "      <td>1.0</td>\n",
       "      <td>0</td>\n",
       "      <td>1</td>\n",
       "      <td>0</td>\n",
       "    </tr>\n",
       "    <tr>\n",
       "      <th>2</th>\n",
       "      <td>1d8de5efe1ac81ea2fa193dff9546d3af5af5764</td>\n",
       "      <td>service</td>\n",
       "      <td>NaN</td>\n",
       "      <td>4e13f53409a9887e936107dd3a016d9cfbc5a067</td>\n",
       "      <td>1.0</td>\n",
       "      <td>0</td>\n",
       "      <td>APP</td>\n",
       "      <td>0</td>\n",
       "      <td>2019-12-26 18:08:22</td>\n",
       "      <td>0</td>\n",
       "      <td>0</td>\n",
       "      <td>2019-12-26</td>\n",
       "      <td>1900-01-01 08:08:22</td>\n",
       "      <td>Thursday</td>\n",
       "      <td>Weekday</td>\n",
       "      <td>0.0</td>\n",
       "      <td>0</td>\n",
       "      <td>1</td>\n",
       "      <td>0</td>\n",
       "    </tr>\n",
       "    <tr>\n",
       "      <th>3</th>\n",
       "      <td>c9fff1caf5cef6054e76136e5f523974332baea5</td>\n",
       "      <td>service</td>\n",
       "      <td>NaN</td>\n",
       "      <td>f3ad470495b9cd4623edd79a151ad834c8b21c75</td>\n",
       "      <td>1199.0</td>\n",
       "      <td>0</td>\n",
       "      <td>APP</td>\n",
       "      <td>0</td>\n",
       "      <td>2019-12-23 19:55:24</td>\n",
       "      <td>0</td>\n",
       "      <td>0</td>\n",
       "      <td>2019-12-23</td>\n",
       "      <td>1900-01-01 09:55:24</td>\n",
       "      <td>Monday</td>\n",
       "      <td>Weekday</td>\n",
       "      <td>0.0</td>\n",
       "      <td>0</td>\n",
       "      <td>1</td>\n",
       "      <td>0</td>\n",
       "    </tr>\n",
       "    <tr>\n",
       "      <th>4</th>\n",
       "      <td>d7bdc47e1b3ad58e9f80a87c5d5f3a3a2c7cebac</td>\n",
       "      <td>service</td>\n",
       "      <td>NaN</td>\n",
       "      <td>84fa728e41e8b6edd935f275d35772ad294face1</td>\n",
       "      <td>3.0</td>\n",
       "      <td>0</td>\n",
       "      <td>APP</td>\n",
       "      <td>0</td>\n",
       "      <td>2019-12-29 12:44:49</td>\n",
       "      <td>0</td>\n",
       "      <td>0</td>\n",
       "      <td>2019-12-29</td>\n",
       "      <td>1900-01-01 02:44:49</td>\n",
       "      <td>Sunday</td>\n",
       "      <td>Weekend</td>\n",
       "      <td>1.0</td>\n",
       "      <td>0</td>\n",
       "      <td>1</td>\n",
       "      <td>0</td>\n",
       "    </tr>\n",
       "  </tbody>\n",
       "</table>\n",
       "</div>"
      ],
      "text/plain": [
       "                                  sessionid funnel_level customerid  \\\n",
       "0  03327977b7c2fba25bb131922983a882f40945b5      service        NaN   \n",
       "1  0b56a45b8dbd6cb5323a3a7b80be3eb48ea3f7ba      service        NaN   \n",
       "2  1d8de5efe1ac81ea2fa193dff9546d3af5af5764      service        NaN   \n",
       "3  c9fff1caf5cef6054e76136e5f523974332baea5      service        NaN   \n",
       "4  d7bdc47e1b3ad58e9f80a87c5d5f3a3a2c7cebac      service        NaN   \n",
       "\n",
       "                                     userid  visit_duration loginid platform  \\\n",
       "0  d4c7eb82ca3b613e395aaebc1559f4d007899bbc             0.0       0      WEB   \n",
       "1  a07394c246f775799ca71492fcfd6ef6dce4a084            45.0       0      APP   \n",
       "2  4e13f53409a9887e936107dd3a016d9cfbc5a067             1.0       0      APP   \n",
       "3  f3ad470495b9cd4623edd79a151ad834c8b21c75          1199.0       0      APP   \n",
       "4  84fa728e41e8b6edd935f275d35772ad294face1             3.0       0      APP   \n",
       "\n",
       "  transaction_id      sessiondatetime  transaction_dummy  login_dummy  \\\n",
       "0              0  2020-05-24 08:41:00                  0            0   \n",
       "1              0  2020-05-10 07:53:06                  0            0   \n",
       "2              0  2019-12-26 18:08:22                  0            0   \n",
       "3              0  2019-12-23 19:55:24                  0            0   \n",
       "4              0  2019-12-29 12:44:49                  0            0   \n",
       "\n",
       "        Date                Time day_of_week      Day  Weekend_dummy  WEB  \\\n",
       "0 2020-05-24 1900-01-01 08:41:00      Sunday  Weekend            1.0    1   \n",
       "1 2020-05-10 1900-01-01 07:53:06      Sunday  Weekend            1.0    0   \n",
       "2 2019-12-26 1900-01-01 08:08:22    Thursday  Weekday            0.0    0   \n",
       "3 2019-12-23 1900-01-01 09:55:24      Monday  Weekday            0.0    0   \n",
       "4 2019-12-29 1900-01-01 02:44:49      Sunday  Weekend            1.0    0   \n",
       "\n",
       "   APP  WEBSITE  \n",
       "0    0        0  \n",
       "1    1        0  \n",
       "2    1        0  \n",
       "3    1        0  \n",
       "4    1        0  "
      ]
     },
     "execution_count": 27,
     "metadata": {},
     "output_type": "execute_result"
    }
   ],
   "source": [
    "user_engagements.head()"
   ]
  },
  {
   "cell_type": "markdown",
   "metadata": {},
   "source": [
    "save user related data to csv"
   ]
  },
  {
   "cell_type": "code",
   "execution_count": 28,
   "metadata": {},
   "outputs": [],
   "source": [
    "user_engagements.to_csv( \"1_user_engagements.csv\", sep=',', index=False, encoding='utf-8-sig')"
   ]
  },
  {
   "cell_type": "markdown",
   "metadata": {},
   "source": [
    "# Exploring variables relevant to purchase probability"
   ]
  },
  {
   "cell_type": "code",
   "execution_count": 3,
   "metadata": {},
   "outputs": [
    {
     "name": "stderr",
     "output_type": "stream",
     "text": [
      "C:\\Users\\wan14\\AppData\\Local\\Continuum\\anaconda3\\lib\\site-packages\\IPython\\core\\interactiveshell.py:3057: DtypeWarning: Columns (0,1,2,3,5,8,11,12,13,14) have mixed types. Specify dtype option on import or set low_memory=False.\n",
      "  interactivity=interactivity, compiler=compiler, result=result)\n"
     ]
    }
   ],
   "source": [
    "user_engagements= pd.read_csv('1_user_engagements.csv')"
   ]
  },
  {
   "cell_type": "code",
   "execution_count": 4,
   "metadata": {},
   "outputs": [
    {
     "data": {
      "text/html": [
       "<div>\n",
       "<style scoped>\n",
       "    .dataframe tbody tr th:only-of-type {\n",
       "        vertical-align: middle;\n",
       "    }\n",
       "\n",
       "    .dataframe tbody tr th {\n",
       "        vertical-align: top;\n",
       "    }\n",
       "\n",
       "    .dataframe thead th {\n",
       "        text-align: right;\n",
       "    }\n",
       "</style>\n",
       "<table border=\"1\" class=\"dataframe\">\n",
       "  <thead>\n",
       "    <tr style=\"text-align: right;\">\n",
       "      <th></th>\n",
       "      <th>visit_duration</th>\n",
       "      <th>login_dummy</th>\n",
       "      <th>Weekend_dummy</th>\n",
       "      <th>WEB</th>\n",
       "      <th>APP</th>\n",
       "      <th>WEBSITE</th>\n",
       "    </tr>\n",
       "    <tr>\n",
       "      <th>transaction_dummy</th>\n",
       "      <th></th>\n",
       "      <th></th>\n",
       "      <th></th>\n",
       "      <th></th>\n",
       "      <th></th>\n",
       "      <th></th>\n",
       "    </tr>\n",
       "  </thead>\n",
       "  <tbody>\n",
       "    <tr>\n",
       "      <th>0</th>\n",
       "      <td>155.993085</td>\n",
       "      <td>0.00000</td>\n",
       "      <td>0.184015</td>\n",
       "      <td>0.25</td>\n",
       "      <td>0.750000</td>\n",
       "      <td>0.000000</td>\n",
       "    </tr>\n",
       "    <tr>\n",
       "      <th>1</th>\n",
       "      <td>548.814049</td>\n",
       "      <td>0.54064</td>\n",
       "      <td>0.188154</td>\n",
       "      <td>0.00</td>\n",
       "      <td>0.769455</td>\n",
       "      <td>0.230545</td>\n",
       "    </tr>\n",
       "  </tbody>\n",
       "</table>\n",
       "</div>"
      ],
      "text/plain": [
       "                   visit_duration  login_dummy  Weekend_dummy   WEB       APP  \\\n",
       "transaction_dummy                                                               \n",
       "0                      155.993085      0.00000       0.184015  0.25  0.750000   \n",
       "1                      548.814049      0.54064       0.188154  0.00  0.769455   \n",
       "\n",
       "                    WEBSITE  \n",
       "transaction_dummy            \n",
       "0                  0.000000  \n",
       "1                  0.230545  "
      ]
     },
     "execution_count": 4,
     "metadata": {},
     "output_type": "execute_result"
    }
   ],
   "source": [
    "#Exploring variables\n",
    "\n",
    "user_engagements.groupby('transaction_dummy').mean()"
   ]
  },
  {
   "cell_type": "code",
   "execution_count": 5,
   "metadata": {},
   "outputs": [
    {
     "data": {
      "image/png": "[encoded data removed]",
      "text/plain": [
       "<Figure size 432x288 with 1 Axes>"
      ]
     },
     "metadata": {
      "needs_background": "light"
     },
     "output_type": "display_data"
    }
   ],
   "source": [
    "sns.countplot(x=\"platform\", hue =\"transaction_dummy\", data=user_engagements, palette=\"Blues\");"
   ]
  },
  {
   "cell_type": "code",
   "execution_count": 6,
   "metadata": {},
   "outputs": [
    {
     "data": {
      "image/png": "[encoded data removed]",
      "text/plain": [
       "<Figure size 432x288 with 1 Axes>"
      ]
     },
     "metadata": {
      "needs_background": "light"
     },
     "output_type": "display_data"
    }
   ],
   "source": [
    "sns.countplot(x=\"day_of_week\", hue =\"transaction_dummy\", data=user_engagements, palette=\"Blues\");"
   ]
  },
  {
   "cell_type": "code",
   "execution_count": 7,
   "metadata": {},
   "outputs": [
    {
     "data": {
      "image/png": "[encoded data removed]",
      "text/plain": [
       "<Figure size 432x288 with 1 Axes>"
      ]
     },
     "metadata": {
      "needs_background": "light"
     },
     "output_type": "display_data"
    }
   ],
   "source": [
    "sns.countplot(x=\"Day\", hue =\"transaction_dummy\", data=user_engagements, palette=\"Blues\");"
   ]
  },
  {
   "cell_type": "markdown",
   "metadata": {},
   "source": [
    "**Selecting variables**"
   ]
  },
  {
   "cell_type": "markdown",
   "metadata": {},
   "source": [
    "Based on data exploration, I'd liek to included the following independent variables and dependent variables.\n",
    "\n",
    "DV:\n",
    "transaction_dummy\n",
    "\n",
    "\n",
    "IVs:\n",
    "- visit_duration\n",
    "- login_dummy\n",
    "- Weekend_dummy\n",
    "- WEB\t\n",
    "- APP\t\n",
    "- WEBSITE"
   ]
  },
  {
   "cell_type": "code",
   "execution_count": 8,
   "metadata": {},
   "outputs": [],
   "source": [
    "from sklearn.linear_model import LogisticRegression\n",
    "from sklearn.neighbors import KNeighborsClassifier\n",
    "import statsmodels.api as sm\n",
    "from sklearn.model_selection import train_test_split"
   ]
  },
  {
   "cell_type": "code",
   "execution_count": 9,
   "metadata": {},
   "outputs": [
    {
     "data": {
      "text/plain": [
       "sessionid             642458\n",
       "funnel_level          642479\n",
       "customerid           1042477\n",
       "userid                642458\n",
       "visit_duration        642479\n",
       "loginid                    0\n",
       "platform                   0\n",
       "transaction_id             0\n",
       "sessiondatetime       642458\n",
       "transaction_dummy          0\n",
       "login_dummy                0\n",
       "Date                  642458\n",
       "Time                  642458\n",
       "day_of_week           642458\n",
       "Day                   642458\n",
       "Weekend_dummy         642458\n",
       "WEB                        0\n",
       "APP                        0\n",
       "WEBSITE                    0\n",
       "dtype: int64"
      ]
     },
     "execution_count": 9,
     "metadata": {},
     "output_type": "execute_result"
    }
   ],
   "source": [
    "user_engagements.isna().sum()"
   ]
  },
  {
   "cell_type": "code",
   "execution_count": 10,
   "metadata": {},
   "outputs": [],
   "source": [
    "#I'll drop the rows with missing values in DVs\n",
    "\n",
    "df_user = user_engagements.dropna(subset=['visit_duration','Weekend_dummy'])"
   ]
  },
  {
   "cell_type": "code",
   "execution_count": 11,
   "metadata": {},
   "outputs": [
    {
     "data": {
      "text/html": [
       "<div>\n",
       "<style scoped>\n",
       "    .dataframe tbody tr th:only-of-type {\n",
       "        vertical-align: middle;\n",
       "    }\n",
       "\n",
       "    .dataframe tbody tr th {\n",
       "        vertical-align: top;\n",
       "    }\n",
       "\n",
       "    .dataframe thead th {\n",
       "        text-align: right;\n",
       "    }\n",
       "</style>\n",
       "<table border=\"1\" class=\"dataframe\">\n",
       "  <thead>\n",
       "    <tr style=\"text-align: right;\">\n",
       "      <th></th>\n",
       "      <th>sessionid</th>\n",
       "      <th>funnel_level</th>\n",
       "      <th>customerid</th>\n",
       "      <th>userid</th>\n",
       "      <th>visit_duration</th>\n",
       "      <th>loginid</th>\n",
       "      <th>platform</th>\n",
       "      <th>transaction_id</th>\n",
       "      <th>sessiondatetime</th>\n",
       "      <th>transaction_dummy</th>\n",
       "      <th>login_dummy</th>\n",
       "      <th>Date</th>\n",
       "      <th>Time</th>\n",
       "      <th>day_of_week</th>\n",
       "      <th>Day</th>\n",
       "      <th>Weekend_dummy</th>\n",
       "      <th>WEB</th>\n",
       "      <th>APP</th>\n",
       "      <th>WEBSITE</th>\n",
       "    </tr>\n",
       "  </thead>\n",
       "  <tbody>\n",
       "    <tr>\n",
       "      <th>0</th>\n",
       "      <td>03327977b7c2fba25bb131922983a882f40945b5</td>\n",
       "      <td>service</td>\n",
       "      <td>NaN</td>\n",
       "      <td>d4c7eb82ca3b613e395aaebc1559f4d007899bbc</td>\n",
       "      <td>0.0</td>\n",
       "      <td>0</td>\n",
       "      <td>WEB</td>\n",
       "      <td>0</td>\n",
       "      <td>2020-05-24 08:41:00</td>\n",
       "      <td>0</td>\n",
       "      <td>0</td>\n",
       "      <td>2020-05-24</td>\n",
       "      <td>1900-01-01 08:41:00</td>\n",
       "      <td>Sunday</td>\n",
       "      <td>Weekend</td>\n",
       "      <td>1.0</td>\n",
       "      <td>1</td>\n",
       "      <td>0</td>\n",
       "      <td>0</td>\n",
       "    </tr>\n",
       "    <tr>\n",
       "      <th>1</th>\n",
       "      <td>0b56a45b8dbd6cb5323a3a7b80be3eb48ea3f7ba</td>\n",
       "      <td>service</td>\n",
       "      <td>NaN</td>\n",
       "      <td>a07394c246f775799ca71492fcfd6ef6dce4a084</td>\n",
       "      <td>45.0</td>\n",
       "      <td>0</td>\n",
       "      <td>APP</td>\n",
       "      <td>0</td>\n",
       "      <td>2020-05-10 07:53:06</td>\n",
       "      <td>0</td>\n",
       "      <td>0</td>\n",
       "      <td>2020-05-10</td>\n",
       "      <td>1900-01-01 07:53:06</td>\n",
       "      <td>Sunday</td>\n",
       "      <td>Weekend</td>\n",
       "      <td>1.0</td>\n",
       "      <td>0</td>\n",
       "      <td>1</td>\n",
       "      <td>0</td>\n",
       "    </tr>\n",
       "    <tr>\n",
       "      <th>2</th>\n",
       "      <td>1d8de5efe1ac81ea2fa193dff9546d3af5af5764</td>\n",
       "      <td>service</td>\n",
       "      <td>NaN</td>\n",
       "      <td>4e13f53409a9887e936107dd3a016d9cfbc5a067</td>\n",
       "      <td>1.0</td>\n",
       "      <td>0</td>\n",
       "      <td>APP</td>\n",
       "      <td>0</td>\n",
       "      <td>2019-12-26 18:08:22</td>\n",
       "      <td>0</td>\n",
       "      <td>0</td>\n",
       "      <td>2019-12-26</td>\n",
       "      <td>1900-01-01 08:08:22</td>\n",
       "      <td>Thursday</td>\n",
       "      <td>Weekday</td>\n",
       "      <td>0.0</td>\n",
       "      <td>0</td>\n",
       "      <td>1</td>\n",
       "      <td>0</td>\n",
       "    </tr>\n",
       "    <tr>\n",
       "      <th>3</th>\n",
       "      <td>c9fff1caf5cef6054e76136e5f523974332baea5</td>\n",
       "      <td>service</td>\n",
       "      <td>NaN</td>\n",
       "      <td>f3ad470495b9cd4623edd79a151ad834c8b21c75</td>\n",
       "      <td>1199.0</td>\n",
       "      <td>0</td>\n",
       "      <td>APP</td>\n",
       "      <td>0</td>\n",
       "      <td>2019-12-23 19:55:24</td>\n",
       "      <td>0</td>\n",
       "      <td>0</td>\n",
       "      <td>2019-12-23</td>\n",
       "      <td>1900-01-01 09:55:24</td>\n",
       "      <td>Monday</td>\n",
       "      <td>Weekday</td>\n",
       "      <td>0.0</td>\n",
       "      <td>0</td>\n",
       "      <td>1</td>\n",
       "      <td>0</td>\n",
       "    </tr>\n",
       "    <tr>\n",
       "      <th>4</th>\n",
       "      <td>d7bdc47e1b3ad58e9f80a87c5d5f3a3a2c7cebac</td>\n",
       "      <td>service</td>\n",
       "      <td>NaN</td>\n",
       "      <td>84fa728e41e8b6edd935f275d35772ad294face1</td>\n",
       "      <td>3.0</td>\n",
       "      <td>0</td>\n",
       "      <td>APP</td>\n",
       "      <td>0</td>\n",
       "      <td>2019-12-29 12:44:49</td>\n",
       "      <td>0</td>\n",
       "      <td>0</td>\n",
       "      <td>2019-12-29</td>\n",
       "      <td>1900-01-01 02:44:49</td>\n",
       "      <td>Sunday</td>\n",
       "      <td>Weekend</td>\n",
       "      <td>1.0</td>\n",
       "      <td>0</td>\n",
       "      <td>1</td>\n",
       "      <td>0</td>\n",
       "    </tr>\n",
       "  </tbody>\n",
       "</table>\n",
       "</div>"
      ],
      "text/plain": [
       "                                  sessionid funnel_level customerid  \\\n",
       "0  03327977b7c2fba25bb131922983a882f40945b5      service        NaN   \n",
       "1  0b56a45b8dbd6cb5323a3a7b80be3eb48ea3f7ba      service        NaN   \n",
       "2  1d8de5efe1ac81ea2fa193dff9546d3af5af5764      service        NaN   \n",
       "3  c9fff1caf5cef6054e76136e5f523974332baea5      service        NaN   \n",
       "4  d7bdc47e1b3ad58e9f80a87c5d5f3a3a2c7cebac      service        NaN   \n",
       "\n",
       "                                     userid  visit_duration loginid platform  \\\n",
       "0  d4c7eb82ca3b613e395aaebc1559f4d007899bbc             0.0       0      WEB   \n",
       "1  a07394c246f775799ca71492fcfd6ef6dce4a084            45.0       0      APP   \n",
       "2  4e13f53409a9887e936107dd3a016d9cfbc5a067             1.0       0      APP   \n",
       "3  f3ad470495b9cd4623edd79a151ad834c8b21c75          1199.0       0      APP   \n",
       "4  84fa728e41e8b6edd935f275d35772ad294face1             3.0       0      APP   \n",
       "\n",
       "  transaction_id      sessiondatetime  transaction_dummy  login_dummy  \\\n",
       "0              0  2020-05-24 08:41:00                  0            0   \n",
       "1              0  2020-05-10 07:53:06                  0            0   \n",
       "2              0  2019-12-26 18:08:22                  0            0   \n",
       "3              0  2019-12-23 19:55:24                  0            0   \n",
       "4              0  2019-12-29 12:44:49                  0            0   \n",
       "\n",
       "         Date                 Time day_of_week      Day  Weekend_dummy  WEB  \\\n",
       "0  2020-05-24  1900-01-01 08:41:00      Sunday  Weekend            1.0    1   \n",
       "1  2020-05-10  1900-01-01 07:53:06      Sunday  Weekend            1.0    0   \n",
       "2  2019-12-26  1900-01-01 08:08:22    Thursday  Weekday            0.0    0   \n",
       "3  2019-12-23  1900-01-01 09:55:24      Monday  Weekday            0.0    0   \n",
       "4  2019-12-29  1900-01-01 02:44:49      Sunday  Weekend            1.0    0   \n",
       "\n",
       "   APP  WEBSITE  \n",
       "0    0        0  \n",
       "1    1        0  \n",
       "2    1        0  \n",
       "3    1        0  \n",
       "4    1        0  "
      ]
     },
     "execution_count": 11,
     "metadata": {},
     "output_type": "execute_result"
    }
   ],
   "source": [
    "df_user.head()"
   ]
  },
  {
   "cell_type": "code",
   "execution_count": 12,
   "metadata": {},
   "outputs": [],
   "source": [
    "user = df_user[['transaction_dummy','visit_duration','Weekend_dummy','login_dummy','WEB','APP','WEBSITE']]"
   ]
  },
  {
   "cell_type": "code",
   "execution_count": 13,
   "metadata": {},
   "outputs": [
    {
     "data": {
      "text/plain": [
       "transaction_dummy    0\n",
       "visit_duration       0\n",
       "Weekend_dummy        0\n",
       "login_dummy          0\n",
       "WEB                  0\n",
       "APP                  0\n",
       "WEBSITE              0\n",
       "dtype: int64"
      ]
     },
     "execution_count": 13,
     "metadata": {},
     "output_type": "execute_result"
    }
   ],
   "source": [
    "user.isna().sum()"
   ]
  },
  {
   "cell_type": "markdown",
   "metadata": {},
   "source": [
    "# Modelling for predicting purchase probability"
   ]
  },
  {
   "cell_type": "markdown",
   "metadata": {},
   "source": [
    "**Running Logit Regression**"
   ]
  },
  {
   "cell_type": "code",
   "execution_count": 14,
   "metadata": {},
   "outputs": [],
   "source": [
    "train, test = train_test_split(user, test_size=0.2, random_state=0)"
   ]
  },
  {
   "cell_type": "code",
   "execution_count": 15,
   "metadata": {},
   "outputs": [
    {
     "name": "stdout",
     "output_type": "stream",
     "text": [
      "1156129 924903 231226\n"
     ]
    }
   ],
   "source": [
    "print(len(user), len(train), len(test))"
   ]
  },
  {
   "cell_type": "code",
   "execution_count": 16,
   "metadata": {},
   "outputs": [],
   "source": [
    "from sklearn.linear_model import LogisticRegression"
   ]
  },
  {
   "cell_type": "code",
   "execution_count": 17,
   "metadata": {},
   "outputs": [],
   "source": [
    "logit_clf = LogisticRegression(max_iter=1000, fit_intercept = True)"
   ]
  },
  {
   "cell_type": "code",
   "execution_count": 18,
   "metadata": {},
   "outputs": [],
   "source": [
    "#Given there are 3 categories for 'platform', I created 2 features.\n",
    "\n",
    "features1 = ['visit_duration','Weekend_dummy','login_dummy','APP','WEBSITE']\n",
    "features2 = ['visit_duration','Weekend_dummy','login_dummy','WEB','WEBSITE']"
   ]
  },
  {
   "cell_type": "code",
   "execution_count": 19,
   "metadata": {},
   "outputs": [
    {
     "name": "stderr",
     "output_type": "stream",
     "text": [
      "C:\\Users\\wan14\\AppData\\Local\\Continuum\\anaconda3\\lib\\site-packages\\sklearn\\linear_model\\logistic.py:432: FutureWarning: Default solver will be changed to 'lbfgs' in 0.22. Specify a solver to silence this warning.\n",
      "  FutureWarning)\n"
     ]
    },
    {
     "data": {
      "text/plain": [
       "LogisticRegression(C=1.0, class_weight=None, dual=False, fit_intercept=True,\n",
       "                   intercept_scaling=1, l1_ratio=None, max_iter=1000,\n",
       "                   multi_class='warn', n_jobs=None, penalty='l2',\n",
       "                   random_state=None, solver='warn', tol=0.0001, verbose=0,\n",
       "                   warm_start=False)"
      ]
     },
     "execution_count": 19,
     "metadata": {},
     "output_type": "execute_result"
    }
   ],
   "source": [
    "logit_clf.fit(train[features1], train['transaction_dummy'])"
   ]
  },
  {
   "cell_type": "code",
   "execution_count": 20,
   "metadata": {},
   "outputs": [
    {
     "data": {
      "text/html": [
       "<div>\n",
       "<style scoped>\n",
       "    .dataframe tbody tr th:only-of-type {\n",
       "        vertical-align: middle;\n",
       "    }\n",
       "\n",
       "    .dataframe tbody tr th {\n",
       "        vertical-align: top;\n",
       "    }\n",
       "\n",
       "    .dataframe thead th {\n",
       "        text-align: right;\n",
       "    }\n",
       "</style>\n",
       "<table border=\"1\" class=\"dataframe\">\n",
       "  <thead>\n",
       "    <tr style=\"text-align: right;\">\n",
       "      <th></th>\n",
       "      <th>0</th>\n",
       "    </tr>\n",
       "  </thead>\n",
       "  <tbody>\n",
       "    <tr>\n",
       "      <th>visit_duration</th>\n",
       "      <td>0.000106</td>\n",
       "    </tr>\n",
       "    <tr>\n",
       "      <th>Weekend_dummy</th>\n",
       "      <td>-0.249955</td>\n",
       "    </tr>\n",
       "    <tr>\n",
       "      <th>login_dummy</th>\n",
       "      <td>9.302506</td>\n",
       "    </tr>\n",
       "    <tr>\n",
       "      <th>APP</th>\n",
       "      <td>-0.564668</td>\n",
       "    </tr>\n",
       "    <tr>\n",
       "      <th>WEBSITE</th>\n",
       "      <td>1.063848</td>\n",
       "    </tr>\n",
       "  </tbody>\n",
       "</table>\n",
       "</div>"
      ],
      "text/plain": [
       "                       0\n",
       "visit_duration  0.000106\n",
       "Weekend_dummy  -0.249955\n",
       "login_dummy     9.302506\n",
       "APP            -0.564668\n",
       "WEBSITE         1.063848"
      ]
     },
     "execution_count": 20,
     "metadata": {},
     "output_type": "execute_result"
    }
   ],
   "source": [
    "pd.DataFrame(np.transpose(logit_clf.coef_), features1)"
   ]
  },
  {
   "cell_type": "code",
   "execution_count": 21,
   "metadata": {},
   "outputs": [],
   "source": [
    "import statsmodels.api as sm"
   ]
  },
  {
   "cell_type": "markdown",
   "metadata": {},
   "source": [
    "The first feature used 'WEB' as the default platform."
   ]
  },
  {
   "cell_type": "code",
   "execution_count": 22,
   "metadata": {},
   "outputs": [
    {
     "name": "stderr",
     "output_type": "stream",
     "text": [
      "C:\\Users\\wan14\\AppData\\Local\\Continuum\\anaconda3\\lib\\site-packages\\numpy\\core\\fromnumeric.py:2389: FutureWarning: Method .ptp is deprecated and will be removed in a future version. Use numpy.ptp instead.\n",
      "  return ptp(axis=axis, out=out, **kwargs)\n",
      "C:\\Users\\wan14\\AppData\\Local\\Continuum\\anaconda3\\lib\\site-packages\\statsmodels\\discrete\\discrete_model.py:1789: RuntimeWarning: divide by zero encountered in log\n",
      "  return np.sum(np.log(self.cdf(q*np.dot(X,params))))\n",
      "C:\\Users\\wan14\\AppData\\Local\\Continuum\\anaconda3\\lib\\site-packages\\statsmodels\\discrete\\discrete_model.py:1789: RuntimeWarning: divide by zero encountered in log\n",
      "  return np.sum(np.log(self.cdf(q*np.dot(X,params))))\n",
      "C:\\Users\\wan14\\AppData\\Local\\Continuum\\anaconda3\\lib\\site-packages\\statsmodels\\discrete\\discrete_model.py:1789: RuntimeWarning: divide by zero encountered in log\n",
      "  return np.sum(np.log(self.cdf(q*np.dot(X,params))))\n",
      "C:\\Users\\wan14\\AppData\\Local\\Continuum\\anaconda3\\lib\\site-packages\\statsmodels\\discrete\\discrete_model.py:1789: RuntimeWarning: divide by zero encountered in log\n",
      "  return np.sum(np.log(self.cdf(q*np.dot(X,params))))\n",
      "C:\\Users\\wan14\\AppData\\Local\\Continuum\\anaconda3\\lib\\site-packages\\statsmodels\\discrete\\discrete_model.py:1789: RuntimeWarning: divide by zero encountered in log\n",
      "  return np.sum(np.log(self.cdf(q*np.dot(X,params))))\n",
      "C:\\Users\\wan14\\AppData\\Local\\Continuum\\anaconda3\\lib\\site-packages\\statsmodels\\discrete\\discrete_model.py:1789: RuntimeWarning: divide by zero encountered in log\n",
      "  return np.sum(np.log(self.cdf(q*np.dot(X,params))))\n",
      "C:\\Users\\wan14\\AppData\\Local\\Continuum\\anaconda3\\lib\\site-packages\\statsmodels\\discrete\\discrete_model.py:1789: RuntimeWarning: divide by zero encountered in log\n",
      "  return np.sum(np.log(self.cdf(q*np.dot(X,params))))\n",
      "C:\\Users\\wan14\\AppData\\Local\\Continuum\\anaconda3\\lib\\site-packages\\statsmodels\\discrete\\discrete_model.py:1789: RuntimeWarning: divide by zero encountered in log\n",
      "  return np.sum(np.log(self.cdf(q*np.dot(X,params))))\n"
     ]
    },
    {
     "name": "stdout",
     "output_type": "stream",
     "text": [
      "Warning: Desired error not necessarily achieved due to precision loss.\n",
      "         Current function value: 0.520214\n",
      "         Iterations: 3\n",
      "         Function evaluations: 40\n",
      "         Gradient evaluations: 19\n"
     ]
    },
    {
     "name": "stderr",
     "output_type": "stream",
     "text": [
      "C:\\Users\\wan14\\AppData\\Local\\Continuum\\anaconda3\\lib\\site-packages\\statsmodels\\base\\model.py:512: ConvergenceWarning: Maximum Likelihood optimization failed to converge. Check mle_retvals\n",
      "  \"Check mle_retvals\", ConvergenceWarning)\n"
     ]
    }
   ],
   "source": [
    "logit1 = sm.Logit(train['transaction_dummy'], sm.add_constant(train[features1]))\n",
    "result1 = logit1.fit(method='bfgs')"
   ]
  },
  {
   "cell_type": "code",
   "execution_count": 23,
   "metadata": {},
   "outputs": [
    {
     "name": "stdout",
     "output_type": "stream",
     "text": [
      "                           Logit Regression Results                           \n",
      "==============================================================================\n",
      "Dep. Variable:      transaction_dummy   No. Observations:               924903\n",
      "Model:                          Logit   Df Residuals:                   924897\n",
      "Method:                           MLE   Df Model:                            5\n",
      "Date:                Mon, 14 Nov 2022   Pseudo R-squ.:                  0.1936\n",
      "Time:                        16:15:05   Log-Likelihood:            -4.8115e+05\n",
      "converged:                      False   LL-Null:                   -5.9663e+05\n",
      "Covariance Type:            nonrobust   LLR p-value:                     0.000\n",
      "==================================================================================\n",
      "                     coef    std err          z      P>|z|      [0.025      0.975]\n",
      "----------------------------------------------------------------------------------\n",
      "const             -0.0162      0.007     -2.195      0.028      -0.031      -0.002\n",
      "visit_duration     0.0014   8.03e-06    178.849      0.000       0.001       0.001\n",
      "Weekend_dummy     -0.0040      0.006     -0.678      0.498      -0.015       0.007\n",
      "login_dummy        0.2289      0.006     40.128      0.000       0.218       0.240\n",
      "APP                0.0010      0.008      0.120      0.905      -0.015       0.017\n",
      "WEBSITE            0.0448      0.011      4.087      0.000       0.023       0.066\n",
      "==================================================================================\n"
     ]
    }
   ],
   "source": [
    "print(result1.summary())"
   ]
  },
  {
   "cell_type": "markdown",
   "metadata": {},
   "source": [
    "The second feature used 'APP' as the default platform."
   ]
  },
  {
   "cell_type": "code",
   "execution_count": 24,
   "metadata": {},
   "outputs": [
    {
     "name": "stderr",
     "output_type": "stream",
     "text": [
      "C:\\Users\\wan14\\AppData\\Local\\Continuum\\anaconda3\\lib\\site-packages\\numpy\\core\\fromnumeric.py:2389: FutureWarning: Method .ptp is deprecated and will be removed in a future version. Use numpy.ptp instead.\n",
      "  return ptp(axis=axis, out=out, **kwargs)\n",
      "C:\\Users\\wan14\\AppData\\Local\\Continuum\\anaconda3\\lib\\site-packages\\statsmodels\\discrete\\discrete_model.py:1789: RuntimeWarning: divide by zero encountered in log\n",
      "  return np.sum(np.log(self.cdf(q*np.dot(X,params))))\n",
      "C:\\Users\\wan14\\AppData\\Local\\Continuum\\anaconda3\\lib\\site-packages\\statsmodels\\discrete\\discrete_model.py:1789: RuntimeWarning: divide by zero encountered in log\n",
      "  return np.sum(np.log(self.cdf(q*np.dot(X,params))))\n",
      "C:\\Users\\wan14\\AppData\\Local\\Continuum\\anaconda3\\lib\\site-packages\\statsmodels\\discrete\\discrete_model.py:1789: RuntimeWarning: divide by zero encountered in log\n",
      "  return np.sum(np.log(self.cdf(q*np.dot(X,params))))\n",
      "C:\\Users\\wan14\\AppData\\Local\\Continuum\\anaconda3\\lib\\site-packages\\statsmodels\\discrete\\discrete_model.py:1789: RuntimeWarning: divide by zero encountered in log\n",
      "  return np.sum(np.log(self.cdf(q*np.dot(X,params))))\n",
      "C:\\Users\\wan14\\AppData\\Local\\Continuum\\anaconda3\\lib\\site-packages\\statsmodels\\discrete\\discrete_model.py:1789: RuntimeWarning: divide by zero encountered in log\n",
      "  return np.sum(np.log(self.cdf(q*np.dot(X,params))))\n",
      "C:\\Users\\wan14\\AppData\\Local\\Continuum\\anaconda3\\lib\\site-packages\\statsmodels\\discrete\\discrete_model.py:1789: RuntimeWarning: divide by zero encountered in log\n",
      "  return np.sum(np.log(self.cdf(q*np.dot(X,params))))\n",
      "C:\\Users\\wan14\\AppData\\Local\\Continuum\\anaconda3\\lib\\site-packages\\statsmodels\\discrete\\discrete_model.py:1789: RuntimeWarning: divide by zero encountered in log\n",
      "  return np.sum(np.log(self.cdf(q*np.dot(X,params))))\n",
      "C:\\Users\\wan14\\AppData\\Local\\Continuum\\anaconda3\\lib\\site-packages\\statsmodels\\discrete\\discrete_model.py:1789: RuntimeWarning: divide by zero encountered in log\n",
      "  return np.sum(np.log(self.cdf(q*np.dot(X,params))))\n"
     ]
    },
    {
     "name": "stdout",
     "output_type": "stream",
     "text": [
      "Warning: Desired error not necessarily achieved due to precision loss.\n",
      "         Current function value: 0.517794\n",
      "         Iterations: 3\n",
      "         Function evaluations: 40\n",
      "         Gradient evaluations: 21\n"
     ]
    },
    {
     "name": "stderr",
     "output_type": "stream",
     "text": [
      "C:\\Users\\wan14\\AppData\\Local\\Continuum\\anaconda3\\lib\\site-packages\\statsmodels\\base\\model.py:512: ConvergenceWarning: Maximum Likelihood optimization failed to converge. Check mle_retvals\n",
      "  \"Check mle_retvals\", ConvergenceWarning)\n"
     ]
    },
    {
     "name": "stdout",
     "output_type": "stream",
     "text": [
      "                           Logit Regression Results                           \n",
      "==============================================================================\n",
      "Dep. Variable:      transaction_dummy   No. Observations:               924903\n",
      "Model:                          Logit   Df Residuals:                   924897\n",
      "Method:                           MLE   Df Model:                            5\n",
      "Date:                Mon, 14 Nov 2022   Pseudo R-squ.:                  0.1973\n",
      "Time:                        16:15:10   Log-Likelihood:            -4.7891e+05\n",
      "converged:                      False   LL-Null:                   -5.9663e+05\n",
      "Covariance Type:            nonrobust   LLR p-value:                     0.000\n",
      "==================================================================================\n",
      "                     coef    std err          z      P>|z|      [0.025      0.975]\n",
      "----------------------------------------------------------------------------------\n",
      "const             -0.0150      0.004     -3.445      0.001      -0.024      -0.006\n",
      "visit_duration     0.0014   8.01e-06    179.097      0.000       0.001       0.001\n",
      "Weekend_dummy     -0.0037      0.006     -0.639      0.523      -0.015       0.008\n",
      "login_dummy        0.2270      0.006     39.809      0.000       0.216       0.238\n",
      "WEB               -0.0609      0.008     -7.290      0.000      -0.077      -0.045\n",
      "WEBSITE            0.0443      0.007      6.257      0.000       0.030       0.058\n",
      "==================================================================================\n"
     ]
    }
   ],
   "source": [
    "logit2 = sm.Logit(train['transaction_dummy'], sm.add_constant(train[features2]))\n",
    "result2 = logit2.fit(method='bfgs')\n",
    "print(result2.summary())"
   ]
  },
  {
   "cell_type": "markdown",
   "metadata": {},
   "source": [
    "# Findings"
   ]
  },
  {
   "cell_type": "markdown",
   "metadata": {},
   "source": [
    "**Results:**\n",
    "\n",
    "The 2 models are all significant (p < .001).\n",
    "- The visit duration, logged in status, platform (Web or Website) are significant indicators for the purchase probability.\n",
    "- The weekend dummy and APP platform are not significant indicators for the purchase probability.\n",
    "\n",
    "\n",
    "**1) visit duration**\n",
    "\n",
    "Holding everything else constant, with a one second increase in visit duration, we will see 0.14% times increase in the odds of making a purchase.\n",
    "\n",
    "**2) login_dummy**\n",
    "\n",
    "Holding everything else constant, if the user is logged in (vs not logged in), we will see 0.23 times increase in the odds of making a purchase.\n",
    "\n",
    "**3) platform**\n",
    "\n",
    "Holding everything else constant, if user is using the Website, we will see 0.04 times increase in the odds of making a purchase.\n",
    "\n",
    "Holding everything else constant, if user is using the WEB, we will see 0.06 times decrease in the odds of making a purchase."
   ]
  },
  {
   "cell_type": "markdown",
   "metadata": {},
   "source": [
    "# 2 - Transaction related data: checking, merging and cleaning"
   ]
  },
  {
   "cell_type": "code",
   "execution_count": 3,
   "metadata": {},
   "outputs": [
    {
     "data": {
      "text/plain": [
       "transaction_id      0\n",
       "platform            0\n",
       "currency            0\n",
       "value               0\n",
       "channel_id          0\n",
       "restaurantid        0\n",
       "country             0\n",
       "customercityid      0\n",
       "zipcode           475\n",
       "customerid          0\n",
       "orderdatetime       0\n",
       "dtype: int64"
      ]
     },
     "execution_count": 3,
     "metadata": {},
     "output_type": "execute_result"
    }
   ],
   "source": [
    "transaction_dimensions.isna().sum()"
   ]
  },
  {
   "cell_type": "code",
   "execution_count": 4,
   "metadata": {},
   "outputs": [
    {
     "data": {
      "text/plain": [
       "channel_id      0\n",
       "channel_name    0\n",
       "dtype: int64"
      ]
     },
     "execution_count": 4,
     "metadata": {},
     "output_type": "execute_result"
    }
   ],
   "source": [
    "dim_channel.isna().sum()"
   ]
  },
  {
   "cell_type": "code",
   "execution_count": 5,
   "metadata": {},
   "outputs": [
    {
     "data": {
      "text/plain": [
       "transaction_id         0\n",
       "currency               0\n",
       "marketing_cost         0\n",
       "operation_cost         0\n",
       "administration_cost    0\n",
       "commission_revenue     0\n",
       "other_revenue          0\n",
       "dtype: int64"
      ]
     },
     "execution_count": 5,
     "metadata": {},
     "output_type": "execute_result"
    }
   ],
   "source": [
    "transaction_financials.isna().sum()"
   ]
  },
  {
   "cell_type": "code",
   "execution_count": 6,
   "metadata": {},
   "outputs": [
    {
     "data": {
      "text/plain": [
       "currency      0\n",
       "iso_code     39\n",
       "exponent     24\n",
       "is_crypto     0\n",
       "dtype: int64"
      ]
     },
     "execution_count": 6,
     "metadata": {},
     "output_type": "execute_result"
    }
   ],
   "source": [
    "currency_details.isna().sum()"
   ]
  },
  {
   "cell_type": "code",
   "execution_count": 7,
   "metadata": {},
   "outputs": [
    {
     "data": {
      "text/plain": [
       "base_ccy      0\n",
       "ccy           0\n",
       "rate          0\n",
       "country_id    0\n",
       "dtype: int64"
      ]
     },
     "execution_count": 7,
     "metadata": {},
     "output_type": "execute_result"
    }
   ],
   "source": [
    "fx_rates_eur.isna().sum()"
   ]
  },
  {
   "cell_type": "code",
   "execution_count": 8,
   "metadata": {},
   "outputs": [
    {
     "data": {
      "text/plain": [
       "city_id    0\n",
       "name       0\n",
       "country    0\n",
       "dtype: int64"
      ]
     },
     "execution_count": 8,
     "metadata": {},
     "output_type": "execute_result"
    }
   ],
   "source": [
    "cities.isna().sum()"
   ]
  },
  {
   "cell_type": "code",
   "execution_count": 9,
   "metadata": {},
   "outputs": [
    {
     "data": {
      "text/html": [
       "<div>\n",
       "<style scoped>\n",
       "    .dataframe tbody tr th:only-of-type {\n",
       "        vertical-align: middle;\n",
       "    }\n",
       "\n",
       "    .dataframe tbody tr th {\n",
       "        vertical-align: top;\n",
       "    }\n",
       "\n",
       "    .dataframe thead th {\n",
       "        text-align: right;\n",
       "    }\n",
       "</style>\n",
       "<table border=\"1\" class=\"dataframe\">\n",
       "  <thead>\n",
       "    <tr style=\"text-align: right;\">\n",
       "      <th></th>\n",
       "      <th>transaction_id</th>\n",
       "      <th>platform</th>\n",
       "      <th>currency</th>\n",
       "      <th>value</th>\n",
       "      <th>channel_id</th>\n",
       "      <th>restaurantid</th>\n",
       "      <th>country</th>\n",
       "      <th>customercityid</th>\n",
       "      <th>zipcode</th>\n",
       "      <th>customerid</th>\n",
       "      <th>orderdatetime</th>\n",
       "    </tr>\n",
       "  </thead>\n",
       "  <tbody>\n",
       "    <tr>\n",
       "      <th>0</th>\n",
       "      <td>35bb7157e9053b36f0938dfa56f3cda3e6859486</td>\n",
       "      <td>4</td>\n",
       "      <td>EUR</td>\n",
       "      <td>929</td>\n",
       "      <td>2</td>\n",
       "      <td>fc353a5f53aa561f2b42e8b0b434b3098d49f6b7</td>\n",
       "      <td>NL</td>\n",
       "      <td>58d9a3a6707f668c868262b569845bf52057a04d</td>\n",
       "      <td>ZZNL35</td>\n",
       "      <td>cac7ccf2bb9edf47398a346294cbc7e202f1de5e</td>\n",
       "      <td>2019-12-27 16:27:21</td>\n",
       "    </tr>\n",
       "    <tr>\n",
       "      <th>1</th>\n",
       "      <td>1642d73673f52b6ccda8c77dba7c8fc3057f0364</td>\n",
       "      <td>4</td>\n",
       "      <td>PLN</td>\n",
       "      <td>170</td>\n",
       "      <td>10</td>\n",
       "      <td>3b27a771388fadc4ac4e4d0058fd69d93ae3cc49</td>\n",
       "      <td>PL</td>\n",
       "      <td>a288f0322922bcb4f3f9367a8624ec2d0027b0ac</td>\n",
       "      <td>ZZPL03</td>\n",
       "      <td>7cfaa0c9ff9f849a42a638d4215dc5b9b7dfeead</td>\n",
       "      <td>2019-12-27 02:57:18</td>\n",
       "    </tr>\n",
       "    <tr>\n",
       "      <th>2</th>\n",
       "      <td>991d175469984eab38f0f2e94efd6054ffad05f1</td>\n",
       "      <td>1</td>\n",
       "      <td>EUR</td>\n",
       "      <td>659</td>\n",
       "      <td>-1</td>\n",
       "      <td>5cedec4c0697593f27ffbefdc00ca6aba39c87b2</td>\n",
       "      <td>NL</td>\n",
       "      <td>8c495a298940b9c65f2a0cc50de8c793b53bf32f</td>\n",
       "      <td>ZZNL73</td>\n",
       "      <td>f0293eff477224152e9b5d8dc044a0212c613f61</td>\n",
       "      <td>2019-12-28 03:45:33</td>\n",
       "    </tr>\n",
       "    <tr>\n",
       "      <th>3</th>\n",
       "      <td>cf1037e5f5b0fb80f65b91470a347cc7e86720ff</td>\n",
       "      <td>4</td>\n",
       "      <td>EUR</td>\n",
       "      <td>281</td>\n",
       "      <td>2</td>\n",
       "      <td>dc090a627320644b666017f6217b3ec2823491b4</td>\n",
       "      <td>NL</td>\n",
       "      <td>6a883d0501a985dab347616e88b9609010682315</td>\n",
       "      <td>ZZNL31</td>\n",
       "      <td>21ff248f414e3f906fd6f87a513f2604861685f9</td>\n",
       "      <td>2019-12-30 12:17:43</td>\n",
       "    </tr>\n",
       "    <tr>\n",
       "      <th>4</th>\n",
       "      <td>eb0be140cf5d009fa47472c6c982de21bcb44fd4</td>\n",
       "      <td>4</td>\n",
       "      <td>EUR</td>\n",
       "      <td>443</td>\n",
       "      <td>1</td>\n",
       "      <td>7c01fe75a1b799232540ece1152d799ee95e82a0</td>\n",
       "      <td>NL</td>\n",
       "      <td>d022a5ba69215319d2645e0c589e69b41c16512a</td>\n",
       "      <td>ZZNL10</td>\n",
       "      <td>f5e996ef3775b96c3c8f24c9b64caad82ba76947</td>\n",
       "      <td>2019-12-24 21:22:54</td>\n",
       "    </tr>\n",
       "  </tbody>\n",
       "</table>\n",
       "</div>"
      ],
      "text/plain": [
       "                             transaction_id  platform currency  value  \\\n",
       "0  35bb7157e9053b36f0938dfa56f3cda3e6859486         4      EUR    929   \n",
       "1  1642d73673f52b6ccda8c77dba7c8fc3057f0364         4      PLN    170   \n",
       "2  991d175469984eab38f0f2e94efd6054ffad05f1         1      EUR    659   \n",
       "3  cf1037e5f5b0fb80f65b91470a347cc7e86720ff         4      EUR    281   \n",
       "4  eb0be140cf5d009fa47472c6c982de21bcb44fd4         4      EUR    443   \n",
       "\n",
       "   channel_id                              restaurantid country  \\\n",
       "0           2  fc353a5f53aa561f2b42e8b0b434b3098d49f6b7      NL   \n",
       "1          10  3b27a771388fadc4ac4e4d0058fd69d93ae3cc49      PL   \n",
       "2          -1  5cedec4c0697593f27ffbefdc00ca6aba39c87b2      NL   \n",
       "3           2  dc090a627320644b666017f6217b3ec2823491b4      NL   \n",
       "4           1  7c01fe75a1b799232540ece1152d799ee95e82a0      NL   \n",
       "\n",
       "                             customercityid zipcode  \\\n",
       "0  58d9a3a6707f668c868262b569845bf52057a04d  ZZNL35   \n",
       "1  a288f0322922bcb4f3f9367a8624ec2d0027b0ac  ZZPL03   \n",
       "2  8c495a298940b9c65f2a0cc50de8c793b53bf32f  ZZNL73   \n",
       "3  6a883d0501a985dab347616e88b9609010682315  ZZNL31   \n",
       "4  d022a5ba69215319d2645e0c589e69b41c16512a  ZZNL10   \n",
       "\n",
       "                                 customerid        orderdatetime  \n",
       "0  cac7ccf2bb9edf47398a346294cbc7e202f1de5e  2019-12-27 16:27:21  \n",
       "1  7cfaa0c9ff9f849a42a638d4215dc5b9b7dfeead  2019-12-27 02:57:18  \n",
       "2  f0293eff477224152e9b5d8dc044a0212c613f61  2019-12-28 03:45:33  \n",
       "3  21ff248f414e3f906fd6f87a513f2604861685f9  2019-12-30 12:17:43  \n",
       "4  f5e996ef3775b96c3c8f24c9b64caad82ba76947  2019-12-24 21:22:54  "
      ]
     },
     "execution_count": 9,
     "metadata": {},
     "output_type": "execute_result"
    }
   ],
   "source": [
    "transaction_dimensions.head()"
   ]
  },
  {
   "cell_type": "code",
   "execution_count": 10,
   "metadata": {},
   "outputs": [
    {
     "data": {
      "text/html": [
       "<div>\n",
       "<style scoped>\n",
       "    .dataframe tbody tr th:only-of-type {\n",
       "        vertical-align: middle;\n",
       "    }\n",
       "\n",
       "    .dataframe tbody tr th {\n",
       "        vertical-align: top;\n",
       "    }\n",
       "\n",
       "    .dataframe thead th {\n",
       "        text-align: right;\n",
       "    }\n",
       "</style>\n",
       "<table border=\"1\" class=\"dataframe\">\n",
       "  <thead>\n",
       "    <tr style=\"text-align: right;\">\n",
       "      <th></th>\n",
       "      <th>channel_id</th>\n",
       "      <th>channel_name</th>\n",
       "    </tr>\n",
       "  </thead>\n",
       "  <tbody>\n",
       "    <tr>\n",
       "      <th>0</th>\n",
       "      <td>-1</td>\n",
       "      <td>channel150</td>\n",
       "    </tr>\n",
       "    <tr>\n",
       "      <th>1</th>\n",
       "      <td>2</td>\n",
       "      <td>channel54</td>\n",
       "    </tr>\n",
       "    <tr>\n",
       "      <th>2</th>\n",
       "      <td>3</td>\n",
       "      <td>channel51</td>\n",
       "    </tr>\n",
       "    <tr>\n",
       "      <th>3</th>\n",
       "      <td>1</td>\n",
       "      <td>channel1</td>\n",
       "    </tr>\n",
       "    <tr>\n",
       "      <th>4</th>\n",
       "      <td>7</td>\n",
       "      <td>channel2</td>\n",
       "    </tr>\n",
       "  </tbody>\n",
       "</table>\n",
       "</div>"
      ],
      "text/plain": [
       "   channel_id channel_name\n",
       "0          -1   channel150\n",
       "1           2    channel54\n",
       "2           3    channel51\n",
       "3           1     channel1\n",
       "4           7     channel2"
      ]
     },
     "execution_count": 10,
     "metadata": {},
     "output_type": "execute_result"
    }
   ],
   "source": [
    "dim_channel.head()"
   ]
  },
  {
   "cell_type": "markdown",
   "metadata": {},
   "source": [
    "merging transaction_dimensions and dim_channel"
   ]
  },
  {
   "cell_type": "code",
   "execution_count": 11,
   "metadata": {},
   "outputs": [],
   "source": [
    "transaction_dimensions_1 = transaction_dimensions.merge(dim_channel, on='channel_id', how = 'left')"
   ]
  },
  {
   "cell_type": "code",
   "execution_count": 12,
   "metadata": {},
   "outputs": [
    {
     "data": {
      "text/html": [
       "<div>\n",
       "<style scoped>\n",
       "    .dataframe tbody tr th:only-of-type {\n",
       "        vertical-align: middle;\n",
       "    }\n",
       "\n",
       "    .dataframe tbody tr th {\n",
       "        vertical-align: top;\n",
       "    }\n",
       "\n",
       "    .dataframe thead th {\n",
       "        text-align: right;\n",
       "    }\n",
       "</style>\n",
       "<table border=\"1\" class=\"dataframe\">\n",
       "  <thead>\n",
       "    <tr style=\"text-align: right;\">\n",
       "      <th></th>\n",
       "      <th>transaction_id</th>\n",
       "      <th>platform</th>\n",
       "      <th>currency</th>\n",
       "      <th>value</th>\n",
       "      <th>channel_id</th>\n",
       "      <th>restaurantid</th>\n",
       "      <th>country</th>\n",
       "      <th>customercityid</th>\n",
       "      <th>zipcode</th>\n",
       "      <th>customerid</th>\n",
       "      <th>orderdatetime</th>\n",
       "      <th>channel_name</th>\n",
       "    </tr>\n",
       "  </thead>\n",
       "  <tbody>\n",
       "    <tr>\n",
       "      <th>0</th>\n",
       "      <td>35bb7157e9053b36f0938dfa56f3cda3e6859486</td>\n",
       "      <td>4</td>\n",
       "      <td>EUR</td>\n",
       "      <td>929</td>\n",
       "      <td>2</td>\n",
       "      <td>fc353a5f53aa561f2b42e8b0b434b3098d49f6b7</td>\n",
       "      <td>NL</td>\n",
       "      <td>58d9a3a6707f668c868262b569845bf52057a04d</td>\n",
       "      <td>ZZNL35</td>\n",
       "      <td>cac7ccf2bb9edf47398a346294cbc7e202f1de5e</td>\n",
       "      <td>2019-12-27 16:27:21</td>\n",
       "      <td>channel54</td>\n",
       "    </tr>\n",
       "    <tr>\n",
       "      <th>1</th>\n",
       "      <td>1642d73673f52b6ccda8c77dba7c8fc3057f0364</td>\n",
       "      <td>4</td>\n",
       "      <td>PLN</td>\n",
       "      <td>170</td>\n",
       "      <td>10</td>\n",
       "      <td>3b27a771388fadc4ac4e4d0058fd69d93ae3cc49</td>\n",
       "      <td>PL</td>\n",
       "      <td>a288f0322922bcb4f3f9367a8624ec2d0027b0ac</td>\n",
       "      <td>ZZPL03</td>\n",
       "      <td>7cfaa0c9ff9f849a42a638d4215dc5b9b7dfeead</td>\n",
       "      <td>2019-12-27 02:57:18</td>\n",
       "      <td>channel18</td>\n",
       "    </tr>\n",
       "    <tr>\n",
       "      <th>2</th>\n",
       "      <td>991d175469984eab38f0f2e94efd6054ffad05f1</td>\n",
       "      <td>1</td>\n",
       "      <td>EUR</td>\n",
       "      <td>659</td>\n",
       "      <td>-1</td>\n",
       "      <td>5cedec4c0697593f27ffbefdc00ca6aba39c87b2</td>\n",
       "      <td>NL</td>\n",
       "      <td>8c495a298940b9c65f2a0cc50de8c793b53bf32f</td>\n",
       "      <td>ZZNL73</td>\n",
       "      <td>f0293eff477224152e9b5d8dc044a0212c613f61</td>\n",
       "      <td>2019-12-28 03:45:33</td>\n",
       "      <td>channel150</td>\n",
       "    </tr>\n",
       "    <tr>\n",
       "      <th>3</th>\n",
       "      <td>cf1037e5f5b0fb80f65b91470a347cc7e86720ff</td>\n",
       "      <td>4</td>\n",
       "      <td>EUR</td>\n",
       "      <td>281</td>\n",
       "      <td>2</td>\n",
       "      <td>dc090a627320644b666017f6217b3ec2823491b4</td>\n",
       "      <td>NL</td>\n",
       "      <td>6a883d0501a985dab347616e88b9609010682315</td>\n",
       "      <td>ZZNL31</td>\n",
       "      <td>21ff248f414e3f906fd6f87a513f2604861685f9</td>\n",
       "      <td>2019-12-30 12:17:43</td>\n",
       "      <td>channel54</td>\n",
       "    </tr>\n",
       "    <tr>\n",
       "      <th>4</th>\n",
       "      <td>eb0be140cf5d009fa47472c6c982de21bcb44fd4</td>\n",
       "      <td>4</td>\n",
       "      <td>EUR</td>\n",
       "      <td>443</td>\n",
       "      <td>1</td>\n",
       "      <td>7c01fe75a1b799232540ece1152d799ee95e82a0</td>\n",
       "      <td>NL</td>\n",
       "      <td>d022a5ba69215319d2645e0c589e69b41c16512a</td>\n",
       "      <td>ZZNL10</td>\n",
       "      <td>f5e996ef3775b96c3c8f24c9b64caad82ba76947</td>\n",
       "      <td>2019-12-24 21:22:54</td>\n",
       "      <td>channel1</td>\n",
       "    </tr>\n",
       "  </tbody>\n",
       "</table>\n",
       "</div>"
      ],
      "text/plain": [
       "                             transaction_id  platform currency  value  \\\n",
       "0  35bb7157e9053b36f0938dfa56f3cda3e6859486         4      EUR    929   \n",
       "1  1642d73673f52b6ccda8c77dba7c8fc3057f0364         4      PLN    170   \n",
       "2  991d175469984eab38f0f2e94efd6054ffad05f1         1      EUR    659   \n",
       "3  cf1037e5f5b0fb80f65b91470a347cc7e86720ff         4      EUR    281   \n",
       "4  eb0be140cf5d009fa47472c6c982de21bcb44fd4         4      EUR    443   \n",
       "\n",
       "   channel_id                              restaurantid country  \\\n",
       "0           2  fc353a5f53aa561f2b42e8b0b434b3098d49f6b7      NL   \n",
       "1          10  3b27a771388fadc4ac4e4d0058fd69d93ae3cc49      PL   \n",
       "2          -1  5cedec4c0697593f27ffbefdc00ca6aba39c87b2      NL   \n",
       "3           2  dc090a627320644b666017f6217b3ec2823491b4      NL   \n",
       "4           1  7c01fe75a1b799232540ece1152d799ee95e82a0      NL   \n",
       "\n",
       "                             customercityid zipcode  \\\n",
       "0  58d9a3a6707f668c868262b569845bf52057a04d  ZZNL35   \n",
       "1  a288f0322922bcb4f3f9367a8624ec2d0027b0ac  ZZPL03   \n",
       "2  8c495a298940b9c65f2a0cc50de8c793b53bf32f  ZZNL73   \n",
       "3  6a883d0501a985dab347616e88b9609010682315  ZZNL31   \n",
       "4  d022a5ba69215319d2645e0c589e69b41c16512a  ZZNL10   \n",
       "\n",
       "                                 customerid        orderdatetime channel_name  \n",
       "0  cac7ccf2bb9edf47398a346294cbc7e202f1de5e  2019-12-27 16:27:21    channel54  \n",
       "1  7cfaa0c9ff9f849a42a638d4215dc5b9b7dfeead  2019-12-27 02:57:18    channel18  \n",
       "2  f0293eff477224152e9b5d8dc044a0212c613f61  2019-12-28 03:45:33   channel150  \n",
       "3  21ff248f414e3f906fd6f87a513f2604861685f9  2019-12-30 12:17:43    channel54  \n",
       "4  f5e996ef3775b96c3c8f24c9b64caad82ba76947  2019-12-24 21:22:54     channel1  "
      ]
     },
     "execution_count": 12,
     "metadata": {},
     "output_type": "execute_result"
    }
   ],
   "source": [
    "transaction_dimensions_1.head()"
   ]
  },
  {
   "cell_type": "markdown",
   "metadata": {},
   "source": [
    "merging transaction_financials and currency"
   ]
  },
  {
   "cell_type": "code",
   "execution_count": 13,
   "metadata": {},
   "outputs": [
    {
     "data": {
      "text/html": [
       "<div>\n",
       "<style scoped>\n",
       "    .dataframe tbody tr th:only-of-type {\n",
       "        vertical-align: middle;\n",
       "    }\n",
       "\n",
       "    .dataframe tbody tr th {\n",
       "        vertical-align: top;\n",
       "    }\n",
       "\n",
       "    .dataframe thead th {\n",
       "        text-align: right;\n",
       "    }\n",
       "</style>\n",
       "<table border=\"1\" class=\"dataframe\">\n",
       "  <thead>\n",
       "    <tr style=\"text-align: right;\">\n",
       "      <th></th>\n",
       "      <th>transaction_id</th>\n",
       "      <th>currency</th>\n",
       "      <th>marketing_cost</th>\n",
       "      <th>operation_cost</th>\n",
       "      <th>administration_cost</th>\n",
       "      <th>commission_revenue</th>\n",
       "      <th>other_revenue</th>\n",
       "    </tr>\n",
       "  </thead>\n",
       "  <tbody>\n",
       "    <tr>\n",
       "      <th>0</th>\n",
       "      <td>811dff065ba24d502c518ab7c463d163a8542c75</td>\n",
       "      <td>EUR</td>\n",
       "      <td>20</td>\n",
       "      <td>68</td>\n",
       "      <td>22</td>\n",
       "      <td>248</td>\n",
       "      <td>240</td>\n",
       "    </tr>\n",
       "    <tr>\n",
       "      <th>1</th>\n",
       "      <td>fb1e90c0d96632de943fd6a285b9cae68629ea43</td>\n",
       "      <td>EUR</td>\n",
       "      <td>9</td>\n",
       "      <td>6</td>\n",
       "      <td>11</td>\n",
       "      <td>246</td>\n",
       "      <td>345</td>\n",
       "    </tr>\n",
       "    <tr>\n",
       "      <th>2</th>\n",
       "      <td>9005ca0e1d54d77cf42a254167b3a401752a40b0</td>\n",
       "      <td>EUR</td>\n",
       "      <td>6</td>\n",
       "      <td>15</td>\n",
       "      <td>9</td>\n",
       "      <td>110</td>\n",
       "      <td>67</td>\n",
       "    </tr>\n",
       "    <tr>\n",
       "      <th>3</th>\n",
       "      <td>831fd2201ea136b76bcbd38af2e052e62f824a87</td>\n",
       "      <td>PLN</td>\n",
       "      <td>5</td>\n",
       "      <td>5</td>\n",
       "      <td>53</td>\n",
       "      <td>111</td>\n",
       "      <td>113</td>\n",
       "    </tr>\n",
       "    <tr>\n",
       "      <th>4</th>\n",
       "      <td>3fcf6482e6683245ca85f5dcf180d09af0501bb1</td>\n",
       "      <td>EUR</td>\n",
       "      <td>65</td>\n",
       "      <td>539</td>\n",
       "      <td>234</td>\n",
       "      <td>42</td>\n",
       "      <td>88</td>\n",
       "    </tr>\n",
       "  </tbody>\n",
       "</table>\n",
       "</div>"
      ],
      "text/plain": [
       "                             transaction_id currency  marketing_cost  \\\n",
       "0  811dff065ba24d502c518ab7c463d163a8542c75      EUR              20   \n",
       "1  fb1e90c0d96632de943fd6a285b9cae68629ea43      EUR               9   \n",
       "2  9005ca0e1d54d77cf42a254167b3a401752a40b0      EUR               6   \n",
       "3  831fd2201ea136b76bcbd38af2e052e62f824a87      PLN               5   \n",
       "4  3fcf6482e6683245ca85f5dcf180d09af0501bb1      EUR              65   \n",
       "\n",
       "   operation_cost  administration_cost  commission_revenue  other_revenue  \n",
       "0              68                   22                 248            240  \n",
       "1               6                   11                 246            345  \n",
       "2              15                    9                 110             67  \n",
       "3               5                   53                 111            113  \n",
       "4             539                  234                  42             88  "
      ]
     },
     "execution_count": 13,
     "metadata": {},
     "output_type": "execute_result"
    }
   ],
   "source": [
    "transaction_financials.head()"
   ]
  },
  {
   "cell_type": "code",
   "execution_count": 14,
   "metadata": {},
   "outputs": [
    {
     "data": {
      "text/html": [
       "<div>\n",
       "<style scoped>\n",
       "    .dataframe tbody tr th:only-of-type {\n",
       "        vertical-align: middle;\n",
       "    }\n",
       "\n",
       "    .dataframe tbody tr th {\n",
       "        vertical-align: top;\n",
       "    }\n",
       "\n",
       "    .dataframe thead th {\n",
       "        text-align: right;\n",
       "    }\n",
       "</style>\n",
       "<table border=\"1\" class=\"dataframe\">\n",
       "  <thead>\n",
       "    <tr style=\"text-align: right;\">\n",
       "      <th></th>\n",
       "      <th>currency</th>\n",
       "      <th>iso_code</th>\n",
       "      <th>exponent</th>\n",
       "      <th>is_crypto</th>\n",
       "    </tr>\n",
       "  </thead>\n",
       "  <tbody>\n",
       "    <tr>\n",
       "      <th>0</th>\n",
       "      <td>AED</td>\n",
       "      <td>784.0</td>\n",
       "      <td>2.0</td>\n",
       "      <td>False</td>\n",
       "    </tr>\n",
       "    <tr>\n",
       "      <th>1</th>\n",
       "      <td>AFN</td>\n",
       "      <td>971.0</td>\n",
       "      <td>2.0</td>\n",
       "      <td>False</td>\n",
       "    </tr>\n",
       "    <tr>\n",
       "      <th>2</th>\n",
       "      <td>ALL</td>\n",
       "      <td>8.0</td>\n",
       "      <td>2.0</td>\n",
       "      <td>False</td>\n",
       "    </tr>\n",
       "    <tr>\n",
       "      <th>3</th>\n",
       "      <td>AMD</td>\n",
       "      <td>51.0</td>\n",
       "      <td>2.0</td>\n",
       "      <td>False</td>\n",
       "    </tr>\n",
       "    <tr>\n",
       "      <th>4</th>\n",
       "      <td>ANG</td>\n",
       "      <td>532.0</td>\n",
       "      <td>2.0</td>\n",
       "      <td>False</td>\n",
       "    </tr>\n",
       "  </tbody>\n",
       "</table>\n",
       "</div>"
      ],
      "text/plain": [
       "  currency  iso_code  exponent  is_crypto\n",
       "0      AED     784.0       2.0      False\n",
       "1      AFN     971.0       2.0      False\n",
       "2      ALL       8.0       2.0      False\n",
       "3      AMD      51.0       2.0      False\n",
       "4      ANG     532.0       2.0      False"
      ]
     },
     "execution_count": 14,
     "metadata": {},
     "output_type": "execute_result"
    }
   ],
   "source": [
    "currency_details.head()"
   ]
  },
  {
   "cell_type": "code",
   "execution_count": 15,
   "metadata": {},
   "outputs": [],
   "source": [
    "transaction_financials_1 = transaction_financials.merge(currency_details, on='currency', how = 'left')"
   ]
  },
  {
   "cell_type": "code",
   "execution_count": 16,
   "metadata": {},
   "outputs": [
    {
     "data": {
      "text/html": [
       "<div>\n",
       "<style scoped>\n",
       "    .dataframe tbody tr th:only-of-type {\n",
       "        vertical-align: middle;\n",
       "    }\n",
       "\n",
       "    .dataframe tbody tr th {\n",
       "        vertical-align: top;\n",
       "    }\n",
       "\n",
       "    .dataframe thead th {\n",
       "        text-align: right;\n",
       "    }\n",
       "</style>\n",
       "<table border=\"1\" class=\"dataframe\">\n",
       "  <thead>\n",
       "    <tr style=\"text-align: right;\">\n",
       "      <th></th>\n",
       "      <th>transaction_id</th>\n",
       "      <th>currency</th>\n",
       "      <th>marketing_cost</th>\n",
       "      <th>operation_cost</th>\n",
       "      <th>administration_cost</th>\n",
       "      <th>commission_revenue</th>\n",
       "      <th>other_revenue</th>\n",
       "      <th>iso_code</th>\n",
       "      <th>exponent</th>\n",
       "      <th>is_crypto</th>\n",
       "    </tr>\n",
       "  </thead>\n",
       "  <tbody>\n",
       "    <tr>\n",
       "      <th>0</th>\n",
       "      <td>811dff065ba24d502c518ab7c463d163a8542c75</td>\n",
       "      <td>EUR</td>\n",
       "      <td>20</td>\n",
       "      <td>68</td>\n",
       "      <td>22</td>\n",
       "      <td>248</td>\n",
       "      <td>240</td>\n",
       "      <td>978.0</td>\n",
       "      <td>2.0</td>\n",
       "      <td>False</td>\n",
       "    </tr>\n",
       "    <tr>\n",
       "      <th>1</th>\n",
       "      <td>fb1e90c0d96632de943fd6a285b9cae68629ea43</td>\n",
       "      <td>EUR</td>\n",
       "      <td>9</td>\n",
       "      <td>6</td>\n",
       "      <td>11</td>\n",
       "      <td>246</td>\n",
       "      <td>345</td>\n",
       "      <td>978.0</td>\n",
       "      <td>2.0</td>\n",
       "      <td>False</td>\n",
       "    </tr>\n",
       "    <tr>\n",
       "      <th>2</th>\n",
       "      <td>9005ca0e1d54d77cf42a254167b3a401752a40b0</td>\n",
       "      <td>EUR</td>\n",
       "      <td>6</td>\n",
       "      <td>15</td>\n",
       "      <td>9</td>\n",
       "      <td>110</td>\n",
       "      <td>67</td>\n",
       "      <td>978.0</td>\n",
       "      <td>2.0</td>\n",
       "      <td>False</td>\n",
       "    </tr>\n",
       "    <tr>\n",
       "      <th>3</th>\n",
       "      <td>831fd2201ea136b76bcbd38af2e052e62f824a87</td>\n",
       "      <td>PLN</td>\n",
       "      <td>5</td>\n",
       "      <td>5</td>\n",
       "      <td>53</td>\n",
       "      <td>111</td>\n",
       "      <td>113</td>\n",
       "      <td>985.0</td>\n",
       "      <td>2.0</td>\n",
       "      <td>False</td>\n",
       "    </tr>\n",
       "    <tr>\n",
       "      <th>4</th>\n",
       "      <td>3fcf6482e6683245ca85f5dcf180d09af0501bb1</td>\n",
       "      <td>EUR</td>\n",
       "      <td>65</td>\n",
       "      <td>539</td>\n",
       "      <td>234</td>\n",
       "      <td>42</td>\n",
       "      <td>88</td>\n",
       "      <td>978.0</td>\n",
       "      <td>2.0</td>\n",
       "      <td>False</td>\n",
       "    </tr>\n",
       "  </tbody>\n",
       "</table>\n",
       "</div>"
      ],
      "text/plain": [
       "                             transaction_id currency  marketing_cost  \\\n",
       "0  811dff065ba24d502c518ab7c463d163a8542c75      EUR              20   \n",
       "1  fb1e90c0d96632de943fd6a285b9cae68629ea43      EUR               9   \n",
       "2  9005ca0e1d54d77cf42a254167b3a401752a40b0      EUR               6   \n",
       "3  831fd2201ea136b76bcbd38af2e052e62f824a87      PLN               5   \n",
       "4  3fcf6482e6683245ca85f5dcf180d09af0501bb1      EUR              65   \n",
       "\n",
       "   operation_cost  administration_cost  commission_revenue  other_revenue  \\\n",
       "0              68                   22                 248            240   \n",
       "1               6                   11                 246            345   \n",
       "2              15                    9                 110             67   \n",
       "3               5                   53                 111            113   \n",
       "4             539                  234                  42             88   \n",
       "\n",
       "   iso_code  exponent  is_crypto  \n",
       "0     978.0       2.0      False  \n",
       "1     978.0       2.0      False  \n",
       "2     978.0       2.0      False  \n",
       "3     985.0       2.0      False  \n",
       "4     978.0       2.0      False  "
      ]
     },
     "execution_count": 16,
     "metadata": {},
     "output_type": "execute_result"
    }
   ],
   "source": [
    "transaction_financials_1.head()"
   ]
  },
  {
   "cell_type": "markdown",
   "metadata": {},
   "source": [
    "merge two above tables"
   ]
  },
  {
   "cell_type": "code",
   "execution_count": 17,
   "metadata": {},
   "outputs": [],
   "source": [
    "transaction_new = transaction_dimensions_1.merge(transaction_financials_1, on='transaction_id', how = 'left')"
   ]
  },
  {
   "cell_type": "code",
   "execution_count": 18,
   "metadata": {},
   "outputs": [
    {
     "data": {
      "text/html": [
       "<div>\n",
       "<style scoped>\n",
       "    .dataframe tbody tr th:only-of-type {\n",
       "        vertical-align: middle;\n",
       "    }\n",
       "\n",
       "    .dataframe tbody tr th {\n",
       "        vertical-align: top;\n",
       "    }\n",
       "\n",
       "    .dataframe thead th {\n",
       "        text-align: right;\n",
       "    }\n",
       "</style>\n",
       "<table border=\"1\" class=\"dataframe\">\n",
       "  <thead>\n",
       "    <tr style=\"text-align: right;\">\n",
       "      <th></th>\n",
       "      <th>transaction_id</th>\n",
       "      <th>platform</th>\n",
       "      <th>currency_x</th>\n",
       "      <th>value</th>\n",
       "      <th>channel_id</th>\n",
       "      <th>restaurantid</th>\n",
       "      <th>country</th>\n",
       "      <th>customercityid</th>\n",
       "      <th>zipcode</th>\n",
       "      <th>customerid</th>\n",
       "      <th>...</th>\n",
       "      <th>channel_name</th>\n",
       "      <th>currency_y</th>\n",
       "      <th>marketing_cost</th>\n",
       "      <th>operation_cost</th>\n",
       "      <th>administration_cost</th>\n",
       "      <th>commission_revenue</th>\n",
       "      <th>other_revenue</th>\n",
       "      <th>iso_code</th>\n",
       "      <th>exponent</th>\n",
       "      <th>is_crypto</th>\n",
       "    </tr>\n",
       "  </thead>\n",
       "  <tbody>\n",
       "    <tr>\n",
       "      <th>0</th>\n",
       "      <td>35bb7157e9053b36f0938dfa56f3cda3e6859486</td>\n",
       "      <td>4</td>\n",
       "      <td>EUR</td>\n",
       "      <td>929</td>\n",
       "      <td>2</td>\n",
       "      <td>fc353a5f53aa561f2b42e8b0b434b3098d49f6b7</td>\n",
       "      <td>NL</td>\n",
       "      <td>58d9a3a6707f668c868262b569845bf52057a04d</td>\n",
       "      <td>ZZNL35</td>\n",
       "      <td>cac7ccf2bb9edf47398a346294cbc7e202f1de5e</td>\n",
       "      <td>...</td>\n",
       "      <td>channel54</td>\n",
       "      <td>EUR</td>\n",
       "      <td>18</td>\n",
       "      <td>175</td>\n",
       "      <td>111</td>\n",
       "      <td>590</td>\n",
       "      <td>61</td>\n",
       "      <td>978.0</td>\n",
       "      <td>2.0</td>\n",
       "      <td>False</td>\n",
       "    </tr>\n",
       "    <tr>\n",
       "      <th>1</th>\n",
       "      <td>1642d73673f52b6ccda8c77dba7c8fc3057f0364</td>\n",
       "      <td>4</td>\n",
       "      <td>PLN</td>\n",
       "      <td>170</td>\n",
       "      <td>10</td>\n",
       "      <td>3b27a771388fadc4ac4e4d0058fd69d93ae3cc49</td>\n",
       "      <td>PL</td>\n",
       "      <td>a288f0322922bcb4f3f9367a8624ec2d0027b0ac</td>\n",
       "      <td>ZZPL03</td>\n",
       "      <td>7cfaa0c9ff9f849a42a638d4215dc5b9b7dfeead</td>\n",
       "      <td>...</td>\n",
       "      <td>channel18</td>\n",
       "      <td>PLN</td>\n",
       "      <td>397</td>\n",
       "      <td>137</td>\n",
       "      <td>784</td>\n",
       "      <td>9</td>\n",
       "      <td>28</td>\n",
       "      <td>985.0</td>\n",
       "      <td>2.0</td>\n",
       "      <td>False</td>\n",
       "    </tr>\n",
       "    <tr>\n",
       "      <th>2</th>\n",
       "      <td>991d175469984eab38f0f2e94efd6054ffad05f1</td>\n",
       "      <td>1</td>\n",
       "      <td>EUR</td>\n",
       "      <td>659</td>\n",
       "      <td>-1</td>\n",
       "      <td>5cedec4c0697593f27ffbefdc00ca6aba39c87b2</td>\n",
       "      <td>NL</td>\n",
       "      <td>8c495a298940b9c65f2a0cc50de8c793b53bf32f</td>\n",
       "      <td>ZZNL73</td>\n",
       "      <td>f0293eff477224152e9b5d8dc044a0212c613f61</td>\n",
       "      <td>...</td>\n",
       "      <td>channel150</td>\n",
       "      <td>EUR</td>\n",
       "      <td>195</td>\n",
       "      <td>388</td>\n",
       "      <td>74</td>\n",
       "      <td>17</td>\n",
       "      <td>41</td>\n",
       "      <td>978.0</td>\n",
       "      <td>2.0</td>\n",
       "      <td>False</td>\n",
       "    </tr>\n",
       "    <tr>\n",
       "      <th>3</th>\n",
       "      <td>cf1037e5f5b0fb80f65b91470a347cc7e86720ff</td>\n",
       "      <td>4</td>\n",
       "      <td>EUR</td>\n",
       "      <td>281</td>\n",
       "      <td>2</td>\n",
       "      <td>dc090a627320644b666017f6217b3ec2823491b4</td>\n",
       "      <td>NL</td>\n",
       "      <td>6a883d0501a985dab347616e88b9609010682315</td>\n",
       "      <td>ZZNL31</td>\n",
       "      <td>21ff248f414e3f906fd6f87a513f2604861685f9</td>\n",
       "      <td>...</td>\n",
       "      <td>channel54</td>\n",
       "      <td>EUR</td>\n",
       "      <td>12</td>\n",
       "      <td>31</td>\n",
       "      <td>20</td>\n",
       "      <td>55</td>\n",
       "      <td>120</td>\n",
       "      <td>978.0</td>\n",
       "      <td>2.0</td>\n",
       "      <td>False</td>\n",
       "    </tr>\n",
       "    <tr>\n",
       "      <th>4</th>\n",
       "      <td>eb0be140cf5d009fa47472c6c982de21bcb44fd4</td>\n",
       "      <td>4</td>\n",
       "      <td>EUR</td>\n",
       "      <td>443</td>\n",
       "      <td>1</td>\n",
       "      <td>7c01fe75a1b799232540ece1152d799ee95e82a0</td>\n",
       "      <td>NL</td>\n",
       "      <td>d022a5ba69215319d2645e0c589e69b41c16512a</td>\n",
       "      <td>ZZNL10</td>\n",
       "      <td>f5e996ef3775b96c3c8f24c9b64caad82ba76947</td>\n",
       "      <td>...</td>\n",
       "      <td>channel1</td>\n",
       "      <td>EUR</td>\n",
       "      <td>3</td>\n",
       "      <td>32</td>\n",
       "      <td>27</td>\n",
       "      <td>62</td>\n",
       "      <td>228</td>\n",
       "      <td>978.0</td>\n",
       "      <td>2.0</td>\n",
       "      <td>False</td>\n",
       "    </tr>\n",
       "  </tbody>\n",
       "</table>\n",
       "<p>5 rows × 21 columns</p>\n",
       "</div>"
      ],
      "text/plain": [
       "                             transaction_id  platform currency_x  value  \\\n",
       "0  35bb7157e9053b36f0938dfa56f3cda3e6859486         4        EUR    929   \n",
       "1  1642d73673f52b6ccda8c77dba7c8fc3057f0364         4        PLN    170   \n",
       "2  991d175469984eab38f0f2e94efd6054ffad05f1         1        EUR    659   \n",
       "3  cf1037e5f5b0fb80f65b91470a347cc7e86720ff         4        EUR    281   \n",
       "4  eb0be140cf5d009fa47472c6c982de21bcb44fd4         4        EUR    443   \n",
       "\n",
       "   channel_id                              restaurantid country  \\\n",
       "0           2  fc353a5f53aa561f2b42e8b0b434b3098d49f6b7      NL   \n",
       "1          10  3b27a771388fadc4ac4e4d0058fd69d93ae3cc49      PL   \n",
       "2          -1  5cedec4c0697593f27ffbefdc00ca6aba39c87b2      NL   \n",
       "3           2  dc090a627320644b666017f6217b3ec2823491b4      NL   \n",
       "4           1  7c01fe75a1b799232540ece1152d799ee95e82a0      NL   \n",
       "\n",
       "                             customercityid zipcode  \\\n",
       "0  58d9a3a6707f668c868262b569845bf52057a04d  ZZNL35   \n",
       "1  a288f0322922bcb4f3f9367a8624ec2d0027b0ac  ZZPL03   \n",
       "2  8c495a298940b9c65f2a0cc50de8c793b53bf32f  ZZNL73   \n",
       "3  6a883d0501a985dab347616e88b9609010682315  ZZNL31   \n",
       "4  d022a5ba69215319d2645e0c589e69b41c16512a  ZZNL10   \n",
       "\n",
       "                                 customerid  ... channel_name currency_y  \\\n",
       "0  cac7ccf2bb9edf47398a346294cbc7e202f1de5e  ...    channel54        EUR   \n",
       "1  7cfaa0c9ff9f849a42a638d4215dc5b9b7dfeead  ...    channel18        PLN   \n",
       "2  f0293eff477224152e9b5d8dc044a0212c613f61  ...   channel150        EUR   \n",
       "3  21ff248f414e3f906fd6f87a513f2604861685f9  ...    channel54        EUR   \n",
       "4  f5e996ef3775b96c3c8f24c9b64caad82ba76947  ...     channel1        EUR   \n",
       "\n",
       "  marketing_cost  operation_cost  administration_cost  commission_revenue  \\\n",
       "0             18             175                  111                 590   \n",
       "1            397             137                  784                   9   \n",
       "2            195             388                   74                  17   \n",
       "3             12              31                   20                  55   \n",
       "4              3              32                   27                  62   \n",
       "\n",
       "   other_revenue  iso_code  exponent  is_crypto  \n",
       "0             61     978.0       2.0      False  \n",
       "1             28     985.0       2.0      False  \n",
       "2             41     978.0       2.0      False  \n",
       "3            120     978.0       2.0      False  \n",
       "4            228     978.0       2.0      False  \n",
       "\n",
       "[5 rows x 21 columns]"
      ]
     },
     "execution_count": 18,
     "metadata": {},
     "output_type": "execute_result"
    }
   ],
   "source": [
    "transaction_new.head()"
   ]
  },
  {
   "cell_type": "markdown",
   "metadata": {},
   "source": [
    "add currency rate data and city info"
   ]
  },
  {
   "cell_type": "code",
   "execution_count": 19,
   "metadata": {},
   "outputs": [],
   "source": [
    "df1 = pd.merge(transaction_new, fx_rates_eur, how='left', left_on='currency_x', right_on='ccy')"
   ]
  },
  {
   "cell_type": "code",
   "execution_count": 20,
   "metadata": {},
   "outputs": [
    {
     "data": {
      "text/html": [
       "<div>\n",
       "<style scoped>\n",
       "    .dataframe tbody tr th:only-of-type {\n",
       "        vertical-align: middle;\n",
       "    }\n",
       "\n",
       "    .dataframe tbody tr th {\n",
       "        vertical-align: top;\n",
       "    }\n",
       "\n",
       "    .dataframe thead th {\n",
       "        text-align: right;\n",
       "    }\n",
       "</style>\n",
       "<table border=\"1\" class=\"dataframe\">\n",
       "  <thead>\n",
       "    <tr style=\"text-align: right;\">\n",
       "      <th></th>\n",
       "      <th>transaction_id</th>\n",
       "      <th>platform</th>\n",
       "      <th>currency_x</th>\n",
       "      <th>value</th>\n",
       "      <th>channel_id</th>\n",
       "      <th>restaurantid</th>\n",
       "      <th>country</th>\n",
       "      <th>customercityid</th>\n",
       "      <th>zipcode</th>\n",
       "      <th>customerid</th>\n",
       "      <th>...</th>\n",
       "      <th>administration_cost</th>\n",
       "      <th>commission_revenue</th>\n",
       "      <th>other_revenue</th>\n",
       "      <th>iso_code</th>\n",
       "      <th>exponent</th>\n",
       "      <th>is_crypto</th>\n",
       "      <th>base_ccy</th>\n",
       "      <th>ccy</th>\n",
       "      <th>rate</th>\n",
       "      <th>country_id</th>\n",
       "    </tr>\n",
       "  </thead>\n",
       "  <tbody>\n",
       "    <tr>\n",
       "      <th>0</th>\n",
       "      <td>35bb7157e9053b36f0938dfa56f3cda3e6859486</td>\n",
       "      <td>4</td>\n",
       "      <td>EUR</td>\n",
       "      <td>929</td>\n",
       "      <td>2</td>\n",
       "      <td>fc353a5f53aa561f2b42e8b0b434b3098d49f6b7</td>\n",
       "      <td>NL</td>\n",
       "      <td>58d9a3a6707f668c868262b569845bf52057a04d</td>\n",
       "      <td>ZZNL35</td>\n",
       "      <td>cac7ccf2bb9edf47398a346294cbc7e202f1de5e</td>\n",
       "      <td>...</td>\n",
       "      <td>111</td>\n",
       "      <td>590</td>\n",
       "      <td>61</td>\n",
       "      <td>978.0</td>\n",
       "      <td>2.0</td>\n",
       "      <td>False</td>\n",
       "      <td>EUR</td>\n",
       "      <td>EUR</td>\n",
       "      <td>1.000000</td>\n",
       "      <td>128</td>\n",
       "    </tr>\n",
       "    <tr>\n",
       "      <th>1</th>\n",
       "      <td>35bb7157e9053b36f0938dfa56f3cda3e6859486</td>\n",
       "      <td>4</td>\n",
       "      <td>EUR</td>\n",
       "      <td>929</td>\n",
       "      <td>2</td>\n",
       "      <td>fc353a5f53aa561f2b42e8b0b434b3098d49f6b7</td>\n",
       "      <td>NL</td>\n",
       "      <td>58d9a3a6707f668c868262b569845bf52057a04d</td>\n",
       "      <td>ZZNL35</td>\n",
       "      <td>cac7ccf2bb9edf47398a346294cbc7e202f1de5e</td>\n",
       "      <td>...</td>\n",
       "      <td>111</td>\n",
       "      <td>590</td>\n",
       "      <td>61</td>\n",
       "      <td>978.0</td>\n",
       "      <td>2.0</td>\n",
       "      <td>False</td>\n",
       "      <td>EUR</td>\n",
       "      <td>EUR</td>\n",
       "      <td>1.000000</td>\n",
       "      <td>129</td>\n",
       "    </tr>\n",
       "    <tr>\n",
       "      <th>2</th>\n",
       "      <td>1642d73673f52b6ccda8c77dba7c8fc3057f0364</td>\n",
       "      <td>4</td>\n",
       "      <td>PLN</td>\n",
       "      <td>170</td>\n",
       "      <td>10</td>\n",
       "      <td>3b27a771388fadc4ac4e4d0058fd69d93ae3cc49</td>\n",
       "      <td>PL</td>\n",
       "      <td>a288f0322922bcb4f3f9367a8624ec2d0027b0ac</td>\n",
       "      <td>ZZPL03</td>\n",
       "      <td>7cfaa0c9ff9f849a42a638d4215dc5b9b7dfeead</td>\n",
       "      <td>...</td>\n",
       "      <td>784</td>\n",
       "      <td>9</td>\n",
       "      <td>28</td>\n",
       "      <td>985.0</td>\n",
       "      <td>2.0</td>\n",
       "      <td>False</td>\n",
       "      <td>EUR</td>\n",
       "      <td>PLN</td>\n",
       "      <td>0.241057</td>\n",
       "      <td>118</td>\n",
       "    </tr>\n",
       "    <tr>\n",
       "      <th>3</th>\n",
       "      <td>991d175469984eab38f0f2e94efd6054ffad05f1</td>\n",
       "      <td>1</td>\n",
       "      <td>EUR</td>\n",
       "      <td>659</td>\n",
       "      <td>-1</td>\n",
       "      <td>5cedec4c0697593f27ffbefdc00ca6aba39c87b2</td>\n",
       "      <td>NL</td>\n",
       "      <td>8c495a298940b9c65f2a0cc50de8c793b53bf32f</td>\n",
       "      <td>ZZNL73</td>\n",
       "      <td>f0293eff477224152e9b5d8dc044a0212c613f61</td>\n",
       "      <td>...</td>\n",
       "      <td>74</td>\n",
       "      <td>17</td>\n",
       "      <td>41</td>\n",
       "      <td>978.0</td>\n",
       "      <td>2.0</td>\n",
       "      <td>False</td>\n",
       "      <td>EUR</td>\n",
       "      <td>EUR</td>\n",
       "      <td>1.000000</td>\n",
       "      <td>128</td>\n",
       "    </tr>\n",
       "    <tr>\n",
       "      <th>4</th>\n",
       "      <td>991d175469984eab38f0f2e94efd6054ffad05f1</td>\n",
       "      <td>1</td>\n",
       "      <td>EUR</td>\n",
       "      <td>659</td>\n",
       "      <td>-1</td>\n",
       "      <td>5cedec4c0697593f27ffbefdc00ca6aba39c87b2</td>\n",
       "      <td>NL</td>\n",
       "      <td>8c495a298940b9c65f2a0cc50de8c793b53bf32f</td>\n",
       "      <td>ZZNL73</td>\n",
       "      <td>f0293eff477224152e9b5d8dc044a0212c613f61</td>\n",
       "      <td>...</td>\n",
       "      <td>74</td>\n",
       "      <td>17</td>\n",
       "      <td>41</td>\n",
       "      <td>978.0</td>\n",
       "      <td>2.0</td>\n",
       "      <td>False</td>\n",
       "      <td>EUR</td>\n",
       "      <td>EUR</td>\n",
       "      <td>1.000000</td>\n",
       "      <td>129</td>\n",
       "    </tr>\n",
       "  </tbody>\n",
       "</table>\n",
       "<p>5 rows × 25 columns</p>\n",
       "</div>"
      ],
      "text/plain": [
       "                             transaction_id  platform currency_x  value  \\\n",
       "0  35bb7157e9053b36f0938dfa56f3cda3e6859486         4        EUR    929   \n",
       "1  35bb7157e9053b36f0938dfa56f3cda3e6859486         4        EUR    929   \n",
       "2  1642d73673f52b6ccda8c77dba7c8fc3057f0364         4        PLN    170   \n",
       "3  991d175469984eab38f0f2e94efd6054ffad05f1         1        EUR    659   \n",
       "4  991d175469984eab38f0f2e94efd6054ffad05f1         1        EUR    659   \n",
       "\n",
       "   channel_id                              restaurantid country  \\\n",
       "0           2  fc353a5f53aa561f2b42e8b0b434b3098d49f6b7      NL   \n",
       "1           2  fc353a5f53aa561f2b42e8b0b434b3098d49f6b7      NL   \n",
       "2          10  3b27a771388fadc4ac4e4d0058fd69d93ae3cc49      PL   \n",
       "3          -1  5cedec4c0697593f27ffbefdc00ca6aba39c87b2      NL   \n",
       "4          -1  5cedec4c0697593f27ffbefdc00ca6aba39c87b2      NL   \n",
       "\n",
       "                             customercityid zipcode  \\\n",
       "0  58d9a3a6707f668c868262b569845bf52057a04d  ZZNL35   \n",
       "1  58d9a3a6707f668c868262b569845bf52057a04d  ZZNL35   \n",
       "2  a288f0322922bcb4f3f9367a8624ec2d0027b0ac  ZZPL03   \n",
       "3  8c495a298940b9c65f2a0cc50de8c793b53bf32f  ZZNL73   \n",
       "4  8c495a298940b9c65f2a0cc50de8c793b53bf32f  ZZNL73   \n",
       "\n",
       "                                 customerid  ... administration_cost  \\\n",
       "0  cac7ccf2bb9edf47398a346294cbc7e202f1de5e  ...                 111   \n",
       "1  cac7ccf2bb9edf47398a346294cbc7e202f1de5e  ...                 111   \n",
       "2  7cfaa0c9ff9f849a42a638d4215dc5b9b7dfeead  ...                 784   \n",
       "3  f0293eff477224152e9b5d8dc044a0212c613f61  ...                  74   \n",
       "4  f0293eff477224152e9b5d8dc044a0212c613f61  ...                  74   \n",
       "\n",
       "  commission_revenue other_revenue  iso_code  exponent  is_crypto  base_ccy  \\\n",
       "0                590            61     978.0       2.0      False       EUR   \n",
       "1                590            61     978.0       2.0      False       EUR   \n",
       "2                  9            28     985.0       2.0      False       EUR   \n",
       "3                 17            41     978.0       2.0      False       EUR   \n",
       "4                 17            41     978.0       2.0      False       EUR   \n",
       "\n",
       "   ccy      rate  country_id  \n",
       "0  EUR  1.000000         128  \n",
       "1  EUR  1.000000         129  \n",
       "2  PLN  0.241057         118  \n",
       "3  EUR  1.000000         128  \n",
       "4  EUR  1.000000         129  \n",
       "\n",
       "[5 rows x 25 columns]"
      ]
     },
     "execution_count": 20,
     "metadata": {},
     "output_type": "execute_result"
    }
   ],
   "source": [
    "df1.head()"
   ]
  },
  {
   "cell_type": "code",
   "execution_count": 21,
   "metadata": {},
   "outputs": [
    {
     "data": {
      "text/plain": [
       "array(['NL', 'PL', 'AT', 'CH'], dtype=object)"
      ]
     },
     "execution_count": 21,
     "metadata": {},
     "output_type": "execute_result"
    }
   ],
   "source": [
    "df1['country'].unique()"
   ]
  },
  {
   "cell_type": "code",
   "execution_count": 22,
   "metadata": {},
   "outputs": [
    {
     "data": {
      "text/plain": [
       "array(['EUR', 'PLN', 'CHF'], dtype=object)"
      ]
     },
     "execution_count": 22,
     "metadata": {},
     "output_type": "execute_result"
    }
   ],
   "source": [
    "df1['currency_x'].unique()"
   ]
  },
  {
   "cell_type": "code",
   "execution_count": 23,
   "metadata": {},
   "outputs": [],
   "source": [
    "df2 = pd.merge(df1, cities, how='left', left_on='customercityid', right_on='city_id')"
   ]
  },
  {
   "cell_type": "code",
   "execution_count": 24,
   "metadata": {},
   "outputs": [
    {
     "data": {
      "text/html": [
       "<div>\n",
       "<style scoped>\n",
       "    .dataframe tbody tr th:only-of-type {\n",
       "        vertical-align: middle;\n",
       "    }\n",
       "\n",
       "    .dataframe tbody tr th {\n",
       "        vertical-align: top;\n",
       "    }\n",
       "\n",
       "    .dataframe thead th {\n",
       "        text-align: right;\n",
       "    }\n",
       "</style>\n",
       "<table border=\"1\" class=\"dataframe\">\n",
       "  <thead>\n",
       "    <tr style=\"text-align: right;\">\n",
       "      <th></th>\n",
       "      <th>transaction_id</th>\n",
       "      <th>platform</th>\n",
       "      <th>currency_x</th>\n",
       "      <th>value</th>\n",
       "      <th>channel_id</th>\n",
       "      <th>restaurantid</th>\n",
       "      <th>country_x</th>\n",
       "      <th>customercityid</th>\n",
       "      <th>zipcode</th>\n",
       "      <th>customerid</th>\n",
       "      <th>...</th>\n",
       "      <th>iso_code</th>\n",
       "      <th>exponent</th>\n",
       "      <th>is_crypto</th>\n",
       "      <th>base_ccy</th>\n",
       "      <th>ccy</th>\n",
       "      <th>rate</th>\n",
       "      <th>country_id</th>\n",
       "      <th>city_id</th>\n",
       "      <th>name</th>\n",
       "      <th>country_y</th>\n",
       "    </tr>\n",
       "  </thead>\n",
       "  <tbody>\n",
       "    <tr>\n",
       "      <th>0</th>\n",
       "      <td>35bb7157e9053b36f0938dfa56f3cda3e6859486</td>\n",
       "      <td>4</td>\n",
       "      <td>EUR</td>\n",
       "      <td>929</td>\n",
       "      <td>2</td>\n",
       "      <td>fc353a5f53aa561f2b42e8b0b434b3098d49f6b7</td>\n",
       "      <td>NL</td>\n",
       "      <td>58d9a3a6707f668c868262b569845bf52057a04d</td>\n",
       "      <td>ZZNL35</td>\n",
       "      <td>cac7ccf2bb9edf47398a346294cbc7e202f1de5e</td>\n",
       "      <td>...</td>\n",
       "      <td>978.0</td>\n",
       "      <td>2.0</td>\n",
       "      <td>False</td>\n",
       "      <td>EUR</td>\n",
       "      <td>EUR</td>\n",
       "      <td>1.000000</td>\n",
       "      <td>128</td>\n",
       "      <td>58d9a3a6707f668c868262b569845bf52057a04d</td>\n",
       "      <td>cityNL63</td>\n",
       "      <td>NL</td>\n",
       "    </tr>\n",
       "    <tr>\n",
       "      <th>1</th>\n",
       "      <td>35bb7157e9053b36f0938dfa56f3cda3e6859486</td>\n",
       "      <td>4</td>\n",
       "      <td>EUR</td>\n",
       "      <td>929</td>\n",
       "      <td>2</td>\n",
       "      <td>fc353a5f53aa561f2b42e8b0b434b3098d49f6b7</td>\n",
       "      <td>NL</td>\n",
       "      <td>58d9a3a6707f668c868262b569845bf52057a04d</td>\n",
       "      <td>ZZNL35</td>\n",
       "      <td>cac7ccf2bb9edf47398a346294cbc7e202f1de5e</td>\n",
       "      <td>...</td>\n",
       "      <td>978.0</td>\n",
       "      <td>2.0</td>\n",
       "      <td>False</td>\n",
       "      <td>EUR</td>\n",
       "      <td>EUR</td>\n",
       "      <td>1.000000</td>\n",
       "      <td>129</td>\n",
       "      <td>58d9a3a6707f668c868262b569845bf52057a04d</td>\n",
       "      <td>cityNL63</td>\n",
       "      <td>NL</td>\n",
       "    </tr>\n",
       "    <tr>\n",
       "      <th>2</th>\n",
       "      <td>1642d73673f52b6ccda8c77dba7c8fc3057f0364</td>\n",
       "      <td>4</td>\n",
       "      <td>PLN</td>\n",
       "      <td>170</td>\n",
       "      <td>10</td>\n",
       "      <td>3b27a771388fadc4ac4e4d0058fd69d93ae3cc49</td>\n",
       "      <td>PL</td>\n",
       "      <td>a288f0322922bcb4f3f9367a8624ec2d0027b0ac</td>\n",
       "      <td>ZZPL03</td>\n",
       "      <td>7cfaa0c9ff9f849a42a638d4215dc5b9b7dfeead</td>\n",
       "      <td>...</td>\n",
       "      <td>985.0</td>\n",
       "      <td>2.0</td>\n",
       "      <td>False</td>\n",
       "      <td>EUR</td>\n",
       "      <td>PLN</td>\n",
       "      <td>0.241057</td>\n",
       "      <td>118</td>\n",
       "      <td>a288f0322922bcb4f3f9367a8624ec2d0027b0ac</td>\n",
       "      <td>cityPL23</td>\n",
       "      <td>PL</td>\n",
       "    </tr>\n",
       "    <tr>\n",
       "      <th>3</th>\n",
       "      <td>991d175469984eab38f0f2e94efd6054ffad05f1</td>\n",
       "      <td>1</td>\n",
       "      <td>EUR</td>\n",
       "      <td>659</td>\n",
       "      <td>-1</td>\n",
       "      <td>5cedec4c0697593f27ffbefdc00ca6aba39c87b2</td>\n",
       "      <td>NL</td>\n",
       "      <td>8c495a298940b9c65f2a0cc50de8c793b53bf32f</td>\n",
       "      <td>ZZNL73</td>\n",
       "      <td>f0293eff477224152e9b5d8dc044a0212c613f61</td>\n",
       "      <td>...</td>\n",
       "      <td>978.0</td>\n",
       "      <td>2.0</td>\n",
       "      <td>False</td>\n",
       "      <td>EUR</td>\n",
       "      <td>EUR</td>\n",
       "      <td>1.000000</td>\n",
       "      <td>128</td>\n",
       "      <td>8c495a298940b9c65f2a0cc50de8c793b53bf32f</td>\n",
       "      <td>cityNL78</td>\n",
       "      <td>NL</td>\n",
       "    </tr>\n",
       "    <tr>\n",
       "      <th>4</th>\n",
       "      <td>991d175469984eab38f0f2e94efd6054ffad05f1</td>\n",
       "      <td>1</td>\n",
       "      <td>EUR</td>\n",
       "      <td>659</td>\n",
       "      <td>-1</td>\n",
       "      <td>5cedec4c0697593f27ffbefdc00ca6aba39c87b2</td>\n",
       "      <td>NL</td>\n",
       "      <td>8c495a298940b9c65f2a0cc50de8c793b53bf32f</td>\n",
       "      <td>ZZNL73</td>\n",
       "      <td>f0293eff477224152e9b5d8dc044a0212c613f61</td>\n",
       "      <td>...</td>\n",
       "      <td>978.0</td>\n",
       "      <td>2.0</td>\n",
       "      <td>False</td>\n",
       "      <td>EUR</td>\n",
       "      <td>EUR</td>\n",
       "      <td>1.000000</td>\n",
       "      <td>129</td>\n",
       "      <td>8c495a298940b9c65f2a0cc50de8c793b53bf32f</td>\n",
       "      <td>cityNL78</td>\n",
       "      <td>NL</td>\n",
       "    </tr>\n",
       "  </tbody>\n",
       "</table>\n",
       "<p>5 rows × 28 columns</p>\n",
       "</div>"
      ],
      "text/plain": [
       "                             transaction_id  platform currency_x  value  \\\n",
       "0  35bb7157e9053b36f0938dfa56f3cda3e6859486         4        EUR    929   \n",
       "1  35bb7157e9053b36f0938dfa56f3cda3e6859486         4        EUR    929   \n",
       "2  1642d73673f52b6ccda8c77dba7c8fc3057f0364         4        PLN    170   \n",
       "3  991d175469984eab38f0f2e94efd6054ffad05f1         1        EUR    659   \n",
       "4  991d175469984eab38f0f2e94efd6054ffad05f1         1        EUR    659   \n",
       "\n",
       "   channel_id                              restaurantid country_x  \\\n",
       "0           2  fc353a5f53aa561f2b42e8b0b434b3098d49f6b7        NL   \n",
       "1           2  fc353a5f53aa561f2b42e8b0b434b3098d49f6b7        NL   \n",
       "2          10  3b27a771388fadc4ac4e4d0058fd69d93ae3cc49        PL   \n",
       "3          -1  5cedec4c0697593f27ffbefdc00ca6aba39c87b2        NL   \n",
       "4          -1  5cedec4c0697593f27ffbefdc00ca6aba39c87b2        NL   \n",
       "\n",
       "                             customercityid zipcode  \\\n",
       "0  58d9a3a6707f668c868262b569845bf52057a04d  ZZNL35   \n",
       "1  58d9a3a6707f668c868262b569845bf52057a04d  ZZNL35   \n",
       "2  a288f0322922bcb4f3f9367a8624ec2d0027b0ac  ZZPL03   \n",
       "3  8c495a298940b9c65f2a0cc50de8c793b53bf32f  ZZNL73   \n",
       "4  8c495a298940b9c65f2a0cc50de8c793b53bf32f  ZZNL73   \n",
       "\n",
       "                                 customerid  ... iso_code exponent is_crypto  \\\n",
       "0  cac7ccf2bb9edf47398a346294cbc7e202f1de5e  ...    978.0      2.0     False   \n",
       "1  cac7ccf2bb9edf47398a346294cbc7e202f1de5e  ...    978.0      2.0     False   \n",
       "2  7cfaa0c9ff9f849a42a638d4215dc5b9b7dfeead  ...    985.0      2.0     False   \n",
       "3  f0293eff477224152e9b5d8dc044a0212c613f61  ...    978.0      2.0     False   \n",
       "4  f0293eff477224152e9b5d8dc044a0212c613f61  ...    978.0      2.0     False   \n",
       "\n",
       "   base_ccy  ccy      rate  country_id  \\\n",
       "0       EUR  EUR  1.000000         128   \n",
       "1       EUR  EUR  1.000000         129   \n",
       "2       EUR  PLN  0.241057         118   \n",
       "3       EUR  EUR  1.000000         128   \n",
       "4       EUR  EUR  1.000000         129   \n",
       "\n",
       "                                    city_id      name  country_y  \n",
       "0  58d9a3a6707f668c868262b569845bf52057a04d  cityNL63         NL  \n",
       "1  58d9a3a6707f668c868262b569845bf52057a04d  cityNL63         NL  \n",
       "2  a288f0322922bcb4f3f9367a8624ec2d0027b0ac  cityPL23         PL  \n",
       "3  8c495a298940b9c65f2a0cc50de8c793b53bf32f  cityNL78         NL  \n",
       "4  8c495a298940b9c65f2a0cc50de8c793b53bf32f  cityNL78         NL  \n",
       "\n",
       "[5 rows x 28 columns]"
      ]
     },
     "execution_count": 24,
     "metadata": {},
     "output_type": "execute_result"
    }
   ],
   "source": [
    "df2.head()"
   ]
  },
  {
   "cell_type": "code",
   "execution_count": 25,
   "metadata": {},
   "outputs": [
    {
     "data": {
      "text/plain": [
       "transaction_id          object\n",
       "platform                 int64\n",
       "currency_x              object\n",
       "value                    int64\n",
       "channel_id               int64\n",
       "restaurantid            object\n",
       "country_x               object\n",
       "customercityid          object\n",
       "zipcode                 object\n",
       "customerid              object\n",
       "orderdatetime           object\n",
       "channel_name            object\n",
       "currency_y              object\n",
       "marketing_cost           int64\n",
       "operation_cost           int64\n",
       "administration_cost      int64\n",
       "commission_revenue       int64\n",
       "other_revenue            int64\n",
       "iso_code               float64\n",
       "exponent               float64\n",
       "is_crypto                 bool\n",
       "base_ccy                object\n",
       "ccy                     object\n",
       "rate                   float64\n",
       "country_id               int64\n",
       "city_id                 object\n",
       "name                    object\n",
       "country_y               object\n",
       "dtype: object"
      ]
     },
     "execution_count": 25,
     "metadata": {},
     "output_type": "execute_result"
    }
   ],
   "source": [
    "df2.dtypes"
   ]
  },
  {
   "cell_type": "code",
   "execution_count": 26,
   "metadata": {},
   "outputs": [],
   "source": [
    "df2.to_csv( \"2_transaction_data.csv\", sep=',', index=False, encoding='utf-8-sig')"
   ]
  },
  {
   "cell_type": "markdown",
   "metadata": {},
   "source": [
    "I've merged all relevant transaction data, and will proceed with the analysis and visualization in Tableau."
   ]
  },
  {
   "cell_type": "code",
   "execution_count": null,
   "metadata": {},
   "outputs": [],
   "source": []
  },
  {
   "cell_type": "code",
   "execution_count": null,
   "metadata": {},
   "outputs": [],
   "source": []
  },
  {
   "cell_type": "code",
   "execution_count": null,
   "metadata": {},
   "outputs": [],
   "source": []
  }
 ],
 "metadata": {
  "kernelspec": {
   "display_name": "Python 3",
   "language": "python",
   "name": "python3"
  },
  "language_info": {
   "codemirror_mode": {
    "name": "ipython",
    "version": 3
   },
   "file_extension": ".py",
   "mimetype": "text/x-python",
   "name": "python",
   "nbconvert_exporter": "python",
   "pygments_lexer": "ipython3",
   "version": "3.7.3"
  }
 },
 "nbformat": 4,
 "nbformat_minor": 2
}
