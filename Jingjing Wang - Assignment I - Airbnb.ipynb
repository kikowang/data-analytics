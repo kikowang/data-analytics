{
 "cells": [
  {
   "cell_type": "markdown",
   "metadata": {},
   "source": [
    "# Introduction\n",
    "\n",
    "Founded in San Francisco in 2008,  Airbnb is a for-profit peer-to-peer accommodation platform for listing and renting private residences with Airbnb charging service fees to both hosts and guests (Airbnb, 2019a.).It has grown rapidly and becomes a facilitator that competes against hotels for the market share. Glusac(2016) stated that more than 30 percent of leisure travelers use private sharing accommodation services such as Airbnb. What makes Airbnb so popular?  Earlier studies treated the social (guest-host) interactions as a core dimension of the Airbnb experience (Festila and Müller, 2017; Lampinen and Cheshire, 2016; Tussyadiah and Pesonen, 2016; Yannopoulou, 2013). However, Guttentag (2016) found that Airbnb users highly value practical attributes, and somewhat less so of its experiential attributes. \n",
    "\n",
    "Despite these various debates, commonly established dimensions for people’s motivations of choosing Airbnb housing are “economic benefits/cheaper price” (Guttentag and Smith, 2017; Young et al., 2017), “location” (Tussyadiah and Zach, 2016), “household amenities” (Guttentag, 2015), “cleanliness” (Bridges and Vásquez, 2016), “authentic experience/host-guest interaction” (Festila and Müller, 2017), and spending time in local neighbourhoods (Tussyadiah and Zach, 2016; Yannopoulou, 2013). Unlike the traditional hotels, the Airbnb hosts serve as both the service providers and consumers of Airbnb, and every one quarter of a year Airbnb would grant those highly rated hosts with a badge called ‘superhost’. According to Airbnb, superhosts are experienced hosts who are passionate about your trip memorable (Airbnb, 2019b). Superhosts will have more visibility, earning potential, and exclusive rewards. \n",
    "\n",
    "Therefore, to better understand what Airbnb hosts are expected of and what Airbnb guests value in their stay, this paper aims to shed light on the following questions: \n",
    "\n",
    "* **RQ1: What attributes of airbnb hosts are influencing his/her likelihood of becoming a superhost?**\n",
    "* **RQ2: What attributes of airbnb properties are influencing the review ratings?**"
   ]
  },
  {
   "cell_type": "markdown",
   "metadata": {},
   "source": [
    "# Hypotheses\n",
    "\n",
    "\n",
    "\n",
    "*Host*\n",
    "\n",
    "The quality of the accommodation service is highly dependent upon the host.A key characteristic of the Airbnb experience is its ability to offer an authentic tourist-host encounter that cannot be replicated in conventional hotels (Tussyadiah, 2016). Proserpio, Xu and Zervas (2018) found that Airbnb hosts that are more reciprocal receive higher ratings and that higher rated hosts can increase their prices. The study results by Cheng and Jin(2019) indicated that excellent ratings is, by far, the most important criterion for obtaining a superhost status, followed by reliable cancellation behavior of the host, host responsiveness, and sufficient Airbnb demand. \n",
    "\n",
    "These findings are all in line with the 4 requirements for Superhost explicitly announced by Airbnb(2019b) on its official website: A superhost must have 1) 4.8 or higher average overall rating from at least 50% of their guests in the past year; 2) hosted at least 10 stays in the past year; 3) no cancellations in the past year; 4) at least 90% response rate of new messages within 24 hours.\n",
    "\n",
    "However, Airbnb does not state any preference ranking concerning the four superhost criteria.Tehrefore, a closer look at the importance of each factor to superhost status is needed. As ratings and cancellation rate are not completely controllable by the hosts themselves, I’ll not discuss them in my study, but instead focus on more self-controllable factors like acceptance rate and responsiveness.Also, the superhost status is granted to people who have met the four aforementioned requirements in addition to having “an Airbnb account in good standing (Airbnb, 2019b).” I’ll add several variables that are also identified as important predictors for the superhost status: perceived helpfulness of the host (Cheng & Jin, 2019), total listings (Gunter, 2018), and verification status(Zhang, Yan & Zhang, 2018).Therefore I propose the following hypothesis:\n",
    "\n",
    "**H1:The response rate and time, acceptance rate, total listings, identitify verification status and perceived helfulness of the host influence one's chance of becoming a superhost on Airbnb.**\n",
    "\n",
    "\n",
    "\n",
    "*Property*\n",
    "\n",
    "A hospitable host alone is not a guarantee for an enjoyable Airbnb experience, the attributes and condition of the properties play an non-negligible impact people’s review ratings. \n",
    "First of all, economic considerations (e.g., price) are regarded as a strong motivation for Airbnb users. For example, Festila and Müller (2017) regard Airbnb as a hotellike experience at a relatively lower cost. In addition, privacy of the room (e.g., room type) is closely related to stay evaluations, especially the quality of sleep(Gunter, 2018). While shared room is often associated with noise, the guests of private rooms will not be disturbed by the hosts or people who stay together. Furthermore, the ease and flexibility of booking (e.g., instant bookability, availability) positively relate with user experience (Cheng & Jin, 2019). Besides, Yang et al. (2018) highlighted that reputation (e.g.,sentiment) is an influential factor in provider-receiver relationships which are common in sharing communities like Airbnb. Therefore, I propose the following hypothesis:\n",
    "\n",
    "**H2:The price, room type, instant bookability, availability and reputation of the properties influence the review ratings on airbnb.**\n"
   ]
  },
  {
   "cell_type": "markdown",
   "metadata": {},
   "source": [
    "# 1 Gathering Data\n",
    "\n",
    "\n",
    "## 1.1 Loading Original Data\n",
    "I'm using a public dataset online about the airbnb listings in Seattle,it's published by Airbnb on Kaggle. \n",
    "You can find it here: https://www.kaggle.com/airbnb/seattle#listings.csv "
   ]
  },
  {
   "cell_type": "code",
   "execution_count": 1,
   "metadata": {},
   "outputs": [],
   "source": [
    "import pandas as pd\n",
    "import numpy as np\n",
    "import seaborn as sns\n",
    "import matplotlib.pyplot as plt\n",
    "%matplotlib inline"
   ]
  },
  {
   "cell_type": "markdown",
   "metadata": {},
   "source": [
    "Loading the listings and reviews and check out the basic information"
   ]
  },
  {
   "cell_type": "code",
   "execution_count": 2,
   "metadata": {},
   "outputs": [],
   "source": [
    "listings = pd.read_csv('Jingjing Wang - airbnb_seattle_listings.csv')\n",
    "reviews = pd.read_csv('Jingjing Wang - airbnb_seattle_reviews.csv')"
   ]
  },
  {
   "cell_type": "code",
   "execution_count": 3,
   "metadata": {},
   "outputs": [
    {
     "data": {
      "text/plain": [
       "3818"
      ]
     },
     "execution_count": 3,
     "metadata": {},
     "output_type": "execute_result"
    }
   ],
   "source": [
    "len(listings)"
   ]
  },
  {
   "cell_type": "code",
   "execution_count": 4,
   "metadata": {},
   "outputs": [
    {
     "data": {
      "text/plain": [
       "id                                    int64\n",
       "listing_url                          object\n",
       "scrape_id                             int64\n",
       "last_scraped                         object\n",
       "name                                 object\n",
       "summary                              object\n",
       "space                                object\n",
       "description                          object\n",
       "experiences_offered                  object\n",
       "neighborhood_overview                object\n",
       "notes                                object\n",
       "transit                              object\n",
       "thumbnail_url                        object\n",
       "medium_url                           object\n",
       "picture_url                          object\n",
       "xl_picture_url                       object\n",
       "host_id                               int64\n",
       "host_url                             object\n",
       "host_name                            object\n",
       "host_since                           object\n",
       "host_location                        object\n",
       "host_about                           object\n",
       "host_response_time                   object\n",
       "host_response_rate                   object\n",
       "host_acceptance_rate                 object\n",
       "host_is_superhost                    object\n",
       "host_thumbnail_url                   object\n",
       "host_picture_url                     object\n",
       "host_neighbourhood                   object\n",
       "host_listings_count                 float64\n",
       "                                     ...   \n",
       "guests_included                       int64\n",
       "extra_people                         object\n",
       "minimum_nights                        int64\n",
       "maximum_nights                        int64\n",
       "calendar_updated                     object\n",
       "has_availability                     object\n",
       "availability_30                       int64\n",
       "availability_60                       int64\n",
       "availability_90                       int64\n",
       "availability_365                      int64\n",
       "calendar_last_scraped                object\n",
       "number_of_reviews                     int64\n",
       "first_review                         object\n",
       "last_review                          object\n",
       "review_scores_rating                float64\n",
       "review_scores_accuracy              float64\n",
       "review_scores_cleanliness           float64\n",
       "review_scores_checkin               float64\n",
       "review_scores_communication         float64\n",
       "review_scores_location              float64\n",
       "review_scores_value                 float64\n",
       "requires_license                     object\n",
       "license                             float64\n",
       "jurisdiction_names                   object\n",
       "instant_bookable                     object\n",
       "cancellation_policy                  object\n",
       "require_guest_profile_picture        object\n",
       "require_guest_phone_verification     object\n",
       "calculated_host_listings_count        int64\n",
       "reviews_per_month                   float64\n",
       "Length: 92, dtype: object"
      ]
     },
     "execution_count": 4,
     "metadata": {},
     "output_type": "execute_result"
    }
   ],
   "source": [
    "listings.dtypes"
   ]
  },
  {
   "cell_type": "code",
   "execution_count": 5,
   "metadata": {},
   "outputs": [
    {
     "data": {
      "text/plain": [
       "id                                     0\n",
       "listing_url                            0\n",
       "scrape_id                              0\n",
       "last_scraped                           0\n",
       "name                                   0\n",
       "summary                              177\n",
       "space                                569\n",
       "description                            0\n",
       "experiences_offered                    0\n",
       "neighborhood_overview               1032\n",
       "notes                               1606\n",
       "transit                              934\n",
       "thumbnail_url                        320\n",
       "medium_url                           320\n",
       "picture_url                            0\n",
       "xl_picture_url                       320\n",
       "host_id                                0\n",
       "host_url                               0\n",
       "host_name                              2\n",
       "host_since                             2\n",
       "host_location                          8\n",
       "host_about                           859\n",
       "host_response_time                   523\n",
       "host_response_rate                   523\n",
       "host_acceptance_rate                 773\n",
       "host_is_superhost                      2\n",
       "host_thumbnail_url                     2\n",
       "host_picture_url                       2\n",
       "host_neighbourhood                   300\n",
       "host_listings_count                    2\n",
       "                                    ... \n",
       "guests_included                        0\n",
       "extra_people                           0\n",
       "minimum_nights                         0\n",
       "maximum_nights                         0\n",
       "calendar_updated                       0\n",
       "has_availability                       0\n",
       "availability_30                        0\n",
       "availability_60                        0\n",
       "availability_90                        0\n",
       "availability_365                       0\n",
       "calendar_last_scraped                  0\n",
       "number_of_reviews                      0\n",
       "first_review                         627\n",
       "last_review                          627\n",
       "review_scores_rating                 647\n",
       "review_scores_accuracy               658\n",
       "review_scores_cleanliness            653\n",
       "review_scores_checkin                658\n",
       "review_scores_communication          651\n",
       "review_scores_location               655\n",
       "review_scores_value                  656\n",
       "requires_license                       0\n",
       "license                             3818\n",
       "jurisdiction_names                     0\n",
       "instant_bookable                       0\n",
       "cancellation_policy                    0\n",
       "require_guest_profile_picture          0\n",
       "require_guest_phone_verification       0\n",
       "calculated_host_listings_count         0\n",
       "reviews_per_month                    627\n",
       "Length: 92, dtype: int64"
      ]
     },
     "execution_count": 5,
     "metadata": {},
     "output_type": "execute_result"
    }
   ],
   "source": [
    "listings.isna().sum()"
   ]
  },
  {
   "cell_type": "code",
   "execution_count": 6,
   "metadata": {},
   "outputs": [
    {
     "data": {
      "text/plain": [
       "84849"
      ]
     },
     "execution_count": 6,
     "metadata": {},
     "output_type": "execute_result"
    }
   ],
   "source": [
    "len(reviews)"
   ]
  },
  {
   "cell_type": "code",
   "execution_count": 7,
   "metadata": {},
   "outputs": [
    {
     "data": {
      "text/plain": [
       "listing_id        int64\n",
       "id                int64\n",
       "date             object\n",
       "reviewer_id       int64\n",
       "reviewer_name    object\n",
       "comments         object\n",
       "dtype: object"
      ]
     },
     "execution_count": 7,
     "metadata": {},
     "output_type": "execute_result"
    }
   ],
   "source": [
    "reviews.dtypes"
   ]
  },
  {
   "cell_type": "code",
   "execution_count": 8,
   "metadata": {},
   "outputs": [
    {
     "data": {
      "text/plain": [
       "listing_id        0\n",
       "id                0\n",
       "date              0\n",
       "reviewer_id       0\n",
       "reviewer_name     0\n",
       "comments         18\n",
       "dtype: int64"
      ]
     },
     "execution_count": 8,
     "metadata": {},
     "output_type": "execute_result"
    }
   ],
   "source": [
    "reviews.isna().sum()"
   ]
  },
  {
   "cell_type": "code",
   "execution_count": 9,
   "metadata": {},
   "outputs": [
    {
     "data": {
      "text/html": [
       "<div>\n",
       "<style scoped>\n",
       "    .dataframe tbody tr th:only-of-type {\n",
       "        vertical-align: middle;\n",
       "    }\n",
       "\n",
       "    .dataframe tbody tr th {\n",
       "        vertical-align: top;\n",
       "    }\n",
       "\n",
       "    .dataframe thead th {\n",
       "        text-align: right;\n",
       "    }\n",
       "</style>\n",
       "<table border=\"1\" class=\"dataframe\">\n",
       "  <thead>\n",
       "    <tr style=\"text-align: right;\">\n",
       "      <th></th>\n",
       "      <th>id</th>\n",
       "      <th>listing_url</th>\n",
       "      <th>scrape_id</th>\n",
       "      <th>last_scraped</th>\n",
       "      <th>name</th>\n",
       "      <th>summary</th>\n",
       "      <th>space</th>\n",
       "      <th>description</th>\n",
       "      <th>experiences_offered</th>\n",
       "      <th>neighborhood_overview</th>\n",
       "      <th>...</th>\n",
       "      <th>review_scores_value</th>\n",
       "      <th>requires_license</th>\n",
       "      <th>license</th>\n",
       "      <th>jurisdiction_names</th>\n",
       "      <th>instant_bookable</th>\n",
       "      <th>cancellation_policy</th>\n",
       "      <th>require_guest_profile_picture</th>\n",
       "      <th>require_guest_phone_verification</th>\n",
       "      <th>calculated_host_listings_count</th>\n",
       "      <th>reviews_per_month</th>\n",
       "    </tr>\n",
       "  </thead>\n",
       "  <tbody>\n",
       "    <tr>\n",
       "      <th>0</th>\n",
       "      <td>241032</td>\n",
       "      <td>https://www.airbnb.com/rooms/241032</td>\n",
       "      <td>20160104002432</td>\n",
       "      <td>2016-01-04</td>\n",
       "      <td>Stylish Queen Anne Apartment</td>\n",
       "      <td>NaN</td>\n",
       "      <td>Make your self at home in this charming one-be...</td>\n",
       "      <td>Make your self at home in this charming one-be...</td>\n",
       "      <td>none</td>\n",
       "      <td>NaN</td>\n",
       "      <td>...</td>\n",
       "      <td>10.0</td>\n",
       "      <td>f</td>\n",
       "      <td>NaN</td>\n",
       "      <td>WASHINGTON</td>\n",
       "      <td>f</td>\n",
       "      <td>moderate</td>\n",
       "      <td>f</td>\n",
       "      <td>f</td>\n",
       "      <td>2</td>\n",
       "      <td>4.07</td>\n",
       "    </tr>\n",
       "    <tr>\n",
       "      <th>1</th>\n",
       "      <td>953595</td>\n",
       "      <td>https://www.airbnb.com/rooms/953595</td>\n",
       "      <td>20160104002432</td>\n",
       "      <td>2016-01-04</td>\n",
       "      <td>Bright &amp; Airy Queen Anne Apartment</td>\n",
       "      <td>Chemically sensitive? We've removed the irrita...</td>\n",
       "      <td>Beautiful, hypoallergenic apartment in an extr...</td>\n",
       "      <td>Chemically sensitive? We've removed the irrita...</td>\n",
       "      <td>none</td>\n",
       "      <td>Queen Anne is a wonderful, truly functional vi...</td>\n",
       "      <td>...</td>\n",
       "      <td>10.0</td>\n",
       "      <td>f</td>\n",
       "      <td>NaN</td>\n",
       "      <td>WASHINGTON</td>\n",
       "      <td>f</td>\n",
       "      <td>strict</td>\n",
       "      <td>t</td>\n",
       "      <td>t</td>\n",
       "      <td>6</td>\n",
       "      <td>1.48</td>\n",
       "    </tr>\n",
       "    <tr>\n",
       "      <th>2</th>\n",
       "      <td>3308979</td>\n",
       "      <td>https://www.airbnb.com/rooms/3308979</td>\n",
       "      <td>20160104002432</td>\n",
       "      <td>2016-01-04</td>\n",
       "      <td>New Modern House-Amazing water view</td>\n",
       "      <td>New modern house built in 2013.  Spectacular s...</td>\n",
       "      <td>Our house is modern, light and fresh with a wa...</td>\n",
       "      <td>New modern house built in 2013.  Spectacular s...</td>\n",
       "      <td>none</td>\n",
       "      <td>Upper Queen Anne is a charming neighborhood fu...</td>\n",
       "      <td>...</td>\n",
       "      <td>10.0</td>\n",
       "      <td>f</td>\n",
       "      <td>NaN</td>\n",
       "      <td>WASHINGTON</td>\n",
       "      <td>f</td>\n",
       "      <td>strict</td>\n",
       "      <td>f</td>\n",
       "      <td>f</td>\n",
       "      <td>2</td>\n",
       "      <td>1.15</td>\n",
       "    </tr>\n",
       "    <tr>\n",
       "      <th>3</th>\n",
       "      <td>7421966</td>\n",
       "      <td>https://www.airbnb.com/rooms/7421966</td>\n",
       "      <td>20160104002432</td>\n",
       "      <td>2016-01-04</td>\n",
       "      <td>Queen Anne Chateau</td>\n",
       "      <td>A charming apartment that sits atop Queen Anne...</td>\n",
       "      <td>NaN</td>\n",
       "      <td>A charming apartment that sits atop Queen Anne...</td>\n",
       "      <td>none</td>\n",
       "      <td>NaN</td>\n",
       "      <td>...</td>\n",
       "      <td>NaN</td>\n",
       "      <td>f</td>\n",
       "      <td>NaN</td>\n",
       "      <td>WASHINGTON</td>\n",
       "      <td>f</td>\n",
       "      <td>flexible</td>\n",
       "      <td>f</td>\n",
       "      <td>f</td>\n",
       "      <td>1</td>\n",
       "      <td>NaN</td>\n",
       "    </tr>\n",
       "    <tr>\n",
       "      <th>4</th>\n",
       "      <td>278830</td>\n",
       "      <td>https://www.airbnb.com/rooms/278830</td>\n",
       "      <td>20160104002432</td>\n",
       "      <td>2016-01-04</td>\n",
       "      <td>Charming craftsman 3 bdm house</td>\n",
       "      <td>Cozy family craftman house in beautiful neighb...</td>\n",
       "      <td>Cozy family craftman house in beautiful neighb...</td>\n",
       "      <td>Cozy family craftman house in beautiful neighb...</td>\n",
       "      <td>none</td>\n",
       "      <td>We are in the beautiful neighborhood of Queen ...</td>\n",
       "      <td>...</td>\n",
       "      <td>9.0</td>\n",
       "      <td>f</td>\n",
       "      <td>NaN</td>\n",
       "      <td>WASHINGTON</td>\n",
       "      <td>f</td>\n",
       "      <td>strict</td>\n",
       "      <td>f</td>\n",
       "      <td>f</td>\n",
       "      <td>1</td>\n",
       "      <td>0.89</td>\n",
       "    </tr>\n",
       "  </tbody>\n",
       "</table>\n",
       "<p>5 rows × 92 columns</p>\n",
       "</div>"
      ],
      "text/plain": [
       "        id                           listing_url       scrape_id last_scraped  \\\n",
       "0   241032   https://www.airbnb.com/rooms/241032  20160104002432   2016-01-04   \n",
       "1   953595   https://www.airbnb.com/rooms/953595  20160104002432   2016-01-04   \n",
       "2  3308979  https://www.airbnb.com/rooms/3308979  20160104002432   2016-01-04   \n",
       "3  7421966  https://www.airbnb.com/rooms/7421966  20160104002432   2016-01-04   \n",
       "4   278830   https://www.airbnb.com/rooms/278830  20160104002432   2016-01-04   \n",
       "\n",
       "                                  name  \\\n",
       "0         Stylish Queen Anne Apartment   \n",
       "1   Bright & Airy Queen Anne Apartment   \n",
       "2  New Modern House-Amazing water view   \n",
       "3                   Queen Anne Chateau   \n",
       "4       Charming craftsman 3 bdm house   \n",
       "\n",
       "                                             summary  \\\n",
       "0                                                NaN   \n",
       "1  Chemically sensitive? We've removed the irrita...   \n",
       "2  New modern house built in 2013.  Spectacular s...   \n",
       "3  A charming apartment that sits atop Queen Anne...   \n",
       "4  Cozy family craftman house in beautiful neighb...   \n",
       "\n",
       "                                               space  \\\n",
       "0  Make your self at home in this charming one-be...   \n",
       "1  Beautiful, hypoallergenic apartment in an extr...   \n",
       "2  Our house is modern, light and fresh with a wa...   \n",
       "3                                                NaN   \n",
       "4  Cozy family craftman house in beautiful neighb...   \n",
       "\n",
       "                                         description experiences_offered  \\\n",
       "0  Make your self at home in this charming one-be...                none   \n",
       "1  Chemically sensitive? We've removed the irrita...                none   \n",
       "2  New modern house built in 2013.  Spectacular s...                none   \n",
       "3  A charming apartment that sits atop Queen Anne...                none   \n",
       "4  Cozy family craftman house in beautiful neighb...                none   \n",
       "\n",
       "                               neighborhood_overview        ...         \\\n",
       "0                                                NaN        ...          \n",
       "1  Queen Anne is a wonderful, truly functional vi...        ...          \n",
       "2  Upper Queen Anne is a charming neighborhood fu...        ...          \n",
       "3                                                NaN        ...          \n",
       "4  We are in the beautiful neighborhood of Queen ...        ...          \n",
       "\n",
       "  review_scores_value requires_license license jurisdiction_names  \\\n",
       "0                10.0                f     NaN         WASHINGTON   \n",
       "1                10.0                f     NaN         WASHINGTON   \n",
       "2                10.0                f     NaN         WASHINGTON   \n",
       "3                 NaN                f     NaN         WASHINGTON   \n",
       "4                 9.0                f     NaN         WASHINGTON   \n",
       "\n",
       "  instant_bookable cancellation_policy  require_guest_profile_picture  \\\n",
       "0                f            moderate                              f   \n",
       "1                f              strict                              t   \n",
       "2                f              strict                              f   \n",
       "3                f            flexible                              f   \n",
       "4                f              strict                              f   \n",
       "\n",
       "  require_guest_phone_verification calculated_host_listings_count  \\\n",
       "0                                f                              2   \n",
       "1                                t                              6   \n",
       "2                                f                              2   \n",
       "3                                f                              1   \n",
       "4                                f                              1   \n",
       "\n",
       "  reviews_per_month  \n",
       "0              4.07  \n",
       "1              1.48  \n",
       "2              1.15  \n",
       "3               NaN  \n",
       "4              0.89  \n",
       "\n",
       "[5 rows x 92 columns]"
      ]
     },
     "execution_count": 9,
     "metadata": {},
     "output_type": "execute_result"
    }
   ],
   "source": [
    "listings.head()"
   ]
  },
  {
   "cell_type": "code",
   "execution_count": 10,
   "metadata": {},
   "outputs": [
    {
     "data": {
      "text/html": [
       "<div>\n",
       "<style scoped>\n",
       "    .dataframe tbody tr th:only-of-type {\n",
       "        vertical-align: middle;\n",
       "    }\n",
       "\n",
       "    .dataframe tbody tr th {\n",
       "        vertical-align: top;\n",
       "    }\n",
       "\n",
       "    .dataframe thead th {\n",
       "        text-align: right;\n",
       "    }\n",
       "</style>\n",
       "<table border=\"1\" class=\"dataframe\">\n",
       "  <thead>\n",
       "    <tr style=\"text-align: right;\">\n",
       "      <th></th>\n",
       "      <th>listing_id</th>\n",
       "      <th>id</th>\n",
       "      <th>date</th>\n",
       "      <th>reviewer_id</th>\n",
       "      <th>reviewer_name</th>\n",
       "      <th>comments</th>\n",
       "    </tr>\n",
       "  </thead>\n",
       "  <tbody>\n",
       "    <tr>\n",
       "      <th>0</th>\n",
       "      <td>7202016</td>\n",
       "      <td>38917982</td>\n",
       "      <td>2015-07-19</td>\n",
       "      <td>28943674</td>\n",
       "      <td>Bianca</td>\n",
       "      <td>Cute and cozy place. Perfect location to every...</td>\n",
       "    </tr>\n",
       "    <tr>\n",
       "      <th>1</th>\n",
       "      <td>7202016</td>\n",
       "      <td>39087409</td>\n",
       "      <td>2015-07-20</td>\n",
       "      <td>32440555</td>\n",
       "      <td>Frank</td>\n",
       "      <td>Kelly has a great room in a very central locat...</td>\n",
       "    </tr>\n",
       "    <tr>\n",
       "      <th>2</th>\n",
       "      <td>7202016</td>\n",
       "      <td>39820030</td>\n",
       "      <td>2015-07-26</td>\n",
       "      <td>37722850</td>\n",
       "      <td>Ian</td>\n",
       "      <td>Very spacious apartment, and in a great neighb...</td>\n",
       "    </tr>\n",
       "    <tr>\n",
       "      <th>3</th>\n",
       "      <td>7202016</td>\n",
       "      <td>40813543</td>\n",
       "      <td>2015-08-02</td>\n",
       "      <td>33671805</td>\n",
       "      <td>George</td>\n",
       "      <td>Close to Seattle Center and all it has to offe...</td>\n",
       "    </tr>\n",
       "    <tr>\n",
       "      <th>4</th>\n",
       "      <td>7202016</td>\n",
       "      <td>41986501</td>\n",
       "      <td>2015-08-10</td>\n",
       "      <td>34959538</td>\n",
       "      <td>Ming</td>\n",
       "      <td>Kelly was a great host and very accommodating ...</td>\n",
       "    </tr>\n",
       "  </tbody>\n",
       "</table>\n",
       "</div>"
      ],
      "text/plain": [
       "   listing_id        id        date  reviewer_id reviewer_name  \\\n",
       "0     7202016  38917982  2015-07-19     28943674        Bianca   \n",
       "1     7202016  39087409  2015-07-20     32440555         Frank   \n",
       "2     7202016  39820030  2015-07-26     37722850           Ian   \n",
       "3     7202016  40813543  2015-08-02     33671805        George   \n",
       "4     7202016  41986501  2015-08-10     34959538          Ming   \n",
       "\n",
       "                                            comments  \n",
       "0  Cute and cozy place. Perfect location to every...  \n",
       "1  Kelly has a great room in a very central locat...  \n",
       "2  Very spacious apartment, and in a great neighb...  \n",
       "3  Close to Seattle Center and all it has to offe...  \n",
       "4  Kelly was a great host and very accommodating ...  "
      ]
     },
     "execution_count": 10,
     "metadata": {},
     "output_type": "execute_result"
    }
   ],
   "source": [
    "reviews.head()"
   ]
  },
  {
   "cell_type": "markdown",
   "metadata": {},
   "source": [
    "## 1.2 Sentiment Analysis\n",
    "\n",
    "Becasue I'm going to do a sentiment analysis for the comments, I'm now preparing the file needed to request sentiment analysis.\n",
    "\n",
    "For sentiment analysis, we only need the \"listing_id\" and \"comments\"."
   ]
  },
  {
   "cell_type": "code",
   "execution_count": 11,
   "metadata": {},
   "outputs": [],
   "source": [
    "sentiment = reviews[['listing_id','comments']]"
   ]
  },
  {
   "cell_type": "code",
   "execution_count": 12,
   "metadata": {},
   "outputs": [
    {
     "data": {
      "text/plain": [
       "listing_id     int64\n",
       "comments      object\n",
       "dtype: object"
      ]
     },
     "execution_count": 12,
     "metadata": {},
     "output_type": "execute_result"
    }
   ],
   "source": [
    "sentiment.dtypes"
   ]
  },
  {
   "cell_type": "code",
   "execution_count": 13,
   "metadata": {
    "scrolled": true
   },
   "outputs": [
    {
     "data": {
      "text/plain": [
       "listing_id     0\n",
       "comments      18\n",
       "dtype: int64"
      ]
     },
     "execution_count": 13,
     "metadata": {},
     "output_type": "execute_result"
    }
   ],
   "source": [
    "sentiment.isna().sum()"
   ]
  },
  {
   "cell_type": "markdown",
   "metadata": {},
   "source": [
    "I renamed \"lisitng_id\" to \"id\", and \"comments\" into \"text\" as requested."
   ]
  },
  {
   "cell_type": "code",
   "execution_count": 14,
   "metadata": {},
   "outputs": [],
   "source": [
    "sentiment = sentiment.rename(columns = {'listing_id':'id','comments':'text'})"
   ]
  },
  {
   "cell_type": "code",
   "execution_count": 15,
   "metadata": {},
   "outputs": [
    {
     "data": {
      "text/html": [
       "<div>\n",
       "<style scoped>\n",
       "    .dataframe tbody tr th:only-of-type {\n",
       "        vertical-align: middle;\n",
       "    }\n",
       "\n",
       "    .dataframe tbody tr th {\n",
       "        vertical-align: top;\n",
       "    }\n",
       "\n",
       "    .dataframe thead th {\n",
       "        text-align: right;\n",
       "    }\n",
       "</style>\n",
       "<table border=\"1\" class=\"dataframe\">\n",
       "  <thead>\n",
       "    <tr style=\"text-align: right;\">\n",
       "      <th></th>\n",
       "      <th>id</th>\n",
       "      <th>text</th>\n",
       "    </tr>\n",
       "  </thead>\n",
       "  <tbody>\n",
       "    <tr>\n",
       "      <th>0</th>\n",
       "      <td>7202016</td>\n",
       "      <td>Cute and cozy place. Perfect location to every...</td>\n",
       "    </tr>\n",
       "    <tr>\n",
       "      <th>1</th>\n",
       "      <td>7202016</td>\n",
       "      <td>Kelly has a great room in a very central locat...</td>\n",
       "    </tr>\n",
       "    <tr>\n",
       "      <th>2</th>\n",
       "      <td>7202016</td>\n",
       "      <td>Very spacious apartment, and in a great neighb...</td>\n",
       "    </tr>\n",
       "    <tr>\n",
       "      <th>3</th>\n",
       "      <td>7202016</td>\n",
       "      <td>Close to Seattle Center and all it has to offe...</td>\n",
       "    </tr>\n",
       "    <tr>\n",
       "      <th>4</th>\n",
       "      <td>7202016</td>\n",
       "      <td>Kelly was a great host and very accommodating ...</td>\n",
       "    </tr>\n",
       "  </tbody>\n",
       "</table>\n",
       "</div>"
      ],
      "text/plain": [
       "        id                                               text\n",
       "0  7202016  Cute and cozy place. Perfect location to every...\n",
       "1  7202016  Kelly has a great room in a very central locat...\n",
       "2  7202016  Very spacious apartment, and in a great neighb...\n",
       "3  7202016  Close to Seattle Center and all it has to offe...\n",
       "4  7202016  Kelly was a great host and very accommodating ..."
      ]
     },
     "execution_count": 15,
     "metadata": {},
     "output_type": "execute_result"
    }
   ],
   "source": [
    "sentiment.head()"
   ]
  },
  {
   "cell_type": "code",
   "execution_count": 16,
   "metadata": {},
   "outputs": [],
   "source": [
    "sentiment.to_pickle('JingjingWang_Assignment1_EN.pkl')"
   ]
  },
  {
   "cell_type": "markdown",
   "metadata": {},
   "source": [
    "I submitted this pickle file to dropbox and waited for the results of sentiment analysis. \n",
    "Then I'm loading the sentiment analysis result."
   ]
  },
  {
   "cell_type": "code",
   "execution_count": 17,
   "metadata": {},
   "outputs": [],
   "source": [
    "sent = pd.read_pickle('Jingjing Wang - JingjingWang_Assignment1_EN_completed.pkl')"
   ]
  },
  {
   "cell_type": "code",
   "execution_count": 18,
   "metadata": {},
   "outputs": [
    {
     "data": {
      "text/plain": [
       "id           int64\n",
       "text        object\n",
       "negative    object\n",
       "positive    object\n",
       "neutral     object\n",
       "dtype: object"
      ]
     },
     "execution_count": 18,
     "metadata": {},
     "output_type": "execute_result"
    }
   ],
   "source": [
    "sent.dtypes"
   ]
  },
  {
   "cell_type": "code",
   "execution_count": 19,
   "metadata": {},
   "outputs": [
    {
     "data": {
      "text/plain": [
       "id            0\n",
       "text        645\n",
       "negative      0\n",
       "positive      0\n",
       "neutral       0\n",
       "dtype: int64"
      ]
     },
     "execution_count": 19,
     "metadata": {},
     "output_type": "execute_result"
    }
   ],
   "source": [
    "sent.isna().sum()"
   ]
  },
  {
   "cell_type": "code",
   "execution_count": 20,
   "metadata": {
    "scrolled": true
   },
   "outputs": [
    {
     "data": {
      "text/html": [
       "<div>\n",
       "<style scoped>\n",
       "    .dataframe tbody tr th:only-of-type {\n",
       "        vertical-align: middle;\n",
       "    }\n",
       "\n",
       "    .dataframe tbody tr th {\n",
       "        vertical-align: top;\n",
       "    }\n",
       "\n",
       "    .dataframe thead th {\n",
       "        text-align: right;\n",
       "    }\n",
       "</style>\n",
       "<table border=\"1\" class=\"dataframe\">\n",
       "  <thead>\n",
       "    <tr style=\"text-align: right;\">\n",
       "      <th></th>\n",
       "      <th>id</th>\n",
       "      <th>text</th>\n",
       "      <th>negative</th>\n",
       "      <th>positive</th>\n",
       "      <th>neutral</th>\n",
       "    </tr>\n",
       "  </thead>\n",
       "  <tbody>\n",
       "    <tr>\n",
       "      <th>0</th>\n",
       "      <td>241032</td>\n",
       "      <td>Excellent all the way around. \\r\\n\\r\\nMaija wa...</td>\n",
       "      <td>-1</td>\n",
       "      <td>4</td>\n",
       "      <td>1</td>\n",
       "    </tr>\n",
       "    <tr>\n",
       "      <th>1</th>\n",
       "      <td>241032</td>\n",
       "      <td>Maija's apartment was a wonderful place to sta...</td>\n",
       "      <td>-1</td>\n",
       "      <td>4</td>\n",
       "      <td>1</td>\n",
       "    </tr>\n",
       "    <tr>\n",
       "      <th>2</th>\n",
       "      <td>241032</td>\n",
       "      <td>one of the most pleasant stays i've had in my ...</td>\n",
       "      <td>-1</td>\n",
       "      <td>4</td>\n",
       "      <td>1</td>\n",
       "    </tr>\n",
       "    <tr>\n",
       "      <th>3</th>\n",
       "      <td>241032</td>\n",
       "      <td>Maija's suite is beautiful, cozy and convenien...</td>\n",
       "      <td>-1</td>\n",
       "      <td>4</td>\n",
       "      <td>1</td>\n",
       "    </tr>\n",
       "    <tr>\n",
       "      <th>4</th>\n",
       "      <td>241032</td>\n",
       "      <td>Our stay was short and pleasant. With its own ...</td>\n",
       "      <td>-1</td>\n",
       "      <td>3</td>\n",
       "      <td>1</td>\n",
       "    </tr>\n",
       "  </tbody>\n",
       "</table>\n",
       "</div>"
      ],
      "text/plain": [
       "       id                                               text negative  \\\n",
       "0  241032  Excellent all the way around. \\r\\n\\r\\nMaija wa...       -1   \n",
       "1  241032  Maija's apartment was a wonderful place to sta...       -1   \n",
       "2  241032  one of the most pleasant stays i've had in my ...       -1   \n",
       "3  241032  Maija's suite is beautiful, cozy and convenien...       -1   \n",
       "4  241032  Our stay was short and pleasant. With its own ...       -1   \n",
       "\n",
       "  positive neutral  \n",
       "0        4       1  \n",
       "1        4       1  \n",
       "2        4       1  \n",
       "3        4       1  \n",
       "4        3       1  "
      ]
     },
     "execution_count": 20,
     "metadata": {},
     "output_type": "execute_result"
    }
   ],
   "source": [
    "sent.head()"
   ]
  },
  {
   "cell_type": "markdown",
   "metadata": {},
   "source": [
    "Before calculating the overall sentiment, I transffered  \"positive\", \"negative\", and \"neutral\"  into numeric variables."
   ]
  },
  {
   "cell_type": "code",
   "execution_count": 21,
   "metadata": {},
   "outputs": [],
   "source": [
    "sent['positive'] = sent['positive'].apply(pd.to_numeric)\n",
    "sent['negative'] = sent['negative'].apply(pd.to_numeric)\n",
    "sent['neutral'] = sent['neutral'].apply(pd.to_numeric)"
   ]
  },
  {
   "cell_type": "markdown",
   "metadata": {},
   "source": [
    "Then I created a separate column for overall sentiment."
   ]
  },
  {
   "cell_type": "code",
   "execution_count": 22,
   "metadata": {},
   "outputs": [],
   "source": [
    "sent['overall_sentiment'] = sent['positive'] + sent['negative']"
   ]
  },
  {
   "cell_type": "code",
   "execution_count": 23,
   "metadata": {},
   "outputs": [
    {
     "data": {
      "text/html": [
       "<div>\n",
       "<style scoped>\n",
       "    .dataframe tbody tr th:only-of-type {\n",
       "        vertical-align: middle;\n",
       "    }\n",
       "\n",
       "    .dataframe tbody tr th {\n",
       "        vertical-align: top;\n",
       "    }\n",
       "\n",
       "    .dataframe thead th {\n",
       "        text-align: right;\n",
       "    }\n",
       "</style>\n",
       "<table border=\"1\" class=\"dataframe\">\n",
       "  <thead>\n",
       "    <tr style=\"text-align: right;\">\n",
       "      <th></th>\n",
       "      <th>id</th>\n",
       "      <th>text</th>\n",
       "      <th>negative</th>\n",
       "      <th>positive</th>\n",
       "      <th>neutral</th>\n",
       "      <th>overall_sentiment</th>\n",
       "    </tr>\n",
       "  </thead>\n",
       "  <tbody>\n",
       "    <tr>\n",
       "      <th>0</th>\n",
       "      <td>241032</td>\n",
       "      <td>Excellent all the way around. \\r\\n\\r\\nMaija wa...</td>\n",
       "      <td>-1</td>\n",
       "      <td>4</td>\n",
       "      <td>1</td>\n",
       "      <td>3</td>\n",
       "    </tr>\n",
       "    <tr>\n",
       "      <th>1</th>\n",
       "      <td>241032</td>\n",
       "      <td>Maija's apartment was a wonderful place to sta...</td>\n",
       "      <td>-1</td>\n",
       "      <td>4</td>\n",
       "      <td>1</td>\n",
       "      <td>3</td>\n",
       "    </tr>\n",
       "    <tr>\n",
       "      <th>2</th>\n",
       "      <td>241032</td>\n",
       "      <td>one of the most pleasant stays i've had in my ...</td>\n",
       "      <td>-1</td>\n",
       "      <td>4</td>\n",
       "      <td>1</td>\n",
       "      <td>3</td>\n",
       "    </tr>\n",
       "    <tr>\n",
       "      <th>3</th>\n",
       "      <td>241032</td>\n",
       "      <td>Maija's suite is beautiful, cozy and convenien...</td>\n",
       "      <td>-1</td>\n",
       "      <td>4</td>\n",
       "      <td>1</td>\n",
       "      <td>3</td>\n",
       "    </tr>\n",
       "    <tr>\n",
       "      <th>4</th>\n",
       "      <td>241032</td>\n",
       "      <td>Our stay was short and pleasant. With its own ...</td>\n",
       "      <td>-1</td>\n",
       "      <td>3</td>\n",
       "      <td>1</td>\n",
       "      <td>2</td>\n",
       "    </tr>\n",
       "  </tbody>\n",
       "</table>\n",
       "</div>"
      ],
      "text/plain": [
       "       id                                               text  negative  \\\n",
       "0  241032  Excellent all the way around. \\r\\n\\r\\nMaija wa...        -1   \n",
       "1  241032  Maija's apartment was a wonderful place to sta...        -1   \n",
       "2  241032  one of the most pleasant stays i've had in my ...        -1   \n",
       "3  241032  Maija's suite is beautiful, cozy and convenien...        -1   \n",
       "4  241032  Our stay was short and pleasant. With its own ...        -1   \n",
       "\n",
       "   positive  neutral  overall_sentiment  \n",
       "0         4        1                  3  \n",
       "1         4        1                  3  \n",
       "2         4        1                  3  \n",
       "3         4        1                  3  \n",
       "4         3        1                  2  "
      ]
     },
     "execution_count": 23,
     "metadata": {},
     "output_type": "execute_result"
    }
   ],
   "source": [
    "sent.head()"
   ]
  },
  {
   "cell_type": "code",
   "execution_count": 24,
   "metadata": {
    "scrolled": true
   },
   "outputs": [
    {
     "data": {
      "text/plain": [
       "count    85476.000000\n",
       "mean         2.082760\n",
       "std          1.072982\n",
       "min         -4.000000\n",
       "25%          2.000000\n",
       "50%          2.000000\n",
       "75%          3.000000\n",
       "max          4.000000\n",
       "Name: overall_sentiment, dtype: float64"
      ]
     },
     "execution_count": 24,
     "metadata": {},
     "output_type": "execute_result"
    }
   ],
   "source": [
    "sent['overall_sentiment'].describe()"
   ]
  },
  {
   "cell_type": "markdown",
   "metadata": {},
   "source": [
    "Due to GDPR considerations, I merged the sentiment analysis with listings directly without merging with reviews first.The origianl reviews include sensitive personal data such as user id and user name, which are not relevant for my assignment."
   ]
  },
  {
   "cell_type": "code",
   "execution_count": 25,
   "metadata": {},
   "outputs": [],
   "source": [
    "listings_with_reviews = listings.merge(sent, on='id', how = 'left')"
   ]
  },
  {
   "cell_type": "code",
   "execution_count": 26,
   "metadata": {
    "scrolled": true
   },
   "outputs": [
    {
     "data": {
      "text/html": [
       "<div>\n",
       "<style scoped>\n",
       "    .dataframe tbody tr th:only-of-type {\n",
       "        vertical-align: middle;\n",
       "    }\n",
       "\n",
       "    .dataframe tbody tr th {\n",
       "        vertical-align: top;\n",
       "    }\n",
       "\n",
       "    .dataframe thead th {\n",
       "        text-align: right;\n",
       "    }\n",
       "</style>\n",
       "<table border=\"1\" class=\"dataframe\">\n",
       "  <thead>\n",
       "    <tr style=\"text-align: right;\">\n",
       "      <th></th>\n",
       "      <th>id</th>\n",
       "      <th>listing_url</th>\n",
       "      <th>scrape_id</th>\n",
       "      <th>last_scraped</th>\n",
       "      <th>name</th>\n",
       "      <th>summary</th>\n",
       "      <th>space</th>\n",
       "      <th>description</th>\n",
       "      <th>experiences_offered</th>\n",
       "      <th>neighborhood_overview</th>\n",
       "      <th>...</th>\n",
       "      <th>cancellation_policy</th>\n",
       "      <th>require_guest_profile_picture</th>\n",
       "      <th>require_guest_phone_verification</th>\n",
       "      <th>calculated_host_listings_count</th>\n",
       "      <th>reviews_per_month</th>\n",
       "      <th>text</th>\n",
       "      <th>negative</th>\n",
       "      <th>positive</th>\n",
       "      <th>neutral</th>\n",
       "      <th>overall_sentiment</th>\n",
       "    </tr>\n",
       "  </thead>\n",
       "  <tbody>\n",
       "    <tr>\n",
       "      <th>0</th>\n",
       "      <td>241032</td>\n",
       "      <td>https://www.airbnb.com/rooms/241032</td>\n",
       "      <td>20160104002432</td>\n",
       "      <td>2016-01-04</td>\n",
       "      <td>Stylish Queen Anne Apartment</td>\n",
       "      <td>NaN</td>\n",
       "      <td>Make your self at home in this charming one-be...</td>\n",
       "      <td>Make your self at home in this charming one-be...</td>\n",
       "      <td>none</td>\n",
       "      <td>NaN</td>\n",
       "      <td>...</td>\n",
       "      <td>moderate</td>\n",
       "      <td>f</td>\n",
       "      <td>f</td>\n",
       "      <td>2</td>\n",
       "      <td>4.07</td>\n",
       "      <td>Excellent all the way around. \\r\\n\\r\\nMaija wa...</td>\n",
       "      <td>-1</td>\n",
       "      <td>4</td>\n",
       "      <td>1</td>\n",
       "      <td>3</td>\n",
       "    </tr>\n",
       "    <tr>\n",
       "      <th>1</th>\n",
       "      <td>241032</td>\n",
       "      <td>https://www.airbnb.com/rooms/241032</td>\n",
       "      <td>20160104002432</td>\n",
       "      <td>2016-01-04</td>\n",
       "      <td>Stylish Queen Anne Apartment</td>\n",
       "      <td>NaN</td>\n",
       "      <td>Make your self at home in this charming one-be...</td>\n",
       "      <td>Make your self at home in this charming one-be...</td>\n",
       "      <td>none</td>\n",
       "      <td>NaN</td>\n",
       "      <td>...</td>\n",
       "      <td>moderate</td>\n",
       "      <td>f</td>\n",
       "      <td>f</td>\n",
       "      <td>2</td>\n",
       "      <td>4.07</td>\n",
       "      <td>Maija's apartment was a wonderful place to sta...</td>\n",
       "      <td>-1</td>\n",
       "      <td>4</td>\n",
       "      <td>1</td>\n",
       "      <td>3</td>\n",
       "    </tr>\n",
       "    <tr>\n",
       "      <th>2</th>\n",
       "      <td>241032</td>\n",
       "      <td>https://www.airbnb.com/rooms/241032</td>\n",
       "      <td>20160104002432</td>\n",
       "      <td>2016-01-04</td>\n",
       "      <td>Stylish Queen Anne Apartment</td>\n",
       "      <td>NaN</td>\n",
       "      <td>Make your self at home in this charming one-be...</td>\n",
       "      <td>Make your self at home in this charming one-be...</td>\n",
       "      <td>none</td>\n",
       "      <td>NaN</td>\n",
       "      <td>...</td>\n",
       "      <td>moderate</td>\n",
       "      <td>f</td>\n",
       "      <td>f</td>\n",
       "      <td>2</td>\n",
       "      <td>4.07</td>\n",
       "      <td>one of the most pleasant stays i've had in my ...</td>\n",
       "      <td>-1</td>\n",
       "      <td>4</td>\n",
       "      <td>1</td>\n",
       "      <td>3</td>\n",
       "    </tr>\n",
       "    <tr>\n",
       "      <th>3</th>\n",
       "      <td>241032</td>\n",
       "      <td>https://www.airbnb.com/rooms/241032</td>\n",
       "      <td>20160104002432</td>\n",
       "      <td>2016-01-04</td>\n",
       "      <td>Stylish Queen Anne Apartment</td>\n",
       "      <td>NaN</td>\n",
       "      <td>Make your self at home in this charming one-be...</td>\n",
       "      <td>Make your self at home in this charming one-be...</td>\n",
       "      <td>none</td>\n",
       "      <td>NaN</td>\n",
       "      <td>...</td>\n",
       "      <td>moderate</td>\n",
       "      <td>f</td>\n",
       "      <td>f</td>\n",
       "      <td>2</td>\n",
       "      <td>4.07</td>\n",
       "      <td>Maija's suite is beautiful, cozy and convenien...</td>\n",
       "      <td>-1</td>\n",
       "      <td>4</td>\n",
       "      <td>1</td>\n",
       "      <td>3</td>\n",
       "    </tr>\n",
       "    <tr>\n",
       "      <th>4</th>\n",
       "      <td>241032</td>\n",
       "      <td>https://www.airbnb.com/rooms/241032</td>\n",
       "      <td>20160104002432</td>\n",
       "      <td>2016-01-04</td>\n",
       "      <td>Stylish Queen Anne Apartment</td>\n",
       "      <td>NaN</td>\n",
       "      <td>Make your self at home in this charming one-be...</td>\n",
       "      <td>Make your self at home in this charming one-be...</td>\n",
       "      <td>none</td>\n",
       "      <td>NaN</td>\n",
       "      <td>...</td>\n",
       "      <td>moderate</td>\n",
       "      <td>f</td>\n",
       "      <td>f</td>\n",
       "      <td>2</td>\n",
       "      <td>4.07</td>\n",
       "      <td>Our stay was short and pleasant. With its own ...</td>\n",
       "      <td>-1</td>\n",
       "      <td>3</td>\n",
       "      <td>1</td>\n",
       "      <td>2</td>\n",
       "    </tr>\n",
       "  </tbody>\n",
       "</table>\n",
       "<p>5 rows × 97 columns</p>\n",
       "</div>"
      ],
      "text/plain": [
       "       id                          listing_url       scrape_id last_scraped  \\\n",
       "0  241032  https://www.airbnb.com/rooms/241032  20160104002432   2016-01-04   \n",
       "1  241032  https://www.airbnb.com/rooms/241032  20160104002432   2016-01-04   \n",
       "2  241032  https://www.airbnb.com/rooms/241032  20160104002432   2016-01-04   \n",
       "3  241032  https://www.airbnb.com/rooms/241032  20160104002432   2016-01-04   \n",
       "4  241032  https://www.airbnb.com/rooms/241032  20160104002432   2016-01-04   \n",
       "\n",
       "                           name summary  \\\n",
       "0  Stylish Queen Anne Apartment     NaN   \n",
       "1  Stylish Queen Anne Apartment     NaN   \n",
       "2  Stylish Queen Anne Apartment     NaN   \n",
       "3  Stylish Queen Anne Apartment     NaN   \n",
       "4  Stylish Queen Anne Apartment     NaN   \n",
       "\n",
       "                                               space  \\\n",
       "0  Make your self at home in this charming one-be...   \n",
       "1  Make your self at home in this charming one-be...   \n",
       "2  Make your self at home in this charming one-be...   \n",
       "3  Make your self at home in this charming one-be...   \n",
       "4  Make your self at home in this charming one-be...   \n",
       "\n",
       "                                         description experiences_offered  \\\n",
       "0  Make your self at home in this charming one-be...                none   \n",
       "1  Make your self at home in this charming one-be...                none   \n",
       "2  Make your self at home in this charming one-be...                none   \n",
       "3  Make your self at home in this charming one-be...                none   \n",
       "4  Make your self at home in this charming one-be...                none   \n",
       "\n",
       "  neighborhood_overview        ...        cancellation_policy  \\\n",
       "0                   NaN        ...                   moderate   \n",
       "1                   NaN        ...                   moderate   \n",
       "2                   NaN        ...                   moderate   \n",
       "3                   NaN        ...                   moderate   \n",
       "4                   NaN        ...                   moderate   \n",
       "\n",
       "  require_guest_profile_picture require_guest_phone_verification  \\\n",
       "0                             f                                f   \n",
       "1                             f                                f   \n",
       "2                             f                                f   \n",
       "3                             f                                f   \n",
       "4                             f                                f   \n",
       "\n",
       "  calculated_host_listings_count reviews_per_month  \\\n",
       "0                              2              4.07   \n",
       "1                              2              4.07   \n",
       "2                              2              4.07   \n",
       "3                              2              4.07   \n",
       "4                              2              4.07   \n",
       "\n",
       "                                                text  negative positive  \\\n",
       "0  Excellent all the way around. \\r\\n\\r\\nMaija wa...        -1        4   \n",
       "1  Maija's apartment was a wonderful place to sta...        -1        4   \n",
       "2  one of the most pleasant stays i've had in my ...        -1        4   \n",
       "3  Maija's suite is beautiful, cozy and convenien...        -1        4   \n",
       "4  Our stay was short and pleasant. With its own ...        -1        3   \n",
       "\n",
       "  neutral overall_sentiment  \n",
       "0       1                 3  \n",
       "1       1                 3  \n",
       "2       1                 3  \n",
       "3       1                 3  \n",
       "4       1                 2  \n",
       "\n",
       "[5 rows x 97 columns]"
      ]
     },
     "execution_count": 26,
     "metadata": {},
     "output_type": "execute_result"
    }
   ],
   "source": [
    "listings_with_reviews.head()"
   ]
  },
  {
   "cell_type": "markdown",
   "metadata": {},
   "source": [
    "As of now, I've got a complete file with all the listings information and the corresponding sentiment, I would then do some data cleaning based on my hypothesis."
   ]
  },
  {
   "cell_type": "markdown",
   "metadata": {},
   "source": [
    "# 2. Data Cleaning\n",
    "\n",
    "\n",
    "## 2.1 Perceived helpfulness\n",
    "\n",
    "Because I'm curious about whether the perceived helpfulness of the host, I'll create a function to detect whether people perceive the host as helpful."
   ]
  },
  {
   "cell_type": "code",
   "execution_count": 27,
   "metadata": {},
   "outputs": [],
   "source": [
    "def word_present(text, query):\n",
    "    import re\n",
    "    text = str(text).lower()\n",
    "    query = str(query).lower()\n",
    "    \n",
    "    tokens = re.findall(r\"[\\w']+|[.,!?;$@#]\", text)\n",
    "    if query in tokens:\n",
    "        return 1\n",
    "    return 0"
   ]
  },
  {
   "cell_type": "markdown",
   "metadata": {},
   "source": [
    "Here I want to find out all the reviews that mentioned \"helpful\"."
   ]
  },
  {
   "cell_type": "code",
   "execution_count": 28,
   "metadata": {
    "scrolled": true
   },
   "outputs": [],
   "source": [
    "listings_with_reviews['helpfulness'] = listings_with_reviews['text'].apply(word_present, args=('helpful',))"
   ]
  },
  {
   "cell_type": "markdown",
   "metadata": {},
   "source": [
    "There is a limitaion to this function that is it also included reviews mentioning \"not helpful\" as the word \"helpful\" is present there.\n",
    "I'll further improve the selection by adding another requirement, that is the sentiment has to be positive too."
   ]
  },
  {
   "cell_type": "code",
   "execution_count": 29,
   "metadata": {},
   "outputs": [],
   "source": [
    "def categorise_df(row):\n",
    "    if (row['overall_sentiment'] > 0) and (row['helpfulness'] == 1):\n",
    "        return 1\n",
    "    return 0"
   ]
  },
  {
   "cell_type": "code",
   "execution_count": 30,
   "metadata": {},
   "outputs": [],
   "source": [
    "listings_with_reviews['helpful'] = listings_with_reviews.apply(categorise_df, axis=1) "
   ]
  },
  {
   "cell_type": "code",
   "execution_count": 31,
   "metadata": {},
   "outputs": [
    {
     "data": {
      "text/html": [
       "<div>\n",
       "<style scoped>\n",
       "    .dataframe tbody tr th:only-of-type {\n",
       "        vertical-align: middle;\n",
       "    }\n",
       "\n",
       "    .dataframe tbody tr th {\n",
       "        vertical-align: top;\n",
       "    }\n",
       "\n",
       "    .dataframe thead th {\n",
       "        text-align: right;\n",
       "    }\n",
       "</style>\n",
       "<table border=\"1\" class=\"dataframe\">\n",
       "  <thead>\n",
       "    <tr style=\"text-align: right;\">\n",
       "      <th></th>\n",
       "      <th>id</th>\n",
       "      <th>listing_url</th>\n",
       "      <th>scrape_id</th>\n",
       "      <th>last_scraped</th>\n",
       "      <th>name</th>\n",
       "      <th>summary</th>\n",
       "      <th>space</th>\n",
       "      <th>description</th>\n",
       "      <th>experiences_offered</th>\n",
       "      <th>neighborhood_overview</th>\n",
       "      <th>...</th>\n",
       "      <th>require_guest_phone_verification</th>\n",
       "      <th>calculated_host_listings_count</th>\n",
       "      <th>reviews_per_month</th>\n",
       "      <th>text</th>\n",
       "      <th>negative</th>\n",
       "      <th>positive</th>\n",
       "      <th>neutral</th>\n",
       "      <th>overall_sentiment</th>\n",
       "      <th>helpfulness</th>\n",
       "      <th>helpful</th>\n",
       "    </tr>\n",
       "  </thead>\n",
       "  <tbody>\n",
       "    <tr>\n",
       "      <th>0</th>\n",
       "      <td>241032</td>\n",
       "      <td>https://www.airbnb.com/rooms/241032</td>\n",
       "      <td>20160104002432</td>\n",
       "      <td>2016-01-04</td>\n",
       "      <td>Stylish Queen Anne Apartment</td>\n",
       "      <td>NaN</td>\n",
       "      <td>Make your self at home in this charming one-be...</td>\n",
       "      <td>Make your self at home in this charming one-be...</td>\n",
       "      <td>none</td>\n",
       "      <td>NaN</td>\n",
       "      <td>...</td>\n",
       "      <td>f</td>\n",
       "      <td>2</td>\n",
       "      <td>4.07</td>\n",
       "      <td>Excellent all the way around. \\r\\n\\r\\nMaija wa...</td>\n",
       "      <td>-1</td>\n",
       "      <td>4</td>\n",
       "      <td>1</td>\n",
       "      <td>3</td>\n",
       "      <td>0</td>\n",
       "      <td>0</td>\n",
       "    </tr>\n",
       "    <tr>\n",
       "      <th>1</th>\n",
       "      <td>241032</td>\n",
       "      <td>https://www.airbnb.com/rooms/241032</td>\n",
       "      <td>20160104002432</td>\n",
       "      <td>2016-01-04</td>\n",
       "      <td>Stylish Queen Anne Apartment</td>\n",
       "      <td>NaN</td>\n",
       "      <td>Make your self at home in this charming one-be...</td>\n",
       "      <td>Make your self at home in this charming one-be...</td>\n",
       "      <td>none</td>\n",
       "      <td>NaN</td>\n",
       "      <td>...</td>\n",
       "      <td>f</td>\n",
       "      <td>2</td>\n",
       "      <td>4.07</td>\n",
       "      <td>Maija's apartment was a wonderful place to sta...</td>\n",
       "      <td>-1</td>\n",
       "      <td>4</td>\n",
       "      <td>1</td>\n",
       "      <td>3</td>\n",
       "      <td>0</td>\n",
       "      <td>0</td>\n",
       "    </tr>\n",
       "    <tr>\n",
       "      <th>2</th>\n",
       "      <td>241032</td>\n",
       "      <td>https://www.airbnb.com/rooms/241032</td>\n",
       "      <td>20160104002432</td>\n",
       "      <td>2016-01-04</td>\n",
       "      <td>Stylish Queen Anne Apartment</td>\n",
       "      <td>NaN</td>\n",
       "      <td>Make your self at home in this charming one-be...</td>\n",
       "      <td>Make your self at home in this charming one-be...</td>\n",
       "      <td>none</td>\n",
       "      <td>NaN</td>\n",
       "      <td>...</td>\n",
       "      <td>f</td>\n",
       "      <td>2</td>\n",
       "      <td>4.07</td>\n",
       "      <td>one of the most pleasant stays i've had in my ...</td>\n",
       "      <td>-1</td>\n",
       "      <td>4</td>\n",
       "      <td>1</td>\n",
       "      <td>3</td>\n",
       "      <td>0</td>\n",
       "      <td>0</td>\n",
       "    </tr>\n",
       "    <tr>\n",
       "      <th>3</th>\n",
       "      <td>241032</td>\n",
       "      <td>https://www.airbnb.com/rooms/241032</td>\n",
       "      <td>20160104002432</td>\n",
       "      <td>2016-01-04</td>\n",
       "      <td>Stylish Queen Anne Apartment</td>\n",
       "      <td>NaN</td>\n",
       "      <td>Make your self at home in this charming one-be...</td>\n",
       "      <td>Make your self at home in this charming one-be...</td>\n",
       "      <td>none</td>\n",
       "      <td>NaN</td>\n",
       "      <td>...</td>\n",
       "      <td>f</td>\n",
       "      <td>2</td>\n",
       "      <td>4.07</td>\n",
       "      <td>Maija's suite is beautiful, cozy and convenien...</td>\n",
       "      <td>-1</td>\n",
       "      <td>4</td>\n",
       "      <td>1</td>\n",
       "      <td>3</td>\n",
       "      <td>0</td>\n",
       "      <td>0</td>\n",
       "    </tr>\n",
       "    <tr>\n",
       "      <th>4</th>\n",
       "      <td>241032</td>\n",
       "      <td>https://www.airbnb.com/rooms/241032</td>\n",
       "      <td>20160104002432</td>\n",
       "      <td>2016-01-04</td>\n",
       "      <td>Stylish Queen Anne Apartment</td>\n",
       "      <td>NaN</td>\n",
       "      <td>Make your self at home in this charming one-be...</td>\n",
       "      <td>Make your self at home in this charming one-be...</td>\n",
       "      <td>none</td>\n",
       "      <td>NaN</td>\n",
       "      <td>...</td>\n",
       "      <td>f</td>\n",
       "      <td>2</td>\n",
       "      <td>4.07</td>\n",
       "      <td>Our stay was short and pleasant. With its own ...</td>\n",
       "      <td>-1</td>\n",
       "      <td>3</td>\n",
       "      <td>1</td>\n",
       "      <td>2</td>\n",
       "      <td>0</td>\n",
       "      <td>0</td>\n",
       "    </tr>\n",
       "  </tbody>\n",
       "</table>\n",
       "<p>5 rows × 99 columns</p>\n",
       "</div>"
      ],
      "text/plain": [
       "       id                          listing_url       scrape_id last_scraped  \\\n",
       "0  241032  https://www.airbnb.com/rooms/241032  20160104002432   2016-01-04   \n",
       "1  241032  https://www.airbnb.com/rooms/241032  20160104002432   2016-01-04   \n",
       "2  241032  https://www.airbnb.com/rooms/241032  20160104002432   2016-01-04   \n",
       "3  241032  https://www.airbnb.com/rooms/241032  20160104002432   2016-01-04   \n",
       "4  241032  https://www.airbnb.com/rooms/241032  20160104002432   2016-01-04   \n",
       "\n",
       "                           name summary  \\\n",
       "0  Stylish Queen Anne Apartment     NaN   \n",
       "1  Stylish Queen Anne Apartment     NaN   \n",
       "2  Stylish Queen Anne Apartment     NaN   \n",
       "3  Stylish Queen Anne Apartment     NaN   \n",
       "4  Stylish Queen Anne Apartment     NaN   \n",
       "\n",
       "                                               space  \\\n",
       "0  Make your self at home in this charming one-be...   \n",
       "1  Make your self at home in this charming one-be...   \n",
       "2  Make your self at home in this charming one-be...   \n",
       "3  Make your self at home in this charming one-be...   \n",
       "4  Make your self at home in this charming one-be...   \n",
       "\n",
       "                                         description experiences_offered  \\\n",
       "0  Make your self at home in this charming one-be...                none   \n",
       "1  Make your self at home in this charming one-be...                none   \n",
       "2  Make your self at home in this charming one-be...                none   \n",
       "3  Make your self at home in this charming one-be...                none   \n",
       "4  Make your self at home in this charming one-be...                none   \n",
       "\n",
       "  neighborhood_overview   ...   require_guest_phone_verification  \\\n",
       "0                   NaN   ...                                  f   \n",
       "1                   NaN   ...                                  f   \n",
       "2                   NaN   ...                                  f   \n",
       "3                   NaN   ...                                  f   \n",
       "4                   NaN   ...                                  f   \n",
       "\n",
       "  calculated_host_listings_count reviews_per_month  \\\n",
       "0                              2              4.07   \n",
       "1                              2              4.07   \n",
       "2                              2              4.07   \n",
       "3                              2              4.07   \n",
       "4                              2              4.07   \n",
       "\n",
       "                                                text negative positive  \\\n",
       "0  Excellent all the way around. \\r\\n\\r\\nMaija wa...       -1        4   \n",
       "1  Maija's apartment was a wonderful place to sta...       -1        4   \n",
       "2  one of the most pleasant stays i've had in my ...       -1        4   \n",
       "3  Maija's suite is beautiful, cozy and convenien...       -1        4   \n",
       "4  Our stay was short and pleasant. With its own ...       -1        3   \n",
       "\n",
       "   neutral overall_sentiment helpfulness helpful  \n",
       "0        1                 3           0       0  \n",
       "1        1                 3           0       0  \n",
       "2        1                 3           0       0  \n",
       "3        1                 3           0       0  \n",
       "4        1                 2           0       0  \n",
       "\n",
       "[5 rows x 99 columns]"
      ]
     },
     "execution_count": 31,
     "metadata": {},
     "output_type": "execute_result"
    }
   ],
   "source": [
    "listings_with_reviews.head()"
   ]
  },
  {
   "cell_type": "code",
   "execution_count": 32,
   "metadata": {},
   "outputs": [
    {
     "data": {
      "text/html": [
       "<div>\n",
       "<style scoped>\n",
       "    .dataframe tbody tr th:only-of-type {\n",
       "        vertical-align: middle;\n",
       "    }\n",
       "\n",
       "    .dataframe tbody tr th {\n",
       "        vertical-align: top;\n",
       "    }\n",
       "\n",
       "    .dataframe thead tr th {\n",
       "        text-align: left;\n",
       "    }\n",
       "\n",
       "    .dataframe thead tr:last-of-type th {\n",
       "        text-align: right;\n",
       "    }\n",
       "</style>\n",
       "<table border=\"1\" class=\"dataframe\">\n",
       "  <thead>\n",
       "    <tr>\n",
       "      <th></th>\n",
       "      <th colspan=\"8\" halign=\"left\">accommodates</th>\n",
       "      <th colspan=\"2\" halign=\"left\">availability_30</th>\n",
       "      <th>...</th>\n",
       "      <th colspan=\"2\" halign=\"left\">scrape_id</th>\n",
       "      <th colspan=\"8\" halign=\"left\">square_feet</th>\n",
       "    </tr>\n",
       "    <tr>\n",
       "      <th></th>\n",
       "      <th>count</th>\n",
       "      <th>mean</th>\n",
       "      <th>std</th>\n",
       "      <th>min</th>\n",
       "      <th>25%</th>\n",
       "      <th>50%</th>\n",
       "      <th>75%</th>\n",
       "      <th>max</th>\n",
       "      <th>count</th>\n",
       "      <th>mean</th>\n",
       "      <th>...</th>\n",
       "      <th>75%</th>\n",
       "      <th>max</th>\n",
       "      <th>count</th>\n",
       "      <th>mean</th>\n",
       "      <th>std</th>\n",
       "      <th>min</th>\n",
       "      <th>25%</th>\n",
       "      <th>50%</th>\n",
       "      <th>75%</th>\n",
       "      <th>max</th>\n",
       "    </tr>\n",
       "    <tr>\n",
       "      <th>helpful</th>\n",
       "      <th></th>\n",
       "      <th></th>\n",
       "      <th></th>\n",
       "      <th></th>\n",
       "      <th></th>\n",
       "      <th></th>\n",
       "      <th></th>\n",
       "      <th></th>\n",
       "      <th></th>\n",
       "      <th></th>\n",
       "      <th></th>\n",
       "      <th></th>\n",
       "      <th></th>\n",
       "      <th></th>\n",
       "      <th></th>\n",
       "      <th></th>\n",
       "      <th></th>\n",
       "      <th></th>\n",
       "      <th></th>\n",
       "      <th></th>\n",
       "      <th></th>\n",
       "    </tr>\n",
       "  </thead>\n",
       "  <tbody>\n",
       "    <tr>\n",
       "      <th>0</th>\n",
       "      <td>75926.0</td>\n",
       "      <td>3.111543</td>\n",
       "      <td>1.751610</td>\n",
       "      <td>1.0</td>\n",
       "      <td>2.0</td>\n",
       "      <td>2.0</td>\n",
       "      <td>4.0</td>\n",
       "      <td>16.0</td>\n",
       "      <td>75926.0</td>\n",
       "      <td>18.317862</td>\n",
       "      <td>...</td>\n",
       "      <td>2.016010e+13</td>\n",
       "      <td>2.016010e+13</td>\n",
       "      <td>3745.0</td>\n",
       "      <td>692.864352</td>\n",
       "      <td>506.540032</td>\n",
       "      <td>0.0</td>\n",
       "      <td>400.0</td>\n",
       "      <td>650.0</td>\n",
       "      <td>800.0</td>\n",
       "      <td>3000.0</td>\n",
       "    </tr>\n",
       "    <tr>\n",
       "      <th>1</th>\n",
       "      <td>9550.0</td>\n",
       "      <td>3.050995</td>\n",
       "      <td>1.681902</td>\n",
       "      <td>1.0</td>\n",
       "      <td>2.0</td>\n",
       "      <td>2.0</td>\n",
       "      <td>4.0</td>\n",
       "      <td>16.0</td>\n",
       "      <td>9550.0</td>\n",
       "      <td>18.247016</td>\n",
       "      <td>...</td>\n",
       "      <td>2.016010e+13</td>\n",
       "      <td>2.016010e+13</td>\n",
       "      <td>512.0</td>\n",
       "      <td>677.238281</td>\n",
       "      <td>473.571761</td>\n",
       "      <td>0.0</td>\n",
       "      <td>400.0</td>\n",
       "      <td>650.0</td>\n",
       "      <td>800.0</td>\n",
       "      <td>2750.0</td>\n",
       "    </tr>\n",
       "  </tbody>\n",
       "</table>\n",
       "<p>2 rows × 280 columns</p>\n",
       "</div>"
      ],
      "text/plain": [
       "        accommodates                                                \\\n",
       "               count      mean       std  min  25%  50%  75%   max   \n",
       "helpful                                                              \n",
       "0            75926.0  3.111543  1.751610  1.0  2.0  2.0  4.0  16.0   \n",
       "1             9550.0  3.050995  1.681902  1.0  2.0  2.0  4.0  16.0   \n",
       "\n",
       "        availability_30              ...       scrape_id                \\\n",
       "                  count       mean   ...             75%           max   \n",
       "helpful                              ...                                 \n",
       "0               75926.0  18.317862   ...    2.016010e+13  2.016010e+13   \n",
       "1                9550.0  18.247016   ...    2.016010e+13  2.016010e+13   \n",
       "\n",
       "        square_feet                                                            \n",
       "              count        mean         std  min    25%    50%    75%     max  \n",
       "helpful                                                                        \n",
       "0            3745.0  692.864352  506.540032  0.0  400.0  650.0  800.0  3000.0  \n",
       "1             512.0  677.238281  473.571761  0.0  400.0  650.0  800.0  2750.0  \n",
       "\n",
       "[2 rows x 280 columns]"
      ]
     },
     "execution_count": 32,
     "metadata": {},
     "output_type": "execute_result"
    }
   ],
   "source": [
    "listings_with_reviews.groupby('helpful').describe()"
   ]
  },
  {
   "cell_type": "code",
   "execution_count": 33,
   "metadata": {},
   "outputs": [],
   "source": [
    "listings_with_reviews.to_pickle('listings_with_reviews.pkl')"
   ]
  },
  {
   "cell_type": "markdown",
   "metadata": {},
   "source": [
    "## 2.2 Aggregating overall sentiment and perceived helpfulness at the listing level\n",
    "\n",
    "As there are multiple reviews (together with the correspondeing sentiment and helpfulness) under each of the listing, and I'm mainly interested in the listing itself, I'll then aggreagating the overall sentiment and perceived helpfulness at the listing level."
   ]
  },
  {
   "cell_type": "code",
   "execution_count": 34,
   "metadata": {
    "scrolled": true
   },
   "outputs": [
    {
     "data": {
      "text/plain": [
       "Index(['id', 'listing_url', 'scrape_id', 'last_scraped', 'name', 'summary',\n",
       "       'space', 'description', 'experiences_offered', 'neighborhood_overview',\n",
       "       'notes', 'transit', 'thumbnail_url', 'medium_url', 'picture_url',\n",
       "       'xl_picture_url', 'host_id', 'host_url', 'host_name', 'host_since',\n",
       "       'host_location', 'host_about', 'host_response_time',\n",
       "       'host_response_rate', 'host_acceptance_rate', 'host_is_superhost',\n",
       "       'host_thumbnail_url', 'host_picture_url', 'host_neighbourhood',\n",
       "       'host_listings_count', 'host_total_listings_count',\n",
       "       'host_verifications', 'host_has_profile_pic', 'host_identity_verified',\n",
       "       'street', 'neighbourhood', 'neighbourhood_cleansed',\n",
       "       'neighbourhood_group_cleansed', 'city', 'state', 'zipcode', 'market',\n",
       "       'smart_location', 'country_code', 'country', 'latitude', 'longitude',\n",
       "       'is_location_exact', 'property_type', 'room_type', 'accommodates',\n",
       "       'bathrooms', 'bedrooms', 'beds', 'bed_type', 'amenities', 'square_feet',\n",
       "       'price', 'weekly_price', 'monthly_price', 'security_deposit',\n",
       "       'cleaning_fee', 'guests_included', 'extra_people', 'minimum_nights',\n",
       "       'maximum_nights', 'calendar_updated', 'has_availability',\n",
       "       'availability_30', 'availability_60', 'availability_90',\n",
       "       'availability_365', 'calendar_last_scraped', 'number_of_reviews',\n",
       "       'first_review', 'last_review', 'review_scores_rating',\n",
       "       'review_scores_accuracy', 'review_scores_cleanliness',\n",
       "       'review_scores_checkin', 'review_scores_communication',\n",
       "       'review_scores_location', 'review_scores_value', 'requires_license',\n",
       "       'license', 'jurisdiction_names', 'instant_bookable',\n",
       "       'cancellation_policy', 'require_guest_profile_picture',\n",
       "       'require_guest_phone_verification', 'calculated_host_listings_count',\n",
       "       'reviews_per_month', 'text', 'negative', 'positive', 'neutral',\n",
       "       'overall_sentiment', 'helpfulness', 'helpful'],\n",
       "      dtype='object')"
      ]
     },
     "execution_count": 34,
     "metadata": {},
     "output_type": "execute_result"
    }
   ],
   "source": [
    "listings_with_reviews.columns"
   ]
  },
  {
   "cell_type": "markdown",
   "metadata": {},
   "source": [
    "I'm calculating the mean value for overall sentiment and comment amount mentioning perceived helpfulness. "
   ]
  },
  {
   "cell_type": "code",
   "execution_count": 35,
   "metadata": {},
   "outputs": [],
   "source": [
    "listings_means = pd.DataFrame(listings_with_reviews.groupby('id')[['overall_sentiment', 'helpful']].mean())"
   ]
  },
  {
   "cell_type": "code",
   "execution_count": 36,
   "metadata": {},
   "outputs": [
    {
     "data": {
      "text/html": [
       "<div>\n",
       "<style scoped>\n",
       "    .dataframe tbody tr th:only-of-type {\n",
       "        vertical-align: middle;\n",
       "    }\n",
       "\n",
       "    .dataframe tbody tr th {\n",
       "        vertical-align: top;\n",
       "    }\n",
       "\n",
       "    .dataframe thead th {\n",
       "        text-align: right;\n",
       "    }\n",
       "</style>\n",
       "<table border=\"1\" class=\"dataframe\">\n",
       "  <thead>\n",
       "    <tr style=\"text-align: right;\">\n",
       "      <th></th>\n",
       "      <th>overall_sentiment</th>\n",
       "      <th>helpful</th>\n",
       "    </tr>\n",
       "    <tr>\n",
       "      <th>id</th>\n",
       "      <th></th>\n",
       "      <th></th>\n",
       "    </tr>\n",
       "  </thead>\n",
       "  <tbody>\n",
       "    <tr>\n",
       "      <th>3335</th>\n",
       "      <td>0.000000</td>\n",
       "      <td>0.000000</td>\n",
       "    </tr>\n",
       "    <tr>\n",
       "      <th>4291</th>\n",
       "      <td>1.685714</td>\n",
       "      <td>0.028571</td>\n",
       "    </tr>\n",
       "    <tr>\n",
       "      <th>5682</th>\n",
       "      <td>2.094276</td>\n",
       "      <td>0.127946</td>\n",
       "    </tr>\n",
       "    <tr>\n",
       "      <th>6606</th>\n",
       "      <td>2.019231</td>\n",
       "      <td>0.096154</td>\n",
       "    </tr>\n",
       "    <tr>\n",
       "      <th>7369</th>\n",
       "      <td>2.225000</td>\n",
       "      <td>0.125000</td>\n",
       "    </tr>\n",
       "  </tbody>\n",
       "</table>\n",
       "</div>"
      ],
      "text/plain": [
       "      overall_sentiment   helpful\n",
       "id                               \n",
       "3335           0.000000  0.000000\n",
       "4291           1.685714  0.028571\n",
       "5682           2.094276  0.127946\n",
       "6606           2.019231  0.096154\n",
       "7369           2.225000  0.125000"
      ]
     },
     "execution_count": 36,
     "metadata": {},
     "output_type": "execute_result"
    }
   ],
   "source": [
    "listings_means.head()"
   ]
  },
  {
   "cell_type": "code",
   "execution_count": 37,
   "metadata": {},
   "outputs": [],
   "source": [
    "listings_means = listings_means.reset_index()"
   ]
  },
  {
   "cell_type": "code",
   "execution_count": 38,
   "metadata": {},
   "outputs": [],
   "source": [
    "listings_means = listings_means.rename(columns={'overall_sentiment': 'average_sentiment_per_comment',\n",
    "                                                'helpful': 'perc_comments_helpful',})"
   ]
  },
  {
   "cell_type": "code",
   "execution_count": 39,
   "metadata": {
    "scrolled": true
   },
   "outputs": [
    {
     "data": {
      "text/html": [
       "<div>\n",
       "<style scoped>\n",
       "    .dataframe tbody tr th:only-of-type {\n",
       "        vertical-align: middle;\n",
       "    }\n",
       "\n",
       "    .dataframe tbody tr th {\n",
       "        vertical-align: top;\n",
       "    }\n",
       "\n",
       "    .dataframe thead th {\n",
       "        text-align: right;\n",
       "    }\n",
       "</style>\n",
       "<table border=\"1\" class=\"dataframe\">\n",
       "  <thead>\n",
       "    <tr style=\"text-align: right;\">\n",
       "      <th></th>\n",
       "      <th>id</th>\n",
       "      <th>average_sentiment_per_comment</th>\n",
       "      <th>perc_comments_helpful</th>\n",
       "    </tr>\n",
       "  </thead>\n",
       "  <tbody>\n",
       "    <tr>\n",
       "      <th>0</th>\n",
       "      <td>3335</td>\n",
       "      <td>0.000000</td>\n",
       "      <td>0.000000</td>\n",
       "    </tr>\n",
       "    <tr>\n",
       "      <th>1</th>\n",
       "      <td>4291</td>\n",
       "      <td>1.685714</td>\n",
       "      <td>0.028571</td>\n",
       "    </tr>\n",
       "    <tr>\n",
       "      <th>2</th>\n",
       "      <td>5682</td>\n",
       "      <td>2.094276</td>\n",
       "      <td>0.127946</td>\n",
       "    </tr>\n",
       "    <tr>\n",
       "      <th>3</th>\n",
       "      <td>6606</td>\n",
       "      <td>2.019231</td>\n",
       "      <td>0.096154</td>\n",
       "    </tr>\n",
       "    <tr>\n",
       "      <th>4</th>\n",
       "      <td>7369</td>\n",
       "      <td>2.225000</td>\n",
       "      <td>0.125000</td>\n",
       "    </tr>\n",
       "  </tbody>\n",
       "</table>\n",
       "</div>"
      ],
      "text/plain": [
       "     id  average_sentiment_per_comment  perc_comments_helpful\n",
       "0  3335                       0.000000               0.000000\n",
       "1  4291                       1.685714               0.028571\n",
       "2  5682                       2.094276               0.127946\n",
       "3  6606                       2.019231               0.096154\n",
       "4  7369                       2.225000               0.125000"
      ]
     },
     "execution_count": 39,
     "metadata": {},
     "output_type": "execute_result"
    }
   ],
   "source": [
    "listings_means.head()"
   ]
  },
  {
   "cell_type": "markdown",
   "metadata": {},
   "source": [
    "I'll append the original listing dataset with the above means."
   ]
  },
  {
   "cell_type": "code",
   "execution_count": 40,
   "metadata": {},
   "outputs": [],
   "source": [
    "airbnb = listings.merge(listings_means, how='left', on='id')"
   ]
  },
  {
   "cell_type": "code",
   "execution_count": 41,
   "metadata": {},
   "outputs": [],
   "source": [
    "airbnb.to_pickle('airbnb.pkl')"
   ]
  },
  {
   "cell_type": "code",
   "execution_count": 42,
   "metadata": {
    "scrolled": false
   },
   "outputs": [
    {
     "data": {
      "text/html": [
       "<div>\n",
       "<style scoped>\n",
       "    .dataframe tbody tr th:only-of-type {\n",
       "        vertical-align: middle;\n",
       "    }\n",
       "\n",
       "    .dataframe tbody tr th {\n",
       "        vertical-align: top;\n",
       "    }\n",
       "\n",
       "    .dataframe thead th {\n",
       "        text-align: right;\n",
       "    }\n",
       "</style>\n",
       "<table border=\"1\" class=\"dataframe\">\n",
       "  <thead>\n",
       "    <tr style=\"text-align: right;\">\n",
       "      <th></th>\n",
       "      <th>id</th>\n",
       "      <th>listing_url</th>\n",
       "      <th>scrape_id</th>\n",
       "      <th>last_scraped</th>\n",
       "      <th>name</th>\n",
       "      <th>summary</th>\n",
       "      <th>space</th>\n",
       "      <th>description</th>\n",
       "      <th>experiences_offered</th>\n",
       "      <th>neighborhood_overview</th>\n",
       "      <th>...</th>\n",
       "      <th>license</th>\n",
       "      <th>jurisdiction_names</th>\n",
       "      <th>instant_bookable</th>\n",
       "      <th>cancellation_policy</th>\n",
       "      <th>require_guest_profile_picture</th>\n",
       "      <th>require_guest_phone_verification</th>\n",
       "      <th>calculated_host_listings_count</th>\n",
       "      <th>reviews_per_month</th>\n",
       "      <th>average_sentiment_per_comment</th>\n",
       "      <th>perc_comments_helpful</th>\n",
       "    </tr>\n",
       "  </thead>\n",
       "  <tbody>\n",
       "    <tr>\n",
       "      <th>0</th>\n",
       "      <td>241032</td>\n",
       "      <td>https://www.airbnb.com/rooms/241032</td>\n",
       "      <td>20160104002432</td>\n",
       "      <td>2016-01-04</td>\n",
       "      <td>Stylish Queen Anne Apartment</td>\n",
       "      <td>NaN</td>\n",
       "      <td>Make your self at home in this charming one-be...</td>\n",
       "      <td>Make your self at home in this charming one-be...</td>\n",
       "      <td>none</td>\n",
       "      <td>NaN</td>\n",
       "      <td>...</td>\n",
       "      <td>NaN</td>\n",
       "      <td>WASHINGTON</td>\n",
       "      <td>f</td>\n",
       "      <td>moderate</td>\n",
       "      <td>f</td>\n",
       "      <td>f</td>\n",
       "      <td>2</td>\n",
       "      <td>4.07</td>\n",
       "      <td>2.024155</td>\n",
       "      <td>0.077295</td>\n",
       "    </tr>\n",
       "    <tr>\n",
       "      <th>1</th>\n",
       "      <td>953595</td>\n",
       "      <td>https://www.airbnb.com/rooms/953595</td>\n",
       "      <td>20160104002432</td>\n",
       "      <td>2016-01-04</td>\n",
       "      <td>Bright &amp; Airy Queen Anne Apartment</td>\n",
       "      <td>Chemically sensitive? We've removed the irrita...</td>\n",
       "      <td>Beautiful, hypoallergenic apartment in an extr...</td>\n",
       "      <td>Chemically sensitive? We've removed the irrita...</td>\n",
       "      <td>none</td>\n",
       "      <td>Queen Anne is a wonderful, truly functional vi...</td>\n",
       "      <td>...</td>\n",
       "      <td>NaN</td>\n",
       "      <td>WASHINGTON</td>\n",
       "      <td>f</td>\n",
       "      <td>strict</td>\n",
       "      <td>t</td>\n",
       "      <td>t</td>\n",
       "      <td>6</td>\n",
       "      <td>1.48</td>\n",
       "      <td>2.116279</td>\n",
       "      <td>0.186047</td>\n",
       "    </tr>\n",
       "    <tr>\n",
       "      <th>2</th>\n",
       "      <td>3308979</td>\n",
       "      <td>https://www.airbnb.com/rooms/3308979</td>\n",
       "      <td>20160104002432</td>\n",
       "      <td>2016-01-04</td>\n",
       "      <td>New Modern House-Amazing water view</td>\n",
       "      <td>New modern house built in 2013.  Spectacular s...</td>\n",
       "      <td>Our house is modern, light and fresh with a wa...</td>\n",
       "      <td>New modern house built in 2013.  Spectacular s...</td>\n",
       "      <td>none</td>\n",
       "      <td>Upper Queen Anne is a charming neighborhood fu...</td>\n",
       "      <td>...</td>\n",
       "      <td>NaN</td>\n",
       "      <td>WASHINGTON</td>\n",
       "      <td>f</td>\n",
       "      <td>strict</td>\n",
       "      <td>f</td>\n",
       "      <td>f</td>\n",
       "      <td>2</td>\n",
       "      <td>1.15</td>\n",
       "      <td>2.000000</td>\n",
       "      <td>0.050000</td>\n",
       "    </tr>\n",
       "    <tr>\n",
       "      <th>3</th>\n",
       "      <td>7421966</td>\n",
       "      <td>https://www.airbnb.com/rooms/7421966</td>\n",
       "      <td>20160104002432</td>\n",
       "      <td>2016-01-04</td>\n",
       "      <td>Queen Anne Chateau</td>\n",
       "      <td>A charming apartment that sits atop Queen Anne...</td>\n",
       "      <td>NaN</td>\n",
       "      <td>A charming apartment that sits atop Queen Anne...</td>\n",
       "      <td>none</td>\n",
       "      <td>NaN</td>\n",
       "      <td>...</td>\n",
       "      <td>NaN</td>\n",
       "      <td>WASHINGTON</td>\n",
       "      <td>f</td>\n",
       "      <td>flexible</td>\n",
       "      <td>f</td>\n",
       "      <td>f</td>\n",
       "      <td>1</td>\n",
       "      <td>NaN</td>\n",
       "      <td>0.000000</td>\n",
       "      <td>0.000000</td>\n",
       "    </tr>\n",
       "    <tr>\n",
       "      <th>4</th>\n",
       "      <td>278830</td>\n",
       "      <td>https://www.airbnb.com/rooms/278830</td>\n",
       "      <td>20160104002432</td>\n",
       "      <td>2016-01-04</td>\n",
       "      <td>Charming craftsman 3 bdm house</td>\n",
       "      <td>Cozy family craftman house in beautiful neighb...</td>\n",
       "      <td>Cozy family craftman house in beautiful neighb...</td>\n",
       "      <td>Cozy family craftman house in beautiful neighb...</td>\n",
       "      <td>none</td>\n",
       "      <td>We are in the beautiful neighborhood of Queen ...</td>\n",
       "      <td>...</td>\n",
       "      <td>NaN</td>\n",
       "      <td>WASHINGTON</td>\n",
       "      <td>f</td>\n",
       "      <td>strict</td>\n",
       "      <td>f</td>\n",
       "      <td>f</td>\n",
       "      <td>1</td>\n",
       "      <td>0.89</td>\n",
       "      <td>2.105263</td>\n",
       "      <td>0.105263</td>\n",
       "    </tr>\n",
       "  </tbody>\n",
       "</table>\n",
       "<p>5 rows × 94 columns</p>\n",
       "</div>"
      ],
      "text/plain": [
       "        id                           listing_url       scrape_id last_scraped  \\\n",
       "0   241032   https://www.airbnb.com/rooms/241032  20160104002432   2016-01-04   \n",
       "1   953595   https://www.airbnb.com/rooms/953595  20160104002432   2016-01-04   \n",
       "2  3308979  https://www.airbnb.com/rooms/3308979  20160104002432   2016-01-04   \n",
       "3  7421966  https://www.airbnb.com/rooms/7421966  20160104002432   2016-01-04   \n",
       "4   278830   https://www.airbnb.com/rooms/278830  20160104002432   2016-01-04   \n",
       "\n",
       "                                  name  \\\n",
       "0         Stylish Queen Anne Apartment   \n",
       "1   Bright & Airy Queen Anne Apartment   \n",
       "2  New Modern House-Amazing water view   \n",
       "3                   Queen Anne Chateau   \n",
       "4       Charming craftsman 3 bdm house   \n",
       "\n",
       "                                             summary  \\\n",
       "0                                                NaN   \n",
       "1  Chemically sensitive? We've removed the irrita...   \n",
       "2  New modern house built in 2013.  Spectacular s...   \n",
       "3  A charming apartment that sits atop Queen Anne...   \n",
       "4  Cozy family craftman house in beautiful neighb...   \n",
       "\n",
       "                                               space  \\\n",
       "0  Make your self at home in this charming one-be...   \n",
       "1  Beautiful, hypoallergenic apartment in an extr...   \n",
       "2  Our house is modern, light and fresh with a wa...   \n",
       "3                                                NaN   \n",
       "4  Cozy family craftman house in beautiful neighb...   \n",
       "\n",
       "                                         description experiences_offered  \\\n",
       "0  Make your self at home in this charming one-be...                none   \n",
       "1  Chemically sensitive? We've removed the irrita...                none   \n",
       "2  New modern house built in 2013.  Spectacular s...                none   \n",
       "3  A charming apartment that sits atop Queen Anne...                none   \n",
       "4  Cozy family craftman house in beautiful neighb...                none   \n",
       "\n",
       "                               neighborhood_overview          ...           \\\n",
       "0                                                NaN          ...            \n",
       "1  Queen Anne is a wonderful, truly functional vi...          ...            \n",
       "2  Upper Queen Anne is a charming neighborhood fu...          ...            \n",
       "3                                                NaN          ...            \n",
       "4  We are in the beautiful neighborhood of Queen ...          ...            \n",
       "\n",
       "  license jurisdiction_names instant_bookable cancellation_policy  \\\n",
       "0     NaN         WASHINGTON                f            moderate   \n",
       "1     NaN         WASHINGTON                f              strict   \n",
       "2     NaN         WASHINGTON                f              strict   \n",
       "3     NaN         WASHINGTON                f            flexible   \n",
       "4     NaN         WASHINGTON                f              strict   \n",
       "\n",
       "  require_guest_profile_picture require_guest_phone_verification  \\\n",
       "0                             f                                f   \n",
       "1                             t                                t   \n",
       "2                             f                                f   \n",
       "3                             f                                f   \n",
       "4                             f                                f   \n",
       "\n",
       "   calculated_host_listings_count reviews_per_month  \\\n",
       "0                               2              4.07   \n",
       "1                               6              1.48   \n",
       "2                               2              1.15   \n",
       "3                               1               NaN   \n",
       "4                               1              0.89   \n",
       "\n",
       "  average_sentiment_per_comment perc_comments_helpful  \n",
       "0                      2.024155              0.077295  \n",
       "1                      2.116279              0.186047  \n",
       "2                      2.000000              0.050000  \n",
       "3                      0.000000              0.000000  \n",
       "4                      2.105263              0.105263  \n",
       "\n",
       "[5 rows x 94 columns]"
      ]
     },
     "execution_count": 42,
     "metadata": {},
     "output_type": "execute_result"
    }
   ],
   "source": [
    "airbnb.head()"
   ]
  },
  {
   "cell_type": "markdown",
   "metadata": {},
   "source": [
    "To double check whether the aggregating is successful, I then check the length of this data."
   ]
  },
  {
   "cell_type": "code",
   "execution_count": 43,
   "metadata": {},
   "outputs": [
    {
     "data": {
      "text/plain": [
       "3818"
      ]
     },
     "execution_count": 43,
     "metadata": {},
     "output_type": "execute_result"
    }
   ],
   "source": [
    "len(airbnb)"
   ]
  },
  {
   "cell_type": "code",
   "execution_count": 44,
   "metadata": {},
   "outputs": [
    {
     "data": {
      "text/plain": [
       "3818"
      ]
     },
     "execution_count": 44,
     "metadata": {},
     "output_type": "execute_result"
    }
   ],
   "source": [
    "len(listings)"
   ]
  },
  {
   "cell_type": "markdown",
   "metadata": {},
   "source": [
    "The length of two dataset is identical, therefore I sucessfully merged the listings with the average sentiment and percentage of comments mentioning perceived helpfulness."
   ]
  },
  {
   "cell_type": "markdown",
   "metadata": {},
   "source": [
    "## 2.3 Host information\n",
    "\n",
    "I'll a separate dataset which contains information about the host only, as these are the only relevant variables for H1."
   ]
  },
  {
   "cell_type": "code",
   "execution_count": 45,
   "metadata": {},
   "outputs": [],
   "source": [
    "airbnb = pd.read_pickle('airbnb.pkl')"
   ]
  },
  {
   "cell_type": "code",
   "execution_count": 46,
   "metadata": {},
   "outputs": [
    {
     "data": {
      "text/plain": [
       "Index(['id', 'listing_url', 'scrape_id', 'last_scraped', 'name', 'summary',\n",
       "       'space', 'description', 'experiences_offered', 'neighborhood_overview',\n",
       "       'notes', 'transit', 'thumbnail_url', 'medium_url', 'picture_url',\n",
       "       'xl_picture_url', 'host_id', 'host_url', 'host_name', 'host_since',\n",
       "       'host_location', 'host_about', 'host_response_time',\n",
       "       'host_response_rate', 'host_acceptance_rate', 'host_is_superhost',\n",
       "       'host_thumbnail_url', 'host_picture_url', 'host_neighbourhood',\n",
       "       'host_listings_count', 'host_total_listings_count',\n",
       "       'host_verifications', 'host_has_profile_pic', 'host_identity_verified',\n",
       "       'street', 'neighbourhood', 'neighbourhood_cleansed',\n",
       "       'neighbourhood_group_cleansed', 'city', 'state', 'zipcode', 'market',\n",
       "       'smart_location', 'country_code', 'country', 'latitude', 'longitude',\n",
       "       'is_location_exact', 'property_type', 'room_type', 'accommodates',\n",
       "       'bathrooms', 'bedrooms', 'beds', 'bed_type', 'amenities', 'square_feet',\n",
       "       'price', 'weekly_price', 'monthly_price', 'security_deposit',\n",
       "       'cleaning_fee', 'guests_included', 'extra_people', 'minimum_nights',\n",
       "       'maximum_nights', 'calendar_updated', 'has_availability',\n",
       "       'availability_30', 'availability_60', 'availability_90',\n",
       "       'availability_365', 'calendar_last_scraped', 'number_of_reviews',\n",
       "       'first_review', 'last_review', 'review_scores_rating',\n",
       "       'review_scores_accuracy', 'review_scores_cleanliness',\n",
       "       'review_scores_checkin', 'review_scores_communication',\n",
       "       'review_scores_location', 'review_scores_value', 'requires_license',\n",
       "       'license', 'jurisdiction_names', 'instant_bookable',\n",
       "       'cancellation_policy', 'require_guest_profile_picture',\n",
       "       'require_guest_phone_verification', 'calculated_host_listings_count',\n",
       "       'reviews_per_month', 'average_sentiment_per_comment',\n",
       "       'perc_comments_helpful'],\n",
       "      dtype='object')"
      ]
     },
     "execution_count": 46,
     "metadata": {},
     "output_type": "execute_result"
    }
   ],
   "source": [
    "airbnb.columns"
   ]
  },
  {
   "cell_type": "code",
   "execution_count": 47,
   "metadata": {},
   "outputs": [],
   "source": [
    "host = airbnb[['host_id', 'host_url',\n",
    "       'host_name', 'host_since', 'host_location', 'host_about',\n",
    "       'host_response_time', 'host_response_rate', 'host_acceptance_rate',\n",
    "       'host_is_superhost', 'host_thumbnail_url', 'host_picture_url',\n",
    "       'host_neighbourhood', 'host_listings_count',\n",
    "       'host_total_listings_count', 'host_verifications',\n",
    "       'host_has_profile_pic', 'host_identity_verified','perc_comments_helpful']]"
   ]
  },
  {
   "cell_type": "code",
   "execution_count": 48,
   "metadata": {},
   "outputs": [
    {
     "data": {
      "text/html": [
       "<div>\n",
       "<style scoped>\n",
       "    .dataframe tbody tr th:only-of-type {\n",
       "        vertical-align: middle;\n",
       "    }\n",
       "\n",
       "    .dataframe tbody tr th {\n",
       "        vertical-align: top;\n",
       "    }\n",
       "\n",
       "    .dataframe thead th {\n",
       "        text-align: right;\n",
       "    }\n",
       "</style>\n",
       "<table border=\"1\" class=\"dataframe\">\n",
       "  <thead>\n",
       "    <tr style=\"text-align: right;\">\n",
       "      <th></th>\n",
       "      <th>host_id</th>\n",
       "      <th>host_url</th>\n",
       "      <th>host_name</th>\n",
       "      <th>host_since</th>\n",
       "      <th>host_location</th>\n",
       "      <th>host_about</th>\n",
       "      <th>host_response_time</th>\n",
       "      <th>host_response_rate</th>\n",
       "      <th>host_acceptance_rate</th>\n",
       "      <th>host_is_superhost</th>\n",
       "      <th>host_thumbnail_url</th>\n",
       "      <th>host_picture_url</th>\n",
       "      <th>host_neighbourhood</th>\n",
       "      <th>host_listings_count</th>\n",
       "      <th>host_total_listings_count</th>\n",
       "      <th>host_verifications</th>\n",
       "      <th>host_has_profile_pic</th>\n",
       "      <th>host_identity_verified</th>\n",
       "      <th>perc_comments_helpful</th>\n",
       "    </tr>\n",
       "  </thead>\n",
       "  <tbody>\n",
       "    <tr>\n",
       "      <th>0</th>\n",
       "      <td>956883</td>\n",
       "      <td>https://www.airbnb.com/users/show/956883</td>\n",
       "      <td>Maija</td>\n",
       "      <td>2011-08-11</td>\n",
       "      <td>Seattle, Washington, United States</td>\n",
       "      <td>I am an artist, interior designer, and run a s...</td>\n",
       "      <td>within a few hours</td>\n",
       "      <td>96%</td>\n",
       "      <td>100%</td>\n",
       "      <td>f</td>\n",
       "      <td>https://a0.muscache.com/ac/users/956883/profil...</td>\n",
       "      <td>https://a0.muscache.com/ac/users/956883/profil...</td>\n",
       "      <td>Queen Anne</td>\n",
       "      <td>3.0</td>\n",
       "      <td>3.0</td>\n",
       "      <td>['email', 'phone', 'reviews', 'kba']</td>\n",
       "      <td>t</td>\n",
       "      <td>t</td>\n",
       "      <td>0.077295</td>\n",
       "    </tr>\n",
       "    <tr>\n",
       "      <th>1</th>\n",
       "      <td>5177328</td>\n",
       "      <td>https://www.airbnb.com/users/show/5177328</td>\n",
       "      <td>Andrea</td>\n",
       "      <td>2013-02-21</td>\n",
       "      <td>Seattle, Washington, United States</td>\n",
       "      <td>Living east coast/left coast/overseas.  Time i...</td>\n",
       "      <td>within an hour</td>\n",
       "      <td>98%</td>\n",
       "      <td>100%</td>\n",
       "      <td>t</td>\n",
       "      <td>https://a0.muscache.com/ac/users/5177328/profi...</td>\n",
       "      <td>https://a0.muscache.com/ac/users/5177328/profi...</td>\n",
       "      <td>Queen Anne</td>\n",
       "      <td>6.0</td>\n",
       "      <td>6.0</td>\n",
       "      <td>['email', 'phone', 'facebook', 'linkedin', 're...</td>\n",
       "      <td>t</td>\n",
       "      <td>t</td>\n",
       "      <td>0.186047</td>\n",
       "    </tr>\n",
       "    <tr>\n",
       "      <th>2</th>\n",
       "      <td>16708587</td>\n",
       "      <td>https://www.airbnb.com/users/show/16708587</td>\n",
       "      <td>Jill</td>\n",
       "      <td>2014-06-12</td>\n",
       "      <td>Seattle, Washington, United States</td>\n",
       "      <td>i love living in Seattle.  i grew up in the mi...</td>\n",
       "      <td>within a few hours</td>\n",
       "      <td>67%</td>\n",
       "      <td>100%</td>\n",
       "      <td>f</td>\n",
       "      <td>https://a1.muscache.com/ac/users/16708587/prof...</td>\n",
       "      <td>https://a1.muscache.com/ac/users/16708587/prof...</td>\n",
       "      <td>Queen Anne</td>\n",
       "      <td>2.0</td>\n",
       "      <td>2.0</td>\n",
       "      <td>['email', 'phone', 'google', 'reviews', 'jumio']</td>\n",
       "      <td>t</td>\n",
       "      <td>t</td>\n",
       "      <td>0.050000</td>\n",
       "    </tr>\n",
       "    <tr>\n",
       "      <th>3</th>\n",
       "      <td>9851441</td>\n",
       "      <td>https://www.airbnb.com/users/show/9851441</td>\n",
       "      <td>Emily</td>\n",
       "      <td>2013-11-06</td>\n",
       "      <td>Seattle, Washington, United States</td>\n",
       "      <td>NaN</td>\n",
       "      <td>NaN</td>\n",
       "      <td>NaN</td>\n",
       "      <td>NaN</td>\n",
       "      <td>f</td>\n",
       "      <td>https://a2.muscache.com/ac/users/9851441/profi...</td>\n",
       "      <td>https://a2.muscache.com/ac/users/9851441/profi...</td>\n",
       "      <td>Queen Anne</td>\n",
       "      <td>1.0</td>\n",
       "      <td>1.0</td>\n",
       "      <td>['email', 'phone', 'facebook', 'reviews', 'jum...</td>\n",
       "      <td>t</td>\n",
       "      <td>t</td>\n",
       "      <td>0.000000</td>\n",
       "    </tr>\n",
       "    <tr>\n",
       "      <th>4</th>\n",
       "      <td>1452570</td>\n",
       "      <td>https://www.airbnb.com/users/show/1452570</td>\n",
       "      <td>Emily</td>\n",
       "      <td>2011-11-29</td>\n",
       "      <td>Seattle, Washington, United States</td>\n",
       "      <td>Hi, I live in Seattle, Washington but I'm orig...</td>\n",
       "      <td>within an hour</td>\n",
       "      <td>100%</td>\n",
       "      <td>NaN</td>\n",
       "      <td>f</td>\n",
       "      <td>https://a0.muscache.com/ac/users/1452570/profi...</td>\n",
       "      <td>https://a0.muscache.com/ac/users/1452570/profi...</td>\n",
       "      <td>Queen Anne</td>\n",
       "      <td>2.0</td>\n",
       "      <td>2.0</td>\n",
       "      <td>['email', 'phone', 'facebook', 'reviews', 'kba']</td>\n",
       "      <td>t</td>\n",
       "      <td>t</td>\n",
       "      <td>0.105263</td>\n",
       "    </tr>\n",
       "  </tbody>\n",
       "</table>\n",
       "</div>"
      ],
      "text/plain": [
       "    host_id                                    host_url host_name  host_since  \\\n",
       "0    956883    https://www.airbnb.com/users/show/956883     Maija  2011-08-11   \n",
       "1   5177328   https://www.airbnb.com/users/show/5177328    Andrea  2013-02-21   \n",
       "2  16708587  https://www.airbnb.com/users/show/16708587      Jill  2014-06-12   \n",
       "3   9851441   https://www.airbnb.com/users/show/9851441     Emily  2013-11-06   \n",
       "4   1452570   https://www.airbnb.com/users/show/1452570     Emily  2011-11-29   \n",
       "\n",
       "                        host_location  \\\n",
       "0  Seattle, Washington, United States   \n",
       "1  Seattle, Washington, United States   \n",
       "2  Seattle, Washington, United States   \n",
       "3  Seattle, Washington, United States   \n",
       "4  Seattle, Washington, United States   \n",
       "\n",
       "                                          host_about  host_response_time  \\\n",
       "0  I am an artist, interior designer, and run a s...  within a few hours   \n",
       "1  Living east coast/left coast/overseas.  Time i...      within an hour   \n",
       "2  i love living in Seattle.  i grew up in the mi...  within a few hours   \n",
       "3                                                NaN                 NaN   \n",
       "4  Hi, I live in Seattle, Washington but I'm orig...      within an hour   \n",
       "\n",
       "  host_response_rate host_acceptance_rate host_is_superhost  \\\n",
       "0                96%                 100%                 f   \n",
       "1                98%                 100%                 t   \n",
       "2                67%                 100%                 f   \n",
       "3                NaN                  NaN                 f   \n",
       "4               100%                  NaN                 f   \n",
       "\n",
       "                                  host_thumbnail_url  \\\n",
       "0  https://a0.muscache.com/ac/users/956883/profil...   \n",
       "1  https://a0.muscache.com/ac/users/5177328/profi...   \n",
       "2  https://a1.muscache.com/ac/users/16708587/prof...   \n",
       "3  https://a2.muscache.com/ac/users/9851441/profi...   \n",
       "4  https://a0.muscache.com/ac/users/1452570/profi...   \n",
       "\n",
       "                                    host_picture_url host_neighbourhood  \\\n",
       "0  https://a0.muscache.com/ac/users/956883/profil...         Queen Anne   \n",
       "1  https://a0.muscache.com/ac/users/5177328/profi...         Queen Anne   \n",
       "2  https://a1.muscache.com/ac/users/16708587/prof...         Queen Anne   \n",
       "3  https://a2.muscache.com/ac/users/9851441/profi...         Queen Anne   \n",
       "4  https://a0.muscache.com/ac/users/1452570/profi...         Queen Anne   \n",
       "\n",
       "   host_listings_count  host_total_listings_count  \\\n",
       "0                  3.0                        3.0   \n",
       "1                  6.0                        6.0   \n",
       "2                  2.0                        2.0   \n",
       "3                  1.0                        1.0   \n",
       "4                  2.0                        2.0   \n",
       "\n",
       "                                  host_verifications host_has_profile_pic  \\\n",
       "0               ['email', 'phone', 'reviews', 'kba']                    t   \n",
       "1  ['email', 'phone', 'facebook', 'linkedin', 're...                    t   \n",
       "2   ['email', 'phone', 'google', 'reviews', 'jumio']                    t   \n",
       "3  ['email', 'phone', 'facebook', 'reviews', 'jum...                    t   \n",
       "4   ['email', 'phone', 'facebook', 'reviews', 'kba']                    t   \n",
       "\n",
       "  host_identity_verified  perc_comments_helpful  \n",
       "0                      t               0.077295  \n",
       "1                      t               0.186047  \n",
       "2                      t               0.050000  \n",
       "3                      t               0.000000  \n",
       "4                      t               0.105263  "
      ]
     },
     "execution_count": 48,
     "metadata": {},
     "output_type": "execute_result"
    }
   ],
   "source": [
    "host.head()"
   ]
  },
  {
   "cell_type": "code",
   "execution_count": 49,
   "metadata": {},
   "outputs": [],
   "source": [
    "host.to_pickle('host.pkl')"
   ]
  },
  {
   "cell_type": "markdown",
   "metadata": {},
   "source": [
    "# 3. Data Exploration & Evaluation\n",
    "\n",
    "\n",
    "## 3.1 Checking H1 variables"
   ]
  },
  {
   "cell_type": "code",
   "execution_count": 50,
   "metadata": {},
   "outputs": [],
   "source": [
    "host = pd.read_pickle('host.pkl')"
   ]
  },
  {
   "cell_type": "code",
   "execution_count": 51,
   "metadata": {},
   "outputs": [
    {
     "data": {
      "text/plain": [
       "host_id                        int64\n",
       "host_url                      object\n",
       "host_name                     object\n",
       "host_since                    object\n",
       "host_location                 object\n",
       "host_about                    object\n",
       "host_response_time            object\n",
       "host_response_rate            object\n",
       "host_acceptance_rate          object\n",
       "host_is_superhost             object\n",
       "host_thumbnail_url            object\n",
       "host_picture_url              object\n",
       "host_neighbourhood            object\n",
       "host_listings_count          float64\n",
       "host_total_listings_count    float64\n",
       "host_verifications            object\n",
       "host_has_profile_pic          object\n",
       "host_identity_verified        object\n",
       "perc_comments_helpful        float64\n",
       "dtype: object"
      ]
     },
     "execution_count": 51,
     "metadata": {},
     "output_type": "execute_result"
    }
   ],
   "source": [
    "host.dtypes"
   ]
  },
  {
   "cell_type": "code",
   "execution_count": 52,
   "metadata": {
    "scrolled": true
   },
   "outputs": [
    {
     "data": {
      "text/plain": [
       "host_id                        0\n",
       "host_url                       0\n",
       "host_name                      2\n",
       "host_since                     2\n",
       "host_location                  8\n",
       "host_about                   859\n",
       "host_response_time           523\n",
       "host_response_rate           523\n",
       "host_acceptance_rate         773\n",
       "host_is_superhost              2\n",
       "host_thumbnail_url             2\n",
       "host_picture_url               2\n",
       "host_neighbourhood           300\n",
       "host_listings_count            2\n",
       "host_total_listings_count      2\n",
       "host_verifications             0\n",
       "host_has_profile_pic           2\n",
       "host_identity_verified         2\n",
       "perc_comments_helpful          0\n",
       "dtype: int64"
      ]
     },
     "execution_count": 52,
     "metadata": {},
     "output_type": "execute_result"
    }
   ],
   "source": [
    "host.isna().sum()"
   ]
  },
  {
   "cell_type": "markdown",
   "metadata": {},
   "source": [
    "I'm dropping all the lines with missing value in the key variables I'm interested in."
   ]
  },
  {
   "cell_type": "code",
   "execution_count": 53,
   "metadata": {},
   "outputs": [],
   "source": [
    "host_no_missing = host.dropna(subset=['host_response_time','host_response_rate','host_acceptance_rate','host_total_listings_count','host_has_profile_pic','host_identity_verified'])"
   ]
  },
  {
   "cell_type": "code",
   "execution_count": 54,
   "metadata": {},
   "outputs": [
    {
     "data": {
      "text/plain": [
       "3027"
      ]
     },
     "execution_count": 54,
     "metadata": {},
     "output_type": "execute_result"
    }
   ],
   "source": [
    "len(host_no_missing)"
   ]
  },
  {
   "cell_type": "markdown",
   "metadata": {},
   "source": [
    "In order to use 'host_response_rate'and 'host_accpetance_rate', I'll transfer them into decimals."
   ]
  },
  {
   "cell_type": "code",
   "execution_count": 55,
   "metadata": {},
   "outputs": [],
   "source": [
    "def p2f(x):\n",
    "    return float(x.strip('%'))/100"
   ]
  },
  {
   "cell_type": "code",
   "execution_count": 56,
   "metadata": {},
   "outputs": [
    {
     "name": "stderr",
     "output_type": "stream",
     "text": [
      "D:\\Anaconda3\\lib\\site-packages\\ipykernel_launcher.py:1: SettingWithCopyWarning: \n",
      "A value is trying to be set on a copy of a slice from a DataFrame.\n",
      "Try using .loc[row_indexer,col_indexer] = value instead\n",
      "\n",
      "See the caveats in the documentation: http://pandas.pydata.org/pandas-docs/stable/indexing.html#indexing-view-versus-copy\n",
      "  \"\"\"Entry point for launching an IPython kernel.\n"
     ]
    }
   ],
   "source": [
    "host_no_missing['host_response_rate'] = host_no_missing['host_response_rate'].apply(p2f)"
   ]
  },
  {
   "cell_type": "code",
   "execution_count": 57,
   "metadata": {},
   "outputs": [
    {
     "name": "stderr",
     "output_type": "stream",
     "text": [
      "D:\\Anaconda3\\lib\\site-packages\\ipykernel_launcher.py:1: SettingWithCopyWarning: \n",
      "A value is trying to be set on a copy of a slice from a DataFrame.\n",
      "Try using .loc[row_indexer,col_indexer] = value instead\n",
      "\n",
      "See the caveats in the documentation: http://pandas.pydata.org/pandas-docs/stable/indexing.html#indexing-view-versus-copy\n",
      "  \"\"\"Entry point for launching an IPython kernel.\n"
     ]
    }
   ],
   "source": [
    "host_no_missing['host_acceptance_rate'] = host_no_missing['host_acceptance_rate'].apply(p2f)"
   ]
  },
  {
   "cell_type": "code",
   "execution_count": 58,
   "metadata": {},
   "outputs": [
    {
     "data": {
      "text/plain": [
       "0    0.96\n",
       "1    0.98\n",
       "2    0.67\n",
       "6    1.00\n",
       "7    1.00\n",
       "Name: host_response_rate, dtype: float64"
      ]
     },
     "execution_count": 58,
     "metadata": {},
     "output_type": "execute_result"
    }
   ],
   "source": [
    "host_no_missing['host_response_rate'].head()"
   ]
  },
  {
   "cell_type": "code",
   "execution_count": 59,
   "metadata": {},
   "outputs": [
    {
     "data": {
      "text/plain": [
       "0    1.0\n",
       "1    1.0\n",
       "2    1.0\n",
       "6    1.0\n",
       "7    1.0\n",
       "Name: host_acceptance_rate, dtype: float64"
      ]
     },
     "execution_count": 59,
     "metadata": {},
     "output_type": "execute_result"
    }
   ],
   "source": [
    "host_no_missing['host_acceptance_rate'].head()"
   ]
  },
  {
   "cell_type": "markdown",
   "metadata": {},
   "source": [
    "I'll create 4 dummies for 'host_response_time'."
   ]
  },
  {
   "cell_type": "code",
   "execution_count": 60,
   "metadata": {},
   "outputs": [
    {
     "data": {
      "text/plain": [
       "within an hour        1616\n",
       "within a few hours     889\n",
       "within a day           490\n",
       "a few days or more      32\n",
       "Name: host_response_time, dtype: int64"
      ]
     },
     "execution_count": 60,
     "metadata": {},
     "output_type": "execute_result"
    }
   ],
   "source": [
    "host_no_missing['host_response_time'].value_counts()"
   ]
  },
  {
   "cell_type": "code",
   "execution_count": 61,
   "metadata": {},
   "outputs": [],
   "source": [
    "def check_dummy(x, y):\n",
    "    if x == y:\n",
    "        return 1\n",
    "    return 0"
   ]
  },
  {
   "cell_type": "code",
   "execution_count": 62,
   "metadata": {},
   "outputs": [
    {
     "name": "stderr",
     "output_type": "stream",
     "text": [
      "D:\\Anaconda3\\lib\\site-packages\\ipykernel_launcher.py:1: SettingWithCopyWarning: \n",
      "A value is trying to be set on a copy of a slice from a DataFrame.\n",
      "Try using .loc[row_indexer,col_indexer] = value instead\n",
      "\n",
      "See the caveats in the documentation: http://pandas.pydata.org/pandas-docs/stable/indexing.html#indexing-view-versus-copy\n",
      "  \"\"\"Entry point for launching an IPython kernel.\n",
      "D:\\Anaconda3\\lib\\site-packages\\ipykernel_launcher.py:2: SettingWithCopyWarning: \n",
      "A value is trying to be set on a copy of a slice from a DataFrame.\n",
      "Try using .loc[row_indexer,col_indexer] = value instead\n",
      "\n",
      "See the caveats in the documentation: http://pandas.pydata.org/pandas-docs/stable/indexing.html#indexing-view-versus-copy\n",
      "  \n",
      "D:\\Anaconda3\\lib\\site-packages\\ipykernel_launcher.py:3: SettingWithCopyWarning: \n",
      "A value is trying to be set on a copy of a slice from a DataFrame.\n",
      "Try using .loc[row_indexer,col_indexer] = value instead\n",
      "\n",
      "See the caveats in the documentation: http://pandas.pydata.org/pandas-docs/stable/indexing.html#indexing-view-versus-copy\n",
      "  This is separate from the ipykernel package so we can avoid doing imports until\n",
      "D:\\Anaconda3\\lib\\site-packages\\ipykernel_launcher.py:4: SettingWithCopyWarning: \n",
      "A value is trying to be set on a copy of a slice from a DataFrame.\n",
      "Try using .loc[row_indexer,col_indexer] = value instead\n",
      "\n",
      "See the caveats in the documentation: http://pandas.pydata.org/pandas-docs/stable/indexing.html#indexing-view-versus-copy\n",
      "  after removing the cwd from sys.path.\n"
     ]
    }
   ],
   "source": [
    "host_no_missing['within an hour'] = host_no_missing['host_response_time'].apply(check_dummy, args=('within an hour',))\n",
    "host_no_missing['within a few hours'] = host_no_missing['host_response_time'].apply(check_dummy, args=('within a few hours',))\n",
    "host_no_missing['within a day'] = host_no_missing['host_response_time'].apply(check_dummy, args=('within a day',))\n",
    "host_no_missing['a few days or more'] = host_no_missing['host_response_time'].apply(check_dummy, args=('a few days or more',))"
   ]
  },
  {
   "cell_type": "code",
   "execution_count": 63,
   "metadata": {
    "scrolled": true
   },
   "outputs": [
    {
     "data": {
      "text/html": [
       "<div>\n",
       "<style scoped>\n",
       "    .dataframe tbody tr th:only-of-type {\n",
       "        vertical-align: middle;\n",
       "    }\n",
       "\n",
       "    .dataframe tbody tr th {\n",
       "        vertical-align: top;\n",
       "    }\n",
       "\n",
       "    .dataframe thead th {\n",
       "        text-align: right;\n",
       "    }\n",
       "</style>\n",
       "<table border=\"1\" class=\"dataframe\">\n",
       "  <thead>\n",
       "    <tr style=\"text-align: right;\">\n",
       "      <th></th>\n",
       "      <th>host_id</th>\n",
       "      <th>host_url</th>\n",
       "      <th>host_name</th>\n",
       "      <th>host_since</th>\n",
       "      <th>host_location</th>\n",
       "      <th>host_about</th>\n",
       "      <th>host_response_time</th>\n",
       "      <th>host_response_rate</th>\n",
       "      <th>host_acceptance_rate</th>\n",
       "      <th>host_is_superhost</th>\n",
       "      <th>...</th>\n",
       "      <th>host_listings_count</th>\n",
       "      <th>host_total_listings_count</th>\n",
       "      <th>host_verifications</th>\n",
       "      <th>host_has_profile_pic</th>\n",
       "      <th>host_identity_verified</th>\n",
       "      <th>perc_comments_helpful</th>\n",
       "      <th>within an hour</th>\n",
       "      <th>within a few hours</th>\n",
       "      <th>within a day</th>\n",
       "      <th>a few days or more</th>\n",
       "    </tr>\n",
       "  </thead>\n",
       "  <tbody>\n",
       "    <tr>\n",
       "      <th>0</th>\n",
       "      <td>956883</td>\n",
       "      <td>https://www.airbnb.com/users/show/956883</td>\n",
       "      <td>Maija</td>\n",
       "      <td>2011-08-11</td>\n",
       "      <td>Seattle, Washington, United States</td>\n",
       "      <td>I am an artist, interior designer, and run a s...</td>\n",
       "      <td>within a few hours</td>\n",
       "      <td>0.96</td>\n",
       "      <td>1.0</td>\n",
       "      <td>f</td>\n",
       "      <td>...</td>\n",
       "      <td>3.0</td>\n",
       "      <td>3.0</td>\n",
       "      <td>['email', 'phone', 'reviews', 'kba']</td>\n",
       "      <td>t</td>\n",
       "      <td>t</td>\n",
       "      <td>0.077295</td>\n",
       "      <td>0</td>\n",
       "      <td>1</td>\n",
       "      <td>0</td>\n",
       "      <td>0</td>\n",
       "    </tr>\n",
       "    <tr>\n",
       "      <th>1</th>\n",
       "      <td>5177328</td>\n",
       "      <td>https://www.airbnb.com/users/show/5177328</td>\n",
       "      <td>Andrea</td>\n",
       "      <td>2013-02-21</td>\n",
       "      <td>Seattle, Washington, United States</td>\n",
       "      <td>Living east coast/left coast/overseas.  Time i...</td>\n",
       "      <td>within an hour</td>\n",
       "      <td>0.98</td>\n",
       "      <td>1.0</td>\n",
       "      <td>t</td>\n",
       "      <td>...</td>\n",
       "      <td>6.0</td>\n",
       "      <td>6.0</td>\n",
       "      <td>['email', 'phone', 'facebook', 'linkedin', 're...</td>\n",
       "      <td>t</td>\n",
       "      <td>t</td>\n",
       "      <td>0.186047</td>\n",
       "      <td>1</td>\n",
       "      <td>0</td>\n",
       "      <td>0</td>\n",
       "      <td>0</td>\n",
       "    </tr>\n",
       "    <tr>\n",
       "      <th>2</th>\n",
       "      <td>16708587</td>\n",
       "      <td>https://www.airbnb.com/users/show/16708587</td>\n",
       "      <td>Jill</td>\n",
       "      <td>2014-06-12</td>\n",
       "      <td>Seattle, Washington, United States</td>\n",
       "      <td>i love living in Seattle.  i grew up in the mi...</td>\n",
       "      <td>within a few hours</td>\n",
       "      <td>0.67</td>\n",
       "      <td>1.0</td>\n",
       "      <td>f</td>\n",
       "      <td>...</td>\n",
       "      <td>2.0</td>\n",
       "      <td>2.0</td>\n",
       "      <td>['email', 'phone', 'google', 'reviews', 'jumio']</td>\n",
       "      <td>t</td>\n",
       "      <td>t</td>\n",
       "      <td>0.050000</td>\n",
       "      <td>0</td>\n",
       "      <td>1</td>\n",
       "      <td>0</td>\n",
       "      <td>0</td>\n",
       "    </tr>\n",
       "    <tr>\n",
       "      <th>6</th>\n",
       "      <td>2497928</td>\n",
       "      <td>https://www.airbnb.com/users/show/2497928</td>\n",
       "      <td>Gary And Beth</td>\n",
       "      <td>2012-05-30</td>\n",
       "      <td>Seattle, Washington, United States</td>\n",
       "      <td>We have lived in the the Queen Anne neighborho...</td>\n",
       "      <td>within an hour</td>\n",
       "      <td>1.00</td>\n",
       "      <td>1.0</td>\n",
       "      <td>t</td>\n",
       "      <td>...</td>\n",
       "      <td>1.0</td>\n",
       "      <td>1.0</td>\n",
       "      <td>['email', 'phone', 'reviews', 'kba']</td>\n",
       "      <td>t</td>\n",
       "      <td>t</td>\n",
       "      <td>0.068966</td>\n",
       "      <td>1</td>\n",
       "      <td>0</td>\n",
       "      <td>0</td>\n",
       "      <td>0</td>\n",
       "    </tr>\n",
       "    <tr>\n",
       "      <th>7</th>\n",
       "      <td>4016632</td>\n",
       "      <td>https://www.airbnb.com/users/show/4016632</td>\n",
       "      <td>Jean-Marc</td>\n",
       "      <td>2012-10-30</td>\n",
       "      <td>Seattle, Washington, United States</td>\n",
       "      <td>I am a carpenter at heart , I love music , I p...</td>\n",
       "      <td>within an hour</td>\n",
       "      <td>1.00</td>\n",
       "      <td>1.0</td>\n",
       "      <td>t</td>\n",
       "      <td>...</td>\n",
       "      <td>5.0</td>\n",
       "      <td>5.0</td>\n",
       "      <td>['email', 'phone', 'facebook', 'google', 'link...</td>\n",
       "      <td>t</td>\n",
       "      <td>t</td>\n",
       "      <td>0.063584</td>\n",
       "      <td>1</td>\n",
       "      <td>0</td>\n",
       "      <td>0</td>\n",
       "      <td>0</td>\n",
       "    </tr>\n",
       "  </tbody>\n",
       "</table>\n",
       "<p>5 rows × 23 columns</p>\n",
       "</div>"
      ],
      "text/plain": [
       "    host_id                                    host_url      host_name  \\\n",
       "0    956883    https://www.airbnb.com/users/show/956883          Maija   \n",
       "1   5177328   https://www.airbnb.com/users/show/5177328         Andrea   \n",
       "2  16708587  https://www.airbnb.com/users/show/16708587           Jill   \n",
       "6   2497928   https://www.airbnb.com/users/show/2497928  Gary And Beth   \n",
       "7   4016632   https://www.airbnb.com/users/show/4016632      Jean-Marc   \n",
       "\n",
       "   host_since                       host_location  \\\n",
       "0  2011-08-11  Seattle, Washington, United States   \n",
       "1  2013-02-21  Seattle, Washington, United States   \n",
       "2  2014-06-12  Seattle, Washington, United States   \n",
       "6  2012-05-30  Seattle, Washington, United States   \n",
       "7  2012-10-30  Seattle, Washington, United States   \n",
       "\n",
       "                                          host_about  host_response_time  \\\n",
       "0  I am an artist, interior designer, and run a s...  within a few hours   \n",
       "1  Living east coast/left coast/overseas.  Time i...      within an hour   \n",
       "2  i love living in Seattle.  i grew up in the mi...  within a few hours   \n",
       "6  We have lived in the the Queen Anne neighborho...      within an hour   \n",
       "7  I am a carpenter at heart , I love music , I p...      within an hour   \n",
       "\n",
       "   host_response_rate  host_acceptance_rate host_is_superhost  \\\n",
       "0                0.96                   1.0                 f   \n",
       "1                0.98                   1.0                 t   \n",
       "2                0.67                   1.0                 f   \n",
       "6                1.00                   1.0                 t   \n",
       "7                1.00                   1.0                 t   \n",
       "\n",
       "          ...         host_listings_count host_total_listings_count  \\\n",
       "0         ...                         3.0                       3.0   \n",
       "1         ...                         6.0                       6.0   \n",
       "2         ...                         2.0                       2.0   \n",
       "6         ...                         1.0                       1.0   \n",
       "7         ...                         5.0                       5.0   \n",
       "\n",
       "                                  host_verifications  host_has_profile_pic  \\\n",
       "0               ['email', 'phone', 'reviews', 'kba']                     t   \n",
       "1  ['email', 'phone', 'facebook', 'linkedin', 're...                     t   \n",
       "2   ['email', 'phone', 'google', 'reviews', 'jumio']                     t   \n",
       "6               ['email', 'phone', 'reviews', 'kba']                     t   \n",
       "7  ['email', 'phone', 'facebook', 'google', 'link...                     t   \n",
       "\n",
       "   host_identity_verified perc_comments_helpful within an hour  \\\n",
       "0                       t              0.077295              0   \n",
       "1                       t              0.186047              1   \n",
       "2                       t              0.050000              0   \n",
       "6                       t              0.068966              1   \n",
       "7                       t              0.063584              1   \n",
       "\n",
       "  within a few hours  within a day  a few days or more  \n",
       "0                  1             0                   0  \n",
       "1                  0             0                   0  \n",
       "2                  1             0                   0  \n",
       "6                  0             0                   0  \n",
       "7                  0             0                   0  \n",
       "\n",
       "[5 rows x 23 columns]"
      ]
     },
     "execution_count": 63,
     "metadata": {},
     "output_type": "execute_result"
    }
   ],
   "source": [
    "host_no_missing.head()"
   ]
  },
  {
   "cell_type": "markdown",
   "metadata": {},
   "source": [
    "I'll then transfer the binary variables ('host_is_superhost', 'host_has_profile_pic','host_identity_verified') into dummies."
   ]
  },
  {
   "cell_type": "code",
   "execution_count": 64,
   "metadata": {},
   "outputs": [],
   "source": [
    "def dummy(x):\n",
    "    if x == 'f':\n",
    "        return 0\n",
    "    return 1"
   ]
  },
  {
   "cell_type": "code",
   "execution_count": 65,
   "metadata": {
    "scrolled": true
   },
   "outputs": [
    {
     "name": "stderr",
     "output_type": "stream",
     "text": [
      "D:\\Anaconda3\\lib\\site-packages\\ipykernel_launcher.py:1: SettingWithCopyWarning: \n",
      "A value is trying to be set on a copy of a slice from a DataFrame.\n",
      "Try using .loc[row_indexer,col_indexer] = value instead\n",
      "\n",
      "See the caveats in the documentation: http://pandas.pydata.org/pandas-docs/stable/indexing.html#indexing-view-versus-copy\n",
      "  \"\"\"Entry point for launching an IPython kernel.\n",
      "D:\\Anaconda3\\lib\\site-packages\\ipykernel_launcher.py:2: SettingWithCopyWarning: \n",
      "A value is trying to be set on a copy of a slice from a DataFrame.\n",
      "Try using .loc[row_indexer,col_indexer] = value instead\n",
      "\n",
      "See the caveats in the documentation: http://pandas.pydata.org/pandas-docs/stable/indexing.html#indexing-view-versus-copy\n",
      "  \n",
      "D:\\Anaconda3\\lib\\site-packages\\ipykernel_launcher.py:3: SettingWithCopyWarning: \n",
      "A value is trying to be set on a copy of a slice from a DataFrame.\n",
      "Try using .loc[row_indexer,col_indexer] = value instead\n",
      "\n",
      "See the caveats in the documentation: http://pandas.pydata.org/pandas-docs/stable/indexing.html#indexing-view-versus-copy\n",
      "  This is separate from the ipykernel package so we can avoid doing imports until\n"
     ]
    }
   ],
   "source": [
    "host_no_missing['superhost_dummy'] = host_no_missing['host_is_superhost'].apply(dummy)\n",
    "host_no_missing['profile_pic_dummy'] = host_no_missing['host_has_profile_pic'].apply(dummy)\n",
    "host_no_missing['identity_dummy'] = host_no_missing['host_identity_verified'].apply(dummy)"
   ]
  },
  {
   "cell_type": "markdown",
   "metadata": {},
   "source": [
    "Now let's look at the means for different varibles between the superhost and non-superhost group."
   ]
  },
  {
   "cell_type": "code",
   "execution_count": 66,
   "metadata": {},
   "outputs": [
    {
     "data": {
      "text/html": [
       "<div>\n",
       "<style scoped>\n",
       "    .dataframe tbody tr th:only-of-type {\n",
       "        vertical-align: middle;\n",
       "    }\n",
       "\n",
       "    .dataframe tbody tr th {\n",
       "        vertical-align: top;\n",
       "    }\n",
       "\n",
       "    .dataframe thead th {\n",
       "        text-align: right;\n",
       "    }\n",
       "</style>\n",
       "<table border=\"1\" class=\"dataframe\">\n",
       "  <thead>\n",
       "    <tr style=\"text-align: right;\">\n",
       "      <th></th>\n",
       "      <th>host_id</th>\n",
       "      <th>host_response_rate</th>\n",
       "      <th>host_acceptance_rate</th>\n",
       "      <th>host_listings_count</th>\n",
       "      <th>host_total_listings_count</th>\n",
       "      <th>perc_comments_helpful</th>\n",
       "      <th>within an hour</th>\n",
       "      <th>within a few hours</th>\n",
       "      <th>within a day</th>\n",
       "      <th>a few days or more</th>\n",
       "      <th>profile_pic_dummy</th>\n",
       "      <th>identity_dummy</th>\n",
       "    </tr>\n",
       "    <tr>\n",
       "      <th>superhost_dummy</th>\n",
       "      <th></th>\n",
       "      <th></th>\n",
       "      <th></th>\n",
       "      <th></th>\n",
       "      <th></th>\n",
       "      <th></th>\n",
       "      <th></th>\n",
       "      <th></th>\n",
       "      <th></th>\n",
       "      <th></th>\n",
       "      <th></th>\n",
       "      <th></th>\n",
       "    </tr>\n",
       "  </thead>\n",
       "  <tbody>\n",
       "    <tr>\n",
       "      <th>0</th>\n",
       "      <td>1.587094e+07</td>\n",
       "      <td>0.940039</td>\n",
       "      <td>0.999566</td>\n",
       "      <td>9.843614</td>\n",
       "      <td>9.843614</td>\n",
       "      <td>0.092295</td>\n",
       "      <td>0.492615</td>\n",
       "      <td>0.303649</td>\n",
       "      <td>0.190269</td>\n",
       "      <td>0.013467</td>\n",
       "      <td>0.999131</td>\n",
       "      <td>0.791486</td>\n",
       "    </tr>\n",
       "    <tr>\n",
       "      <th>1</th>\n",
       "      <td>1.234605e+07</td>\n",
       "      <td>0.982428</td>\n",
       "      <td>1.000000</td>\n",
       "      <td>5.151724</td>\n",
       "      <td>5.151724</td>\n",
       "      <td>0.113423</td>\n",
       "      <td>0.664828</td>\n",
       "      <td>0.262069</td>\n",
       "      <td>0.071724</td>\n",
       "      <td>0.001379</td>\n",
       "      <td>0.998621</td>\n",
       "      <td>0.907586</td>\n",
       "    </tr>\n",
       "  </tbody>\n",
       "</table>\n",
       "</div>"
      ],
      "text/plain": [
       "                      host_id  host_response_rate  host_acceptance_rate  \\\n",
       "superhost_dummy                                                           \n",
       "0                1.587094e+07            0.940039              0.999566   \n",
       "1                1.234605e+07            0.982428              1.000000   \n",
       "\n",
       "                 host_listings_count  host_total_listings_count  \\\n",
       "superhost_dummy                                                   \n",
       "0                           9.843614                   9.843614   \n",
       "1                           5.151724                   5.151724   \n",
       "\n",
       "                 perc_comments_helpful  within an hour  within a few hours  \\\n",
       "superhost_dummy                                                              \n",
       "0                             0.092295        0.492615            0.303649   \n",
       "1                             0.113423        0.664828            0.262069   \n",
       "\n",
       "                 within a day  a few days or more  profile_pic_dummy  \\\n",
       "superhost_dummy                                                        \n",
       "0                    0.190269            0.013467           0.999131   \n",
       "1                    0.071724            0.001379           0.998621   \n",
       "\n",
       "                 identity_dummy  \n",
       "superhost_dummy                  \n",
       "0                      0.791486  \n",
       "1                      0.907586  "
      ]
     },
     "execution_count": 66,
     "metadata": {},
     "output_type": "execute_result"
    }
   ],
   "source": [
    "host_no_missing.groupby('superhost_dummy').mean()"
   ]
  },
  {
   "cell_type": "code",
   "execution_count": 67,
   "metadata": {
    "scrolled": true
   },
   "outputs": [
    {
     "data": {
      "image/png": "[encoded data removed]",
      "text/plain": [
       "<Figure size 432x288 with 1 Axes>"
      ]
     },
     "metadata": {
      "needs_background": "light"
     },
     "output_type": "display_data"
    }
   ],
   "source": [
    "sns.countplot(x=\"host_response_time\", hue =\"superhost_dummy\", data=host_no_missing, palette=\"Blues\");"
   ]
  },
  {
   "cell_type": "code",
   "execution_count": 68,
   "metadata": {
    "scrolled": true
   },
   "outputs": [
    {
     "data": {
      "image/png": "[encoded data removed]",
      "text/plain": [
       "<Figure size 432x288 with 1 Axes>"
      ]
     },
     "metadata": {
      "needs_background": "light"
     },
     "output_type": "display_data"
    }
   ],
   "source": [
    "sns.countplot(x=\"profile_pic_dummy\", hue =\"superhost_dummy\", data=host_no_missing, palette=\"Blues\");"
   ]
  },
  {
   "cell_type": "markdown",
   "metadata": {},
   "source": [
    "It seems that every host has a profile pic, so this is not useful for our modelling."
   ]
  },
  {
   "cell_type": "code",
   "execution_count": 69,
   "metadata": {
    "scrolled": true
   },
   "outputs": [
    {
     "data": {
      "image/png": "[encoded data removed]",
      "text/plain": [
       "<Figure size 432x288 with 1 Axes>"
      ]
     },
     "metadata": {
      "needs_background": "light"
     },
     "output_type": "display_data"
    }
   ],
   "source": [
    "sns.countplot(x=\"identity_dummy\", hue =\"superhost_dummy\", data=host_no_missing, palette=\"Blues\");"
   ]
  },
  {
   "cell_type": "markdown",
   "metadata": {},
   "source": [
    "Based on the descrptives and visulizations above, it seems that the hypothesized variables are indeed related with superhost ststus, therefore I would include the following variables into my model:\n",
    "\n",
    "DV: \n",
    "* superhost_dummy\n",
    "\n",
    "IVs:\n",
    "* host_response_rate\n",
    "* host_acceptance_rate\n",
    "* host_total_listings_count\n",
    "* perc_comments_helpful\n",
    "* within an hour\n",
    "* within a few hours\n",
    "* within a day\n",
    "* a few days or more\n",
    "* identity_dummy"
   ]
  },
  {
   "cell_type": "code",
   "execution_count": 70,
   "metadata": {},
   "outputs": [],
   "source": [
    "H1 = host_no_missing[['superhost_dummy','host_response_rate','host_acceptance_rate','host_total_listings_count','perc_comments_helpful', 'within an hour','within a few hours', 'within a day', 'a few days or more', 'identity_dummy']]"
   ]
  },
  {
   "cell_type": "code",
   "execution_count": 71,
   "metadata": {},
   "outputs": [],
   "source": [
    "H1.to_pickle('H1.pkl')"
   ]
  },
  {
   "cell_type": "markdown",
   "metadata": {},
   "source": [
    "## 3.2 Checking H2 variables"
   ]
  },
  {
   "cell_type": "code",
   "execution_count": 72,
   "metadata": {},
   "outputs": [],
   "source": [
    "airbnb = pd.read_pickle('airbnb.pkl')"
   ]
  },
  {
   "cell_type": "code",
   "execution_count": 73,
   "metadata": {},
   "outputs": [
    {
     "data": {
      "text/plain": [
       "Index(['id', 'listing_url', 'scrape_id', 'last_scraped', 'name', 'summary',\n",
       "       'space', 'description', 'experiences_offered', 'neighborhood_overview',\n",
       "       'notes', 'transit', 'thumbnail_url', 'medium_url', 'picture_url',\n",
       "       'xl_picture_url', 'host_id', 'host_url', 'host_name', 'host_since',\n",
       "       'host_location', 'host_about', 'host_response_time',\n",
       "       'host_response_rate', 'host_acceptance_rate', 'host_is_superhost',\n",
       "       'host_thumbnail_url', 'host_picture_url', 'host_neighbourhood',\n",
       "       'host_listings_count', 'host_total_listings_count',\n",
       "       'host_verifications', 'host_has_profile_pic', 'host_identity_verified',\n",
       "       'street', 'neighbourhood', 'neighbourhood_cleansed',\n",
       "       'neighbourhood_group_cleansed', 'city', 'state', 'zipcode', 'market',\n",
       "       'smart_location', 'country_code', 'country', 'latitude', 'longitude',\n",
       "       'is_location_exact', 'property_type', 'room_type', 'accommodates',\n",
       "       'bathrooms', 'bedrooms', 'beds', 'bed_type', 'amenities', 'square_feet',\n",
       "       'price', 'weekly_price', 'monthly_price', 'security_deposit',\n",
       "       'cleaning_fee', 'guests_included', 'extra_people', 'minimum_nights',\n",
       "       'maximum_nights', 'calendar_updated', 'has_availability',\n",
       "       'availability_30', 'availability_60', 'availability_90',\n",
       "       'availability_365', 'calendar_last_scraped', 'number_of_reviews',\n",
       "       'first_review', 'last_review', 'review_scores_rating',\n",
       "       'review_scores_accuracy', 'review_scores_cleanliness',\n",
       "       'review_scores_checkin', 'review_scores_communication',\n",
       "       'review_scores_location', 'review_scores_value', 'requires_license',\n",
       "       'license', 'jurisdiction_names', 'instant_bookable',\n",
       "       'cancellation_policy', 'require_guest_profile_picture',\n",
       "       'require_guest_phone_verification', 'calculated_host_listings_count',\n",
       "       'reviews_per_month', 'average_sentiment_per_comment',\n",
       "       'perc_comments_helpful'],\n",
       "      dtype='object')"
      ]
     },
     "execution_count": 73,
     "metadata": {},
     "output_type": "execute_result"
    }
   ],
   "source": [
    "airbnb.columns"
   ]
  },
  {
   "cell_type": "code",
   "execution_count": 74,
   "metadata": {
    "scrolled": true
   },
   "outputs": [
    {
     "data": {
      "text/plain": [
       "id                                    int64\n",
       "listing_url                          object\n",
       "scrape_id                             int64\n",
       "last_scraped                         object\n",
       "name                                 object\n",
       "summary                              object\n",
       "space                                object\n",
       "description                          object\n",
       "experiences_offered                  object\n",
       "neighborhood_overview                object\n",
       "notes                                object\n",
       "transit                              object\n",
       "thumbnail_url                        object\n",
       "medium_url                           object\n",
       "picture_url                          object\n",
       "xl_picture_url                       object\n",
       "host_id                               int64\n",
       "host_url                             object\n",
       "host_name                            object\n",
       "host_since                           object\n",
       "host_location                        object\n",
       "host_about                           object\n",
       "host_response_time                   object\n",
       "host_response_rate                   object\n",
       "host_acceptance_rate                 object\n",
       "host_is_superhost                    object\n",
       "host_thumbnail_url                   object\n",
       "host_picture_url                     object\n",
       "host_neighbourhood                   object\n",
       "host_listings_count                 float64\n",
       "                                     ...   \n",
       "minimum_nights                        int64\n",
       "maximum_nights                        int64\n",
       "calendar_updated                     object\n",
       "has_availability                     object\n",
       "availability_30                       int64\n",
       "availability_60                       int64\n",
       "availability_90                       int64\n",
       "availability_365                      int64\n",
       "calendar_last_scraped                object\n",
       "number_of_reviews                     int64\n",
       "first_review                         object\n",
       "last_review                          object\n",
       "review_scores_rating                float64\n",
       "review_scores_accuracy              float64\n",
       "review_scores_cleanliness           float64\n",
       "review_scores_checkin               float64\n",
       "review_scores_communication         float64\n",
       "review_scores_location              float64\n",
       "review_scores_value                 float64\n",
       "requires_license                     object\n",
       "license                             float64\n",
       "jurisdiction_names                   object\n",
       "instant_bookable                     object\n",
       "cancellation_policy                  object\n",
       "require_guest_profile_picture        object\n",
       "require_guest_phone_verification     object\n",
       "calculated_host_listings_count        int64\n",
       "reviews_per_month                   float64\n",
       "average_sentiment_per_comment       float64\n",
       "perc_comments_helpful               float64\n",
       "Length: 94, dtype: object"
      ]
     },
     "execution_count": 74,
     "metadata": {},
     "output_type": "execute_result"
    }
   ],
   "source": [
    "airbnb.dtypes"
   ]
  },
  {
   "cell_type": "markdown",
   "metadata": {},
   "source": [
    "I'm creating dummies for room type."
   ]
  },
  {
   "cell_type": "code",
   "execution_count": 75,
   "metadata": {
    "scrolled": true
   },
   "outputs": [
    {
     "data": {
      "text/plain": [
       "Entire home/apt    2541\n",
       "Private room       1160\n",
       "Shared room         117\n",
       "Name: room_type, dtype: int64"
      ]
     },
     "execution_count": 75,
     "metadata": {},
     "output_type": "execute_result"
    }
   ],
   "source": [
    "airbnb['room_type'].value_counts()"
   ]
  },
  {
   "cell_type": "code",
   "execution_count": 76,
   "metadata": {},
   "outputs": [],
   "source": [
    "def check_dummy(x, y):\n",
    "    if x == y:\n",
    "        return 1\n",
    "    return 0"
   ]
  },
  {
   "cell_type": "code",
   "execution_count": 77,
   "metadata": {
    "scrolled": true
   },
   "outputs": [],
   "source": [
    "airbnb['Entire home/apt'] = airbnb['room_type'].apply(check_dummy, args=('Entire home/apt',))\n",
    "airbnb['Private room'] = airbnb['room_type'].apply(check_dummy, args=('Private room',))\n",
    "airbnb['Shared room'] = airbnb['room_type'].apply(check_dummy, args=('Shared room',))"
   ]
  },
  {
   "cell_type": "markdown",
   "metadata": {},
   "source": [
    "I'm creating dummies for binary variable \"instant_bookable_dummy\"."
   ]
  },
  {
   "cell_type": "code",
   "execution_count": 78,
   "metadata": {},
   "outputs": [],
   "source": [
    "def dummy(x):\n",
    "    if x == 'f':\n",
    "        return 0\n",
    "    return 1"
   ]
  },
  {
   "cell_type": "code",
   "execution_count": 79,
   "metadata": {},
   "outputs": [],
   "source": [
    "airbnb['instant_bookable_dummy'] = airbnb['instant_bookable'].apply(dummy)"
   ]
  },
  {
   "cell_type": "markdown",
   "metadata": {},
   "source": [
    "I'm dropping the dollar sign in \"price\"."
   ]
  },
  {
   "cell_type": "code",
   "execution_count": 80,
   "metadata": {},
   "outputs": [],
   "source": [
    "def d2f(x):\n",
    "    return x.strip('$')"
   ]
  },
  {
   "cell_type": "code",
   "execution_count": 81,
   "metadata": {},
   "outputs": [],
   "source": [
    "airbnb['price'] = airbnb['price'].apply(d2f)"
   ]
  },
  {
   "cell_type": "markdown",
   "metadata": {},
   "source": [
    "I'm tranferring \"price\" from string to numeric."
   ]
  },
  {
   "cell_type": "code",
   "execution_count": 82,
   "metadata": {},
   "outputs": [],
   "source": [
    "airbnb['price'] = pd.to_numeric(airbnb['price'], errors='coerce')"
   ]
  },
  {
   "cell_type": "markdown",
   "metadata": {},
   "source": [
    "I've converted the relevant variables into the ideal format, I'm dropping all the lines with missing value in my selected variables."
   ]
  },
  {
   "cell_type": "code",
   "execution_count": 83,
   "metadata": {},
   "outputs": [],
   "source": [
    "airbnb_no_missing = airbnb.dropna(subset=['review_scores_rating','room_type','instant_bookable_dummy','price','availability_365','average_sentiment_per_comment'])"
   ]
  },
  {
   "cell_type": "code",
   "execution_count": 84,
   "metadata": {},
   "outputs": [
    {
     "data": {
      "text/plain": [
       "3170"
      ]
     },
     "execution_count": 84,
     "metadata": {},
     "output_type": "execute_result"
    }
   ],
   "source": [
    "len(airbnb_no_missing)"
   ]
  },
  {
   "cell_type": "markdown",
   "metadata": {},
   "source": [
    "I'll run several regression plots to check the relationships between the IVs and DV."
   ]
  },
  {
   "cell_type": "code",
   "execution_count": 85,
   "metadata": {},
   "outputs": [],
   "source": [
    "np.random.seed(sum(map(ord, \"regression\")))"
   ]
  },
  {
   "cell_type": "code",
   "execution_count": 86,
   "metadata": {},
   "outputs": [
    {
     "data": {
      "image/png": "[encoded data removed]",
      "text/plain": [
       "<Figure size 432x288 with 1 Axes>"
      ]
     },
     "metadata": {
      "needs_background": "light"
     },
     "output_type": "display_data"
    }
   ],
   "source": [
    "sns.regplot(x=\"average_sentiment_per_comment\", y=\"review_scores_rating\", data=airbnb_no_missing);"
   ]
  },
  {
   "cell_type": "code",
   "execution_count": 87,
   "metadata": {},
   "outputs": [
    {
     "data": {
      "image/png": "[encoded data removed]",
      "text/plain": [
       "<Figure size 432x288 with 1 Axes>"
      ]
     },
     "metadata": {
      "needs_background": "light"
     },
     "output_type": "display_data"
    }
   ],
   "source": [
    "sns.regplot(x=\"price\", y=\"review_scores_rating\", data=airbnb_no_missing);"
   ]
  },
  {
   "cell_type": "code",
   "execution_count": 88,
   "metadata": {},
   "outputs": [
    {
     "data": {
      "image/png": "[encoded data removed]",
      "text/plain": [
       "<Figure size 432x288 with 1 Axes>"
      ]
     },
     "metadata": {
      "needs_background": "light"
     },
     "output_type": "display_data"
    }
   ],
   "source": [
    "sns.regplot(x=\"availability_365\", y=\"review_scores_rating\", data=airbnb_no_missing);"
   ]
  },
  {
   "cell_type": "code",
   "execution_count": 89,
   "metadata": {},
   "outputs": [
    {
     "data": {
      "image/png": "[encoded data removed]",
      "text/plain": [
       "<Figure size 432x288 with 1 Axes>"
      ]
     },
     "metadata": {
      "needs_background": "light"
     },
     "output_type": "display_data"
    }
   ],
   "source": [
    "sns.regplot(x=\"average_sentiment_per_comment\", y=\"review_scores_rating\", data=airbnb_no_missing);"
   ]
  },
  {
   "cell_type": "code",
   "execution_count": 90,
   "metadata": {},
   "outputs": [
    {
     "data": {
      "image/png": "[encoded data removed]",
      "text/plain": [
       "<Figure size 432x288 with 1 Axes>"
      ]
     },
     "metadata": {
      "needs_background": "light"
     },
     "output_type": "display_data"
    }
   ],
   "source": [
    "sns.regplot(x=\"perc_comments_helpful\", y=\"review_scores_rating\", data=airbnb_no_missing);"
   ]
  },
  {
   "cell_type": "code",
   "execution_count": 91,
   "metadata": {},
   "outputs": [
    {
     "data": {
      "text/html": [
       "<div>\n",
       "<style scoped>\n",
       "    .dataframe tbody tr th:only-of-type {\n",
       "        vertical-align: middle;\n",
       "    }\n",
       "\n",
       "    .dataframe tbody tr th {\n",
       "        vertical-align: top;\n",
       "    }\n",
       "\n",
       "    .dataframe thead th {\n",
       "        text-align: right;\n",
       "    }\n",
       "</style>\n",
       "<table border=\"1\" class=\"dataframe\">\n",
       "  <thead>\n",
       "    <tr style=\"text-align: right;\">\n",
       "      <th></th>\n",
       "      <th>id</th>\n",
       "      <th>scrape_id</th>\n",
       "      <th>host_id</th>\n",
       "      <th>host_listings_count</th>\n",
       "      <th>host_total_listings_count</th>\n",
       "      <th>latitude</th>\n",
       "      <th>longitude</th>\n",
       "      <th>accommodates</th>\n",
       "      <th>bathrooms</th>\n",
       "      <th>bedrooms</th>\n",
       "      <th>...</th>\n",
       "      <th>review_scores_value</th>\n",
       "      <th>license</th>\n",
       "      <th>calculated_host_listings_count</th>\n",
       "      <th>reviews_per_month</th>\n",
       "      <th>average_sentiment_per_comment</th>\n",
       "      <th>perc_comments_helpful</th>\n",
       "      <th>Entire home/apt</th>\n",
       "      <th>Private room</th>\n",
       "      <th>Shared room</th>\n",
       "      <th>instant_bookable_dummy</th>\n",
       "    </tr>\n",
       "    <tr>\n",
       "      <th>room_type</th>\n",
       "      <th></th>\n",
       "      <th></th>\n",
       "      <th></th>\n",
       "      <th></th>\n",
       "      <th></th>\n",
       "      <th></th>\n",
       "      <th></th>\n",
       "      <th></th>\n",
       "      <th></th>\n",
       "      <th></th>\n",
       "      <th></th>\n",
       "      <th></th>\n",
       "      <th></th>\n",
       "      <th></th>\n",
       "      <th></th>\n",
       "      <th></th>\n",
       "      <th></th>\n",
       "      <th></th>\n",
       "      <th></th>\n",
       "      <th></th>\n",
       "      <th></th>\n",
       "    </tr>\n",
       "  </thead>\n",
       "  <tbody>\n",
       "    <tr>\n",
       "      <th>Entire home/apt</th>\n",
       "      <td>5.041120e+06</td>\n",
       "      <td>2.016010e+13</td>\n",
       "      <td>1.415005e+07</td>\n",
       "      <td>8.407721</td>\n",
       "      <td>8.407721</td>\n",
       "      <td>47.628599</td>\n",
       "      <td>-122.334576</td>\n",
       "      <td>4.040019</td>\n",
       "      <td>1.299717</td>\n",
       "      <td>1.451841</td>\n",
       "      <td>...</td>\n",
       "      <td>9.418868</td>\n",
       "      <td>NaN</td>\n",
       "      <td>2.702919</td>\n",
       "      <td>1.993498</td>\n",
       "      <td>2.074633</td>\n",
       "      <td>0.111234</td>\n",
       "      <td>1.0</td>\n",
       "      <td>0.0</td>\n",
       "      <td>0.0</td>\n",
       "      <td>0.188795</td>\n",
       "    </tr>\n",
       "    <tr>\n",
       "      <th>Private room</th>\n",
       "      <td>4.907013e+06</td>\n",
       "      <td>2.016010e+13</td>\n",
       "      <td>1.489413e+07</td>\n",
       "      <td>2.969602</td>\n",
       "      <td>2.969602</td>\n",
       "      <td>47.628673</td>\n",
       "      <td>-122.329946</td>\n",
       "      <td>2.091195</td>\n",
       "      <td>1.165437</td>\n",
       "      <td>1.000000</td>\n",
       "      <td>...</td>\n",
       "      <td>9.530526</td>\n",
       "      <td>NaN</td>\n",
       "      <td>2.566038</td>\n",
       "      <td>2.347537</td>\n",
       "      <td>2.065626</td>\n",
       "      <td>0.112753</td>\n",
       "      <td>0.0</td>\n",
       "      <td>1.0</td>\n",
       "      <td>0.0</td>\n",
       "      <td>0.138365</td>\n",
       "    </tr>\n",
       "    <tr>\n",
       "      <th>Shared room</th>\n",
       "      <td>5.628683e+06</td>\n",
       "      <td>2.016010e+13</td>\n",
       "      <td>1.421350e+07</td>\n",
       "      <td>14.065217</td>\n",
       "      <td>14.065217</td>\n",
       "      <td>47.630176</td>\n",
       "      <td>-122.324031</td>\n",
       "      <td>1.652174</td>\n",
       "      <td>1.288043</td>\n",
       "      <td>1.000000</td>\n",
       "      <td>...</td>\n",
       "      <td>9.406593</td>\n",
       "      <td>NaN</td>\n",
       "      <td>14.043478</td>\n",
       "      <td>1.659674</td>\n",
       "      <td>1.976474</td>\n",
       "      <td>0.096351</td>\n",
       "      <td>0.0</td>\n",
       "      <td>0.0</td>\n",
       "      <td>1.0</td>\n",
       "      <td>0.076087</td>\n",
       "    </tr>\n",
       "  </tbody>\n",
       "</table>\n",
       "<p>3 rows × 37 columns</p>\n",
       "</div>"
      ],
      "text/plain": [
       "                           id     scrape_id       host_id  \\\n",
       "room_type                                                   \n",
       "Entire home/apt  5.041120e+06  2.016010e+13  1.415005e+07   \n",
       "Private room     4.907013e+06  2.016010e+13  1.489413e+07   \n",
       "Shared room      5.628683e+06  2.016010e+13  1.421350e+07   \n",
       "\n",
       "                 host_listings_count  host_total_listings_count   latitude  \\\n",
       "room_type                                                                    \n",
       "Entire home/apt             8.407721                   8.407721  47.628599   \n",
       "Private room                2.969602                   2.969602  47.628673   \n",
       "Shared room                14.065217                  14.065217  47.630176   \n",
       "\n",
       "                  longitude  accommodates  bathrooms  bedrooms  \\\n",
       "room_type                                                        \n",
       "Entire home/apt -122.334576      4.040019   1.299717  1.451841   \n",
       "Private room    -122.329946      2.091195   1.165437  1.000000   \n",
       "Shared room     -122.324031      1.652174   1.288043  1.000000   \n",
       "\n",
       "                          ...            review_scores_value  license  \\\n",
       "room_type                 ...                                           \n",
       "Entire home/apt           ...                       9.418868      NaN   \n",
       "Private room              ...                       9.530526      NaN   \n",
       "Shared room               ...                       9.406593      NaN   \n",
       "\n",
       "                 calculated_host_listings_count  reviews_per_month  \\\n",
       "room_type                                                            \n",
       "Entire home/apt                        2.702919           1.993498   \n",
       "Private room                           2.566038           2.347537   \n",
       "Shared room                           14.043478           1.659674   \n",
       "\n",
       "                 average_sentiment_per_comment  perc_comments_helpful  \\\n",
       "room_type                                                               \n",
       "Entire home/apt                       2.074633               0.111234   \n",
       "Private room                          2.065626               0.112753   \n",
       "Shared room                           1.976474               0.096351   \n",
       "\n",
       "                 Entire home/apt  Private room  Shared room  \\\n",
       "room_type                                                     \n",
       "Entire home/apt              1.0           0.0          0.0   \n",
       "Private room                 0.0           1.0          0.0   \n",
       "Shared room                  0.0           0.0          1.0   \n",
       "\n",
       "                 instant_bookable_dummy  \n",
       "room_type                                \n",
       "Entire home/apt                0.188795  \n",
       "Private room                   0.138365  \n",
       "Shared room                    0.076087  \n",
       "\n",
       "[3 rows x 37 columns]"
      ]
     },
     "execution_count": 91,
     "metadata": {},
     "output_type": "execute_result"
    }
   ],
   "source": [
    "airbnb_no_missing.groupby('room_type').mean()"
   ]
  },
  {
   "cell_type": "code",
   "execution_count": 92,
   "metadata": {
    "scrolled": true
   },
   "outputs": [
    {
     "data": {
      "text/html": [
       "<div>\n",
       "<style scoped>\n",
       "    .dataframe tbody tr th:only-of-type {\n",
       "        vertical-align: middle;\n",
       "    }\n",
       "\n",
       "    .dataframe tbody tr th {\n",
       "        vertical-align: top;\n",
       "    }\n",
       "\n",
       "    .dataframe thead th {\n",
       "        text-align: right;\n",
       "    }\n",
       "</style>\n",
       "<table border=\"1\" class=\"dataframe\">\n",
       "  <thead>\n",
       "    <tr style=\"text-align: right;\">\n",
       "      <th></th>\n",
       "      <th>id</th>\n",
       "      <th>scrape_id</th>\n",
       "      <th>host_id</th>\n",
       "      <th>host_listings_count</th>\n",
       "      <th>host_total_listings_count</th>\n",
       "      <th>latitude</th>\n",
       "      <th>longitude</th>\n",
       "      <th>accommodates</th>\n",
       "      <th>bathrooms</th>\n",
       "      <th>bedrooms</th>\n",
       "      <th>...</th>\n",
       "      <th>review_scores_location</th>\n",
       "      <th>review_scores_value</th>\n",
       "      <th>license</th>\n",
       "      <th>calculated_host_listings_count</th>\n",
       "      <th>reviews_per_month</th>\n",
       "      <th>average_sentiment_per_comment</th>\n",
       "      <th>perc_comments_helpful</th>\n",
       "      <th>Entire home/apt</th>\n",
       "      <th>Private room</th>\n",
       "      <th>Shared room</th>\n",
       "    </tr>\n",
       "    <tr>\n",
       "      <th>instant_bookable_dummy</th>\n",
       "      <th></th>\n",
       "      <th></th>\n",
       "      <th></th>\n",
       "      <th></th>\n",
       "      <th></th>\n",
       "      <th></th>\n",
       "      <th></th>\n",
       "      <th></th>\n",
       "      <th></th>\n",
       "      <th></th>\n",
       "      <th></th>\n",
       "      <th></th>\n",
       "      <th></th>\n",
       "      <th></th>\n",
       "      <th></th>\n",
       "      <th></th>\n",
       "      <th></th>\n",
       "      <th></th>\n",
       "      <th></th>\n",
       "      <th></th>\n",
       "      <th></th>\n",
       "    </tr>\n",
       "  </thead>\n",
       "  <tbody>\n",
       "    <tr>\n",
       "      <th>0</th>\n",
       "      <td>4.907222e+06</td>\n",
       "      <td>2.016010e+13</td>\n",
       "      <td>1.370453e+07</td>\n",
       "      <td>7.503422</td>\n",
       "      <td>7.503422</td>\n",
       "      <td>47.629229</td>\n",
       "      <td>-122.332756</td>\n",
       "      <td>3.358175</td>\n",
       "      <td>1.271756</td>\n",
       "      <td>1.327875</td>\n",
       "      <td>...</td>\n",
       "      <td>9.609458</td>\n",
       "      <td>9.441435</td>\n",
       "      <td>NaN</td>\n",
       "      <td>2.987072</td>\n",
       "      <td>1.86727</td>\n",
       "      <td>2.065960</td>\n",
       "      <td>0.111727</td>\n",
       "      <td>0.655133</td>\n",
       "      <td>0.312548</td>\n",
       "      <td>0.032319</td>\n",
       "    </tr>\n",
       "    <tr>\n",
       "      <th>1</th>\n",
       "      <td>5.556435e+06</td>\n",
       "      <td>2.016010e+13</td>\n",
       "      <td>1.764526e+07</td>\n",
       "      <td>4.168519</td>\n",
       "      <td>4.168519</td>\n",
       "      <td>47.625930</td>\n",
       "      <td>-122.333467</td>\n",
       "      <td>3.511111</td>\n",
       "      <td>1.197026</td>\n",
       "      <td>1.178439</td>\n",
       "      <td>...</td>\n",
       "      <td>9.609259</td>\n",
       "      <td>9.503704</td>\n",
       "      <td>NaN</td>\n",
       "      <td>3.009259</td>\n",
       "      <td>3.17687</td>\n",
       "      <td>2.084235</td>\n",
       "      <td>0.108984</td>\n",
       "      <td>0.742593</td>\n",
       "      <td>0.244444</td>\n",
       "      <td>0.012963</td>\n",
       "    </tr>\n",
       "  </tbody>\n",
       "</table>\n",
       "<p>2 rows × 36 columns</p>\n",
       "</div>"
      ],
      "text/plain": [
       "                                  id     scrape_id       host_id  \\\n",
       "instant_bookable_dummy                                             \n",
       "0                       4.907222e+06  2.016010e+13  1.370453e+07   \n",
       "1                       5.556435e+06  2.016010e+13  1.764526e+07   \n",
       "\n",
       "                        host_listings_count  host_total_listings_count  \\\n",
       "instant_bookable_dummy                                                   \n",
       "0                                  7.503422                   7.503422   \n",
       "1                                  4.168519                   4.168519   \n",
       "\n",
       "                         latitude   longitude  accommodates  bathrooms  \\\n",
       "instant_bookable_dummy                                                   \n",
       "0                       47.629229 -122.332756      3.358175   1.271756   \n",
       "1                       47.625930 -122.333467      3.511111   1.197026   \n",
       "\n",
       "                        bedrooms     ...       review_scores_location  \\\n",
       "instant_bookable_dummy               ...                                \n",
       "0                       1.327875     ...                     9.609458   \n",
       "1                       1.178439     ...                     9.609259   \n",
       "\n",
       "                        review_scores_value  license  \\\n",
       "instant_bookable_dummy                                 \n",
       "0                                  9.441435      NaN   \n",
       "1                                  9.503704      NaN   \n",
       "\n",
       "                        calculated_host_listings_count  reviews_per_month  \\\n",
       "instant_bookable_dummy                                                      \n",
       "0                                             2.987072            1.86727   \n",
       "1                                             3.009259            3.17687   \n",
       "\n",
       "                        average_sentiment_per_comment  perc_comments_helpful  \\\n",
       "instant_bookable_dummy                                                         \n",
       "0                                            2.065960               0.111727   \n",
       "1                                            2.084235               0.108984   \n",
       "\n",
       "                        Entire home/apt  Private room  Shared room  \n",
       "instant_bookable_dummy                                              \n",
       "0                              0.655133      0.312548     0.032319  \n",
       "1                              0.742593      0.244444     0.012963  \n",
       "\n",
       "[2 rows x 36 columns]"
      ]
     },
     "execution_count": 92,
     "metadata": {},
     "output_type": "execute_result"
    }
   ],
   "source": [
    "airbnb_no_missing.groupby('instant_bookable_dummy').mean()"
   ]
  },
  {
   "cell_type": "markdown",
   "metadata": {},
   "source": [
    "Based on the above visulizations and descriptives, the seleted varibales are indeed related with ratings, therfore I'd like to include the following variables into H2:\n",
    "\n",
    "DV:\n",
    "* review_score_rating\n",
    "\n",
    "IVs:\n",
    "* price\n",
    "* instant_bookable_dummy\n",
    "* availability_365\n",
    "* average_sentiment_per_comment\n",
    "* Entire home/apt\n",
    "* Private room\n",
    "* Shared room"
   ]
  },
  {
   "cell_type": "code",
   "execution_count": 93,
   "metadata": {},
   "outputs": [],
   "source": [
    "H2 = airbnb_no_missing[['review_scores_rating','price','instant_bookable_dummy','availability_365','average_sentiment_per_comment','Entire home/apt','Private room','Shared room']]"
   ]
  },
  {
   "cell_type": "code",
   "execution_count": 94,
   "metadata": {},
   "outputs": [],
   "source": [
    "H2.to_pickle('H2.pkl')"
   ]
  },
  {
   "cell_type": "markdown",
   "metadata": {},
   "source": [
    "# 4. Modelling & Hypothesis Testing\n",
    "\n",
    "\n",
    "# 4.1 Testing H1"
   ]
  },
  {
   "cell_type": "code",
   "execution_count": 95,
   "metadata": {},
   "outputs": [],
   "source": [
    "from sklearn.linear_model import LogisticRegression\n",
    "from sklearn.neighbors import KNeighborsClassifier\n",
    "import statsmodels.api as sm\n",
    "from sklearn.model_selection import train_test_split"
   ]
  },
  {
   "cell_type": "markdown",
   "metadata": {},
   "source": [
    "I'm loading the H1 dataset and check whether it's ok for testing."
   ]
  },
  {
   "cell_type": "code",
   "execution_count": 96,
   "metadata": {},
   "outputs": [],
   "source": [
    "H1 = pd.read_pickle('H1.pkl')"
   ]
  },
  {
   "cell_type": "code",
   "execution_count": 97,
   "metadata": {},
   "outputs": [
    {
     "data": {
      "text/plain": [
       "superhost_dummy                int64\n",
       "host_response_rate           float64\n",
       "host_acceptance_rate         float64\n",
       "host_total_listings_count    float64\n",
       "perc_comments_helpful        float64\n",
       "within an hour                 int64\n",
       "within a few hours             int64\n",
       "within a day                   int64\n",
       "a few days or more             int64\n",
       "identity_dummy                 int64\n",
       "dtype: object"
      ]
     },
     "execution_count": 97,
     "metadata": {},
     "output_type": "execute_result"
    }
   ],
   "source": [
    "H1.dtypes"
   ]
  },
  {
   "cell_type": "code",
   "execution_count": 98,
   "metadata": {},
   "outputs": [
    {
     "data": {
      "text/plain": [
       "superhost_dummy              0\n",
       "host_response_rate           0\n",
       "host_acceptance_rate         0\n",
       "host_total_listings_count    0\n",
       "perc_comments_helpful        0\n",
       "within an hour               0\n",
       "within a few hours           0\n",
       "within a day                 0\n",
       "a few days or more           0\n",
       "identity_dummy               0\n",
       "dtype: int64"
      ]
     },
     "execution_count": 98,
     "metadata": {},
     "output_type": "execute_result"
    }
   ],
   "source": [
    "H1.isna().sum()"
   ]
  },
  {
   "cell_type": "markdown",
   "metadata": {},
   "source": [
    "### 4.1.1 Running Logit Regression"
   ]
  },
  {
   "cell_type": "markdown",
   "metadata": {},
   "source": [
    "I split it into training and test data."
   ]
  },
  {
   "cell_type": "code",
   "execution_count": 99,
   "metadata": {},
   "outputs": [],
   "source": [
    "train, test = train_test_split(H1, test_size=0.2, random_state=0)"
   ]
  },
  {
   "cell_type": "code",
   "execution_count": 100,
   "metadata": {
    "scrolled": true
   },
   "outputs": [
    {
     "name": "stdout",
     "output_type": "stream",
     "text": [
      "3027 2421 606\n"
     ]
    }
   ],
   "source": [
    "print(len(H1), len(train), len(test))"
   ]
  },
  {
   "cell_type": "markdown",
   "metadata": {},
   "source": [
    "With the data prepared, I'll run the logit regression tests 3 times."
   ]
  },
  {
   "cell_type": "code",
   "execution_count": 101,
   "metadata": {},
   "outputs": [],
   "source": [
    "from sklearn.linear_model import LogisticRegression"
   ]
  },
  {
   "cell_type": "code",
   "execution_count": 102,
   "metadata": {},
   "outputs": [],
   "source": [
    "logit_clf = LogisticRegression(max_iter=1000, fit_intercept = True)"
   ]
  },
  {
   "cell_type": "markdown",
   "metadata": {},
   "source": [
    "Given there are 4 categories for 'host_response_time', I created 3 features."
   ]
  },
  {
   "cell_type": "code",
   "execution_count": 103,
   "metadata": {},
   "outputs": [],
   "source": [
    "features1 = ['host_response_rate','host_acceptance_rate','host_total_listings_count','perc_comments_helpful','within a few hours', 'within a day', 'a few days or more','identity_dummy'\n",
    "]\n",
    "features2 = ['host_response_rate','host_acceptance_rate','host_total_listings_count','perc_comments_helpful','within an hour', 'within a day', 'a few days or more','identity_dummy'\n",
    "]\n",
    "features3 = ['host_response_rate','host_acceptance_rate','host_total_listings_count','perc_comments_helpful','within an hour','within a few hours',  'a few days or more','identity_dummy'\n",
    "]"
   ]
  },
  {
   "cell_type": "code",
   "execution_count": 104,
   "metadata": {
    "scrolled": true
   },
   "outputs": [
    {
     "name": "stderr",
     "output_type": "stream",
     "text": [
      "D:\\Anaconda3\\lib\\site-packages\\sklearn\\linear_model\\logistic.py:433: FutureWarning: Default solver will be changed to 'lbfgs' in 0.22. Specify a solver to silence this warning.\n",
      "  FutureWarning)\n"
     ]
    },
    {
     "data": {
      "text/plain": [
       "LogisticRegression(C=1.0, class_weight=None, dual=False, fit_intercept=True,\n",
       "          intercept_scaling=1, max_iter=1000, multi_class='warn',\n",
       "          n_jobs=None, penalty='l2', random_state=None, solver='warn',\n",
       "          tol=0.0001, verbose=0, warm_start=False)"
      ]
     },
     "execution_count": 104,
     "metadata": {},
     "output_type": "execute_result"
    }
   ],
   "source": [
    "logit_clf.fit(train[features1], train['superhost_dummy'])"
   ]
  },
  {
   "cell_type": "code",
   "execution_count": 105,
   "metadata": {},
   "outputs": [
    {
     "data": {
      "text/html": [
       "<div>\n",
       "<style scoped>\n",
       "    .dataframe tbody tr th:only-of-type {\n",
       "        vertical-align: middle;\n",
       "    }\n",
       "\n",
       "    .dataframe tbody tr th {\n",
       "        vertical-align: top;\n",
       "    }\n",
       "\n",
       "    .dataframe thead th {\n",
       "        text-align: right;\n",
       "    }\n",
       "</style>\n",
       "<table border=\"1\" class=\"dataframe\">\n",
       "  <thead>\n",
       "    <tr style=\"text-align: right;\">\n",
       "      <th></th>\n",
       "      <th>0</th>\n",
       "    </tr>\n",
       "  </thead>\n",
       "  <tbody>\n",
       "    <tr>\n",
       "      <th>host_response_rate</th>\n",
       "      <td>2.408384</td>\n",
       "    </tr>\n",
       "    <tr>\n",
       "      <th>host_acceptance_rate</th>\n",
       "      <td>-1.820065</td>\n",
       "    </tr>\n",
       "    <tr>\n",
       "      <th>host_total_listings_count</th>\n",
       "      <td>-0.009836</td>\n",
       "    </tr>\n",
       "    <tr>\n",
       "      <th>perc_comments_helpful</th>\n",
       "      <td>0.967579</td>\n",
       "    </tr>\n",
       "    <tr>\n",
       "      <th>within a few hours</th>\n",
       "      <td>-0.318769</td>\n",
       "    </tr>\n",
       "    <tr>\n",
       "      <th>within a day</th>\n",
       "      <td>-1.042910</td>\n",
       "    </tr>\n",
       "    <tr>\n",
       "      <th>a few days or more</th>\n",
       "      <td>-0.452598</td>\n",
       "    </tr>\n",
       "    <tr>\n",
       "      <th>identity_dummy</th>\n",
       "      <td>0.835694</td>\n",
       "    </tr>\n",
       "  </tbody>\n",
       "</table>\n",
       "</div>"
      ],
      "text/plain": [
       "                                  0\n",
       "host_response_rate         2.408384\n",
       "host_acceptance_rate      -1.820065\n",
       "host_total_listings_count -0.009836\n",
       "perc_comments_helpful      0.967579\n",
       "within a few hours        -0.318769\n",
       "within a day              -1.042910\n",
       "a few days or more        -0.452598\n",
       "identity_dummy             0.835694"
      ]
     },
     "execution_count": 105,
     "metadata": {},
     "output_type": "execute_result"
    }
   ],
   "source": [
    "pd.DataFrame(np.transpose(logit_clf.coef_), features1)"
   ]
  },
  {
   "cell_type": "code",
   "execution_count": 106,
   "metadata": {},
   "outputs": [],
   "source": [
    "import statsmodels.api as sm"
   ]
  },
  {
   "cell_type": "markdown",
   "metadata": {},
   "source": [
    "I added script 'method=bfgs' to optimiza the algorithm,the Broyden–Fletcher–Goldfarb–Shanno (BFGS) algorithm is an iterative method for solving unconstrained nonlinear optimization problems.\n",
    "\n",
    "The first test used 'within an hour' as the default host response time."
   ]
  },
  {
   "cell_type": "code",
   "execution_count": 107,
   "metadata": {
    "scrolled": true
   },
   "outputs": [
    {
     "name": "stdout",
     "output_type": "stream",
     "text": [
      "Warning: Maximum number of iterations has been exceeded.\n",
      "         Current function value: 0.518699\n",
      "         Iterations: 35\n",
      "         Function evaluations: 38\n",
      "         Gradient evaluations: 38\n",
      "                           Logit Regression Results                           \n",
      "==============================================================================\n",
      "Dep. Variable:        superhost_dummy   No. Observations:                 2421\n",
      "Model:                          Logit   Df Residuals:                     2412\n",
      "Method:                           MLE   Df Model:                            8\n",
      "Date:                Fri, 22 Mar 2019   Pseudo R-squ.:                 0.06514\n",
      "Time:                        22:28:03   Log-Likelihood:                -1255.8\n",
      "converged:                      False   LL-Null:                       -1343.3\n",
      "                                        LLR p-value:                 1.157e-33\n",
      "=============================================================================================\n",
      "                                coef    std err          z      P>|z|      [0.025      0.975]\n",
      "---------------------------------------------------------------------------------------------\n",
      "const                        -2.1871      2.234     -0.979      0.328      -6.566       2.192\n",
      "host_response_rate            2.6209      0.816      3.213      0.001       1.022       4.220\n",
      "host_acceptance_rate         -2.1270      2.054     -1.036      0.300      -6.152       1.898\n",
      "host_total_listings_count    -0.0096      0.003     -3.286      0.001      -0.015      -0.004\n",
      "perc_comments_helpful         1.9065      0.361      5.286      0.000       1.200       2.613\n",
      "within a few hours           -0.2909      0.112     -2.594      0.009      -0.511      -0.071\n",
      "within a day                 -1.1416      0.200     -5.713      0.000      -1.533      -0.750\n",
      "a few days or more           -2.0196      1.973     -1.024      0.306      -5.886       1.847\n",
      "identity_dummy                0.8637      0.156      5.549      0.000       0.559       1.169\n",
      "=============================================================================================\n"
     ]
    },
    {
     "name": "stderr",
     "output_type": "stream",
     "text": [
      "D:\\Anaconda3\\lib\\site-packages\\statsmodels\\base\\model.py:508: ConvergenceWarning: Maximum Likelihood optimization failed to converge. Check mle_retvals\n",
      "  \"Check mle_retvals\", ConvergenceWarning)\n"
     ]
    }
   ],
   "source": [
    "logit1 = sm.Logit(train['superhost_dummy'], sm.add_constant(train[features1]))\n",
    "result1 = logit1.fit(method='bfgs')\n",
    "print(result1.summary())"
   ]
  },
  {
   "cell_type": "markdown",
   "metadata": {},
   "source": [
    "The second test used 'within a few hours' as the default host response time."
   ]
  },
  {
   "cell_type": "code",
   "execution_count": 108,
   "metadata": {
    "scrolled": true
   },
   "outputs": [
    {
     "name": "stderr",
     "output_type": "stream",
     "text": [
      "D:\\Anaconda3\\lib\\site-packages\\statsmodels\\base\\model.py:508: ConvergenceWarning: Maximum Likelihood optimization failed to converge. Check mle_retvals\n",
      "  \"Check mle_retvals\", ConvergenceWarning)\n"
     ]
    },
    {
     "name": "stdout",
     "output_type": "stream",
     "text": [
      "Warning: Maximum number of iterations has been exceeded.\n",
      "         Current function value: 0.519056\n",
      "         Iterations: 35\n",
      "         Function evaluations: 38\n",
      "         Gradient evaluations: 38\n",
      "                           Logit Regression Results                           \n",
      "==============================================================================\n",
      "Dep. Variable:        superhost_dummy   No. Observations:                 2421\n",
      "Model:                          Logit   Df Residuals:                     2412\n",
      "Method:                           MLE   Df Model:                            8\n",
      "Date:                Fri, 22 Mar 2019   Pseudo R-squ.:                 0.06449\n",
      "Time:                        22:28:03   Log-Likelihood:                -1256.6\n",
      "converged:                      False   LL-Null:                       -1343.3\n",
      "                                        LLR p-value:                 2.664e-33\n",
      "=============================================================================================\n",
      "                                coef    std err          z      P>|z|      [0.025      0.975]\n",
      "---------------------------------------------------------------------------------------------\n",
      "const                        -2.0104      2.282     -0.881      0.378      -6.483       2.462\n",
      "host_response_rate            1.9063      0.774      2.463      0.014       0.389       3.424\n",
      "host_acceptance_rate         -1.9540      2.129     -0.918      0.359      -6.126       2.218\n",
      "host_total_listings_count    -0.0099      0.003     -3.349      0.001      -0.016      -0.004\n",
      "perc_comments_helpful         1.4954      0.360      4.150      0.000       0.789       2.202\n",
      "within an hour                0.2904      0.112      2.590      0.010       0.071       0.510\n",
      "within a day                 -0.8110      0.201     -4.041      0.000      -1.204      -0.418\n",
      "a few days or more           -1.2990      1.353     -0.960      0.337      -3.950       1.352\n",
      "identity_dummy                0.9679      0.160      6.062      0.000       0.655       1.281\n",
      "=============================================================================================\n"
     ]
    }
   ],
   "source": [
    "logit2 = sm.Logit(train['superhost_dummy'], sm.add_constant(train[features2]))\n",
    "result2 = logit2.fit(method='bfgs')\n",
    "print(result2.summary())"
   ]
  },
  {
   "cell_type": "markdown",
   "metadata": {},
   "source": [
    "The third test used 'within a day' as the default host response time."
   ]
  },
  {
   "cell_type": "code",
   "execution_count": 109,
   "metadata": {
    "scrolled": false
   },
   "outputs": [
    {
     "name": "stdout",
     "output_type": "stream",
     "text": [
      "Warning: Maximum number of iterations has been exceeded.\n",
      "         Current function value: 0.519629\n",
      "         Iterations: 35\n",
      "         Function evaluations: 38\n",
      "         Gradient evaluations: 38\n",
      "                           Logit Regression Results                           \n",
      "==============================================================================\n",
      "Dep. Variable:        superhost_dummy   No. Observations:                 2421\n",
      "Model:                          Logit   Df Residuals:                     2412\n",
      "Method:                           MLE   Df Model:                            8\n",
      "Date:                Fri, 22 Mar 2019   Pseudo R-squ.:                 0.06346\n",
      "Time:                        22:28:03   Log-Likelihood:                -1258.0\n",
      "converged:                      False   LL-Null:                       -1343.3\n",
      "                                        LLR p-value:                 1.016e-32\n",
      "=============================================================================================\n",
      "                                coef    std err          z      P>|z|      [0.025      0.975]\n",
      "---------------------------------------------------------------------------------------------\n",
      "const                        -2.6960      2.158     -1.249      0.212      -6.926       1.534\n",
      "host_response_rate            2.2777      0.798      2.856      0.004       0.715       3.841\n",
      "host_acceptance_rate         -2.5916      2.018     -1.284      0.199      -6.547       1.364\n",
      "host_total_listings_count    -0.0097      0.003     -3.314      0.001      -0.015      -0.004\n",
      "perc_comments_helpful         1.8803      0.362      5.199      0.000       1.171       2.589\n",
      "within an hour                1.0598      0.196      5.412      0.000       0.676       1.444\n",
      "within a few hours            0.7307      0.201      3.633      0.000       0.337       1.125\n",
      "a few days or more           -0.7415      1.633     -0.454      0.650      -3.942       2.460\n",
      "identity_dummy                1.1296      0.169      6.693      0.000       0.799       1.460\n",
      "=============================================================================================\n"
     ]
    },
    {
     "name": "stderr",
     "output_type": "stream",
     "text": [
      "D:\\Anaconda3\\lib\\site-packages\\statsmodels\\base\\model.py:508: ConvergenceWarning: Maximum Likelihood optimization failed to converge. Check mle_retvals\n",
      "  \"Check mle_retvals\", ConvergenceWarning)\n"
     ]
    }
   ],
   "source": [
    "logit3 = sm.Logit(train['superhost_dummy'], sm.add_constant(train[features3]))\n",
    "result3 = logit3.fit(method='bfgs')\n",
    "print(result3.summary())"
   ]
  },
  {
   "cell_type": "markdown",
   "metadata": {},
   "source": [
    "H1 Supported (except for acceptance rate and response in a few days or more)\n",
    "\n",
    "**Results:** \n",
    "* The three models are all significant (p < .001).\n",
    "* The response rate, total listings,perceived helpfulness, response time, and identity verification are significant indicators for the superhost status.\n",
    "* The acceptance rate and response in a few days or more are not significant indicators for the superhost status.\n",
    "\n",
    "\n",
    "**1) host_response_rate**\n",
    "\n",
    "Holding everything else constant, with a one-unit increase in response rate, we will see 2.28 times increase in the odds of becoming a superhost. \n",
    "\n",
    "**2) host_total_listings_count**\n",
    "\n",
    "Holding everything else constant, with a one-unit increase in total listing, we will see 0.9% times decrease in the odds of becoming a superhost. \n",
    "\n",
    "**3) perc_comments_helpful**\n",
    "\n",
    "Holding everything else constant, with a one-unit increase in total listing, we will see 1.88 times increase in the odds of becoming a superhost. \n",
    "\n",
    "**4) host_response_time**\n",
    "\n",
    "Holding everything else constant, if the host response time is shortened from within a day to within an hour, we will see 1.06 times  increase in the odds of becoming a superhost. \n",
    "\n",
    "Holding everything else constant, if the host response time is shortened from within a day to within a few hours, we will see 73%  increase in the odds of becoming a superhost. \n",
    "\n",
    "Holding everything else constant, if the host response time is shortened from within a few hours to within an hour, we will see 29%  increase in the odds of becoming a superhost. \n",
    "\n",
    "\n",
    "**5) identity_dummy**\n",
    "\n",
    "Holding everything else constant, if the host identity is identified (vs. not identified), we see 1.12 times increase in the odds of becoming a superhost. \n"
   ]
  },
  {
   "cell_type": "markdown",
   "metadata": {},
   "source": [
    "### 4.1.2 Predicting cases"
   ]
  },
  {
   "cell_type": "code",
   "execution_count": 110,
   "metadata": {
    "scrolled": true
   },
   "outputs": [
    {
     "name": "stderr",
     "output_type": "stream",
     "text": [
      "D:\\Anaconda3\\lib\\site-packages\\ipykernel_launcher.py:1: SettingWithCopyWarning: \n",
      "A value is trying to be set on a copy of a slice from a DataFrame.\n",
      "Try using .loc[row_indexer,col_indexer] = value instead\n",
      "\n",
      "See the caveats in the documentation: http://pandas.pydata.org/pandas-docs/stable/indexing.html#indexing-view-versus-copy\n",
      "  \"\"\"Entry point for launching an IPython kernel.\n"
     ]
    },
    {
     "data": {
      "text/html": [
       "<div>\n",
       "<style scoped>\n",
       "    .dataframe tbody tr th:only-of-type {\n",
       "        vertical-align: middle;\n",
       "    }\n",
       "\n",
       "    .dataframe tbody tr th {\n",
       "        vertical-align: top;\n",
       "    }\n",
       "\n",
       "    .dataframe thead th {\n",
       "        text-align: right;\n",
       "    }\n",
       "</style>\n",
       "<table border=\"1\" class=\"dataframe\">\n",
       "  <thead>\n",
       "    <tr style=\"text-align: right;\">\n",
       "      <th></th>\n",
       "      <th>predicted_superhost_logit1</th>\n",
       "      <th>superhost_dummy</th>\n",
       "    </tr>\n",
       "  </thead>\n",
       "  <tbody>\n",
       "    <tr>\n",
       "      <th>2667</th>\n",
       "      <td>0</td>\n",
       "      <td>0</td>\n",
       "    </tr>\n",
       "    <tr>\n",
       "      <th>3774</th>\n",
       "      <td>0</td>\n",
       "      <td>1</td>\n",
       "    </tr>\n",
       "    <tr>\n",
       "      <th>2699</th>\n",
       "      <td>0</td>\n",
       "      <td>0</td>\n",
       "    </tr>\n",
       "    <tr>\n",
       "      <th>14</th>\n",
       "      <td>0</td>\n",
       "      <td>0</td>\n",
       "    </tr>\n",
       "    <tr>\n",
       "      <th>2293</th>\n",
       "      <td>0</td>\n",
       "      <td>1</td>\n",
       "    </tr>\n",
       "  </tbody>\n",
       "</table>\n",
       "</div>"
      ],
      "text/plain": [
       "      predicted_superhost_logit1  superhost_dummy\n",
       "2667                           0                0\n",
       "3774                           0                1\n",
       "2699                           0                0\n",
       "14                             0                0\n",
       "2293                           0                1"
      ]
     },
     "execution_count": 110,
     "metadata": {},
     "output_type": "execute_result"
    }
   ],
   "source": [
    "test['predicted_superhost_logit1'] = logit_clf.predict(test[features1])\n",
    "test[['predicted_superhost_logit1', 'superhost_dummy']].head()"
   ]
  },
  {
   "cell_type": "code",
   "execution_count": 111,
   "metadata": {},
   "outputs": [
    {
     "name": "stderr",
     "output_type": "stream",
     "text": [
      "D:\\Anaconda3\\lib\\site-packages\\ipykernel_launcher.py:1: SettingWithCopyWarning: \n",
      "A value is trying to be set on a copy of a slice from a DataFrame.\n",
      "Try using .loc[row_indexer,col_indexer] = value instead\n",
      "\n",
      "See the caveats in the documentation: http://pandas.pydata.org/pandas-docs/stable/indexing.html#indexing-view-versus-copy\n",
      "  \"\"\"Entry point for launching an IPython kernel.\n"
     ]
    },
    {
     "data": {
      "text/html": [
       "<div>\n",
       "<style scoped>\n",
       "    .dataframe tbody tr th:only-of-type {\n",
       "        vertical-align: middle;\n",
       "    }\n",
       "\n",
       "    .dataframe tbody tr th {\n",
       "        vertical-align: top;\n",
       "    }\n",
       "\n",
       "    .dataframe thead th {\n",
       "        text-align: right;\n",
       "    }\n",
       "</style>\n",
       "<table border=\"1\" class=\"dataframe\">\n",
       "  <thead>\n",
       "    <tr style=\"text-align: right;\">\n",
       "      <th></th>\n",
       "      <th>predicted_superhost_logit2</th>\n",
       "      <th>superhost_dummy</th>\n",
       "    </tr>\n",
       "  </thead>\n",
       "  <tbody>\n",
       "    <tr>\n",
       "      <th>2667</th>\n",
       "      <td>0</td>\n",
       "      <td>0</td>\n",
       "    </tr>\n",
       "    <tr>\n",
       "      <th>3774</th>\n",
       "      <td>0</td>\n",
       "      <td>1</td>\n",
       "    </tr>\n",
       "    <tr>\n",
       "      <th>2699</th>\n",
       "      <td>0</td>\n",
       "      <td>0</td>\n",
       "    </tr>\n",
       "    <tr>\n",
       "      <th>14</th>\n",
       "      <td>0</td>\n",
       "      <td>0</td>\n",
       "    </tr>\n",
       "    <tr>\n",
       "      <th>2293</th>\n",
       "      <td>0</td>\n",
       "      <td>1</td>\n",
       "    </tr>\n",
       "  </tbody>\n",
       "</table>\n",
       "</div>"
      ],
      "text/plain": [
       "      predicted_superhost_logit2  superhost_dummy\n",
       "2667                           0                0\n",
       "3774                           0                1\n",
       "2699                           0                0\n",
       "14                             0                0\n",
       "2293                           0                1"
      ]
     },
     "execution_count": 111,
     "metadata": {},
     "output_type": "execute_result"
    }
   ],
   "source": [
    "test['predicted_superhost_logit2'] = logit_clf.predict(test[features2])\n",
    "test[['predicted_superhost_logit2', 'superhost_dummy']].head()"
   ]
  },
  {
   "cell_type": "code",
   "execution_count": 112,
   "metadata": {},
   "outputs": [
    {
     "name": "stderr",
     "output_type": "stream",
     "text": [
      "D:\\Anaconda3\\lib\\site-packages\\ipykernel_launcher.py:1: SettingWithCopyWarning: \n",
      "A value is trying to be set on a copy of a slice from a DataFrame.\n",
      "Try using .loc[row_indexer,col_indexer] = value instead\n",
      "\n",
      "See the caveats in the documentation: http://pandas.pydata.org/pandas-docs/stable/indexing.html#indexing-view-versus-copy\n",
      "  \"\"\"Entry point for launching an IPython kernel.\n"
     ]
    },
    {
     "data": {
      "text/html": [
       "<div>\n",
       "<style scoped>\n",
       "    .dataframe tbody tr th:only-of-type {\n",
       "        vertical-align: middle;\n",
       "    }\n",
       "\n",
       "    .dataframe tbody tr th {\n",
       "        vertical-align: top;\n",
       "    }\n",
       "\n",
       "    .dataframe thead th {\n",
       "        text-align: right;\n",
       "    }\n",
       "</style>\n",
       "<table border=\"1\" class=\"dataframe\">\n",
       "  <thead>\n",
       "    <tr style=\"text-align: right;\">\n",
       "      <th></th>\n",
       "      <th>predicted_superhost_logit3</th>\n",
       "      <th>superhost_dummy</th>\n",
       "    </tr>\n",
       "  </thead>\n",
       "  <tbody>\n",
       "    <tr>\n",
       "      <th>2667</th>\n",
       "      <td>0</td>\n",
       "      <td>0</td>\n",
       "    </tr>\n",
       "    <tr>\n",
       "      <th>3774</th>\n",
       "      <td>0</td>\n",
       "      <td>1</td>\n",
       "    </tr>\n",
       "    <tr>\n",
       "      <th>2699</th>\n",
       "      <td>0</td>\n",
       "      <td>0</td>\n",
       "    </tr>\n",
       "    <tr>\n",
       "      <th>14</th>\n",
       "      <td>0</td>\n",
       "      <td>0</td>\n",
       "    </tr>\n",
       "    <tr>\n",
       "      <th>2293</th>\n",
       "      <td>0</td>\n",
       "      <td>1</td>\n",
       "    </tr>\n",
       "  </tbody>\n",
       "</table>\n",
       "</div>"
      ],
      "text/plain": [
       "      predicted_superhost_logit3  superhost_dummy\n",
       "2667                           0                0\n",
       "3774                           0                1\n",
       "2699                           0                0\n",
       "14                             0                0\n",
       "2293                           0                1"
      ]
     },
     "execution_count": 112,
     "metadata": {},
     "output_type": "execute_result"
    }
   ],
   "source": [
    "test['predicted_superhost_logit3'] = logit_clf.predict(test[features3])\n",
    "test[['predicted_superhost_logit3', 'superhost_dummy']].head()"
   ]
  },
  {
   "cell_type": "markdown",
   "metadata": {},
   "source": [
    "### 4.1.3 Evaluatin the model: confusion matrix, precision, recall, F1 score"
   ]
  },
  {
   "cell_type": "code",
   "execution_count": 113,
   "metadata": {},
   "outputs": [],
   "source": [
    "from sklearn.metrics import classification_report\n",
    "from sklearn.metrics import confusion_matrix"
   ]
  },
  {
   "cell_type": "code",
   "execution_count": 114,
   "metadata": {
    "scrolled": false
   },
   "outputs": [
    {
     "name": "stderr",
     "output_type": "stream",
     "text": [
      "D:\\Anaconda3\\lib\\site-packages\\ipykernel_launcher.py:1: SettingWithCopyWarning: \n",
      "A value is trying to be set on a copy of a slice from a DataFrame.\n",
      "Try using .loc[row_indexer,col_indexer] = value instead\n",
      "\n",
      "See the caveats in the documentation: http://pandas.pydata.org/pandas-docs/stable/indexing.html#indexing-view-versus-copy\n",
      "  \"\"\"Entry point for launching an IPython kernel.\n"
     ]
    }
   ],
   "source": [
    "test['predicted_superhost_logit1'] = logit_clf.predict(test[features1])"
   ]
  },
  {
   "cell_type": "code",
   "execution_count": 115,
   "metadata": {
    "scrolled": true
   },
   "outputs": [
    {
     "name": "stdout",
     "output_type": "stream",
     "text": [
      "[[468   2]\n",
      " [136   0]]\n"
     ]
    }
   ],
   "source": [
    "print(confusion_matrix(test['superhost_dummy'], test['predicted_superhost_logit1']))"
   ]
  },
  {
   "cell_type": "code",
   "execution_count": 116,
   "metadata": {
    "scrolled": false
   },
   "outputs": [
    {
     "name": "stdout",
     "output_type": "stream",
     "text": [
      "              precision    recall  f1-score   support\n",
      "\n",
      "           0       0.77      1.00      0.87       470\n",
      "           1       0.00      0.00      0.00       136\n",
      "\n",
      "   micro avg       0.77      0.77      0.77       606\n",
      "   macro avg       0.39      0.50      0.44       606\n",
      "weighted avg       0.60      0.77      0.68       606\n",
      "\n"
     ]
    }
   ],
   "source": [
    "print(classification_report(test['superhost_dummy'], test['predicted_superhost_logit1']))"
   ]
  },
  {
   "cell_type": "code",
   "execution_count": 117,
   "metadata": {},
   "outputs": [
    {
     "name": "stderr",
     "output_type": "stream",
     "text": [
      "D:\\Anaconda3\\lib\\site-packages\\ipykernel_launcher.py:1: SettingWithCopyWarning: \n",
      "A value is trying to be set on a copy of a slice from a DataFrame.\n",
      "Try using .loc[row_indexer,col_indexer] = value instead\n",
      "\n",
      "See the caveats in the documentation: http://pandas.pydata.org/pandas-docs/stable/indexing.html#indexing-view-versus-copy\n",
      "  \"\"\"Entry point for launching an IPython kernel.\n"
     ]
    }
   ],
   "source": [
    "test['predicted_superhost_logit2'] = logit_clf.predict(test[features2])"
   ]
  },
  {
   "cell_type": "code",
   "execution_count": 118,
   "metadata": {
    "scrolled": true
   },
   "outputs": [
    {
     "name": "stdout",
     "output_type": "stream",
     "text": [
      "[[469   1]\n",
      " [136   0]]\n"
     ]
    }
   ],
   "source": [
    "print(confusion_matrix(test['superhost_dummy'], test['predicted_superhost_logit2']))"
   ]
  },
  {
   "cell_type": "code",
   "execution_count": 119,
   "metadata": {},
   "outputs": [
    {
     "name": "stdout",
     "output_type": "stream",
     "text": [
      "              precision    recall  f1-score   support\n",
      "\n",
      "           0       0.78      1.00      0.87       470\n",
      "           1       0.00      0.00      0.00       136\n",
      "\n",
      "   micro avg       0.77      0.77      0.77       606\n",
      "   macro avg       0.39      0.50      0.44       606\n",
      "weighted avg       0.60      0.77      0.68       606\n",
      "\n"
     ]
    }
   ],
   "source": [
    "print(classification_report(test['superhost_dummy'], test['predicted_superhost_logit2']))"
   ]
  },
  {
   "cell_type": "code",
   "execution_count": 120,
   "metadata": {
    "scrolled": true
   },
   "outputs": [
    {
     "name": "stderr",
     "output_type": "stream",
     "text": [
      "D:\\Anaconda3\\lib\\site-packages\\ipykernel_launcher.py:1: SettingWithCopyWarning: \n",
      "A value is trying to be set on a copy of a slice from a DataFrame.\n",
      "Try using .loc[row_indexer,col_indexer] = value instead\n",
      "\n",
      "See the caveats in the documentation: http://pandas.pydata.org/pandas-docs/stable/indexing.html#indexing-view-versus-copy\n",
      "  \"\"\"Entry point for launching an IPython kernel.\n"
     ]
    }
   ],
   "source": [
    "test['predicted_superhost_logit3'] = logit_clf.predict(test[features3])"
   ]
  },
  {
   "cell_type": "code",
   "execution_count": 121,
   "metadata": {
    "scrolled": true
   },
   "outputs": [
    {
     "name": "stdout",
     "output_type": "stream",
     "text": [
      "[[470   0]\n",
      " [136   0]]\n"
     ]
    }
   ],
   "source": [
    "print(confusion_matrix(test['superhost_dummy'], test['predicted_superhost_logit3']))"
   ]
  },
  {
   "cell_type": "code",
   "execution_count": 122,
   "metadata": {},
   "outputs": [
    {
     "name": "stdout",
     "output_type": "stream",
     "text": [
      "              precision    recall  f1-score   support\n",
      "\n",
      "           0       0.78      1.00      0.87       470\n",
      "           1       0.00      0.00      0.00       136\n",
      "\n",
      "   micro avg       0.78      0.78      0.78       606\n",
      "   macro avg       0.39      0.50      0.44       606\n",
      "weighted avg       0.60      0.78      0.68       606\n",
      "\n"
     ]
    },
    {
     "name": "stderr",
     "output_type": "stream",
     "text": [
      "D:\\Anaconda3\\lib\\site-packages\\sklearn\\metrics\\classification.py:1143: UndefinedMetricWarning: Precision and F-score are ill-defined and being set to 0.0 in labels with no predicted samples.\n",
      "  'precision', 'predicted', average, warn_for)\n",
      "D:\\Anaconda3\\lib\\site-packages\\sklearn\\metrics\\classification.py:1143: UndefinedMetricWarning: Precision and F-score are ill-defined and being set to 0.0 in labels with no predicted samples.\n",
      "  'precision', 'predicted', average, warn_for)\n",
      "D:\\Anaconda3\\lib\\site-packages\\sklearn\\metrics\\classification.py:1143: UndefinedMetricWarning: Precision and F-score are ill-defined and being set to 0.0 in labels with no predicted samples.\n",
      "  'precision', 'predicted', average, warn_for)\n"
     ]
    }
   ],
   "source": [
    "print(classification_report(test['superhost_dummy'], test['predicted_superhost_logit3']))"
   ]
  },
  {
   "cell_type": "markdown",
   "metadata": {},
   "source": [
    "**Conclusions:**\n",
    "\n",
    "1) Confusion Matrix:\n",
    "\n",
    "The three models all have around 470 True Negatives and 136 False Negatives. At most 2 False Positives, there is no True Positives. \n",
    "It seems that this model is good at predicting negatives, not positives. This mighe be due to the uneven distribution of superhost and non-superhost groups.\n",
    "\n",
    "2) Precision, recall, F1\n",
    "\n",
    "The scores are the same throughout 3 tests.\n",
    "* The precision score is 0.60 which is ok as it is above 0.5.It means that 60% of the seletced items are relevant.\n",
    "* The recall score is 0.78, which is pretty good. It correctly identified 78% of the relevant items.\n",
    "* The F1-score is 0.68, which is also ok."
   ]
  },
  {
   "cell_type": "markdown",
   "metadata": {},
   "source": [
    "# 4.2 Testing H2"
   ]
  },
  {
   "cell_type": "code",
   "execution_count": 123,
   "metadata": {},
   "outputs": [],
   "source": [
    "import pandas as pd\n",
    "import seaborn as sns\n",
    "import numpy as np\n",
    "import matplotlib.pyplot as plt\n",
    "%matplotlib inline"
   ]
  },
  {
   "cell_type": "markdown",
   "metadata": {},
   "source": [
    "I'm loading the H2 dataset and check whether it's ok for testing."
   ]
  },
  {
   "cell_type": "code",
   "execution_count": 124,
   "metadata": {},
   "outputs": [],
   "source": [
    "H2 = pd.read_pickle('H2.pkl')"
   ]
  },
  {
   "cell_type": "code",
   "execution_count": 125,
   "metadata": {},
   "outputs": [
    {
     "data": {
      "text/plain": [
       "review_scores_rating             float64\n",
       "price                            float64\n",
       "instant_bookable_dummy             int64\n",
       "availability_365                   int64\n",
       "average_sentiment_per_comment    float64\n",
       "Entire home/apt                    int64\n",
       "Private room                       int64\n",
       "Shared room                        int64\n",
       "dtype: object"
      ]
     },
     "execution_count": 125,
     "metadata": {},
     "output_type": "execute_result"
    }
   ],
   "source": [
    "H2.dtypes"
   ]
  },
  {
   "cell_type": "code",
   "execution_count": 126,
   "metadata": {},
   "outputs": [
    {
     "data": {
      "text/plain": [
       "review_scores_rating             0\n",
       "price                            0\n",
       "instant_bookable_dummy           0\n",
       "availability_365                 0\n",
       "average_sentiment_per_comment    0\n",
       "Entire home/apt                  0\n",
       "Private room                     0\n",
       "Shared room                      0\n",
       "dtype: int64"
      ]
     },
     "execution_count": 126,
     "metadata": {},
     "output_type": "execute_result"
    }
   ],
   "source": [
    "H2.isna().sum()"
   ]
  },
  {
   "cell_type": "markdown",
   "metadata": {},
   "source": [
    "### 4.2.1 Running OLS Regression"
   ]
  },
  {
   "cell_type": "code",
   "execution_count": 127,
   "metadata": {},
   "outputs": [],
   "source": [
    "import statsmodels.api as sm\n",
    "import statsmodels.formula.api as smf"
   ]
  },
  {
   "cell_type": "code",
   "execution_count": 128,
   "metadata": {},
   "outputs": [],
   "source": [
    "features1 = ['price','instant_bookable_dummy','availability_365','average_sentiment_per_comment','Private room','Shared room']\n",
    "features2 = ['price','instant_bookable_dummy','availability_365','average_sentiment_per_comment','Entire home/apt','Shared room']"
   ]
  },
  {
   "cell_type": "markdown",
   "metadata": {},
   "source": [
    "The first test used \"Entire home/apt\" as the default room type."
   ]
  },
  {
   "cell_type": "code",
   "execution_count": 129,
   "metadata": {
    "scrolled": true
   },
   "outputs": [
    {
     "name": "stdout",
     "output_type": "stream",
     "text": [
      "                             OLS Regression Results                             \n",
      "================================================================================\n",
      "Dep. Variable:     review_scores_rating   R-squared:                       0.135\n",
      "Model:                              OLS   Adj. R-squared:                  0.133\n",
      "Method:                   Least Squares   F-statistic:                     82.00\n",
      "Date:                  Fri, 22 Mar 2019   Prob (F-statistic):           1.14e-95\n",
      "Time:                          22:28:03   Log-Likelihood:                -10253.\n",
      "No. Observations:                  3170   AIC:                         2.052e+04\n",
      "Df Residuals:                      3163   BIC:                         2.056e+04\n",
      "Df Model:                             6                                         \n",
      "Covariance Type:              nonrobust                                         \n",
      "=================================================================================================\n",
      "                                    coef    std err          t      P>|t|      [0.025      0.975]\n",
      "-------------------------------------------------------------------------------------------------\n",
      "const                            85.0783      0.537    158.516      0.000      84.026      86.131\n",
      "price                             0.0046      0.001      3.350      0.001       0.002       0.007\n",
      "instant_bookable_dummy            0.0968      0.292      0.332      0.740      -0.476       0.669\n",
      "availability_365                 -0.0018      0.001     -1.972      0.049      -0.004   -1.01e-05\n",
      "average_sentiment_per_comment     4.3809      0.203     21.542      0.000       3.982       4.780\n",
      "Private room                      0.7948      0.267      2.976      0.003       0.271       1.318\n",
      "Shared room                      -0.2036      0.676     -0.301      0.763      -1.529       1.122\n",
      "==============================================================================\n",
      "Omnibus:                     1797.630   Durbin-Watson:                   1.938\n",
      "Prob(Omnibus):                  0.000   Jarque-Bera (JB):            24640.574\n",
      "Skew:                          -2.414   Prob(JB):                         0.00\n",
      "Kurtosis:                      15.777   Cond. No.                     1.91e+03\n",
      "==============================================================================\n",
      "\n",
      "Warnings:\n",
      "[1] Standard Errors assume that the covariance matrix of the errors is correctly specified.\n",
      "[2] The condition number is large, 1.91e+03. This might indicate that there are\n",
      "strong multicollinearity or other numerical problems.\n"
     ]
    }
   ],
   "source": [
    "OLS_model1 = sm.OLS(H2['review_scores_rating'], sm.add_constant(H2[features1]))\n",
    "result1 = OLS_model1.fit()\n",
    "print(result1.summary())"
   ]
  },
  {
   "cell_type": "markdown",
   "metadata": {},
   "source": [
    "The second test used \"Private room\" as the default room type."
   ]
  },
  {
   "cell_type": "code",
   "execution_count": 130,
   "metadata": {
    "scrolled": false
   },
   "outputs": [
    {
     "name": "stdout",
     "output_type": "stream",
     "text": [
      "                             OLS Regression Results                             \n",
      "================================================================================\n",
      "Dep. Variable:     review_scores_rating   R-squared:                       0.135\n",
      "Model:                              OLS   Adj. R-squared:                  0.133\n",
      "Method:                   Least Squares   F-statistic:                     82.00\n",
      "Date:                  Fri, 22 Mar 2019   Prob (F-statistic):           1.14e-95\n",
      "Time:                          22:28:04   Log-Likelihood:                -10253.\n",
      "No. Observations:                  3170   AIC:                         2.052e+04\n",
      "Df Residuals:                      3163   BIC:                         2.056e+04\n",
      "Df Model:                             6                                         \n",
      "Covariance Type:              nonrobust                                         \n",
      "=================================================================================================\n",
      "                                    coef    std err          t      P>|t|      [0.025      0.975]\n",
      "-------------------------------------------------------------------------------------------------\n",
      "const                            85.8731      0.534    160.788      0.000      84.826      86.920\n",
      "price                             0.0046      0.001      3.350      0.001       0.002       0.007\n",
      "instant_bookable_dummy            0.0968      0.292      0.332      0.740      -0.476       0.669\n",
      "availability_365                 -0.0018      0.001     -1.972      0.049      -0.004   -1.01e-05\n",
      "average_sentiment_per_comment     4.3809      0.203     21.542      0.000       3.982       4.780\n",
      "Entire home/apt                  -0.7948      0.267     -2.976      0.003      -1.318      -0.271\n",
      "Shared room                      -0.9984      0.674     -1.482      0.138      -2.319       0.323\n",
      "==============================================================================\n",
      "Omnibus:                     1797.630   Durbin-Watson:                   1.938\n",
      "Prob(Omnibus):                  0.000   Jarque-Bera (JB):            24640.574\n",
      "Skew:                          -2.414   Prob(JB):                         0.00\n",
      "Kurtosis:                      15.777   Cond. No.                     1.90e+03\n",
      "==============================================================================\n",
      "\n",
      "Warnings:\n",
      "[1] Standard Errors assume that the covariance matrix of the errors is correctly specified.\n",
      "[2] The condition number is large, 1.9e+03. This might indicate that there are\n",
      "strong multicollinearity or other numerical problems.\n"
     ]
    }
   ],
   "source": [
    "OLS_model2 = sm.OLS(H2['review_scores_rating'], sm.add_constant(H2[features2]))\n",
    "result2 = OLS_model2.fit()\n",
    "print(result2.summary())"
   ]
  },
  {
   "cell_type": "markdown",
   "metadata": {},
   "source": [
    "H2 supported (except for instant bookability)\n",
    "\n",
    "**Results:**\n",
    "\n",
    "The two models are all significant (p < .001) and explained 13.5% of the variances in review ratings (adj-R2 = .135).\n",
    "\n",
    "* Price, availability, reputation and room type are significant indicators for review ratings. \n",
    "* Instant bookability is not significant for review ratings.\n",
    "\n",
    "**1) price:**\n",
    "\n",
    "Holding everything else constant, with a one-unit increase in price, we will see a 0.4% increase in review ratings. The higher the price is, the higher the rating would be. \n",
    "\n",
    "**2) availability_365:**\n",
    "\n",
    "Holding everything else constant, with a one-unit increase in availability, we will see a 0.2% decrease in review ratings. The more days the property is available, the lower the rating would be.\n",
    "\n",
    "**3）average_sentiment_per_comment:**\n",
    "\n",
    "Holding everything else constant, with a one-unit increase in sentiment, we will see 4.38 times increase in review ratings. The more positive the sentiment is, the higher the rating would be.\n",
    "\n",
    "**4）room type:**\n",
    "\n",
    "Holding everything else constant, the ratings for private room is 79% higher than that for entire apartment."
   ]
  },
  {
   "cell_type": "markdown",
   "metadata": {},
   "source": [
    "### 4.2.2 Predicting Cases"
   ]
  },
  {
   "cell_type": "code",
   "execution_count": 131,
   "metadata": {},
   "outputs": [],
   "source": [
    "from sklearn.linear_model import LinearRegression"
   ]
  },
  {
   "cell_type": "code",
   "execution_count": 132,
   "metadata": {},
   "outputs": [],
   "source": [
    "clf_OLS = LinearRegression()"
   ]
  },
  {
   "cell_type": "code",
   "execution_count": 133,
   "metadata": {},
   "outputs": [
    {
     "data": {
      "text/plain": [
       "LinearRegression(copy_X=True, fit_intercept=True, n_jobs=None,\n",
       "         normalize=False)"
      ]
     },
     "execution_count": 133,
     "metadata": {},
     "output_type": "execute_result"
    }
   ],
   "source": [
    "clf_OLS.fit(H2[features1], H2['review_scores_rating'])"
   ]
  },
  {
   "cell_type": "code",
   "execution_count": 134,
   "metadata": {
    "scrolled": true
   },
   "outputs": [
    {
     "data": {
      "text/html": [
       "<div>\n",
       "<style scoped>\n",
       "    .dataframe tbody tr th:only-of-type {\n",
       "        vertical-align: middle;\n",
       "    }\n",
       "\n",
       "    .dataframe tbody tr th {\n",
       "        vertical-align: top;\n",
       "    }\n",
       "\n",
       "    .dataframe thead th {\n",
       "        text-align: right;\n",
       "    }\n",
       "</style>\n",
       "<table border=\"1\" class=\"dataframe\">\n",
       "  <thead>\n",
       "    <tr style=\"text-align: right;\">\n",
       "      <th></th>\n",
       "      <th>0</th>\n",
       "    </tr>\n",
       "  </thead>\n",
       "  <tbody>\n",
       "    <tr>\n",
       "      <th>price</th>\n",
       "      <td>0.004634</td>\n",
       "    </tr>\n",
       "    <tr>\n",
       "      <th>instant_bookable_dummy</th>\n",
       "      <td>0.096809</td>\n",
       "    </tr>\n",
       "    <tr>\n",
       "      <th>availability_365</th>\n",
       "      <td>-0.001772</td>\n",
       "    </tr>\n",
       "    <tr>\n",
       "      <th>average_sentiment_per_comment</th>\n",
       "      <td>4.380917</td>\n",
       "    </tr>\n",
       "    <tr>\n",
       "      <th>Private room</th>\n",
       "      <td>0.794804</td>\n",
       "    </tr>\n",
       "    <tr>\n",
       "      <th>Shared room</th>\n",
       "      <td>-0.203585</td>\n",
       "    </tr>\n",
       "  </tbody>\n",
       "</table>\n",
       "</div>"
      ],
      "text/plain": [
       "                                      0\n",
       "price                          0.004634\n",
       "instant_bookable_dummy         0.096809\n",
       "availability_365              -0.001772\n",
       "average_sentiment_per_comment  4.380917\n",
       "Private room                   0.794804\n",
       "Shared room                   -0.203585"
      ]
     },
     "execution_count": 134,
     "metadata": {},
     "output_type": "execute_result"
    }
   ],
   "source": [
    "pd.DataFrame(np.transpose(clf_OLS.coef_), features1)"
   ]
  },
  {
   "cell_type": "markdown",
   "metadata": {},
   "source": [
    "* The first listing is 85 dollar, instant-bookable, is available 260 days per year, the average sentiment is postive, the room type is private room.\n",
    "* The second listing is 100 dollar, not instant-bookable, is available 304 days per year, the average sentiment is negative, the room type is entire apartment."
   ]
  },
  {
   "cell_type": "code",
   "execution_count": 135,
   "metadata": {},
   "outputs": [],
   "source": [
    "cases = [[[85,1, 260,1,1,0]], [[100,0,304,-1,0,0]]]"
   ]
  },
  {
   "cell_type": "code",
   "execution_count": 136,
   "metadata": {
    "scrolled": true
   },
   "outputs": [
    {
     "name": "stdout",
     "output_type": "stream",
     "text": [
      "[[85, 1, 260, 1, 1, 0]] : [90.28408854]\n",
      "[[100, 0, 304, -1, 0, 0]] : [80.62219068]\n"
     ]
    }
   ],
   "source": [
    "for case in cases:\n",
    "    print(case, ':', clf_OLS.predict(case))"
   ]
  },
  {
   "cell_type": "markdown",
   "metadata": {},
   "source": [
    "* The three listings are almost the same, except for room type. \n",
    "* The first one is entire apartment, the second one is private room, the second one is shared room."
   ]
  },
  {
   "cell_type": "code",
   "execution_count": 137,
   "metadata": {},
   "outputs": [],
   "source": [
    "cases = [[[85,0,304,1,0,0]], [[85,0,304,1,1,0]],[[85,0,304,1,0,1]]]"
   ]
  },
  {
   "cell_type": "code",
   "execution_count": 138,
   "metadata": {},
   "outputs": [
    {
     "name": "stdout",
     "output_type": "stream",
     "text": [
      "[[85, 0, 304, 1, 0, 0]] : [89.31451023]\n",
      "[[85, 0, 304, 1, 1, 0]] : [90.10931406]\n",
      "[[85, 0, 304, 1, 0, 1]] : [89.11092473]\n"
     ]
    }
   ],
   "source": [
    "for case in cases:\n",
    "    print(case, ':', clf_OLS.predict(case))"
   ]
  },
  {
   "cell_type": "markdown",
   "metadata": {},
   "source": [
    "# Evaluation\n",
    "\n",
    "\n",
    "*Host*\n",
    "\n",
    "The results of the logistic regression indicated that the response rate, number of total listings, perceived helpfulness, response time, and identity verification are all significant indicators for the superhost status. Therefore H1 is supported, except for that acceptance rate. Therefore, if an Airbnb wants to be a superhost and received some exclusive privileges from Airbnb, there are several aspects one can improve on. It is suggested to be responsive, but only measured by numbers of messages but also measured by how timely the messages are responded. Responding within an hour is the most optimal option. In addition, the host should be hospitable and helpful, which can be expressed through behaviors such as providing convenient services (like sharing iron or washing machine) and offering travel tips. To build up trust and offer guests with sense of security, it is advised to verify the personal identify information. Nevertheless, having more properties is not attributing to higher chance of becoming a superhost. The possible explanation maybe that if the host have several listings, he/she might be distracted and the energy and attention to each of the listings is reduced. Therefore, the quality of services the host offers is likely to be lower than that if he/she has fewer listings or just one. \n",
    "\n",
    "*Property*\n",
    "\n",
    "The results of the OLS regression indicated that the price, availability, reputation and room type are significant indicators for review ratings. Therefore H2 is supported, except for acceptance rate. If the property enjoys a good reputation (i.e. positive sentiment expressed in the reviews), people would tend to rate the listing higher. It is worth noting that private room outperforms both entire apartment and shared room. Though entire apartment secures less disruption, it also means very limited interaction between the guests and hosts. This adds support to a common belief that Airbnb users are expecting a reciprocal relationship and value the humanized experience from Airbnb accommodations. There should be a balance between privacy and social interaction. However, contrary to expectation, the price is positively related with ratings, which is not in line with people’ motivations to look for cheaper places. This may indicate that price is of less importance to Airbnb guests, and they might be willing to pay for more if it stands for better service. In addition, the yearly availability of the property is actually negatively related with ratings. Overall, Airbnb users are looking for private, sociable, and reasonably-priced accommodations. Cheaper price might not be a golden rule for them, but increase in price should be compensated by better facilities and services."
   ]
  },
  {
   "cell_type": "markdown",
   "metadata": {},
   "source": [
    "# Limitations and Next Steps\n",
    "\n",
    "The first limitation of my study is its geographical limitation to Seattle area combined with its temporal limitation (the data is scraped in Jan 2016). The generalizability of my study would then be harmed. Nonetheless, data for the same variables can be easily scraped for Airbnb listings in other cities and across alternative time periods (Gunter, 2018). The sampling strategy can be improved to generate insights into a broader Airbnb community.\n",
    "\n",
    "Secondly, there is actually a gap between the listing dataset and reviews dataset. There are 3818 listings and 84849 reviews, which means on average around 22 reviews are selected per listing. Even though I aggregated the reviews at the listing level, there is actually a flaw to this aggregation. That is to say, the two dependent variables in my study,  rating and the superhost status, are actually based on the reviews from all the past guests, instead of only from the 22 guests selected. I included sentiment analysis in both hypothese, but this sentiment analysis is generated from the 22 reviews, which might not be representative of the overall sentiment. I should either exclude sentiment analysis from my analysis at the listing level, or focus on the reviews and ratings at the individual level. Unfortunately, the existing dataset only offers rating information at the listing level, but not at the individual level. \n",
    "\n",
    "Therefore, for future research, there are two aspects that can be improved: First,  the dataset should be updated, and the scope for geo location can be expanded if needed. Second, given that it’s impossible  to gather all the past reviews ((eve if possible, that’ll be too much data to handle with), the future research should be really cautious about the consistency of their unit of analysis. If the analysis at the listing level (like I did), maybe consider drop sentiment analysis. If sentiment analysis is indeed an integral part of the research question, then researchers need to gather information about the individual ratings of the selected reviewers, instead the mean rating of all reviewers. \n"
   ]
  },
  {
   "cell_type": "markdown",
   "metadata": {},
   "source": [
    "# Ethical, Privacy and Normative Considerations\n",
    "\n",
    "When explorating this dataset, I’m actually surprised that Airbnb offered the real username and id of the guests and the hosts. If you type that id into Airbnb, you can actually match the reviews with the actual person who wrote it. Even though these information is public on Airbnb, however, it is a different scenario when organizations collect these information and offer it to the public directly. As Wigan & Clarke (2013) pointed out, when data directly or indirectly identifies an individual, that individual can claim rights to it. However, the problem is that big data aggregators typically assume they have rights to the data, or at least to the data collection as a whole (Wigan & Clarke, 2013) . This is exactly what Airbnb did. Airbnb published this data on a public dataset sharing platform called Kaggle, which means all the Kaggle users would have easy access to it without sparing any effort to scrape this themselves. \n",
    "\n",
    "In addition, normally when you look at one’s personal profile page, you would only see the reviews he/she receives from others. However, this dataset actually gives us the reviews the users wrote to others which is not public on one’ own page. I’m not sure whether they are aware of such data usage, but this is definitely against the GDPR regulations. Nevertheless, this dataset was published in Jan 2016, and the GDPR is not enforced at that time. I guess Airbnb just forgot about this dataset and didn’t do any maintenance after 2016.This reveals a further concern, that is the inherent insecurity of data, particularly when it exists in many copies, and when it has been consolidated into “honey pots” of potential value to many organizations (Wigan & Clarke, 2013). As the data nowadays are always shared and is not only controlled by one party, it would be pretty hard to fix the problems associated with that data once it’s been circulated. Take this dataset as an example, even if Airbnb realizes it someday and anonymizes it, it is impossible to track all the copies that’s been shared throughout these years. \n",
    "\n",
    "Finally, there are some doubts about the grant of superhost status. The superhost status is granted “automatically” for one quarter of a year by Airbnb without the need of a specific application (Gunter, 2018). However, the four official requirements announced by Airbnb are only the minimum criteria for a superhost status. Therefore, it is assumed that even if a host meets all the four requirements, he/she might still not get a superhost badge. It is then still up to Airbnb whether a host gets to superhost or not. Rumor has it that, contrary to what Airbnb claims, there may not even be any superhost ‘automatism’. Awarding the superhost status could be a (partially) steered process, especially regarding the apparent impact of being a commercial Airbnb provider on obtaining (or maintaining) the superhost status (Gunter, 2018). As many people treat superhost as a trust-building sign, it would be worrisome if such badge is actually not true to its claim.Wigan & Clarke (2013) stated that individuals often bear the consequences of an organization’s low-quality decision making. In the case of Airbnb, it might not necessarily be low-quality decision, but is likely to be biased decision making."
   ]
  },
  {
   "cell_type": "markdown",
   "metadata": {},
   "source": [
    "# References\n",
    "\n",
    "\n",
    "\n",
    "Airbnb. (2019a). About us. Retrieved March 21, 2019, from https://press.airbnb.com/about-us/\n",
    "\n",
    "Airbnb. (2019b). Superhost. Retrieved March 21, 2019, from https://www.airbnb.com/superhost?locale=en. \n",
    "\n",
    "Bridges, J., & Vásquez, C. (2018). If nearly all Airbnb reviews are positive, does that make them meaningless? Current Issues in Tourism, 21(18), 2065–2083. https://doi.org/10.1080/13683500.2016.1267113\n",
    "\n",
    "Cheng, M., & Jin, X. (2019). What do Airbnb users care about? An analysis of online review comments. International Journal of Hospitality Management, 76, 58–70. https://doi.org/10.1016/j.ijhm.2018.04.004\n",
    "\n",
    "Festila, M., & Müller, S. (2017). The impact of technology-mediated consumption on identity: The case of Airbnb. In Proceedings of the 50th Hawaii International Conference on System Sciences (2017). Hawaii International Conference on System Sciences. https://doi.org/10.24251/hicss.2017.007\n",
    "\n",
    "Glusac, E. (2016, July 20). Hotels vs. Airbnb: Let the battle begin. Retrieved March 22, 2019, from https://www.nytimes.com/2016/07/24/travel/airbnb-hotels.html\n",
    "\n",
    "Guttentag, D. (2015). Airbnb: disruptive innovation and the rise of an informal tourism accommodation sector. Current Issues in Tourism, 18(12), 1192–1217. https://doi.org/10.1080/13683500.2013.827159\n",
    "\n",
    "Guttentag, D. A., & Smith, S. L. J. (2017). Assessing Airbnb as a disruptive innovation relative to hotels: Substitution and comparative performance expectations. International Journal of Hospitality Management, 64, 1–10. https://doi.org/10.1016/j.ijhm.2017.02.003\n",
    "\n",
    "Guttentag, D., Smith, S., Potwarka, L., & Havitz, M. (2018). Why tourists choose Airbnb: A motivation-based segmentation study. Journal of Travel Research, 57(3), 342–359. https://doi.org/10.1177/0047287517696980\n",
    "\n",
    "Gunter, U. (2018). What makes an Airbnb host a superhost? Empirical evidence from San Francisco and the Bay Area. Tourism Management,66, 26-37. doi:10.1016/j.tourman.2017.11.003\n",
    "\n",
    "Lampinen, A., & Cheshire, C. (2016). Hosting via Airbnb: Motivations and financial assurances in monetized network hospitality. Proceedings of the 2016 CHI Conference on Human Factors in Computing Systems, 1669–1680. https://doi.org/10.1145/2858036.2858092\n",
    "\n",
    "Tussyadiah, I. P., & Pesonen, J. (2016). Impacts of peer-to-peer accommodation use on travel patterns. Journal of Travel Research, 55(8), 1022–1040. https://doi.org/10.1177/0047287515608505\n",
    "\n",
    "Wigan, M. R., & Clarke, R. (2013). Big data’s big unintended consequences. Computer, 46(6), 46–53. https://doi.org/10.1109/MC.2013.195\n",
    "\n",
    "Yang, S. B., Lee, K., Lee, H., & Koo, C. (2018). In Airbnb we trust: Understanding consumers’ trust-attachment building mechanisms in the sharing economy. International Journal of Hospitality Management. Elsevier Ltd. https://doi.org/10.1016/j.ijhm.2018.10.016\n",
    "\n",
    "Zhang, L., Yan, Q., & Zhang, L. (2018). A computational framework for understanding antecedents of guests’ perceived trust towards hosts on Airbnb. Decision Support Systems, 115, 105–116. https://doi.org/10.1016/j.dss.2018.10.002\n"
   ]
  }
 ],
 "metadata": {
  "kernelspec": {
   "display_name": "Python 3",
   "language": "python",
   "name": "python3"
  },
  "language_info": {
   "codemirror_mode": {
    "name": "ipython",
    "version": 3
   },
   "file_extension": ".py",
   "mimetype": "text/x-python",
   "name": "python",
   "nbconvert_exporter": "python",
   "pygments_lexer": "ipython3",
   "version": "3.7.1"
  }
 },
 "nbformat": 4,
 "nbformat_minor": 2
}
