{
 "cells": [
  {
   "cell_type": "markdown",
   "metadata": {},
   "source": [
    "* To what extent does the referral influence the likelihood of a click?\n",
    "* Predict the probabilities of a click for someone seeing an ad, and someone not seeing an ad\n",
    "* Create a model (or more than one) with LR or KNN and maximise performance (based on an 80/20 split). Get ready to report your results\n"
   ]
  },
  {
   "cell_type": "code",
   "execution_count": 1,
   "metadata": {},
   "outputs": [],
   "source": [
    "import pandas as pd"
   ]
  },
  {
   "cell_type": "code",
   "execution_count": 2,
   "metadata": {},
   "outputs": [],
   "source": [
    "data = pd.read_pickle('DA6_simulated.pkl')"
   ]
  },
  {
   "cell_type": "code",
   "execution_count": 3,
   "metadata": {},
   "outputs": [
    {
     "data": {
      "text/html": [
       "<div>\n",
       "<style scoped>\n",
       "    .dataframe tbody tr th:only-of-type {\n",
       "        vertical-align: middle;\n",
       "    }\n",
       "\n",
       "    .dataframe tbody tr th {\n",
       "        vertical-align: top;\n",
       "    }\n",
       "\n",
       "    .dataframe thead th {\n",
       "        text-align: right;\n",
       "    }\n",
       "</style>\n",
       "<table border=\"1\" class=\"dataframe\">\n",
       "  <thead>\n",
       "    <tr style=\"text-align: right;\">\n",
       "      <th></th>\n",
       "      <th>SessionID</th>\n",
       "      <th>ad</th>\n",
       "      <th>average time spent per page</th>\n",
       "      <th>click</th>\n",
       "      <th>location</th>\n",
       "      <th>new visitor</th>\n",
       "      <th>pageviews in session</th>\n",
       "      <th>referral</th>\n",
       "      <th>time spent: product catalogue</th>\n",
       "      <th>time spent: shopping cart</th>\n",
       "    </tr>\n",
       "  </thead>\n",
       "  <tbody>\n",
       "    <tr>\n",
       "      <th>0</th>\n",
       "      <td>ID000017611</td>\n",
       "      <td>1</td>\n",
       "      <td>1.888889</td>\n",
       "      <td>0</td>\n",
       "      <td>2</td>\n",
       "      <td>1</td>\n",
       "      <td>27</td>\n",
       "      <td>direct</td>\n",
       "      <td>48</td>\n",
       "      <td>3</td>\n",
       "    </tr>\n",
       "    <tr>\n",
       "      <th>1</th>\n",
       "      <td>ID00009062</td>\n",
       "      <td>0</td>\n",
       "      <td>10.230769</td>\n",
       "      <td>0</td>\n",
       "      <td>2</td>\n",
       "      <td>0</td>\n",
       "      <td>13</td>\n",
       "      <td>direct</td>\n",
       "      <td>105</td>\n",
       "      <td>28</td>\n",
       "    </tr>\n",
       "    <tr>\n",
       "      <th>2</th>\n",
       "      <td>ID000015023</td>\n",
       "      <td>1</td>\n",
       "      <td>20.666667</td>\n",
       "      <td>1</td>\n",
       "      <td>1</td>\n",
       "      <td>1</td>\n",
       "      <td>18</td>\n",
       "      <td>direct</td>\n",
       "      <td>326</td>\n",
       "      <td>46</td>\n",
       "    </tr>\n",
       "    <tr>\n",
       "      <th>3</th>\n",
       "      <td>ID000014434</td>\n",
       "      <td>1</td>\n",
       "      <td>21.857143</td>\n",
       "      <td>1</td>\n",
       "      <td>3</td>\n",
       "      <td>1</td>\n",
       "      <td>7</td>\n",
       "      <td>social</td>\n",
       "      <td>120</td>\n",
       "      <td>33</td>\n",
       "    </tr>\n",
       "    <tr>\n",
       "      <th>4</th>\n",
       "      <td>ID00009785</td>\n",
       "      <td>1</td>\n",
       "      <td>60.571429</td>\n",
       "      <td>0</td>\n",
       "      <td>1</td>\n",
       "      <td>1</td>\n",
       "      <td>7</td>\n",
       "      <td>direct</td>\n",
       "      <td>403</td>\n",
       "      <td>21</td>\n",
       "    </tr>\n",
       "  </tbody>\n",
       "</table>\n",
       "</div>"
      ],
      "text/plain": [
       "     SessionID  ad  average time spent per page  click  location  new visitor  \\\n",
       "0  ID000017611   1                     1.888889      0         2            1   \n",
       "1   ID00009062   0                    10.230769      0         2            0   \n",
       "2  ID000015023   1                    20.666667      1         1            1   \n",
       "3  ID000014434   1                    21.857143      1         3            1   \n",
       "4   ID00009785   1                    60.571429      0         1            1   \n",
       "\n",
       "   pageviews in session referral  time spent: product catalogue  \\\n",
       "0                    27   direct                             48   \n",
       "1                    13   direct                            105   \n",
       "2                    18   direct                            326   \n",
       "3                     7   social                            120   \n",
       "4                     7   direct                            403   \n",
       "\n",
       "   time spent: shopping cart  \n",
       "0                          3  \n",
       "1                         28  \n",
       "2                         46  \n",
       "3                         33  \n",
       "4                         21  "
      ]
     },
     "execution_count": 3,
     "metadata": {},
     "output_type": "execute_result"
    }
   ],
   "source": [
    "data.head()"
   ]
  },
  {
   "cell_type": "code",
   "execution_count": 4,
   "metadata": {},
   "outputs": [
    {
     "data": {
      "text/plain": [
       "SessionID                         object\n",
       "ad                                 int64\n",
       "average time spent per page      float64\n",
       "click                              int64\n",
       "location                           int64\n",
       "new visitor                        int64\n",
       "pageviews in session               int64\n",
       "referral                          object\n",
       "time spent: product catalogue      int64\n",
       "time spent: shopping cart          int64\n",
       "dtype: object"
      ]
     },
     "execution_count": 4,
     "metadata": {},
     "output_type": "execute_result"
    }
   ],
   "source": [
    "data.dtypes"
   ]
  },
  {
   "cell_type": "code",
   "execution_count": 5,
   "metadata": {},
   "outputs": [
    {
     "data": {
      "text/plain": [
       "SessionID                        0\n",
       "ad                               0\n",
       "average time spent per page      0\n",
       "click                            0\n",
       "location                         0\n",
       "new visitor                      0\n",
       "pageviews in session             0\n",
       "referral                         0\n",
       "time spent: product catalogue    0\n",
       "time spent: shopping cart        0\n",
       "dtype: int64"
      ]
     },
     "execution_count": 5,
     "metadata": {},
     "output_type": "execute_result"
    }
   ],
   "source": [
    "data.isna().sum()"
   ]
  },
  {
   "cell_type": "markdown",
   "metadata": {},
   "source": [
    "# Task 1"
   ]
  },
  {
   "cell_type": "code",
   "execution_count": 7,
   "metadata": {},
   "outputs": [],
   "source": [
    "import pandas as pd\n",
    "import seaborn as sns\n",
    "import numpy as np\n",
    "import matplotlib.pyplot as plt\n",
    "%matplotlib inline"
   ]
  },
  {
   "cell_type": "code",
   "execution_count": 6,
   "metadata": {},
   "outputs": [
    {
     "data": {
      "text/plain": [
       "0         direct\n",
       "1         direct\n",
       "2         direct\n",
       "3         social\n",
       "4         direct\n",
       "5         social\n",
       "6         social\n",
       "7        organic\n",
       "8         direct\n",
       "9        organic\n",
       "10        direct\n",
       "11        social\n",
       "12        social\n",
       "13       organic\n",
       "14       organic\n",
       "15        direct\n",
       "16       organic\n",
       "17        social\n",
       "18        direct\n",
       "19       organic\n",
       "20        social\n",
       "21        direct\n",
       "22       organic\n",
       "23        direct\n",
       "24        social\n",
       "25        social\n",
       "26        social\n",
       "27        social\n",
       "28        direct\n",
       "29        social\n",
       "          ...   \n",
       "14970     social\n",
       "14971     social\n",
       "14972    organic\n",
       "14973     social\n",
       "14974    organic\n",
       "14975    organic\n",
       "14976    organic\n",
       "14977     social\n",
       "14978    organic\n",
       "14979     direct\n",
       "14980     direct\n",
       "14981     social\n",
       "14982    organic\n",
       "14983     social\n",
       "14984     direct\n",
       "14985     social\n",
       "14986     social\n",
       "14987     direct\n",
       "14988    organic\n",
       "14989     social\n",
       "14990     direct\n",
       "14991     direct\n",
       "14992     direct\n",
       "14993    organic\n",
       "14994     social\n",
       "14995    organic\n",
       "14996    organic\n",
       "14997     social\n",
       "14998     direct\n",
       "14999    organic\n",
       "Name: referral, Length: 15000, dtype: object"
      ]
     },
     "execution_count": 6,
     "metadata": {},
     "output_type": "execute_result"
    }
   ],
   "source": [
    "data['referral']"
   ]
  },
  {
   "cell_type": "code",
   "execution_count": 8,
   "metadata": {},
   "outputs": [],
   "source": [
    "def check_referral(referral, site):\n",
    "    if referral == site:\n",
    "        return 1\n",
    "    return 0"
   ]
  },
  {
   "cell_type": "code",
   "execution_count": 28,
   "metadata": {},
   "outputs": [],
   "source": [
    "data['direct'] = data['referral'].apply(check_referral, args=('direct',))\n",
    "data['social'] = data['referral'].apply(check_referral, args=('social',))\n",
    "data['organic'] = data['referral'].apply(check_referral, args=('organic',))"
   ]
  },
  {
   "cell_type": "code",
   "execution_count": 29,
   "metadata": {},
   "outputs": [],
   "source": [
    "from sklearn.linear_model import LogisticRegression"
   ]
  },
  {
   "cell_type": "code",
   "execution_count": 30,
   "metadata": {},
   "outputs": [],
   "source": [
    "logit_clf = LogisticRegression(max_iter=1000, fit_intercept = True)"
   ]
  },
  {
   "cell_type": "code",
   "execution_count": 38,
   "metadata": {},
   "outputs": [],
   "source": [
    "features = ['social','organic']"
   ]
  },
  {
   "cell_type": "code",
   "execution_count": 39,
   "metadata": {},
   "outputs": [
    {
     "name": "stderr",
     "output_type": "stream",
     "text": [
      "D:\\Anaconda3\\lib\\site-packages\\sklearn\\linear_model\\logistic.py:433: FutureWarning: Default solver will be changed to 'lbfgs' in 0.22. Specify a solver to silence this warning.\n",
      "  FutureWarning)\n"
     ]
    },
    {
     "data": {
      "text/plain": [
       "LogisticRegression(C=1.0, class_weight=None, dual=False, fit_intercept=True,\n",
       "          intercept_scaling=1, max_iter=1000, multi_class='warn',\n",
       "          n_jobs=None, penalty='l2', random_state=None, solver='warn',\n",
       "          tol=0.0001, verbose=0, warm_start=False)"
      ]
     },
     "execution_count": 39,
     "metadata": {},
     "output_type": "execute_result"
    }
   ],
   "source": [
    "logit_clf.fit(data[features], data['click'])"
   ]
  },
  {
   "cell_type": "code",
   "execution_count": 40,
   "metadata": {},
   "outputs": [
    {
     "data": {
      "text/html": [
       "<div>\n",
       "<style scoped>\n",
       "    .dataframe tbody tr th:only-of-type {\n",
       "        vertical-align: middle;\n",
       "    }\n",
       "\n",
       "    .dataframe tbody tr th {\n",
       "        vertical-align: top;\n",
       "    }\n",
       "\n",
       "    .dataframe thead th {\n",
       "        text-align: right;\n",
       "    }\n",
       "</style>\n",
       "<table border=\"1\" class=\"dataframe\">\n",
       "  <thead>\n",
       "    <tr style=\"text-align: right;\">\n",
       "      <th></th>\n",
       "      <th>0</th>\n",
       "    </tr>\n",
       "  </thead>\n",
       "  <tbody>\n",
       "    <tr>\n",
       "      <th>social</th>\n",
       "      <td>0.876273</td>\n",
       "    </tr>\n",
       "    <tr>\n",
       "      <th>organic</th>\n",
       "      <td>-0.037637</td>\n",
       "    </tr>\n",
       "  </tbody>\n",
       "</table>\n",
       "</div>"
      ],
      "text/plain": [
       "                0\n",
       "social   0.876273\n",
       "organic -0.037637"
      ]
     },
     "execution_count": 40,
     "metadata": {},
     "output_type": "execute_result"
    }
   ],
   "source": [
    "pd.DataFrame(np.transpose(logit_clf.coef_), features)"
   ]
  },
  {
   "cell_type": "code",
   "execution_count": 41,
   "metadata": {},
   "outputs": [],
   "source": [
    "import statsmodels.api as sm"
   ]
  },
  {
   "cell_type": "code",
   "execution_count": 42,
   "metadata": {},
   "outputs": [],
   "source": [
    "logit = sm.Logit(data['click'], sm.add_constant(data[features]))"
   ]
  },
  {
   "cell_type": "code",
   "execution_count": 43,
   "metadata": {},
   "outputs": [
    {
     "name": "stdout",
     "output_type": "stream",
     "text": [
      "Optimization terminated successfully.\n",
      "         Current function value: 0.655288\n",
      "         Iterations 4\n"
     ]
    }
   ],
   "source": [
    "result = logit.fit()"
   ]
  },
  {
   "cell_type": "code",
   "execution_count": 44,
   "metadata": {},
   "outputs": [
    {
     "name": "stdout",
     "output_type": "stream",
     "text": [
      "                           Logit Regression Results                           \n",
      "==============================================================================\n",
      "Dep. Variable:                  click   No. Observations:                15000\n",
      "Model:                          Logit   Df Residuals:                    14997\n",
      "Method:                           MLE   Df Model:                            2\n",
      "Date:                Thu, 14 Mar 2019   Pseudo R-squ.:                 0.03228\n",
      "Time:                        10:34:10   Log-Likelihood:                -9829.3\n",
      "converged:                       True   LL-Null:                       -10157.\n",
      "                                        LLR p-value:                3.889e-143\n",
      "==============================================================================\n",
      "                 coef    std err          z      P>|z|      [0.025      0.975]\n",
      "------------------------------------------------------------------------------\n",
      "const         -0.6592      0.030    -21.937      0.000      -0.718      -0.600\n",
      "social         0.8783      0.041     21.318      0.000       0.798       0.959\n",
      "organic       -0.0363      0.043     -0.854      0.393      -0.120       0.047\n",
      "==============================================================================\n"
     ]
    }
   ],
   "source": [
    "print(result.summary())"
   ]
  },
  {
   "cell_type": "markdown",
   "metadata": {},
   "source": [
    "The table above only comapres between 'direct' and 'social, or 'direct' and 'organic'. To compare 'social' and 'orgranic', we need a new model with new feature. (#model = category group -1)"
   ]
  },
  {
   "cell_type": "code",
   "execution_count": 49,
   "metadata": {},
   "outputs": [],
   "source": [
    "features2 = ['direct','organic']"
   ]
  },
  {
   "cell_type": "code",
   "execution_count": 50,
   "metadata": {},
   "outputs": [
    {
     "name": "stderr",
     "output_type": "stream",
     "text": [
      "D:\\Anaconda3\\lib\\site-packages\\sklearn\\linear_model\\logistic.py:433: FutureWarning: Default solver will be changed to 'lbfgs' in 0.22. Specify a solver to silence this warning.\n",
      "  FutureWarning)\n"
     ]
    },
    {
     "data": {
      "text/plain": [
       "LogisticRegression(C=1.0, class_weight=None, dual=False, fit_intercept=True,\n",
       "          intercept_scaling=1, max_iter=1000, multi_class='warn',\n",
       "          n_jobs=None, penalty='l2', random_state=None, solver='warn',\n",
       "          tol=0.0001, verbose=0, warm_start=False)"
      ]
     },
     "execution_count": 50,
     "metadata": {},
     "output_type": "execute_result"
    }
   ],
   "source": [
    "logit_clf.fit(data[features2], data['click'])"
   ]
  },
  {
   "cell_type": "code",
   "execution_count": 52,
   "metadata": {
    "scrolled": true
   },
   "outputs": [],
   "source": [
    "logit2 = sm.Logit(data['click'], sm.add_constant(data[features2]))"
   ]
  },
  {
   "cell_type": "code",
   "execution_count": 54,
   "metadata": {},
   "outputs": [
    {
     "name": "stdout",
     "output_type": "stream",
     "text": [
      "Optimization terminated successfully.\n",
      "         Current function value: 0.655288\n",
      "         Iterations 4\n"
     ]
    }
   ],
   "source": [
    "result2 = logit2.fit()"
   ]
  },
  {
   "cell_type": "code",
   "execution_count": 55,
   "metadata": {},
   "outputs": [
    {
     "name": "stdout",
     "output_type": "stream",
     "text": [
      "                           Logit Regression Results                           \n",
      "==============================================================================\n",
      "Dep. Variable:                  click   No. Observations:                15000\n",
      "Model:                          Logit   Df Residuals:                    14997\n",
      "Method:                           MLE   Df Model:                            2\n",
      "Date:                Thu, 14 Mar 2019   Pseudo R-squ.:                 0.03228\n",
      "Time:                        10:38:03   Log-Likelihood:                -9829.3\n",
      "converged:                       True   LL-Null:                       -10157.\n",
      "                                        LLR p-value:                3.889e-143\n",
      "==============================================================================\n",
      "                 coef    std err          z      P>|z|      [0.025      0.975]\n",
      "------------------------------------------------------------------------------\n",
      "const          0.2191      0.028      7.773      0.000       0.164       0.274\n",
      "direct        -0.8783      0.041    -21.318      0.000      -0.959      -0.798\n",
      "organic       -0.9146      0.041    -22.187      0.000      -0.995      -0.834\n",
      "==============================================================================\n"
     ]
    }
   ],
   "source": [
    "print(result2.summary())"
   ]
  },
  {
   "cell_type": "code",
   "execution_count": null,
   "metadata": {},
   "outputs": [],
   "source": []
  }
 ],
 "metadata": {
  "kernelspec": {
   "display_name": "Python 3",
   "language": "python",
   "name": "python3"
  },
  "language_info": {
   "codemirror_mode": {
    "name": "ipython",
    "version": 3
   },
   "file_extension": ".py",
   "mimetype": "text/x-python",
   "name": "python",
   "nbconvert_exporter": "python",
   "pygments_lexer": "ipython3",
   "version": "3.7.1"
  }
 },
 "nbformat": 4,
 "nbformat_minor": 2
}
