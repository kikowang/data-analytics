{
 "cells": [
  {
   "cell_type": "markdown",
   "metadata": {},
   "source": [
    "# Challenge 1\n",
    "\n",
    "1. Run the KMeans in your own Twitter data to create segments for users. Try different numbers of clusters, and columns that might be more meaningful. What works best? How do you evaluate?\n",
    "2. Merge the best user segmentation you found back with the tweets data, and do some visualizations of key metrics from the tweets data with each user segment. What insights do you get?"
   ]
  },
  {
   "cell_type": "markdown",
   "metadata": {},
   "source": [
    "# Task 1"
   ]
  },
  {
   "cell_type": "code",
   "execution_count": 1,
   "metadata": {},
   "outputs": [],
   "source": [
    "import pandas as pd\n",
    "import seaborn as sns\n",
    "import numpy as np\n",
    "import matplotlib.pyplot as plt\n",
    "%matplotlib inline"
   ]
  },
  {
   "cell_type": "code",
   "execution_count": 2,
   "metadata": {},
   "outputs": [],
   "source": [
    "tweets = pd.read_pickle('JingjingWang_export.pkl')"
   ]
  },
  {
   "cell_type": "code",
   "execution_count": 3,
   "metadata": {},
   "outputs": [
    {
     "data": {
      "text/plain": [
       "Index(['id', 'created_at', 'from_user_name', 'from_user_id', 'from_user_lang',\n",
       "       'from_user_tweetcount', 'from_user_followercount',\n",
       "       'from_user_friendcount', 'from_user_listed', 'from_user_realname',\n",
       "       'from_user_utcoffset', 'from_user_timezone', 'from_user_description',\n",
       "       'from_user_url', 'from_user_verified', 'from_user_profile_image_url',\n",
       "       'from_user_created_at', 'from_user_withheld_scope',\n",
       "       'from_user_favourites_count', 'source', 'location', 'geo_lat',\n",
       "       'geo_lng', 'text', 'retweet_id', 'retweet_count', 'favorite_count',\n",
       "       'to_user_id', 'to_user_name', 'in_reply_to_status_id', 'filter_level',\n",
       "       'lang', 'possibly_sensitive', 'quoted_status_id', 'withheld_copyright',\n",
       "       'withheld_scope'],\n",
       "      dtype='object')"
      ]
     },
     "execution_count": 3,
     "metadata": {},
     "output_type": "execute_result"
    }
   ],
   "source": [
    "tweets.columns"
   ]
  },
  {
   "cell_type": "code",
   "execution_count": 4,
   "metadata": {},
   "outputs": [
    {
     "data": {
      "text/plain": [
       "id                                     object\n",
       "created_at                     datetime64[ns]\n",
       "from_user_name                         object\n",
       "from_user_id                            int64\n",
       "from_user_lang                         object\n",
       "from_user_tweetcount                    int64\n",
       "from_user_followercount                 int64\n",
       "from_user_friendcount                   int64\n",
       "from_user_listed                        int64\n",
       "from_user_realname                     object\n",
       "from_user_utcoffset                    object\n",
       "from_user_timezone                     object\n",
       "from_user_description                  object\n",
       "from_user_url                          object\n",
       "from_user_verified                      int64\n",
       "from_user_profile_image_url            object\n",
       "from_user_created_at           datetime64[ns]\n",
       "from_user_withheld_scope               object\n",
       "from_user_favourites_count              int64\n",
       "source                                 object\n",
       "location                               object\n",
       "geo_lat                               float64\n",
       "geo_lng                               float64\n",
       "text                                   object\n",
       "retweet_id                            float64\n",
       "retweet_count                           int64\n",
       "favorite_count                          int64\n",
       "to_user_id                            float64\n",
       "to_user_name                           object\n",
       "in_reply_to_status_id                 float64\n",
       "filter_level                           object\n",
       "lang                                   object\n",
       "possibly_sensitive                    float64\n",
       "quoted_status_id                      float64\n",
       "withheld_copyright                     object\n",
       "withheld_scope                         object\n",
       "dtype: object"
      ]
     },
     "execution_count": 4,
     "metadata": {},
     "output_type": "execute_result"
    }
   ],
   "source": [
    "tweets.dtypes"
   ]
  },
  {
   "cell_type": "code",
   "execution_count": 5,
   "metadata": {},
   "outputs": [
    {
     "data": {
      "text/plain": [
       "id                                  0\n",
       "created_at                          0\n",
       "from_user_name                      0\n",
       "from_user_id                        0\n",
       "from_user_lang                      0\n",
       "from_user_tweetcount                0\n",
       "from_user_followercount             0\n",
       "from_user_friendcount               0\n",
       "from_user_listed                    0\n",
       "from_user_realname                  0\n",
       "from_user_utcoffset            237747\n",
       "from_user_timezone             237747\n",
       "from_user_description           34940\n",
       "from_user_url                  153085\n",
       "from_user_verified                  0\n",
       "from_user_profile_image_url         0\n",
       "from_user_created_at                0\n",
       "from_user_withheld_scope       237747\n",
       "from_user_favourites_count          0\n",
       "source                              0\n",
       "location                        67768\n",
       "geo_lat                        236209\n",
       "geo_lng                        236209\n",
       "text                                0\n",
       "retweet_id                     110849\n",
       "retweet_count                       0\n",
       "favorite_count                      0\n",
       "to_user_id                     209153\n",
       "to_user_name                   209153\n",
       "in_reply_to_status_id          210729\n",
       "filter_level                        0\n",
       "lang                                0\n",
       "possibly_sensitive             173415\n",
       "quoted_status_id               223942\n",
       "withheld_copyright             237747\n",
       "withheld_scope                 237747\n",
       "dtype: int64"
      ]
     },
     "execution_count": 5,
     "metadata": {},
     "output_type": "execute_result"
    }
   ],
   "source": [
    "tweets.isna().sum()"
   ]
  },
  {
   "cell_type": "code",
   "execution_count": 6,
   "metadata": {},
   "outputs": [],
   "source": [
    "users = tweets[['from_user_name', 'from_user_id', 'from_user_realname',\n",
    "       'from_user_verified', 'from_user_description', 'from_user_url',\n",
    "       'from_user_profile_image_url', 'from_user_utcoffset',\n",
    "       'from_user_timezone', 'from_user_lang', 'from_user_tweetcount',\n",
    "       'from_user_followercount', 'from_user_friendcount',\n",
    "       'from_user_favourites_count', 'from_user_listed',\n",
    "       'from_user_withheld_scope', 'from_user_created_at']]"
   ]
  },
  {
   "cell_type": "code",
   "execution_count": 7,
   "metadata": {},
   "outputs": [
    {
     "data": {
      "text/html": [
       "<div>\n",
       "<style scoped>\n",
       "    .dataframe tbody tr th:only-of-type {\n",
       "        vertical-align: middle;\n",
       "    }\n",
       "\n",
       "    .dataframe tbody tr th {\n",
       "        vertical-align: top;\n",
       "    }\n",
       "\n",
       "    .dataframe thead th {\n",
       "        text-align: right;\n",
       "    }\n",
       "</style>\n",
       "<table border=\"1\" class=\"dataframe\">\n",
       "  <thead>\n",
       "    <tr style=\"text-align: right;\">\n",
       "      <th></th>\n",
       "      <th>from_user_name</th>\n",
       "      <th>from_user_id</th>\n",
       "      <th>from_user_realname</th>\n",
       "      <th>from_user_verified</th>\n",
       "      <th>from_user_description</th>\n",
       "      <th>from_user_url</th>\n",
       "      <th>from_user_profile_image_url</th>\n",
       "      <th>from_user_utcoffset</th>\n",
       "      <th>from_user_timezone</th>\n",
       "      <th>from_user_lang</th>\n",
       "      <th>from_user_tweetcount</th>\n",
       "      <th>from_user_followercount</th>\n",
       "      <th>from_user_friendcount</th>\n",
       "      <th>from_user_favourites_count</th>\n",
       "      <th>from_user_listed</th>\n",
       "      <th>from_user_withheld_scope</th>\n",
       "      <th>from_user_created_at</th>\n",
       "    </tr>\n",
       "  </thead>\n",
       "  <tbody>\n",
       "    <tr>\n",
       "      <th>0</th>\n",
       "      <td>GriffBed</td>\n",
       "      <td>821516432844451840</td>\n",
       "      <td>BedGriff</td>\n",
       "      <td>0</td>\n",
       "      <td>#Veggie #PrisonBreak #Lost #BreakingBad #GOT #...</td>\n",
       "      <td>https://www.peta.org/</td>\n",
       "      <td>http://pbs.twimg.com/profile_images/1093275369...</td>\n",
       "      <td>None</td>\n",
       "      <td>None</td>\n",
       "      <td>en</td>\n",
       "      <td>13130</td>\n",
       "      <td>944</td>\n",
       "      <td>2625</td>\n",
       "      <td>106553</td>\n",
       "      <td>3</td>\n",
       "      <td>None</td>\n",
       "      <td>2017-01-18 00:35:55</td>\n",
       "    </tr>\n",
       "    <tr>\n",
       "      <th>1</th>\n",
       "      <td>AppLovin</td>\n",
       "      <td>334906910</td>\n",
       "      <td>AppLovin</td>\n",
       "      <td>0</td>\n",
       "      <td>AppLovin helps indie and established mobile ga...</td>\n",
       "      <td>http://www.applovin.com</td>\n",
       "      <td>http://pbs.twimg.com/profile_images/1013056691...</td>\n",
       "      <td>None</td>\n",
       "      <td>None</td>\n",
       "      <td>en</td>\n",
       "      <td>5058</td>\n",
       "      <td>10995</td>\n",
       "      <td>9912</td>\n",
       "      <td>682</td>\n",
       "      <td>327</td>\n",
       "      <td>None</td>\n",
       "      <td>2011-07-13 21:12:43</td>\n",
       "    </tr>\n",
       "    <tr>\n",
       "      <th>2</th>\n",
       "      <td>NewsMobilidade</td>\n",
       "      <td>3027779564</td>\n",
       "      <td>Mobilidade Zero ®</td>\n",
       "      <td>0</td>\n",
       "      <td>Perfil dedicado as notícias do Rio de janeiro.</td>\n",
       "      <td>None</td>\n",
       "      <td>http://pbs.twimg.com/profile_images/6018426086...</td>\n",
       "      <td>None</td>\n",
       "      <td>None</td>\n",
       "      <td>pt</td>\n",
       "      <td>12203</td>\n",
       "      <td>1263</td>\n",
       "      <td>164</td>\n",
       "      <td>1881</td>\n",
       "      <td>16</td>\n",
       "      <td>None</td>\n",
       "      <td>2015-02-18 23:28:03</td>\n",
       "    </tr>\n",
       "    <tr>\n",
       "      <th>3</th>\n",
       "      <td>gabriel_irdk</td>\n",
       "      <td>1067244201153388545</td>\n",
       "      <td>Coalinha ❤</td>\n",
       "      <td>0</td>\n",
       "      <td>All we have to decide is what to do with the t...</td>\n",
       "      <td>None</td>\n",
       "      <td>http://pbs.twimg.com/profile_images/1086975835...</td>\n",
       "      <td>None</td>\n",
       "      <td>None</td>\n",
       "      <td>pt</td>\n",
       "      <td>299</td>\n",
       "      <td>64</td>\n",
       "      <td>144</td>\n",
       "      <td>1053</td>\n",
       "      <td>0</td>\n",
       "      <td>None</td>\n",
       "      <td>2018-11-27 02:30:20</td>\n",
       "    </tr>\n",
       "    <tr>\n",
       "      <th>4</th>\n",
       "      <td>cmccaerdydd</td>\n",
       "      <td>873516254107140096</td>\n",
       "      <td>Cyfryngau Myfyrwyr Cymraeg Caerdydd</td>\n",
       "      <td>0</td>\n",
       "      <td>Platfform gan fyfyrwyr sy'n hybu a rhannu cynn...</td>\n",
       "      <td>None</td>\n",
       "      <td>http://pbs.twimg.com/profile_images/8749618129...</td>\n",
       "      <td>None</td>\n",
       "      <td>None</td>\n",
       "      <td>en</td>\n",
       "      <td>642</td>\n",
       "      <td>269</td>\n",
       "      <td>165</td>\n",
       "      <td>171</td>\n",
       "      <td>2</td>\n",
       "      <td>None</td>\n",
       "      <td>2017-06-10 12:24:38</td>\n",
       "    </tr>\n",
       "  </tbody>\n",
       "</table>\n",
       "</div>"
      ],
      "text/plain": [
       "   from_user_name         from_user_id                   from_user_realname  \\\n",
       "0        GriffBed   821516432844451840                             BedGriff   \n",
       "1        AppLovin            334906910                             AppLovin   \n",
       "2  NewsMobilidade           3027779564                    Mobilidade Zero ®   \n",
       "3    gabriel_irdk  1067244201153388545                           Coalinha ❤   \n",
       "4     cmccaerdydd   873516254107140096  Cyfryngau Myfyrwyr Cymraeg Caerdydd   \n",
       "\n",
       "   from_user_verified                              from_user_description  \\\n",
       "0                   0  #Veggie #PrisonBreak #Lost #BreakingBad #GOT #...   \n",
       "1                   0  AppLovin helps indie and established mobile ga...   \n",
       "2                   0     Perfil dedicado as notícias do Rio de janeiro.   \n",
       "3                   0  All we have to decide is what to do with the t...   \n",
       "4                   0  Platfform gan fyfyrwyr sy'n hybu a rhannu cynn...   \n",
       "\n",
       "             from_user_url                        from_user_profile_image_url  \\\n",
       "0    https://www.peta.org/  http://pbs.twimg.com/profile_images/1093275369...   \n",
       "1  http://www.applovin.com  http://pbs.twimg.com/profile_images/1013056691...   \n",
       "2                     None  http://pbs.twimg.com/profile_images/6018426086...   \n",
       "3                     None  http://pbs.twimg.com/profile_images/1086975835...   \n",
       "4                     None  http://pbs.twimg.com/profile_images/8749618129...   \n",
       "\n",
       "  from_user_utcoffset from_user_timezone from_user_lang  from_user_tweetcount  \\\n",
       "0                None               None             en                 13130   \n",
       "1                None               None             en                  5058   \n",
       "2                None               None             pt                 12203   \n",
       "3                None               None             pt                   299   \n",
       "4                None               None             en                   642   \n",
       "\n",
       "   from_user_followercount  from_user_friendcount  from_user_favourites_count  \\\n",
       "0                      944                   2625                      106553   \n",
       "1                    10995                   9912                         682   \n",
       "2                     1263                    164                        1881   \n",
       "3                       64                    144                        1053   \n",
       "4                      269                    165                         171   \n",
       "\n",
       "   from_user_listed from_user_withheld_scope from_user_created_at  \n",
       "0                 3                     None  2017-01-18 00:35:55  \n",
       "1               327                     None  2011-07-13 21:12:43  \n",
       "2                16                     None  2015-02-18 23:28:03  \n",
       "3                 0                     None  2018-11-27 02:30:20  \n",
       "4                 2                     None  2017-06-10 12:24:38  "
      ]
     },
     "execution_count": 7,
     "metadata": {},
     "output_type": "execute_result"
    }
   ],
   "source": [
    "users.head()"
   ]
  },
  {
   "cell_type": "code",
   "execution_count": 8,
   "metadata": {},
   "outputs": [
    {
     "data": {
      "text/plain": [
       "fmraizesnoar       647\n",
       "NOARNOTICIAFM      501\n",
       "AJ5C               376\n",
       "spiksius           367\n",
       "AdoptOrlandoPpl    303\n",
       "_ANIME_SONG_       188\n",
       "uamsnurses         163\n",
       "SSSWeather         149\n",
       "virginmedia        129\n",
       "megapix            115\n",
       "ChuckWicker        105\n",
       "nwsmidsouth        105\n",
       "Ant1988             90\n",
       "Throwaw47913722     90\n",
       "LeoOliv36317413     90\n",
       "AtIndia_sServis     88\n",
       "iembot_lzk          88\n",
       "aonghusoha          87\n",
       "ShyKeenan           85\n",
       "IEvangelion__       82\n",
       "J26856126           77\n",
       "Marco_De_Paulo      76\n",
       "ToghCon             75\n",
       "Tylerlindell        74\n",
       "MartasTante         72\n",
       "grattongirl         68\n",
       "IT360NewsCom        67\n",
       "stampycatfan01      67\n",
       "Patinadores1        65\n",
       "UldisVarnevichs     64\n",
       "                  ... \n",
       "raiany_fideles       1\n",
       "CarolBacelar15       1\n",
       "GNImoveisBH          1\n",
       "s0berlydrunk         1\n",
       "maycomjr01           1\n",
       "vgoghope             1\n",
       "ammal_yusuf          1\n",
       "Noroca777            1\n",
       "Rcardaraujo          1\n",
       "BadGirlVeneno        1\n",
       "yogadtr              1\n",
       "correiacomin         1\n",
       "Rafssb_              1\n",
       "NatGardenBureau      1\n",
       "PravattaMarcelo      1\n",
       "Iovesickmelody_      1\n",
       "yeoliejimin          1\n",
       "yoongiparami         1\n",
       "MagdalenaM21         1\n",
       "rkstant              1\n",
       "somjihoonbbx         1\n",
       "PedroVinicio208      1\n",
       "Atecina_             1\n",
       "gibsgirassol         1\n",
       "yinmayangyang        1\n",
       "abcdefghijenna       1\n",
       "David_HBO12          1\n",
       "_leticiamiyuki       1\n",
       "weaktekk             1\n",
       "olhapralapa          1\n",
       "Name: from_user_name, Length: 179589, dtype: int64"
      ]
     },
     "execution_count": 8,
     "metadata": {},
     "output_type": "execute_result"
    }
   ],
   "source": [
    "users['from_user_name'].value_counts()"
   ]
  },
  {
   "cell_type": "code",
   "execution_count": 9,
   "metadata": {},
   "outputs": [],
   "source": [
    "users = users.drop_duplicates(subset='from_user_name')"
   ]
  },
  {
   "cell_type": "code",
   "execution_count": 10,
   "metadata": {},
   "outputs": [],
   "source": [
    "from sklearn.cluster import KMeans"
   ]
  },
  {
   "cell_type": "code",
   "execution_count": 11,
   "metadata": {},
   "outputs": [],
   "source": [
    "kmeans = KMeans(n_clusters=4)"
   ]
  },
  {
   "cell_type": "code",
   "execution_count": 12,
   "metadata": {},
   "outputs": [],
   "source": [
    "def check_lang(lang, desired_lang):\n",
    "    if lang == desired_lang:\n",
    "        return 1\n",
    "    return 0"
   ]
  },
  {
   "cell_type": "code",
   "execution_count": 13,
   "metadata": {},
   "outputs": [
    {
     "data": {
      "text/plain": [
       "pt         74381\n",
       "en         71882\n",
       "es          8324\n",
       "ja          4258\n",
       "tr          4038\n",
       "th          3292\n",
       "fr          2141\n",
       "id          1796\n",
       "ko          1739\n",
       "en-gb       1249\n",
       "it          1154\n",
       "de          1146\n",
       "ar           714\n",
       "lv           593\n",
       "ru           507\n",
       "ro           333\n",
       "nl           290\n",
       "sv           262\n",
       "pl           196\n",
       "vi           172\n",
       "ga           134\n",
       "en-GB        125\n",
       "ca            93\n",
       "zh-CN         87\n",
       "zh-TW         85\n",
       "zh-tw         73\n",
       "fi            63\n",
       "da            48\n",
       "zh-cn         47\n",
       "el            43\n",
       "hu            43\n",
       "sr            33\n",
       "no            28\n",
       "bg            26\n",
       "cs            24\n",
       "cy            22\n",
       "he            19\n",
       "hr            19\n",
       "uk            16\n",
       "hi            16\n",
       "xx-lc         12\n",
       "pt-PT         12\n",
       "sk            10\n",
       "msa           10\n",
       "fa            10\n",
       "gl             8\n",
       "fil            3\n",
       "ta             2\n",
       "es-MX          2\n",
       "eu             2\n",
       "zh-HK          2\n",
       "et             1\n",
       "ur             1\n",
       "zh-Hant        1\n",
       "en-IN          1\n",
       "mr             1\n",
       "Name: from_user_lang, dtype: int64"
      ]
     },
     "execution_count": 13,
     "metadata": {},
     "output_type": "execute_result"
    }
   ],
   "source": [
    "users['from_user_lang'].value_counts()"
   ]
  },
  {
   "cell_type": "code",
   "execution_count": 14,
   "metadata": {},
   "outputs": [],
   "source": [
    "users['pt'] = users['from_user_lang'].apply(check_lang, args=('pt',))\n",
    "users['en'] = users['from_user_lang'].apply(check_lang, args=('en',))\n",
    "users['es'] = users['from_user_lang'].apply(check_lang, args=('es',))"
   ]
  },
  {
   "cell_type": "code",
   "execution_count": 15,
   "metadata": {},
   "outputs": [
    {
     "data": {
      "text/plain": [
       "Index(['from_user_name', 'from_user_id', 'from_user_realname',\n",
       "       'from_user_verified', 'from_user_description', 'from_user_url',\n",
       "       'from_user_profile_image_url', 'from_user_utcoffset',\n",
       "       'from_user_timezone', 'from_user_lang', 'from_user_tweetcount',\n",
       "       'from_user_followercount', 'from_user_friendcount',\n",
       "       'from_user_favourites_count', 'from_user_listed',\n",
       "       'from_user_withheld_scope', 'from_user_created_at', 'pt', 'en', 'es'],\n",
       "      dtype='object')"
      ]
     },
     "execution_count": 15,
     "metadata": {},
     "output_type": "execute_result"
    }
   ],
   "source": [
    "users.columns"
   ]
  },
  {
   "cell_type": "code",
   "execution_count": 16,
   "metadata": {},
   "outputs": [
    {
     "data": {
      "text/plain": [
       "from_user_name                         object\n",
       "from_user_id                            int64\n",
       "from_user_realname                     object\n",
       "from_user_verified                      int64\n",
       "from_user_description                  object\n",
       "from_user_url                          object\n",
       "from_user_profile_image_url            object\n",
       "from_user_utcoffset                    object\n",
       "from_user_timezone                     object\n",
       "from_user_lang                         object\n",
       "from_user_tweetcount                    int64\n",
       "from_user_followercount                 int64\n",
       "from_user_friendcount                   int64\n",
       "from_user_favourites_count              int64\n",
       "from_user_listed                        int64\n",
       "from_user_withheld_scope               object\n",
       "from_user_created_at           datetime64[ns]\n",
       "pt                                      int64\n",
       "en                                      int64\n",
       "es                                      int64\n",
       "dtype: object"
      ]
     },
     "execution_count": 16,
     "metadata": {},
     "output_type": "execute_result"
    }
   ],
   "source": [
    "users.dtypes"
   ]
  },
  {
   "cell_type": "code",
   "execution_count": 17,
   "metadata": {},
   "outputs": [],
   "source": [
    "users['segment'] = kmeans.fit_predict(users[['pt','en','es', 'from_user_friendcount', 'from_user_tweetcount']])"
   ]
  },
  {
   "cell_type": "code",
   "execution_count": 18,
   "metadata": {},
   "outputs": [
    {
     "data": {
      "text/html": [
       "<div>\n",
       "<style scoped>\n",
       "    .dataframe tbody tr th:only-of-type {\n",
       "        vertical-align: middle;\n",
       "    }\n",
       "\n",
       "    .dataframe tbody tr th {\n",
       "        vertical-align: top;\n",
       "    }\n",
       "\n",
       "    .dataframe thead th {\n",
       "        text-align: right;\n",
       "    }\n",
       "</style>\n",
       "<table border=\"1\" class=\"dataframe\">\n",
       "  <thead>\n",
       "    <tr style=\"text-align: right;\">\n",
       "      <th>segment</th>\n",
       "      <th>0</th>\n",
       "      <th>1</th>\n",
       "      <th>2</th>\n",
       "      <th>3</th>\n",
       "    </tr>\n",
       "  </thead>\n",
       "  <tbody>\n",
       "    <tr>\n",
       "      <th>en</th>\n",
       "      <td>0.371196</td>\n",
       "      <td>0.402509</td>\n",
       "      <td>0.465529</td>\n",
       "      <td>6.818182e-01</td>\n",
       "    </tr>\n",
       "    <tr>\n",
       "      <th>es</th>\n",
       "      <td>0.050845</td>\n",
       "      <td>0.045695</td>\n",
       "      <td>0.066973</td>\n",
       "      <td>4.545455e-02</td>\n",
       "    </tr>\n",
       "    <tr>\n",
       "      <th>pt</th>\n",
       "      <td>0.398853</td>\n",
       "      <td>0.417548</td>\n",
       "      <td>0.237689</td>\n",
       "      <td>7.575758e-02</td>\n",
       "    </tr>\n",
       "    <tr>\n",
       "      <th>from_user_friendcount</th>\n",
       "      <td>2625.357488</td>\n",
       "      <td>790.788107</td>\n",
       "      <td>8639.751149</td>\n",
       "      <td>2.007586e+04</td>\n",
       "    </tr>\n",
       "    <tr>\n",
       "      <th>from_user_tweetcount</th>\n",
       "      <td>120694.375906</td>\n",
       "      <td>12602.996352</td>\n",
       "      <td>436078.300066</td>\n",
       "      <td>1.795151e+06</td>\n",
       "    </tr>\n",
       "  </tbody>\n",
       "</table>\n",
       "</div>"
      ],
      "text/plain": [
       "segment                            0             1              2  \\\n",
       "en                          0.371196      0.402509       0.465529   \n",
       "es                          0.050845      0.045695       0.066973   \n",
       "pt                          0.398853      0.417548       0.237689   \n",
       "from_user_friendcount    2625.357488    790.788107    8639.751149   \n",
       "from_user_tweetcount   120694.375906  12602.996352  436078.300066   \n",
       "\n",
       "segment                           3  \n",
       "en                     6.818182e-01  \n",
       "es                     4.545455e-02  \n",
       "pt                     7.575758e-02  \n",
       "from_user_friendcount  2.007586e+04  \n",
       "from_user_tweetcount   1.795151e+06  "
      ]
     },
     "execution_count": 18,
     "metadata": {},
     "output_type": "execute_result"
    }
   ],
   "source": [
    "users[['en', 'es', 'pt', 'from_user_friendcount','from_user_tweetcount', 'segment']].groupby('segment').mean().transpose()"
   ]
  },
  {
   "cell_type": "code",
   "execution_count": 19,
   "metadata": {},
   "outputs": [
    {
     "data": {
      "text/plain": [
       "<matplotlib.axes._subplots.AxesSubplot at 0x200aecb0>"
      ]
     },
     "execution_count": 19,
     "metadata": {},
     "output_type": "execute_result"
    },
    {
     "data": {
      "image/png": "[encoded data removed]",
      "text/plain": [
       "<Figure size 432x288 with 1 Axes>"
      ]
     },
     "metadata": {
      "needs_background": "light"
     },
     "output_type": "display_data"
    }
   ],
   "source": [
    "sns.stripplot(x=\"segment\", y=\"from_user_friendcount\", data=users, jitter=True)"
   ]
  },
  {
   "cell_type": "code",
   "execution_count": 20,
   "metadata": {},
   "outputs": [
    {
     "data": {
      "text/plain": [
       "<matplotlib.axes._subplots.AxesSubplot at 0x2302ce30>"
      ]
     },
     "execution_count": 20,
     "metadata": {},
     "output_type": "execute_result"
    },
    {
     "data": {
      "image/png": "[encoded data removed]",
      "text/plain": [
       "<Figure size 432x288 with 1 Axes>"
      ]
     },
     "metadata": {
      "needs_background": "light"
     },
     "output_type": "display_data"
    }
   ],
   "source": [
    "sns.stripplot(x=\"segment\", y=\"en\", data=users, jitter=True)"
   ]
  },
  {
   "cell_type": "code",
   "execution_count": 21,
   "metadata": {
    "scrolled": false
   },
   "outputs": [
    {
     "data": {
      "text/plain": [
       "<matplotlib.axes._subplots.AxesSubplot at 0x2344f5b0>"
      ]
     },
     "execution_count": 21,
     "metadata": {},
     "output_type": "execute_result"
    },
    {
     "data": {
      "image/png": "[encoded data removed]",
      "text/plain": [
       "<Figure size 432x288 with 1 Axes>"
      ]
     },
     "metadata": {
      "needs_background": "light"
     },
     "output_type": "display_data"
    }
   ],
   "source": [
    "sns.stripplot(x=\"segment\", y=\"from_user_tweetcount\", data=users, jitter=True)"
   ]
  },
  {
   "cell_type": "code",
   "execution_count": 22,
   "metadata": {},
   "outputs": [
    {
     "ename": "KeyboardInterrupt",
     "evalue": "",
     "output_type": "error",
     "traceback": [
      "\u001b[1;31m---------------------------------------------------------------------------\u001b[0m",
      "\u001b[1;31mKeyboardInterrupt\u001b[0m                         Traceback (most recent call last)",
      "\u001b[1;32m<ipython-input-22-6381db1efac1>\u001b[0m in \u001b[0;36m<module>\u001b[1;34m\u001b[0m\n\u001b[1;32m----> 1\u001b[1;33m \u001b[0msns\u001b[0m\u001b[1;33m.\u001b[0m\u001b[0mswarmplot\u001b[0m\u001b[1;33m(\u001b[0m\u001b[0mx\u001b[0m\u001b[1;33m=\u001b[0m\u001b[1;34m\"from_user_friendcount\"\u001b[0m\u001b[1;33m,\u001b[0m \u001b[0my\u001b[0m\u001b[1;33m=\u001b[0m\u001b[1;34m\"from_user_tweetcount\"\u001b[0m\u001b[1;33m,\u001b[0m \u001b[0mdata\u001b[0m\u001b[1;33m=\u001b[0m\u001b[0musers\u001b[0m\u001b[1;33m,\u001b[0m \u001b[0mhue\u001b[0m\u001b[1;33m=\u001b[0m\u001b[1;34m\"segment\"\u001b[0m\u001b[1;33m,\u001b[0m \u001b[0msize\u001b[0m\u001b[1;33m=\u001b[0m\u001b[1;36m10\u001b[0m\u001b[1;33m)\u001b[0m\u001b[1;33m\u001b[0m\u001b[1;33m\u001b[0m\u001b[0m\n\u001b[0m",
      "\u001b[1;32mD:\\Anaconda3\\lib\\site-packages\\seaborn\\categorical.py\u001b[0m in \u001b[0;36mswarmplot\u001b[1;34m(x, y, hue, data, order, hue_order, dodge, orient, color, palette, size, edgecolor, linewidth, ax, **kwargs)\u001b[0m\n\u001b[0;32m   2975\u001b[0m \u001b[1;33m\u001b[0m\u001b[0m\n\u001b[0;32m   2976\u001b[0m     plotter = _SwarmPlotter(x, y, hue, data, order, hue_order,\n\u001b[1;32m-> 2977\u001b[1;33m                             dodge, orient, color, palette)\n\u001b[0m\u001b[0;32m   2978\u001b[0m     \u001b[1;32mif\u001b[0m \u001b[0max\u001b[0m \u001b[1;32mis\u001b[0m \u001b[1;32mNone\u001b[0m\u001b[1;33m:\u001b[0m\u001b[1;33m\u001b[0m\u001b[1;33m\u001b[0m\u001b[0m\n\u001b[0;32m   2979\u001b[0m         \u001b[0max\u001b[0m \u001b[1;33m=\u001b[0m \u001b[0mplt\u001b[0m\u001b[1;33m.\u001b[0m\u001b[0mgca\u001b[0m\u001b[1;33m(\u001b[0m\u001b[1;33m)\u001b[0m\u001b[1;33m\u001b[0m\u001b[1;33m\u001b[0m\u001b[0m\n",
      "\u001b[1;32mD:\\Anaconda3\\lib\\site-packages\\seaborn\\categorical.py\u001b[0m in \u001b[0;36m__init__\u001b[1;34m(self, x, y, hue, data, order, hue_order, dodge, orient, color, palette)\u001b[0m\n\u001b[0;32m   1212\u001b[0m                  dodge, orient, color, palette):\n\u001b[0;32m   1213\u001b[0m         \u001b[1;34m\"\"\"Initialize the plotter.\"\"\"\u001b[0m\u001b[1;33m\u001b[0m\u001b[1;33m\u001b[0m\u001b[0m\n\u001b[1;32m-> 1214\u001b[1;33m         \u001b[0mself\u001b[0m\u001b[1;33m.\u001b[0m\u001b[0mestablish_variables\u001b[0m\u001b[1;33m(\u001b[0m\u001b[0mx\u001b[0m\u001b[1;33m,\u001b[0m \u001b[0my\u001b[0m\u001b[1;33m,\u001b[0m \u001b[0mhue\u001b[0m\u001b[1;33m,\u001b[0m \u001b[0mdata\u001b[0m\u001b[1;33m,\u001b[0m \u001b[0morient\u001b[0m\u001b[1;33m,\u001b[0m \u001b[0morder\u001b[0m\u001b[1;33m,\u001b[0m \u001b[0mhue_order\u001b[0m\u001b[1;33m)\u001b[0m\u001b[1;33m\u001b[0m\u001b[1;33m\u001b[0m\u001b[0m\n\u001b[0m\u001b[0;32m   1215\u001b[0m         \u001b[0mself\u001b[0m\u001b[1;33m.\u001b[0m\u001b[0mestablish_colors\u001b[0m\u001b[1;33m(\u001b[0m\u001b[0mcolor\u001b[0m\u001b[1;33m,\u001b[0m \u001b[0mpalette\u001b[0m\u001b[1;33m,\u001b[0m \u001b[1;36m1\u001b[0m\u001b[1;33m)\u001b[0m\u001b[1;33m\u001b[0m\u001b[1;33m\u001b[0m\u001b[0m\n\u001b[0;32m   1216\u001b[0m \u001b[1;33m\u001b[0m\u001b[0m\n",
      "\u001b[1;32mD:\\Anaconda3\\lib\\site-packages\\seaborn\\categorical.py\u001b[0m in \u001b[0;36mestablish_variables\u001b[1;34m(self, x, y, hue, data, orient, order, hue_order, units)\u001b[0m\n\u001b[0;32m    205\u001b[0m                 \u001b[1;31m# Group the numeric data\u001b[0m\u001b[1;33m\u001b[0m\u001b[1;33m\u001b[0m\u001b[1;33m\u001b[0m\u001b[0m\n\u001b[0;32m    206\u001b[0m                 plot_data, value_label = self._group_longform(vals, groups,\n\u001b[1;32m--> 207\u001b[1;33m                                                               group_names)\n\u001b[0m\u001b[0;32m    208\u001b[0m \u001b[1;33m\u001b[0m\u001b[0m\n\u001b[0;32m    209\u001b[0m                 \u001b[1;31m# Now handle the hue levels for nested ordering\u001b[0m\u001b[1;33m\u001b[0m\u001b[1;33m\u001b[0m\u001b[1;33m\u001b[0m\u001b[0m\n",
      "\u001b[1;32mD:\\Anaconda3\\lib\\site-packages\\seaborn\\categorical.py\u001b[0m in \u001b[0;36m_group_longform\u001b[1;34m(self, vals, grouper, order)\u001b[0m\n\u001b[0;32m    251\u001b[0m         \u001b[1;32mfor\u001b[0m \u001b[0mg\u001b[0m \u001b[1;32min\u001b[0m \u001b[0morder\u001b[0m\u001b[1;33m:\u001b[0m\u001b[1;33m\u001b[0m\u001b[1;33m\u001b[0m\u001b[0m\n\u001b[0;32m    252\u001b[0m             \u001b[1;32mtry\u001b[0m\u001b[1;33m:\u001b[0m\u001b[1;33m\u001b[0m\u001b[1;33m\u001b[0m\u001b[0m\n\u001b[1;32m--> 253\u001b[1;33m                 \u001b[0mg_vals\u001b[0m \u001b[1;33m=\u001b[0m \u001b[0mnp\u001b[0m\u001b[1;33m.\u001b[0m\u001b[0masarray\u001b[0m\u001b[1;33m(\u001b[0m\u001b[0mgrouped_vals\u001b[0m\u001b[1;33m.\u001b[0m\u001b[0mget_group\u001b[0m\u001b[1;33m(\u001b[0m\u001b[0mg\u001b[0m\u001b[1;33m)\u001b[0m\u001b[1;33m)\u001b[0m\u001b[1;33m\u001b[0m\u001b[1;33m\u001b[0m\u001b[0m\n\u001b[0m\u001b[0;32m    254\u001b[0m             \u001b[1;32mexcept\u001b[0m \u001b[0mKeyError\u001b[0m\u001b[1;33m:\u001b[0m\u001b[1;33m\u001b[0m\u001b[1;33m\u001b[0m\u001b[0m\n\u001b[0;32m    255\u001b[0m                 \u001b[0mg_vals\u001b[0m \u001b[1;33m=\u001b[0m \u001b[0mnp\u001b[0m\u001b[1;33m.\u001b[0m\u001b[0marray\u001b[0m\u001b[1;33m(\u001b[0m\u001b[1;33m[\u001b[0m\u001b[1;33m]\u001b[0m\u001b[1;33m)\u001b[0m\u001b[1;33m\u001b[0m\u001b[1;33m\u001b[0m\u001b[0m\n",
      "\u001b[1;32mD:\\Anaconda3\\lib\\site-packages\\pandas\\core\\groupby\\groupby.py\u001b[0m in \u001b[0;36mget_group\u001b[1;34m(self, name, obj)\u001b[0m\n\u001b[0;32m    877\u001b[0m             \u001b[1;32mraise\u001b[0m \u001b[0mKeyError\u001b[0m\u001b[1;33m(\u001b[0m\u001b[0mname\u001b[0m\u001b[1;33m)\u001b[0m\u001b[1;33m\u001b[0m\u001b[1;33m\u001b[0m\u001b[0m\n\u001b[0;32m    878\u001b[0m \u001b[1;33m\u001b[0m\u001b[0m\n\u001b[1;32m--> 879\u001b[1;33m         \u001b[1;32mreturn\u001b[0m \u001b[0mobj\u001b[0m\u001b[1;33m.\u001b[0m\u001b[0m_take\u001b[0m\u001b[1;33m(\u001b[0m\u001b[0minds\u001b[0m\u001b[1;33m,\u001b[0m \u001b[0maxis\u001b[0m\u001b[1;33m=\u001b[0m\u001b[0mself\u001b[0m\u001b[1;33m.\u001b[0m\u001b[0maxis\u001b[0m\u001b[1;33m)\u001b[0m\u001b[1;33m\u001b[0m\u001b[1;33m\u001b[0m\u001b[0m\n\u001b[0m\u001b[0;32m    880\u001b[0m \u001b[1;33m\u001b[0m\u001b[0m\n\u001b[0;32m    881\u001b[0m     \u001b[1;32mdef\u001b[0m \u001b[0m__iter__\u001b[0m\u001b[1;33m(\u001b[0m\u001b[0mself\u001b[0m\u001b[1;33m)\u001b[0m\u001b[1;33m:\u001b[0m\u001b[1;33m\u001b[0m\u001b[1;33m\u001b[0m\u001b[0m\n",
      "\u001b[1;32mD:\\Anaconda3\\lib\\site-packages\\pandas\\core\\series.py\u001b[0m in \u001b[0;36m_take\u001b[1;34m(self, indices, axis, is_copy)\u001b[0m\n\u001b[0;32m   3509\u001b[0m     \u001b[1;32mdef\u001b[0m \u001b[0m_take\u001b[0m\u001b[1;33m(\u001b[0m\u001b[0mself\u001b[0m\u001b[1;33m,\u001b[0m \u001b[0mindices\u001b[0m\u001b[1;33m,\u001b[0m \u001b[0maxis\u001b[0m\u001b[1;33m=\u001b[0m\u001b[1;36m0\u001b[0m\u001b[1;33m,\u001b[0m \u001b[0mis_copy\u001b[0m\u001b[1;33m=\u001b[0m\u001b[1;32mFalse\u001b[0m\u001b[1;33m)\u001b[0m\u001b[1;33m:\u001b[0m\u001b[1;33m\u001b[0m\u001b[1;33m\u001b[0m\u001b[0m\n\u001b[0;32m   3510\u001b[0m \u001b[1;33m\u001b[0m\u001b[0m\n\u001b[1;32m-> 3511\u001b[1;33m         \u001b[0mindices\u001b[0m \u001b[1;33m=\u001b[0m \u001b[0m_ensure_platform_int\u001b[0m\u001b[1;33m(\u001b[0m\u001b[0mindices\u001b[0m\u001b[1;33m)\u001b[0m\u001b[1;33m\u001b[0m\u001b[1;33m\u001b[0m\u001b[0m\n\u001b[0m\u001b[0;32m   3512\u001b[0m         \u001b[0mnew_index\u001b[0m \u001b[1;33m=\u001b[0m \u001b[0mself\u001b[0m\u001b[1;33m.\u001b[0m\u001b[0mindex\u001b[0m\u001b[1;33m.\u001b[0m\u001b[0mtake\u001b[0m\u001b[1;33m(\u001b[0m\u001b[0mindices\u001b[0m\u001b[1;33m)\u001b[0m\u001b[1;33m\u001b[0m\u001b[1;33m\u001b[0m\u001b[0m\n\u001b[0;32m   3513\u001b[0m \u001b[1;33m\u001b[0m\u001b[0m\n",
      "\u001b[1;31mKeyboardInterrupt\u001b[0m: "
     ]
    }
   ],
   "source": [
    "sns.swarmplot(x=\"from_user_friendcount\", y=\"from_user_tweetcount\", data=users, hue=\"segment\", size=10)"
   ]
  },
  {
   "cell_type": "markdown",
   "metadata": {},
   "source": [
    "* Then I tried with 5 clusters instead"
   ]
  },
  {
   "cell_type": "code",
   "execution_count": 23,
   "metadata": {},
   "outputs": [],
   "source": [
    "kmeans = KMeans(n_clusters=5)"
   ]
  },
  {
   "cell_type": "code",
   "execution_count": 24,
   "metadata": {},
   "outputs": [],
   "source": [
    "users['segment2'] = kmeans.fit_predict(users[['pt','en','es', 'from_user_friendcount', 'from_user_tweetcount']])"
   ]
  },
  {
   "cell_type": "code",
   "execution_count": 25,
   "metadata": {
    "scrolled": true
   },
   "outputs": [
    {
     "data": {
      "text/html": [
       "<div>\n",
       "<style scoped>\n",
       "    .dataframe tbody tr th:only-of-type {\n",
       "        vertical-align: middle;\n",
       "    }\n",
       "\n",
       "    .dataframe tbody tr th {\n",
       "        vertical-align: top;\n",
       "    }\n",
       "\n",
       "    .dataframe thead th {\n",
       "        text-align: right;\n",
       "    }\n",
       "</style>\n",
       "<table border=\"1\" class=\"dataframe\">\n",
       "  <thead>\n",
       "    <tr style=\"text-align: right;\">\n",
       "      <th>segment2</th>\n",
       "      <th>0</th>\n",
       "      <th>1</th>\n",
       "      <th>2</th>\n",
       "      <th>3</th>\n",
       "      <th>4</th>\n",
       "    </tr>\n",
       "  </thead>\n",
       "  <tbody>\n",
       "    <tr>\n",
       "      <th>en</th>\n",
       "      <td>0.403656</td>\n",
       "      <td>6.013986e-01</td>\n",
       "      <td>0.365267</td>\n",
       "      <td>0.439374</td>\n",
       "      <td>1.0</td>\n",
       "    </tr>\n",
       "    <tr>\n",
       "      <th>es</th>\n",
       "      <td>0.045619</td>\n",
       "      <td>6.293706e-02</td>\n",
       "      <td>0.050242</td>\n",
       "      <td>0.063885</td>\n",
       "      <td>0.0</td>\n",
       "    </tr>\n",
       "    <tr>\n",
       "      <th>pt</th>\n",
       "      <td>0.416684</td>\n",
       "      <td>1.328671e-01</td>\n",
       "      <td>0.413806</td>\n",
       "      <td>0.262060</td>\n",
       "      <td>0.0</td>\n",
       "    </tr>\n",
       "    <tr>\n",
       "      <th>from_user_friendcount</th>\n",
       "      <td>770.989574</td>\n",
       "      <td>1.419310e+04</td>\n",
       "      <td>2387.207728</td>\n",
       "      <td>7236.413733</td>\n",
       "      <td>198.0</td>\n",
       "    </tr>\n",
       "    <tr>\n",
       "      <th>from_user_tweetcount</th>\n",
       "      <td>11633.422759</td>\n",
       "      <td>1.265095e+06</td>\n",
       "      <td>105209.024163</td>\n",
       "      <td>350492.047371</td>\n",
       "      <td>9579995.0</td>\n",
       "    </tr>\n",
       "  </tbody>\n",
       "</table>\n",
       "</div>"
      ],
      "text/plain": [
       "segment2                          0             1              2  \\\n",
       "en                         0.403656  6.013986e-01       0.365267   \n",
       "es                         0.045619  6.293706e-02       0.050242   \n",
       "pt                         0.416684  1.328671e-01       0.413806   \n",
       "from_user_friendcount    770.989574  1.419310e+04    2387.207728   \n",
       "from_user_tweetcount   11633.422759  1.265095e+06  105209.024163   \n",
       "\n",
       "segment2                           3          4  \n",
       "en                          0.439374        1.0  \n",
       "es                          0.063885        0.0  \n",
       "pt                          0.262060        0.0  \n",
       "from_user_friendcount    7236.413733      198.0  \n",
       "from_user_tweetcount   350492.047371  9579995.0  "
      ]
     },
     "execution_count": 25,
     "metadata": {},
     "output_type": "execute_result"
    }
   ],
   "source": [
    "users[['en', 'es', 'pt', 'from_user_friendcount','from_user_tweetcount', 'segment2']].groupby('segment2').mean().transpose()"
   ]
  },
  {
   "cell_type": "code",
   "execution_count": 26,
   "metadata": {},
   "outputs": [
    {
     "data": {
      "text/plain": [
       "<matplotlib.axes._subplots.AxesSubplot at 0x2351c110>"
      ]
     },
     "execution_count": 26,
     "metadata": {},
     "output_type": "execute_result"
    },
    {
     "data": {
      "image/png": "[encoded data removed]",
      "text/plain": [
       "<Figure size 432x288 with 1 Axes>"
      ]
     },
     "metadata": {
      "needs_background": "light"
     },
     "output_type": "display_data"
    }
   ],
   "source": [
    "sns.stripplot(x=\"segment2\", y=\"from_user_friendcount\", data=users, jitter=True)"
   ]
  },
  {
   "cell_type": "code",
   "execution_count": 27,
   "metadata": {},
   "outputs": [
    {
     "data": {
      "text/plain": [
       "<matplotlib.axes._subplots.AxesSubplot at 0x1442f90>"
      ]
     },
     "execution_count": 27,
     "metadata": {},
     "output_type": "execute_result"
    },
    {
     "data": {
      "image/png": "[encoded data removed]",
      "text/plain": [
       "<Figure size 432x288 with 1 Axes>"
      ]
     },
     "metadata": {
      "needs_background": "light"
     },
     "output_type": "display_data"
    }
   ],
   "source": [
    "sns.stripplot(x=\"segment2\", y=\"en\", data=users, jitter=True)"
   ]
  },
  {
   "cell_type": "code",
   "execution_count": 28,
   "metadata": {},
   "outputs": [
    {
     "data": {
      "text/plain": [
       "<matplotlib.axes._subplots.AxesSubplot at 0x14769d0>"
      ]
     },
     "execution_count": 28,
     "metadata": {},
     "output_type": "execute_result"
    },
    {
     "data": {
      "image/png": "[encoded data removed]",
      "text/plain": [
       "<Figure size 432x288 with 1 Axes>"
      ]
     },
     "metadata": {
      "needs_background": "light"
     },
     "output_type": "display_data"
    }
   ],
   "source": [
    "sns.stripplot(x=\"segment2\", y=\"from_user_tweetcount\", data=users, jitter=True)"
   ]
  },
  {
   "cell_type": "markdown",
   "metadata": {},
   "source": [
    "It seems that 5 clusters have more overlaps than 4 clusters, therefore I would go for segementation of 4 clusters."
   ]
  },
  {
   "cell_type": "markdown",
   "metadata": {},
   "source": [
    "# Task 2"
   ]
  },
  {
   "cell_type": "code",
   "execution_count": 30,
   "metadata": {},
   "outputs": [
    {
     "data": {
      "text/plain": [
       "Index(['id', 'created_at', 'from_user_name', 'from_user_id', 'from_user_lang',\n",
       "       'from_user_tweetcount', 'from_user_followercount',\n",
       "       'from_user_friendcount', 'from_user_listed', 'from_user_realname',\n",
       "       'from_user_utcoffset', 'from_user_timezone', 'from_user_description',\n",
       "       'from_user_url', 'from_user_verified', 'from_user_profile_image_url',\n",
       "       'from_user_created_at', 'from_user_withheld_scope',\n",
       "       'from_user_favourites_count', 'source', 'location', 'geo_lat',\n",
       "       'geo_lng', 'text', 'retweet_id', 'retweet_count', 'favorite_count',\n",
       "       'to_user_id', 'to_user_name', 'in_reply_to_status_id', 'filter_level',\n",
       "       'lang', 'possibly_sensitive', 'quoted_status_id', 'withheld_copyright',\n",
       "       'withheld_scope'],\n",
       "      dtype='object')"
      ]
     },
     "execution_count": 30,
     "metadata": {},
     "output_type": "execute_result"
    }
   ],
   "source": [
    "tweets.columns"
   ]
  },
  {
   "cell_type": "code",
   "execution_count": 31,
   "metadata": {
    "scrolled": true
   },
   "outputs": [
    {
     "data": {
      "text/plain": [
       "Index(['from_user_name', 'from_user_id', 'from_user_realname',\n",
       "       'from_user_verified', 'from_user_description', 'from_user_url',\n",
       "       'from_user_profile_image_url', 'from_user_utcoffset',\n",
       "       'from_user_timezone', 'from_user_lang', 'from_user_tweetcount',\n",
       "       'from_user_followercount', 'from_user_friendcount',\n",
       "       'from_user_favourites_count', 'from_user_listed',\n",
       "       'from_user_withheld_scope', 'from_user_created_at', 'pt', 'en', 'es',\n",
       "       'segment', 'segment2'],\n",
       "      dtype='object')"
      ]
     },
     "execution_count": 31,
     "metadata": {},
     "output_type": "execute_result"
    }
   ],
   "source": [
    "users.columns"
   ]
  },
  {
   "cell_type": "code",
   "execution_count": 32,
   "metadata": {},
   "outputs": [],
   "source": [
    "users_segment = users[['from_user_name', 'segment']]"
   ]
  },
  {
   "cell_type": "code",
   "execution_count": 33,
   "metadata": {},
   "outputs": [
    {
     "data": {
      "text/html": [
       "<div>\n",
       "<style scoped>\n",
       "    .dataframe tbody tr th:only-of-type {\n",
       "        vertical-align: middle;\n",
       "    }\n",
       "\n",
       "    .dataframe tbody tr th {\n",
       "        vertical-align: top;\n",
       "    }\n",
       "\n",
       "    .dataframe thead th {\n",
       "        text-align: right;\n",
       "    }\n",
       "</style>\n",
       "<table border=\"1\" class=\"dataframe\">\n",
       "  <thead>\n",
       "    <tr style=\"text-align: right;\">\n",
       "      <th></th>\n",
       "      <th>from_user_name</th>\n",
       "      <th>segment</th>\n",
       "    </tr>\n",
       "  </thead>\n",
       "  <tbody>\n",
       "    <tr>\n",
       "      <th>237740</th>\n",
       "      <td>leinsecuregirl</td>\n",
       "      <td>0</td>\n",
       "    </tr>\n",
       "    <tr>\n",
       "      <th>237741</th>\n",
       "      <td>sandraiansen</td>\n",
       "      <td>1</td>\n",
       "    </tr>\n",
       "    <tr>\n",
       "      <th>237742</th>\n",
       "      <td>LikeImHalf</td>\n",
       "      <td>1</td>\n",
       "    </tr>\n",
       "    <tr>\n",
       "      <th>237743</th>\n",
       "      <td>nickinglis</td>\n",
       "      <td>1</td>\n",
       "    </tr>\n",
       "    <tr>\n",
       "      <th>237744</th>\n",
       "      <td>ahobaray</td>\n",
       "      <td>1</td>\n",
       "    </tr>\n",
       "  </tbody>\n",
       "</table>\n",
       "</div>"
      ],
      "text/plain": [
       "        from_user_name  segment\n",
       "237740  leinsecuregirl        0\n",
       "237741    sandraiansen        1\n",
       "237742      LikeImHalf        1\n",
       "237743      nickinglis        1\n",
       "237744        ahobaray        1"
      ]
     },
     "execution_count": 33,
     "metadata": {},
     "output_type": "execute_result"
    }
   ],
   "source": [
    "users_segment.tail()"
   ]
  },
  {
   "cell_type": "code",
   "execution_count": 34,
   "metadata": {},
   "outputs": [],
   "source": [
    "tweets_with_segments = tweets.merge(users_segment, how=\"left\", on=\"from_user_name\")"
   ]
  },
  {
   "cell_type": "code",
   "execution_count": 35,
   "metadata": {},
   "outputs": [
    {
     "data": {
      "text/plain": [
       "Index(['id', 'created_at', 'from_user_name', 'from_user_id', 'from_user_lang',\n",
       "       'from_user_tweetcount', 'from_user_followercount',\n",
       "       'from_user_friendcount', 'from_user_listed', 'from_user_realname',\n",
       "       'from_user_utcoffset', 'from_user_timezone', 'from_user_description',\n",
       "       'from_user_url', 'from_user_verified', 'from_user_profile_image_url',\n",
       "       'from_user_created_at', 'from_user_withheld_scope',\n",
       "       'from_user_favourites_count', 'source', 'location', 'geo_lat',\n",
       "       'geo_lng', 'text', 'retweet_id', 'retweet_count', 'favorite_count',\n",
       "       'to_user_id', 'to_user_name', 'in_reply_to_status_id', 'filter_level',\n",
       "       'lang', 'possibly_sensitive', 'quoted_status_id', 'withheld_copyright',\n",
       "       'withheld_scope', 'segment'],\n",
       "      dtype='object')"
      ]
     },
     "execution_count": 35,
     "metadata": {},
     "output_type": "execute_result"
    }
   ],
   "source": [
    "tweets_with_segments.columns"
   ]
  },
  {
   "cell_type": "code",
   "execution_count": 36,
   "metadata": {},
   "outputs": [
    {
     "data": {
      "text/html": [
       "<div>\n",
       "<style scoped>\n",
       "    .dataframe tbody tr th:only-of-type {\n",
       "        vertical-align: middle;\n",
       "    }\n",
       "\n",
       "    .dataframe tbody tr th {\n",
       "        vertical-align: top;\n",
       "    }\n",
       "\n",
       "    .dataframe thead th {\n",
       "        text-align: right;\n",
       "    }\n",
       "</style>\n",
       "<table border=\"1\" class=\"dataframe\">\n",
       "  <thead>\n",
       "    <tr style=\"text-align: right;\">\n",
       "      <th></th>\n",
       "      <th>from_user_favourites_count</th>\n",
       "    </tr>\n",
       "    <tr>\n",
       "      <th>segment</th>\n",
       "      <th></th>\n",
       "    </tr>\n",
       "  </thead>\n",
       "  <tbody>\n",
       "    <tr>\n",
       "      <th>0</th>\n",
       "      <td>42947.555405</td>\n",
       "    </tr>\n",
       "    <tr>\n",
       "      <th>1</th>\n",
       "      <td>10679.677475</td>\n",
       "    </tr>\n",
       "    <tr>\n",
       "      <th>2</th>\n",
       "      <td>64590.536976</td>\n",
       "    </tr>\n",
       "    <tr>\n",
       "      <th>3</th>\n",
       "      <td>7285.693227</td>\n",
       "    </tr>\n",
       "  </tbody>\n",
       "</table>\n",
       "</div>"
      ],
      "text/plain": [
       "         from_user_favourites_count\n",
       "segment                            \n",
       "0                      42947.555405\n",
       "1                      10679.677475\n",
       "2                      64590.536976\n",
       "3                       7285.693227"
      ]
     },
     "execution_count": 36,
     "metadata": {},
     "output_type": "execute_result"
    }
   ],
   "source": [
    "tweets_with_segments[['segment', 'from_user_favourites_count']].groupby('segment').mean()"
   ]
  },
  {
   "cell_type": "code",
   "execution_count": null,
   "metadata": {},
   "outputs": [
    {
     "ename": "KeyboardInterrupt",
     "evalue": "",
     "output_type": "error",
     "traceback": [
      "\u001b[1;31m---------------------------------------------------------------------------\u001b[0m",
      "\u001b[1;31mKeyboardInterrupt\u001b[0m                         Traceback (most recent call last)",
      "\u001b[1;32m<ipython-input-251-cad9b4be057a>\u001b[0m in \u001b[0;36m<module>\u001b[1;34m\u001b[0m\n\u001b[1;32m----> 1\u001b[1;33m \u001b[0msns\u001b[0m\u001b[1;33m.\u001b[0m\u001b[0mcountplot\u001b[0m\u001b[1;33m(\u001b[0m\u001b[0mx\u001b[0m \u001b[1;33m=\u001b[0m \u001b[1;34m\"segment\"\u001b[0m\u001b[1;33m,\u001b[0m\u001b[0mhue\u001b[0m \u001b[1;33m=\u001b[0m\u001b[1;34m\"from_user_favourites_count\"\u001b[0m\u001b[1;33m,\u001b[0m \u001b[0mdata\u001b[0m\u001b[1;33m=\u001b[0m\u001b[0mtweets_with_segments\u001b[0m\u001b[1;33m,\u001b[0m \u001b[0mpalette\u001b[0m\u001b[1;33m=\u001b[0m\u001b[1;34m\"Blues\"\u001b[0m\u001b[1;33m)\u001b[0m\u001b[1;33m;\u001b[0m\u001b[1;33m\u001b[0m\u001b[1;33m\u001b[0m\u001b[0m\n\u001b[0m",
      "\u001b[1;32mD:\\Anaconda3\\lib\\site-packages\\seaborn\\categorical.py\u001b[0m in \u001b[0;36mcountplot\u001b[1;34m(x, y, hue, data, order, hue_order, orient, color, palette, saturation, dodge, ax, **kwargs)\u001b[0m\n\u001b[0;32m   3558\u001b[0m         \u001b[0max\u001b[0m \u001b[1;33m=\u001b[0m \u001b[0mplt\u001b[0m\u001b[1;33m.\u001b[0m\u001b[0mgca\u001b[0m\u001b[1;33m(\u001b[0m\u001b[1;33m)\u001b[0m\u001b[1;33m\u001b[0m\u001b[1;33m\u001b[0m\u001b[0m\n\u001b[0;32m   3559\u001b[0m \u001b[1;33m\u001b[0m\u001b[0m\n\u001b[1;32m-> 3560\u001b[1;33m     \u001b[0mplotter\u001b[0m\u001b[1;33m.\u001b[0m\u001b[0mplot\u001b[0m\u001b[1;33m(\u001b[0m\u001b[0max\u001b[0m\u001b[1;33m,\u001b[0m \u001b[0mkwargs\u001b[0m\u001b[1;33m)\u001b[0m\u001b[1;33m\u001b[0m\u001b[1;33m\u001b[0m\u001b[0m\n\u001b[0m\u001b[0;32m   3561\u001b[0m     \u001b[1;32mreturn\u001b[0m \u001b[0max\u001b[0m\u001b[1;33m\u001b[0m\u001b[1;33m\u001b[0m\u001b[0m\n\u001b[0;32m   3562\u001b[0m \u001b[1;33m\u001b[0m\u001b[0m\n",
      "\u001b[1;32mD:\\Anaconda3\\lib\\site-packages\\seaborn\\categorical.py\u001b[0m in \u001b[0;36mplot\u001b[1;34m(self, ax, bar_kws)\u001b[0m\n\u001b[0;32m   1659\u001b[0m     \u001b[1;32mdef\u001b[0m \u001b[0mplot\u001b[0m\u001b[1;33m(\u001b[0m\u001b[0mself\u001b[0m\u001b[1;33m,\u001b[0m \u001b[0max\u001b[0m\u001b[1;33m,\u001b[0m \u001b[0mbar_kws\u001b[0m\u001b[1;33m)\u001b[0m\u001b[1;33m:\u001b[0m\u001b[1;33m\u001b[0m\u001b[1;33m\u001b[0m\u001b[0m\n\u001b[0;32m   1660\u001b[0m         \u001b[1;34m\"\"\"Make the plot.\"\"\"\u001b[0m\u001b[1;33m\u001b[0m\u001b[1;33m\u001b[0m\u001b[0m\n\u001b[1;32m-> 1661\u001b[1;33m         \u001b[0mself\u001b[0m\u001b[1;33m.\u001b[0m\u001b[0mdraw_bars\u001b[0m\u001b[1;33m(\u001b[0m\u001b[0max\u001b[0m\u001b[1;33m,\u001b[0m \u001b[0mbar_kws\u001b[0m\u001b[1;33m)\u001b[0m\u001b[1;33m\u001b[0m\u001b[1;33m\u001b[0m\u001b[0m\n\u001b[0m\u001b[0;32m   1662\u001b[0m         \u001b[0mself\u001b[0m\u001b[1;33m.\u001b[0m\u001b[0mannotate_axes\u001b[0m\u001b[1;33m(\u001b[0m\u001b[0max\u001b[0m\u001b[1;33m)\u001b[0m\u001b[1;33m\u001b[0m\u001b[1;33m\u001b[0m\u001b[0m\n\u001b[0;32m   1663\u001b[0m         \u001b[1;32mif\u001b[0m \u001b[0mself\u001b[0m\u001b[1;33m.\u001b[0m\u001b[0morient\u001b[0m \u001b[1;33m==\u001b[0m \u001b[1;34m\"h\"\u001b[0m\u001b[1;33m:\u001b[0m\u001b[1;33m\u001b[0m\u001b[1;33m\u001b[0m\u001b[0m\n",
      "\u001b[1;32mD:\\Anaconda3\\lib\\site-packages\\seaborn\\categorical.py\u001b[0m in \u001b[0;36mdraw_bars\u001b[1;34m(self, ax, kws)\u001b[0m\n\u001b[0;32m   1644\u001b[0m                 barfunc(offpos, self.statistic[:, j], self.nested_width,\n\u001b[0;32m   1645\u001b[0m                         \u001b[0mcolor\u001b[0m\u001b[1;33m=\u001b[0m\u001b[0mself\u001b[0m\u001b[1;33m.\u001b[0m\u001b[0mcolors\u001b[0m\u001b[1;33m[\u001b[0m\u001b[0mj\u001b[0m\u001b[1;33m]\u001b[0m\u001b[1;33m,\u001b[0m \u001b[0malign\u001b[0m\u001b[1;33m=\u001b[0m\u001b[1;34m\"center\"\u001b[0m\u001b[1;33m,\u001b[0m\u001b[1;33m\u001b[0m\u001b[1;33m\u001b[0m\u001b[0m\n\u001b[1;32m-> 1646\u001b[1;33m                         label=hue_level, **kws)\n\u001b[0m\u001b[0;32m   1647\u001b[0m \u001b[1;33m\u001b[0m\u001b[0m\n\u001b[0;32m   1648\u001b[0m                 \u001b[1;31m# Draw the confidence intervals\u001b[0m\u001b[1;33m\u001b[0m\u001b[1;33m\u001b[0m\u001b[1;33m\u001b[0m\u001b[0m\n",
      "\u001b[1;32mD:\\Anaconda3\\lib\\site-packages\\matplotlib\\__init__.py\u001b[0m in \u001b[0;36minner\u001b[1;34m(ax, data, *args, **kwargs)\u001b[0m\n\u001b[0;32m   1808\u001b[0m                         \u001b[1;34m\"the Matplotlib list!)\"\u001b[0m \u001b[1;33m%\u001b[0m \u001b[1;33m(\u001b[0m\u001b[0mlabel_namer\u001b[0m\u001b[1;33m,\u001b[0m \u001b[0mfunc\u001b[0m\u001b[1;33m.\u001b[0m\u001b[0m__name__\u001b[0m\u001b[1;33m)\u001b[0m\u001b[1;33m,\u001b[0m\u001b[1;33m\u001b[0m\u001b[1;33m\u001b[0m\u001b[0m\n\u001b[0;32m   1809\u001b[0m                         RuntimeWarning, stacklevel=2)\n\u001b[1;32m-> 1810\u001b[1;33m             \u001b[1;32mreturn\u001b[0m \u001b[0mfunc\u001b[0m\u001b[1;33m(\u001b[0m\u001b[0max\u001b[0m\u001b[1;33m,\u001b[0m \u001b[1;33m*\u001b[0m\u001b[0margs\u001b[0m\u001b[1;33m,\u001b[0m \u001b[1;33m**\u001b[0m\u001b[0mkwargs\u001b[0m\u001b[1;33m)\u001b[0m\u001b[1;33m\u001b[0m\u001b[1;33m\u001b[0m\u001b[0m\n\u001b[0m\u001b[0;32m   1811\u001b[0m \u001b[1;33m\u001b[0m\u001b[0m\n\u001b[0;32m   1812\u001b[0m         inner.__doc__ = _add_data_doc(inner.__doc__,\n",
      "\u001b[1;32mD:\\Anaconda3\\lib\\site-packages\\matplotlib\\axes\\_axes.py\u001b[0m in \u001b[0;36mbar\u001b[1;34m(self, x, height, width, bottom, align, **kwargs)\u001b[0m\n\u001b[0;32m   2339\u001b[0m             \u001b[0mymin\u001b[0m \u001b[1;33m=\u001b[0m \u001b[0mmax\u001b[0m\u001b[1;33m(\u001b[0m\u001b[0mymin\u001b[0m \u001b[1;33m*\u001b[0m \u001b[1;36m0.9\u001b[0m\u001b[1;33m,\u001b[0m \u001b[1;36m1e-100\u001b[0m\u001b[1;33m)\u001b[0m\u001b[1;33m\u001b[0m\u001b[1;33m\u001b[0m\u001b[0m\n\u001b[0;32m   2340\u001b[0m             \u001b[0mself\u001b[0m\u001b[1;33m.\u001b[0m\u001b[0mdataLim\u001b[0m\u001b[1;33m.\u001b[0m\u001b[0mintervaly\u001b[0m \u001b[1;33m=\u001b[0m \u001b[1;33m(\u001b[0m\u001b[0mymin\u001b[0m\u001b[1;33m,\u001b[0m \u001b[0mymax\u001b[0m\u001b[1;33m)\u001b[0m\u001b[1;33m\u001b[0m\u001b[1;33m\u001b[0m\u001b[0m\n\u001b[1;32m-> 2341\u001b[1;33m         \u001b[0mself\u001b[0m\u001b[1;33m.\u001b[0m\u001b[0mautoscale_view\u001b[0m\u001b[1;33m(\u001b[0m\u001b[1;33m)\u001b[0m\u001b[1;33m\u001b[0m\u001b[1;33m\u001b[0m\u001b[0m\n\u001b[0m\u001b[0;32m   2342\u001b[0m \u001b[1;33m\u001b[0m\u001b[0m\n\u001b[0;32m   2343\u001b[0m         \u001b[0mbar_container\u001b[0m \u001b[1;33m=\u001b[0m \u001b[0mBarContainer\u001b[0m\u001b[1;33m(\u001b[0m\u001b[0mpatches\u001b[0m\u001b[1;33m,\u001b[0m \u001b[0merrorbar\u001b[0m\u001b[1;33m,\u001b[0m \u001b[0mlabel\u001b[0m\u001b[1;33m=\u001b[0m\u001b[0mlabel\u001b[0m\u001b[1;33m)\u001b[0m\u001b[1;33m\u001b[0m\u001b[1;33m\u001b[0m\u001b[0m\n",
      "\u001b[1;32mD:\\Anaconda3\\lib\\site-packages\\matplotlib\\axes\\_base.py\u001b[0m in \u001b[0;36mautoscale_view\u001b[1;34m(self, tight, scalex, scaley)\u001b[0m\n\u001b[0;32m   2427\u001b[0m             \u001b[0mx_stickies\u001b[0m \u001b[1;33m=\u001b[0m \u001b[0msum\u001b[0m\u001b[1;33m(\u001b[0m\u001b[1;33m[\u001b[0m\u001b[0msticky\u001b[0m\u001b[1;33m.\u001b[0m\u001b[0mx\u001b[0m \u001b[1;32mfor\u001b[0m \u001b[0msticky\u001b[0m \u001b[1;32min\u001b[0m \u001b[0mstickies\u001b[0m\u001b[1;33m]\u001b[0m\u001b[1;33m,\u001b[0m \u001b[1;33m[\u001b[0m\u001b[1;33m]\u001b[0m\u001b[1;33m)\u001b[0m\u001b[1;33m\u001b[0m\u001b[1;33m\u001b[0m\u001b[0m\n\u001b[0;32m   2428\u001b[0m             \u001b[0my_stickies\u001b[0m \u001b[1;33m=\u001b[0m \u001b[0msum\u001b[0m\u001b[1;33m(\u001b[0m\u001b[1;33m[\u001b[0m\u001b[0msticky\u001b[0m\u001b[1;33m.\u001b[0m\u001b[0my\u001b[0m \u001b[1;32mfor\u001b[0m \u001b[0msticky\u001b[0m \u001b[1;32min\u001b[0m \u001b[0mstickies\u001b[0m\u001b[1;33m]\u001b[0m\u001b[1;33m,\u001b[0m \u001b[1;33m[\u001b[0m\u001b[1;33m]\u001b[0m\u001b[1;33m)\u001b[0m\u001b[1;33m\u001b[0m\u001b[1;33m\u001b[0m\u001b[0m\n\u001b[1;32m-> 2429\u001b[1;33m             \u001b[1;32mif\u001b[0m \u001b[0mself\u001b[0m\u001b[1;33m.\u001b[0m\u001b[0mget_xscale\u001b[0m\u001b[1;33m(\u001b[0m\u001b[1;33m)\u001b[0m\u001b[1;33m.\u001b[0m\u001b[0mlower\u001b[0m\u001b[1;33m(\u001b[0m\u001b[1;33m)\u001b[0m \u001b[1;33m==\u001b[0m \u001b[1;34m'log'\u001b[0m\u001b[1;33m:\u001b[0m\u001b[1;33m\u001b[0m\u001b[1;33m\u001b[0m\u001b[0m\n\u001b[0m\u001b[0;32m   2430\u001b[0m                 \u001b[0mx_stickies\u001b[0m \u001b[1;33m=\u001b[0m \u001b[1;33m[\u001b[0m\u001b[0mxs\u001b[0m \u001b[1;32mfor\u001b[0m \u001b[0mxs\u001b[0m \u001b[1;32min\u001b[0m \u001b[0mx_stickies\u001b[0m \u001b[1;32mif\u001b[0m \u001b[0mxs\u001b[0m \u001b[1;33m>\u001b[0m \u001b[1;36m0\u001b[0m\u001b[1;33m]\u001b[0m\u001b[1;33m\u001b[0m\u001b[1;33m\u001b[0m\u001b[0m\n\u001b[0;32m   2431\u001b[0m             \u001b[1;32mif\u001b[0m \u001b[0mself\u001b[0m\u001b[1;33m.\u001b[0m\u001b[0mget_yscale\u001b[0m\u001b[1;33m(\u001b[0m\u001b[1;33m)\u001b[0m\u001b[1;33m.\u001b[0m\u001b[0mlower\u001b[0m\u001b[1;33m(\u001b[0m\u001b[1;33m)\u001b[0m \u001b[1;33m==\u001b[0m \u001b[1;34m'log'\u001b[0m\u001b[1;33m:\u001b[0m\u001b[1;33m\u001b[0m\u001b[1;33m\u001b[0m\u001b[0m\n",
      "\u001b[1;31mKeyboardInterrupt\u001b[0m: "
     ]
    }
   ],
   "source": [
    "sns.countplot(x = \"segment\",hue =\"from_user_favourites_count\", data=tweets_with_segments, palette=\"Blues\");"
   ]
  },
  {
   "cell_type": "markdown",
   "metadata": {},
   "source": [
    "This script runs too long, therefore I interuppt it."
   ]
  },
  {
   "cell_type": "code",
   "execution_count": 37,
   "metadata": {},
   "outputs": [],
   "source": [
    "users.to_pickle('JingjingWang_users_segmented.pkl')\n",
    "tweets_with_segments.to_pickle('JingjingWang_TweetsWithSegments.pkl')"
   ]
  },
  {
   "cell_type": "markdown",
   "metadata": {},
   "source": [
    "# Challenge 2\n",
    "\n",
    "1. Change the features of the logistic model created in scikit-learn, and see if you get to a better model to predict clicks. How does this model look like? How do you know it is actually better than the one I created?\n",
    "2. Create a model for predicting sell. "
   ]
  },
  {
   "cell_type": "markdown",
   "metadata": {},
   "source": [
    "# Task 1\n",
    "**Data preparation**"
   ]
  },
  {
   "cell_type": "code",
   "execution_count": 40,
   "metadata": {},
   "outputs": [],
   "source": [
    "webdata = pd.read_excel('web_campaign_simulated 2.xlsx')"
   ]
  },
  {
   "cell_type": "code",
   "execution_count": 41,
   "metadata": {},
   "outputs": [
    {
     "data": {
      "text/plain": [
       "Index(['id', 'age', 'female', 'used_search', 'referral', 'time_spent',\n",
       "       'campaign_1', 'campaign_2', 'click', 'sell_old', 'sell'],\n",
       "      dtype='object')"
      ]
     },
     "execution_count": 41,
     "metadata": {},
     "output_type": "execute_result"
    }
   ],
   "source": [
    "webdata.columns"
   ]
  },
  {
   "cell_type": "code",
   "execution_count": 42,
   "metadata": {},
   "outputs": [
    {
     "data": {
      "text/plain": [
       "id              int64\n",
       "age             int64\n",
       "female          int64\n",
       "used_search     int64\n",
       "referral       object\n",
       "time_spent      int64\n",
       "campaign_1      int64\n",
       "campaign_2      int64\n",
       "click           int64\n",
       "sell_old        int64\n",
       "sell            int64\n",
       "dtype: object"
      ]
     },
     "execution_count": 42,
     "metadata": {},
     "output_type": "execute_result"
    }
   ],
   "source": [
    "webdata.dtypes"
   ]
  },
  {
   "cell_type": "code",
   "execution_count": 43,
   "metadata": {},
   "outputs": [
    {
     "data": {
      "text/html": [
       "<div>\n",
       "<style scoped>\n",
       "    .dataframe tbody tr th:only-of-type {\n",
       "        vertical-align: middle;\n",
       "    }\n",
       "\n",
       "    .dataframe tbody tr th {\n",
       "        vertical-align: top;\n",
       "    }\n",
       "\n",
       "    .dataframe thead th {\n",
       "        text-align: right;\n",
       "    }\n",
       "</style>\n",
       "<table border=\"1\" class=\"dataframe\">\n",
       "  <thead>\n",
       "    <tr style=\"text-align: right;\">\n",
       "      <th></th>\n",
       "      <th>id</th>\n",
       "      <th>age</th>\n",
       "      <th>female</th>\n",
       "      <th>used_search</th>\n",
       "      <th>referral</th>\n",
       "      <th>time_spent</th>\n",
       "      <th>campaign_1</th>\n",
       "      <th>campaign_2</th>\n",
       "      <th>click</th>\n",
       "      <th>sell_old</th>\n",
       "      <th>sell</th>\n",
       "    </tr>\n",
       "  </thead>\n",
       "  <tbody>\n",
       "    <tr>\n",
       "      <th>0</th>\n",
       "      <td>1</td>\n",
       "      <td>40</td>\n",
       "      <td>1</td>\n",
       "      <td>1</td>\n",
       "      <td>tumblr</td>\n",
       "      <td>204</td>\n",
       "      <td>1</td>\n",
       "      <td>0</td>\n",
       "      <td>0</td>\n",
       "      <td>1</td>\n",
       "      <td>0</td>\n",
       "    </tr>\n",
       "    <tr>\n",
       "      <th>1</th>\n",
       "      <td>2</td>\n",
       "      <td>49</td>\n",
       "      <td>0</td>\n",
       "      <td>0</td>\n",
       "      <td></td>\n",
       "      <td>239</td>\n",
       "      <td>1</td>\n",
       "      <td>0</td>\n",
       "      <td>0</td>\n",
       "      <td>0</td>\n",
       "      <td>1</td>\n",
       "    </tr>\n",
       "    <tr>\n",
       "      <th>2</th>\n",
       "      <td>3</td>\n",
       "      <td>20</td>\n",
       "      <td>1</td>\n",
       "      <td>0</td>\n",
       "      <td>google</td>\n",
       "      <td>238</td>\n",
       "      <td>0</td>\n",
       "      <td>0</td>\n",
       "      <td>0</td>\n",
       "      <td>1</td>\n",
       "      <td>1</td>\n",
       "    </tr>\n",
       "    <tr>\n",
       "      <th>3</th>\n",
       "      <td>4</td>\n",
       "      <td>19</td>\n",
       "      <td>1</td>\n",
       "      <td>0</td>\n",
       "      <td>google</td>\n",
       "      <td>111</td>\n",
       "      <td>1</td>\n",
       "      <td>1</td>\n",
       "      <td>0</td>\n",
       "      <td>1</td>\n",
       "      <td>0</td>\n",
       "    </tr>\n",
       "    <tr>\n",
       "      <th>4</th>\n",
       "      <td>5</td>\n",
       "      <td>46</td>\n",
       "      <td>1</td>\n",
       "      <td>1</td>\n",
       "      <td>twitter</td>\n",
       "      <td>159</td>\n",
       "      <td>0</td>\n",
       "      <td>0</td>\n",
       "      <td>1</td>\n",
       "      <td>1</td>\n",
       "      <td>0</td>\n",
       "    </tr>\n",
       "  </tbody>\n",
       "</table>\n",
       "</div>"
      ],
      "text/plain": [
       "   id  age  female  used_search referral  time_spent  campaign_1  campaign_2  \\\n",
       "0   1   40       1            1   tumblr         204           1           0   \n",
       "1   2   49       0            0                  239           1           0   \n",
       "2   3   20       1            0   google         238           0           0   \n",
       "3   4   19       1            0   google         111           1           1   \n",
       "4   5   46       1            1  twitter         159           0           0   \n",
       "\n",
       "   click  sell_old  sell  \n",
       "0      0         1     0  \n",
       "1      0         0     1  \n",
       "2      0         1     1  \n",
       "3      0         1     0  \n",
       "4      1         1     0  "
      ]
     },
     "execution_count": 43,
     "metadata": {},
     "output_type": "execute_result"
    }
   ],
   "source": [
    "webdata.head()"
   ]
  },
  {
   "cell_type": "code",
   "execution_count": 44,
   "metadata": {},
   "outputs": [
    {
     "data": {
      "text/html": [
       "<div>\n",
       "<style scoped>\n",
       "    .dataframe tbody tr th:only-of-type {\n",
       "        vertical-align: middle;\n",
       "    }\n",
       "\n",
       "    .dataframe tbody tr th {\n",
       "        vertical-align: top;\n",
       "    }\n",
       "\n",
       "    .dataframe thead th {\n",
       "        text-align: right;\n",
       "    }\n",
       "</style>\n",
       "<table border=\"1\" class=\"dataframe\">\n",
       "  <thead>\n",
       "    <tr style=\"text-align: right;\">\n",
       "      <th></th>\n",
       "      <th>count</th>\n",
       "      <th>mean</th>\n",
       "      <th>std</th>\n",
       "      <th>min</th>\n",
       "      <th>25%</th>\n",
       "      <th>50%</th>\n",
       "      <th>75%</th>\n",
       "      <th>max</th>\n",
       "    </tr>\n",
       "  </thead>\n",
       "  <tbody>\n",
       "    <tr>\n",
       "      <th>id</th>\n",
       "      <td>9010.0</td>\n",
       "      <td>2141.001887</td>\n",
       "      <td>670.144769</td>\n",
       "      <td>1.0</td>\n",
       "      <td>2253.25</td>\n",
       "      <td>2483.0</td>\n",
       "      <td>2483.0</td>\n",
       "      <td>2483.0</td>\n",
       "    </tr>\n",
       "    <tr>\n",
       "      <th>age</th>\n",
       "      <td>9010.0</td>\n",
       "      <td>28.344728</td>\n",
       "      <td>11.573714</td>\n",
       "      <td>18.0</td>\n",
       "      <td>23.00</td>\n",
       "      <td>23.0</td>\n",
       "      <td>23.0</td>\n",
       "      <td>67.0</td>\n",
       "    </tr>\n",
       "    <tr>\n",
       "      <th>female</th>\n",
       "      <td>9010.0</td>\n",
       "      <td>0.140622</td>\n",
       "      <td>0.347650</td>\n",
       "      <td>0.0</td>\n",
       "      <td>0.00</td>\n",
       "      <td>0.0</td>\n",
       "      <td>0.0</td>\n",
       "      <td>1.0</td>\n",
       "    </tr>\n",
       "    <tr>\n",
       "      <th>used_search</th>\n",
       "      <td>9010.0</td>\n",
       "      <td>0.862486</td>\n",
       "      <td>0.344408</td>\n",
       "      <td>0.0</td>\n",
       "      <td>1.00</td>\n",
       "      <td>1.0</td>\n",
       "      <td>1.0</td>\n",
       "      <td>1.0</td>\n",
       "    </tr>\n",
       "    <tr>\n",
       "      <th>time_spent</th>\n",
       "      <td>9010.0</td>\n",
       "      <td>188.782464</td>\n",
       "      <td>108.709242</td>\n",
       "      <td>1.0</td>\n",
       "      <td>96.00</td>\n",
       "      <td>187.0</td>\n",
       "      <td>282.0</td>\n",
       "      <td>380.0</td>\n",
       "    </tr>\n",
       "    <tr>\n",
       "      <th>campaign_1</th>\n",
       "      <td>9010.0</td>\n",
       "      <td>0.863929</td>\n",
       "      <td>0.342883</td>\n",
       "      <td>0.0</td>\n",
       "      <td>1.00</td>\n",
       "      <td>1.0</td>\n",
       "      <td>1.0</td>\n",
       "      <td>1.0</td>\n",
       "    </tr>\n",
       "    <tr>\n",
       "      <th>campaign_2</th>\n",
       "      <td>9010.0</td>\n",
       "      <td>0.863263</td>\n",
       "      <td>0.343589</td>\n",
       "      <td>0.0</td>\n",
       "      <td>1.00</td>\n",
       "      <td>1.0</td>\n",
       "      <td>1.0</td>\n",
       "      <td>1.0</td>\n",
       "    </tr>\n",
       "    <tr>\n",
       "      <th>click</th>\n",
       "      <td>9010.0</td>\n",
       "      <td>0.386903</td>\n",
       "      <td>0.487068</td>\n",
       "      <td>0.0</td>\n",
       "      <td>0.00</td>\n",
       "      <td>0.0</td>\n",
       "      <td>1.0</td>\n",
       "      <td>1.0</td>\n",
       "    </tr>\n",
       "    <tr>\n",
       "      <th>sell_old</th>\n",
       "      <td>9010.0</td>\n",
       "      <td>0.700222</td>\n",
       "      <td>0.458186</td>\n",
       "      <td>0.0</td>\n",
       "      <td>0.00</td>\n",
       "      <td>1.0</td>\n",
       "      <td>1.0</td>\n",
       "      <td>1.0</td>\n",
       "    </tr>\n",
       "    <tr>\n",
       "      <th>sell</th>\n",
       "      <td>9010.0</td>\n",
       "      <td>0.385572</td>\n",
       "      <td>0.486757</td>\n",
       "      <td>0.0</td>\n",
       "      <td>0.00</td>\n",
       "      <td>0.0</td>\n",
       "      <td>1.0</td>\n",
       "      <td>1.0</td>\n",
       "    </tr>\n",
       "  </tbody>\n",
       "</table>\n",
       "</div>"
      ],
      "text/plain": [
       "              count         mean         std   min      25%     50%     75%  \\\n",
       "id           9010.0  2141.001887  670.144769   1.0  2253.25  2483.0  2483.0   \n",
       "age          9010.0    28.344728   11.573714  18.0    23.00    23.0    23.0   \n",
       "female       9010.0     0.140622    0.347650   0.0     0.00     0.0     0.0   \n",
       "used_search  9010.0     0.862486    0.344408   0.0     1.00     1.0     1.0   \n",
       "time_spent   9010.0   188.782464  108.709242   1.0    96.00   187.0   282.0   \n",
       "campaign_1   9010.0     0.863929    0.342883   0.0     1.00     1.0     1.0   \n",
       "campaign_2   9010.0     0.863263    0.343589   0.0     1.00     1.0     1.0   \n",
       "click        9010.0     0.386903    0.487068   0.0     0.00     0.0     1.0   \n",
       "sell_old     9010.0     0.700222    0.458186   0.0     0.00     1.0     1.0   \n",
       "sell         9010.0     0.385572    0.486757   0.0     0.00     0.0     1.0   \n",
       "\n",
       "                max  \n",
       "id           2483.0  \n",
       "age            67.0  \n",
       "female          1.0  \n",
       "used_search     1.0  \n",
       "time_spent    380.0  \n",
       "campaign_1      1.0  \n",
       "campaign_2      1.0  \n",
       "click           1.0  \n",
       "sell_old        1.0  \n",
       "sell            1.0  "
      ]
     },
     "execution_count": 44,
     "metadata": {},
     "output_type": "execute_result"
    }
   ],
   "source": [
    "webdata.describe().transpose()"
   ]
  },
  {
   "cell_type": "code",
   "execution_count": 45,
   "metadata": {},
   "outputs": [
    {
     "data": {
      "text/plain": [
       "0    5524\n",
       "1    3486\n",
       "Name: click, dtype: int64"
      ]
     },
     "execution_count": 45,
     "metadata": {},
     "output_type": "execute_result"
    }
   ],
   "source": [
    "webdata['click'].value_counts()"
   ]
  },
  {
   "cell_type": "code",
   "execution_count": 46,
   "metadata": {},
   "outputs": [
    {
     "data": {
      "text/plain": [
       "0    5536\n",
       "1    3474\n",
       "Name: sell, dtype: int64"
      ]
     },
     "execution_count": 46,
     "metadata": {},
     "output_type": "execute_result"
    }
   ],
   "source": [
    "webdata['sell'].value_counts()"
   ]
  },
  {
   "cell_type": "code",
   "execution_count": 47,
   "metadata": {},
   "outputs": [
    {
     "data": {
      "text/plain": [
       "google          1879\n",
       "                1830\n",
       "facebook         923\n",
       "newsletter B     912\n",
       "tumblr           879\n",
       "newsletter A     869\n",
       "twitter          859\n",
       "nyt              859\n",
       "Name: referral, dtype: int64"
      ]
     },
     "execution_count": 47,
     "metadata": {},
     "output_type": "execute_result"
    }
   ],
   "source": [
    "webdata['referral'].value_counts()"
   ]
  },
  {
   "cell_type": "code",
   "execution_count": 48,
   "metadata": {},
   "outputs": [],
   "source": [
    "def check_referral(referral, site):\n",
    "    if referral == site:\n",
    "        return 1\n",
    "    return 0"
   ]
  },
  {
   "cell_type": "code",
   "execution_count": 49,
   "metadata": {},
   "outputs": [],
   "source": [
    "webdata['google'] = webdata['referral'].apply(check_referral, args=('google',))\n",
    "webdata['facebook'] = webdata['referral'].apply(check_referral, args=('facebook',))\n",
    "webdata['news_a'] = webdata['referral'].apply(check_referral, args=('newsletter A',))\n",
    "webdata['news_b'] = webdata['referral'].apply(check_referral, args=('newsletter B',))\n",
    "webdata['nyt'] = webdata['referral'].apply(check_referral, args=('nyt',))\n",
    "webdata['tumblr'] = webdata['referral'].apply(check_referral, args=('tumblr',))\n",
    "webdata['twitter'] = webdata['referral'].apply(check_referral, args=('twitter',))"
   ]
  },
  {
   "cell_type": "code",
   "execution_count": 50,
   "metadata": {},
   "outputs": [
    {
     "data": {
      "text/plain": [
       "Index(['id', 'age', 'female', 'used_search', 'referral', 'time_spent',\n",
       "       'campaign_1', 'campaign_2', 'click', 'sell_old', 'sell', 'google',\n",
       "       'facebook', 'news_a', 'news_b', 'nyt', 'tumblr', 'twitter'],\n",
       "      dtype='object')"
      ]
     },
     "execution_count": 50,
     "metadata": {},
     "output_type": "execute_result"
    }
   ],
   "source": [
    "webdata.columns"
   ]
  },
  {
   "cell_type": "code",
   "execution_count": 51,
   "metadata": {
    "scrolled": true
   },
   "outputs": [
    {
     "data": {
      "text/html": [
       "<div>\n",
       "<style scoped>\n",
       "    .dataframe tbody tr th:only-of-type {\n",
       "        vertical-align: middle;\n",
       "    }\n",
       "\n",
       "    .dataframe tbody tr th {\n",
       "        vertical-align: top;\n",
       "    }\n",
       "\n",
       "    .dataframe thead th {\n",
       "        text-align: right;\n",
       "    }\n",
       "</style>\n",
       "<table border=\"1\" class=\"dataframe\">\n",
       "  <thead>\n",
       "    <tr style=\"text-align: right;\">\n",
       "      <th></th>\n",
       "      <th>id</th>\n",
       "      <th>age</th>\n",
       "      <th>female</th>\n",
       "      <th>used_search</th>\n",
       "      <th>referral</th>\n",
       "      <th>time_spent</th>\n",
       "      <th>campaign_1</th>\n",
       "      <th>campaign_2</th>\n",
       "      <th>click</th>\n",
       "      <th>sell_old</th>\n",
       "      <th>sell</th>\n",
       "      <th>google</th>\n",
       "      <th>facebook</th>\n",
       "      <th>news_a</th>\n",
       "      <th>news_b</th>\n",
       "      <th>nyt</th>\n",
       "      <th>tumblr</th>\n",
       "      <th>twitter</th>\n",
       "    </tr>\n",
       "  </thead>\n",
       "  <tbody>\n",
       "    <tr>\n",
       "      <th>0</th>\n",
       "      <td>1</td>\n",
       "      <td>40</td>\n",
       "      <td>1</td>\n",
       "      <td>1</td>\n",
       "      <td>tumblr</td>\n",
       "      <td>204</td>\n",
       "      <td>1</td>\n",
       "      <td>0</td>\n",
       "      <td>0</td>\n",
       "      <td>1</td>\n",
       "      <td>0</td>\n",
       "      <td>0</td>\n",
       "      <td>0</td>\n",
       "      <td>0</td>\n",
       "      <td>0</td>\n",
       "      <td>0</td>\n",
       "      <td>1</td>\n",
       "      <td>0</td>\n",
       "    </tr>\n",
       "    <tr>\n",
       "      <th>1</th>\n",
       "      <td>2</td>\n",
       "      <td>49</td>\n",
       "      <td>0</td>\n",
       "      <td>0</td>\n",
       "      <td></td>\n",
       "      <td>239</td>\n",
       "      <td>1</td>\n",
       "      <td>0</td>\n",
       "      <td>0</td>\n",
       "      <td>0</td>\n",
       "      <td>1</td>\n",
       "      <td>0</td>\n",
       "      <td>0</td>\n",
       "      <td>0</td>\n",
       "      <td>0</td>\n",
       "      <td>0</td>\n",
       "      <td>0</td>\n",
       "      <td>0</td>\n",
       "    </tr>\n",
       "    <tr>\n",
       "      <th>2</th>\n",
       "      <td>3</td>\n",
       "      <td>20</td>\n",
       "      <td>1</td>\n",
       "      <td>0</td>\n",
       "      <td>google</td>\n",
       "      <td>238</td>\n",
       "      <td>0</td>\n",
       "      <td>0</td>\n",
       "      <td>0</td>\n",
       "      <td>1</td>\n",
       "      <td>1</td>\n",
       "      <td>1</td>\n",
       "      <td>0</td>\n",
       "      <td>0</td>\n",
       "      <td>0</td>\n",
       "      <td>0</td>\n",
       "      <td>0</td>\n",
       "      <td>0</td>\n",
       "    </tr>\n",
       "    <tr>\n",
       "      <th>3</th>\n",
       "      <td>4</td>\n",
       "      <td>19</td>\n",
       "      <td>1</td>\n",
       "      <td>0</td>\n",
       "      <td>google</td>\n",
       "      <td>111</td>\n",
       "      <td>1</td>\n",
       "      <td>1</td>\n",
       "      <td>0</td>\n",
       "      <td>1</td>\n",
       "      <td>0</td>\n",
       "      <td>1</td>\n",
       "      <td>0</td>\n",
       "      <td>0</td>\n",
       "      <td>0</td>\n",
       "      <td>0</td>\n",
       "      <td>0</td>\n",
       "      <td>0</td>\n",
       "    </tr>\n",
       "    <tr>\n",
       "      <th>4</th>\n",
       "      <td>5</td>\n",
       "      <td>46</td>\n",
       "      <td>1</td>\n",
       "      <td>1</td>\n",
       "      <td>twitter</td>\n",
       "      <td>159</td>\n",
       "      <td>0</td>\n",
       "      <td>0</td>\n",
       "      <td>1</td>\n",
       "      <td>1</td>\n",
       "      <td>0</td>\n",
       "      <td>0</td>\n",
       "      <td>0</td>\n",
       "      <td>0</td>\n",
       "      <td>0</td>\n",
       "      <td>0</td>\n",
       "      <td>0</td>\n",
       "      <td>1</td>\n",
       "    </tr>\n",
       "  </tbody>\n",
       "</table>\n",
       "</div>"
      ],
      "text/plain": [
       "   id  age  female  used_search referral  time_spent  campaign_1  campaign_2  \\\n",
       "0   1   40       1            1   tumblr         204           1           0   \n",
       "1   2   49       0            0                  239           1           0   \n",
       "2   3   20       1            0   google         238           0           0   \n",
       "3   4   19       1            0   google         111           1           1   \n",
       "4   5   46       1            1  twitter         159           0           0   \n",
       "\n",
       "   click  sell_old  sell  google  facebook  news_a  news_b  nyt  tumblr  \\\n",
       "0      0         1     0       0         0       0       0    0       1   \n",
       "1      0         0     1       0         0       0       0    0       0   \n",
       "2      0         1     1       1         0       0       0    0       0   \n",
       "3      0         1     0       1         0       0       0    0       0   \n",
       "4      1         1     0       0         0       0       0    0       0   \n",
       "\n",
       "   twitter  \n",
       "0        0  \n",
       "1        0  \n",
       "2        0  \n",
       "3        0  \n",
       "4        1  "
      ]
     },
     "execution_count": 51,
     "metadata": {},
     "output_type": "execute_result"
    }
   ],
   "source": [
    "webdata.head()"
   ]
  },
  {
   "cell_type": "markdown",
   "metadata": {},
   "source": [
    "**Data Exploration**"
   ]
  },
  {
   "cell_type": "code",
   "execution_count": 52,
   "metadata": {
    "scrolled": false
   },
   "outputs": [
    {
     "data": {
      "text/html": [
       "<div>\n",
       "<style scoped>\n",
       "    .dataframe tbody tr th:only-of-type {\n",
       "        vertical-align: middle;\n",
       "    }\n",
       "\n",
       "    .dataframe tbody tr th {\n",
       "        vertical-align: top;\n",
       "    }\n",
       "\n",
       "    .dataframe thead th {\n",
       "        text-align: right;\n",
       "    }\n",
       "</style>\n",
       "<table border=\"1\" class=\"dataframe\">\n",
       "  <thead>\n",
       "    <tr style=\"text-align: right;\">\n",
       "      <th></th>\n",
       "      <th>id</th>\n",
       "      <th>age</th>\n",
       "      <th>female</th>\n",
       "      <th>used_search</th>\n",
       "      <th>time_spent</th>\n",
       "      <th>campaign_1</th>\n",
       "      <th>campaign_2</th>\n",
       "      <th>sell_old</th>\n",
       "      <th>sell</th>\n",
       "      <th>google</th>\n",
       "      <th>facebook</th>\n",
       "      <th>news_a</th>\n",
       "      <th>news_b</th>\n",
       "      <th>nyt</th>\n",
       "      <th>tumblr</th>\n",
       "      <th>twitter</th>\n",
       "    </tr>\n",
       "    <tr>\n",
       "      <th>click</th>\n",
       "      <th></th>\n",
       "      <th></th>\n",
       "      <th></th>\n",
       "      <th></th>\n",
       "      <th></th>\n",
       "      <th></th>\n",
       "      <th></th>\n",
       "      <th></th>\n",
       "      <th></th>\n",
       "      <th></th>\n",
       "      <th></th>\n",
       "      <th></th>\n",
       "      <th></th>\n",
       "      <th></th>\n",
       "      <th></th>\n",
       "      <th></th>\n",
       "    </tr>\n",
       "  </thead>\n",
       "  <tbody>\n",
       "    <tr>\n",
       "      <th>0</th>\n",
       "      <td>2140.753440</td>\n",
       "      <td>28.204381</td>\n",
       "      <td>0.137762</td>\n",
       "      <td>0.860970</td>\n",
       "      <td>182.844678</td>\n",
       "      <td>0.859522</td>\n",
       "      <td>0.862056</td>\n",
       "      <td>0.612419</td>\n",
       "      <td>0.358617</td>\n",
       "      <td>0.208726</td>\n",
       "      <td>0.116039</td>\n",
       "      <td>0.080739</td>\n",
       "      <td>0.078566</td>\n",
       "      <td>0.088885</td>\n",
       "      <td>0.087618</td>\n",
       "      <td>0.096850</td>\n",
       "    </tr>\n",
       "    <tr>\n",
       "      <th>1</th>\n",
       "      <td>2141.395582</td>\n",
       "      <td>28.567126</td>\n",
       "      <td>0.145152</td>\n",
       "      <td>0.864888</td>\n",
       "      <td>198.191624</td>\n",
       "      <td>0.870912</td>\n",
       "      <td>0.865175</td>\n",
       "      <td>0.839357</td>\n",
       "      <td>0.428285</td>\n",
       "      <td>0.208262</td>\n",
       "      <td>0.080895</td>\n",
       "      <td>0.121343</td>\n",
       "      <td>0.137120</td>\n",
       "      <td>0.105565</td>\n",
       "      <td>0.113310</td>\n",
       "      <td>0.092943</td>\n",
       "    </tr>\n",
       "  </tbody>\n",
       "</table>\n",
       "</div>"
      ],
      "text/plain": [
       "                id        age    female  used_search  time_spent  campaign_1  \\\n",
       "click                                                                          \n",
       "0      2140.753440  28.204381  0.137762     0.860970  182.844678    0.859522   \n",
       "1      2141.395582  28.567126  0.145152     0.864888  198.191624    0.870912   \n",
       "\n",
       "       campaign_2  sell_old      sell    google  facebook    news_a    news_b  \\\n",
       "click                                                                           \n",
       "0        0.862056  0.612419  0.358617  0.208726  0.116039  0.080739  0.078566   \n",
       "1        0.865175  0.839357  0.428285  0.208262  0.080895  0.121343  0.137120   \n",
       "\n",
       "            nyt    tumblr   twitter  \n",
       "click                                \n",
       "0      0.088885  0.087618  0.096850  \n",
       "1      0.105565  0.113310  0.092943  "
      ]
     },
     "execution_count": 52,
     "metadata": {},
     "output_type": "execute_result"
    }
   ],
   "source": [
    "webdata.groupby('click').mean()"
   ]
  },
  {
   "cell_type": "code",
   "execution_count": 53,
   "metadata": {},
   "outputs": [
    {
     "data": {
      "image/png": "[encoded data removed]",
      "text/plain": [
       "<Figure size 432x288 with 1 Axes>"
      ]
     },
     "metadata": {
      "needs_background": "light"
     },
     "output_type": "display_data"
    }
   ],
   "source": [
    "sns.countplot(x=\"referral\", hue =\"click\", data=webdata, palette=\"Blues\");"
   ]
  },
  {
   "cell_type": "code",
   "execution_count": 54,
   "metadata": {},
   "outputs": [
    {
     "data": {
      "image/png": "[encoded data removed]",
      "text/plain": [
       "<Figure size 432x288 with 1 Axes>"
      ]
     },
     "metadata": {
      "needs_background": "light"
     },
     "output_type": "display_data"
    }
   ],
   "source": [
    "sns.countplot(x=\"female\", hue =\"click\", data=webdata, palette=\"Blues\");"
   ]
  },
  {
   "cell_type": "code",
   "execution_count": 55,
   "metadata": {},
   "outputs": [
    {
     "data": {
      "image/png": "[encoded data removed]",
      "text/plain": [
       "<Figure size 432x288 with 1 Axes>"
      ]
     },
     "metadata": {
      "needs_background": "light"
     },
     "output_type": "display_data"
    }
   ],
   "source": [
    "sns.countplot(x=\"used_search\", hue =\"click\", data=webdata, palette=\"Blues\");"
   ]
  },
  {
   "cell_type": "code",
   "execution_count": 56,
   "metadata": {},
   "outputs": [
    {
     "data": {
      "image/png": "[encoded data removed]",
      "text/plain": [
       "<Figure size 432x288 with 1 Axes>"
      ]
     },
     "metadata": {
      "needs_background": "light"
     },
     "output_type": "display_data"
    }
   ],
   "source": [
    "sns.countplot(x=\"campaign_1\", hue =\"click\", data=webdata, palette=\"Blues\");"
   ]
  },
  {
   "cell_type": "markdown",
   "metadata": {},
   "source": [
    "The above distributions show that \"referral\", \"female\",\"used_search\", and \"campagin\" are all good predictors for clicks."
   ]
  },
  {
   "cell_type": "markdown",
   "metadata": {},
   "source": [
    "**Modelling**"
   ]
  },
  {
   "cell_type": "code",
   "execution_count": 57,
   "metadata": {},
   "outputs": [],
   "source": [
    "from sklearn.linear_model import LogisticRegression"
   ]
  },
  {
   "cell_type": "code",
   "execution_count": 58,
   "metadata": {},
   "outputs": [],
   "source": [
    "logit_clf = LogisticRegression(max_iter=1000, fit_intercept = True)"
   ]
  },
  {
   "cell_type": "code",
   "execution_count": 59,
   "metadata": {},
   "outputs": [],
   "source": [
    "features = ['age','female','google','time_spent', 'used_search', 'campaign_1']"
   ]
  },
  {
   "cell_type": "code",
   "execution_count": 60,
   "metadata": {},
   "outputs": [
    {
     "name": "stderr",
     "output_type": "stream",
     "text": [
      "D:\\Anaconda3\\lib\\site-packages\\sklearn\\linear_model\\logistic.py:433: FutureWarning: Default solver will be changed to 'lbfgs' in 0.22. Specify a solver to silence this warning.\n",
      "  FutureWarning)\n"
     ]
    },
    {
     "data": {
      "text/plain": [
       "LogisticRegression(C=1.0, class_weight=None, dual=False, fit_intercept=True,\n",
       "          intercept_scaling=1, max_iter=1000, multi_class='warn',\n",
       "          n_jobs=None, penalty='l2', random_state=None, solver='warn',\n",
       "          tol=0.0001, verbose=0, warm_start=False)"
      ]
     },
     "execution_count": 60,
     "metadata": {},
     "output_type": "execute_result"
    }
   ],
   "source": [
    "logit_clf.fit(webdata[features], webdata['click'])"
   ]
  },
  {
   "cell_type": "code",
   "execution_count": 61,
   "metadata": {},
   "outputs": [
    {
     "data": {
      "text/html": [
       "<div>\n",
       "<style scoped>\n",
       "    .dataframe tbody tr th:only-of-type {\n",
       "        vertical-align: middle;\n",
       "    }\n",
       "\n",
       "    .dataframe tbody tr th {\n",
       "        vertical-align: top;\n",
       "    }\n",
       "\n",
       "    .dataframe thead th {\n",
       "        text-align: right;\n",
       "    }\n",
       "</style>\n",
       "<table border=\"1\" class=\"dataframe\">\n",
       "  <thead>\n",
       "    <tr style=\"text-align: right;\">\n",
       "      <th></th>\n",
       "      <th>0</th>\n",
       "    </tr>\n",
       "  </thead>\n",
       "  <tbody>\n",
       "    <tr>\n",
       "      <th>age</th>\n",
       "      <td>0.004736</td>\n",
       "    </tr>\n",
       "    <tr>\n",
       "      <th>female</th>\n",
       "      <td>0.079912</td>\n",
       "    </tr>\n",
       "    <tr>\n",
       "      <th>google</th>\n",
       "      <td>-0.001201</td>\n",
       "    </tr>\n",
       "    <tr>\n",
       "      <th>time_spent</th>\n",
       "      <td>0.001293</td>\n",
       "    </tr>\n",
       "    <tr>\n",
       "      <th>used_search</th>\n",
       "      <td>0.064918</td>\n",
       "    </tr>\n",
       "    <tr>\n",
       "      <th>campaign_1</th>\n",
       "      <td>0.171095</td>\n",
       "    </tr>\n",
       "  </tbody>\n",
       "</table>\n",
       "</div>"
      ],
      "text/plain": [
       "                    0\n",
       "age          0.004736\n",
       "female       0.079912\n",
       "google      -0.001201\n",
       "time_spent   0.001293\n",
       "used_search  0.064918\n",
       "campaign_1   0.171095"
      ]
     },
     "execution_count": 61,
     "metadata": {},
     "output_type": "execute_result"
    }
   ],
   "source": [
    "pd.DataFrame(np.transpose(logit_clf.coef_), features)"
   ]
  },
  {
   "cell_type": "code",
   "execution_count": 62,
   "metadata": {},
   "outputs": [],
   "source": [
    "import statsmodels.api as sm"
   ]
  },
  {
   "cell_type": "code",
   "execution_count": 63,
   "metadata": {},
   "outputs": [],
   "source": [
    "logit = sm.Logit(webdata['click'], sm.add_constant(webdata[features]))"
   ]
  },
  {
   "cell_type": "code",
   "execution_count": 64,
   "metadata": {},
   "outputs": [
    {
     "name": "stdout",
     "output_type": "stream",
     "text": [
      "Optimization terminated successfully.\n",
      "         Current function value: 0.664418\n",
      "         Iterations 4\n"
     ]
    }
   ],
   "source": [
    "result = logit.fit()"
   ]
  },
  {
   "cell_type": "code",
   "execution_count": 65,
   "metadata": {},
   "outputs": [
    {
     "name": "stdout",
     "output_type": "stream",
     "text": [
      "                           Logit Regression Results                           \n",
      "==============================================================================\n",
      "Dep. Variable:                  click   No. Observations:                 9010\n",
      "Model:                          Logit   Df Residuals:                     9003\n",
      "Method:                           MLE   Df Model:                            6\n",
      "Date:                Sun, 03 Mar 2019   Pseudo R-squ.:                0.004383\n",
      "Time:                        14:34:53   Log-Likelihood:                -5986.4\n",
      "converged:                       True   LL-Null:                       -6012.8\n",
      "                                        LLR p-value:                 1.346e-09\n",
      "===============================================================================\n",
      "                  coef    std err          z      P>|z|      [0.025      0.975]\n",
      "-------------------------------------------------------------------------------\n",
      "const          -1.0782      0.136     -7.926      0.000      -1.345      -0.812\n",
      "age             0.0050      0.002      2.097      0.036       0.000       0.010\n",
      "female          0.0846      0.075      1.129      0.259      -0.062       0.231\n",
      "google         -0.0029      0.053     -0.055      0.956      -0.108       0.102\n",
      "time_spent      0.0013      0.000      6.503      0.000       0.001       0.002\n",
      "used_search     0.0726      0.076      0.952      0.341      -0.077       0.222\n",
      "campaign_1      0.1788      0.076      2.364      0.018       0.031       0.327\n",
      "===============================================================================\n"
     ]
    }
   ],
   "source": [
    "print(result.summary())"
   ]
  },
  {
   "cell_type": "markdown",
   "metadata": {},
   "source": [
    "**Results**\n",
    "* The results showed that \"age\",\"time_spent\", and \"campaign_1\" are significant predictors for clicks.\n",
    "* This model (Pseudo R-squ.= 0.004383) is slightly better than the example model (Pseudo R-squ.= 0.004307)"
   ]
  },
  {
   "cell_type": "markdown",
   "metadata": {},
   "source": [
    "**Predicting**\n",
    "* The first person is 30, male,does not use Google,spent 140 seconds on the site, has not searched for the product, and is not exposed to campagin 1.\n",
    "* The first person is 45, female,uses Google,spent 450 seconds on the site, has searched for the product, and is exposed to campagin 1."
   ]
  },
  {
   "cell_type": "code",
   "execution_count": 66,
   "metadata": {},
   "outputs": [],
   "source": [
    "people = [[30,0,0,140,0,0], [45,1,1,450,1,1]]"
   ]
  },
  {
   "cell_type": "code",
   "execution_count": 67,
   "metadata": {},
   "outputs": [
    {
     "data": {
      "text/plain": [
       "array([0, 1], dtype=int64)"
      ]
     },
     "execution_count": 67,
     "metadata": {},
     "output_type": "execute_result"
    }
   ],
   "source": [
    "logit_clf.predict(people)"
   ]
  },
  {
   "cell_type": "code",
   "execution_count": 68,
   "metadata": {
    "scrolled": false
   },
   "outputs": [
    {
     "data": {
      "text/plain": [
       "array([[0.67538077, 0.32461923],\n",
       "       [0.48650192, 0.51349808]])"
      ]
     },
     "execution_count": 68,
     "metadata": {},
     "output_type": "execute_result"
    }
   ],
   "source": [
    "logit_clf.predict_proba(people)"
   ]
  },
  {
   "cell_type": "markdown",
   "metadata": {},
   "source": [
    "The possibility for the first person to click is 32.5% while that for the second person is 51.3%."
   ]
  },
  {
   "cell_type": "markdown",
   "metadata": {},
   "source": [
    "# Task 2"
   ]
  },
  {
   "cell_type": "code",
   "execution_count": 69,
   "metadata": {
    "scrolled": true
   },
   "outputs": [
    {
     "data": {
      "text/html": [
       "<div>\n",
       "<style scoped>\n",
       "    .dataframe tbody tr th:only-of-type {\n",
       "        vertical-align: middle;\n",
       "    }\n",
       "\n",
       "    .dataframe tbody tr th {\n",
       "        vertical-align: top;\n",
       "    }\n",
       "\n",
       "    .dataframe thead th {\n",
       "        text-align: right;\n",
       "    }\n",
       "</style>\n",
       "<table border=\"1\" class=\"dataframe\">\n",
       "  <thead>\n",
       "    <tr style=\"text-align: right;\">\n",
       "      <th></th>\n",
       "      <th>id</th>\n",
       "      <th>age</th>\n",
       "      <th>female</th>\n",
       "      <th>used_search</th>\n",
       "      <th>time_spent</th>\n",
       "      <th>campaign_1</th>\n",
       "      <th>campaign_2</th>\n",
       "      <th>click</th>\n",
       "      <th>sell_old</th>\n",
       "      <th>google</th>\n",
       "      <th>facebook</th>\n",
       "      <th>news_a</th>\n",
       "      <th>news_b</th>\n",
       "      <th>nyt</th>\n",
       "      <th>tumblr</th>\n",
       "      <th>twitter</th>\n",
       "    </tr>\n",
       "    <tr>\n",
       "      <th>sell</th>\n",
       "      <th></th>\n",
       "      <th></th>\n",
       "      <th></th>\n",
       "      <th></th>\n",
       "      <th></th>\n",
       "      <th></th>\n",
       "      <th></th>\n",
       "      <th></th>\n",
       "      <th></th>\n",
       "      <th></th>\n",
       "      <th></th>\n",
       "      <th></th>\n",
       "      <th></th>\n",
       "      <th></th>\n",
       "      <th></th>\n",
       "      <th></th>\n",
       "    </tr>\n",
       "  </thead>\n",
       "  <tbody>\n",
       "    <tr>\n",
       "      <th>0</th>\n",
       "      <td>2131.114162</td>\n",
       "      <td>28.348085</td>\n",
       "      <td>0.143244</td>\n",
       "      <td>0.860910</td>\n",
       "      <td>116.192919</td>\n",
       "      <td>0.861272</td>\n",
       "      <td>0.859827</td>\n",
       "      <td>0.360007</td>\n",
       "      <td>0.688042</td>\n",
       "      <td>0.211344</td>\n",
       "      <td>0.097905</td>\n",
       "      <td>0.095737</td>\n",
       "      <td>0.100614</td>\n",
       "      <td>0.097182</td>\n",
       "      <td>0.098808</td>\n",
       "      <td>0.094473</td>\n",
       "    </tr>\n",
       "    <tr>\n",
       "      <th>1</th>\n",
       "      <td>2156.758492</td>\n",
       "      <td>28.339378</td>\n",
       "      <td>0.136442</td>\n",
       "      <td>0.864997</td>\n",
       "      <td>304.457686</td>\n",
       "      <td>0.868164</td>\n",
       "      <td>0.868739</td>\n",
       "      <td>0.429764</td>\n",
       "      <td>0.719632</td>\n",
       "      <td>0.204088</td>\n",
       "      <td>0.109672</td>\n",
       "      <td>0.097582</td>\n",
       "      <td>0.102188</td>\n",
       "      <td>0.092401</td>\n",
       "      <td>0.095567</td>\n",
       "      <td>0.096718</td>\n",
       "    </tr>\n",
       "  </tbody>\n",
       "</table>\n",
       "</div>"
      ],
      "text/plain": [
       "               id        age    female  used_search  time_spent  campaign_1  \\\n",
       "sell                                                                          \n",
       "0     2131.114162  28.348085  0.143244     0.860910  116.192919    0.861272   \n",
       "1     2156.758492  28.339378  0.136442     0.864997  304.457686    0.868164   \n",
       "\n",
       "      campaign_2     click  sell_old    google  facebook    news_a    news_b  \\\n",
       "sell                                                                           \n",
       "0       0.859827  0.360007  0.688042  0.211344  0.097905  0.095737  0.100614   \n",
       "1       0.868739  0.429764  0.719632  0.204088  0.109672  0.097582  0.102188   \n",
       "\n",
       "           nyt    tumblr   twitter  \n",
       "sell                                \n",
       "0     0.097182  0.098808  0.094473  \n",
       "1     0.092401  0.095567  0.096718  "
      ]
     },
     "execution_count": 69,
     "metadata": {},
     "output_type": "execute_result"
    }
   ],
   "source": [
    "webdata.groupby('sell').mean()"
   ]
  },
  {
   "cell_type": "markdown",
   "metadata": {},
   "source": [
    "It seemed that \"time_spent\" is a very important predictor for sale."
   ]
  },
  {
   "cell_type": "code",
   "execution_count": 70,
   "metadata": {},
   "outputs": [
    {
     "data": {
      "image/png": "[encoded data removed]",
      "text/plain": [
       "<Figure size 432x288 with 1 Axes>"
      ]
     },
     "metadata": {
      "needs_background": "light"
     },
     "output_type": "display_data"
    }
   ],
   "source": [
    "sns.countplot(x=\"referral\", hue =\"sell\", data=webdata, palette=\"Blues\");"
   ]
  },
  {
   "cell_type": "code",
   "execution_count": 71,
   "metadata": {},
   "outputs": [
    {
     "data": {
      "image/png": "[encoded data removed]",
      "text/plain": [
       "<Figure size 432x288 with 1 Axes>"
      ]
     },
     "metadata": {
      "needs_background": "light"
     },
     "output_type": "display_data"
    }
   ],
   "source": [
    "sns.countplot(x=\"female\", hue =\"sell\", data=webdata, palette=\"Blues\");"
   ]
  },
  {
   "cell_type": "code",
   "execution_count": 72,
   "metadata": {},
   "outputs": [
    {
     "data": {
      "image/png": "[encoded data removed]",
      "text/plain": [
       "<Figure size 432x288 with 1 Axes>"
      ]
     },
     "metadata": {
      "needs_background": "light"
     },
     "output_type": "display_data"
    }
   ],
   "source": [
    "sns.countplot(x=\"used_search\", hue =\"sell\", data=webdata, palette=\"Blues\");"
   ]
  },
  {
   "cell_type": "code",
   "execution_count": 73,
   "metadata": {},
   "outputs": [
    {
     "data": {
      "image/png": "[encoded data removed]",
      "text/plain": [
       "<Figure size 432x288 with 1 Axes>"
      ]
     },
     "metadata": {
      "needs_background": "light"
     },
     "output_type": "display_data"
    }
   ],
   "source": [
    "sns.countplot(x=\"sell_old\", hue =\"sell\", data=webdata, palette=\"Blues\");"
   ]
  },
  {
   "cell_type": "code",
   "execution_count": 74,
   "metadata": {},
   "outputs": [
    {
     "data": {
      "image/png": "[encoded data removed]",
      "text/plain": [
       "<Figure size 432x288 with 1 Axes>"
      ]
     },
     "metadata": {
      "needs_background": "light"
     },
     "output_type": "display_data"
    }
   ],
   "source": [
    "sns.countplot(x=\"campaign_1\", hue =\"sell\", data=webdata, palette=\"Blues\");"
   ]
  },
  {
   "cell_type": "code",
   "execution_count": 75,
   "metadata": {},
   "outputs": [
    {
     "data": {
      "image/png": "[encoded data removed]",
      "text/plain": [
       "<Figure size 432x288 with 1 Axes>"
      ]
     },
     "metadata": {
      "needs_background": "light"
     },
     "output_type": "display_data"
    }
   ],
   "source": [
    "sns.countplot(x=\"campaign_2\", hue =\"sell\", data=webdata, palette=\"Blues\");"
   ]
  },
  {
   "cell_type": "code",
   "execution_count": 82,
   "metadata": {},
   "outputs": [],
   "source": [
    "features2 = ['time_spent','used_search','click','sell_old', 'campaign_1','campaign_2']"
   ]
  },
  {
   "cell_type": "code",
   "execution_count": 83,
   "metadata": {},
   "outputs": [
    {
     "name": "stderr",
     "output_type": "stream",
     "text": [
      "D:\\Anaconda3\\lib\\site-packages\\sklearn\\linear_model\\logistic.py:433: FutureWarning: Default solver will be changed to 'lbfgs' in 0.22. Specify a solver to silence this warning.\n",
      "  FutureWarning)\n"
     ]
    },
    {
     "data": {
      "text/plain": [
       "LogisticRegression(C=1.0, class_weight=None, dual=False, fit_intercept=True,\n",
       "          intercept_scaling=1, max_iter=1000, multi_class='warn',\n",
       "          n_jobs=None, penalty='l2', random_state=None, solver='warn',\n",
       "          tol=0.0001, verbose=0, warm_start=False)"
      ]
     },
     "execution_count": 83,
     "metadata": {},
     "output_type": "execute_result"
    }
   ],
   "source": [
    "logit_clf.fit(webdata[features2], webdata['sell'])"
   ]
  },
  {
   "cell_type": "code",
   "execution_count": 84,
   "metadata": {},
   "outputs": [
    {
     "data": {
      "text/html": [
       "<div>\n",
       "<style scoped>\n",
       "    .dataframe tbody tr th:only-of-type {\n",
       "        vertical-align: middle;\n",
       "    }\n",
       "\n",
       "    .dataframe tbody tr th {\n",
       "        vertical-align: top;\n",
       "    }\n",
       "\n",
       "    .dataframe thead th {\n",
       "        text-align: right;\n",
       "    }\n",
       "</style>\n",
       "<table border=\"1\" class=\"dataframe\">\n",
       "  <thead>\n",
       "    <tr style=\"text-align: right;\">\n",
       "      <th></th>\n",
       "      <th>0</th>\n",
       "    </tr>\n",
       "  </thead>\n",
       "  <tbody>\n",
       "    <tr>\n",
       "      <th>time_spent</th>\n",
       "      <td>0.087477</td>\n",
       "    </tr>\n",
       "    <tr>\n",
       "      <th>used_search</th>\n",
       "      <td>-0.356872</td>\n",
       "    </tr>\n",
       "    <tr>\n",
       "      <th>click</th>\n",
       "      <td>0.444507</td>\n",
       "    </tr>\n",
       "    <tr>\n",
       "      <th>sell_old</th>\n",
       "      <td>-0.426359</td>\n",
       "    </tr>\n",
       "    <tr>\n",
       "      <th>campaign_1</th>\n",
       "      <td>-0.087941</td>\n",
       "    </tr>\n",
       "    <tr>\n",
       "      <th>campaign_2</th>\n",
       "      <td>-0.520427</td>\n",
       "    </tr>\n",
       "  </tbody>\n",
       "</table>\n",
       "</div>"
      ],
      "text/plain": [
       "                    0\n",
       "time_spent   0.087477\n",
       "used_search -0.356872\n",
       "click        0.444507\n",
       "sell_old    -0.426359\n",
       "campaign_1  -0.087941\n",
       "campaign_2  -0.520427"
      ]
     },
     "execution_count": 84,
     "metadata": {},
     "output_type": "execute_result"
    }
   ],
   "source": [
    "pd.DataFrame(np.transpose(logit_clf.coef_), features2)"
   ]
  },
  {
   "cell_type": "code",
   "execution_count": 85,
   "metadata": {},
   "outputs": [],
   "source": [
    "logit = sm.Logit(webdata['sell'], sm.add_constant(webdata[features2]))"
   ]
  },
  {
   "cell_type": "code",
   "execution_count": 86,
   "metadata": {},
   "outputs": [
    {
     "name": "stdout",
     "output_type": "stream",
     "text": [
      "Optimization terminated successfully.\n",
      "         Current function value: 0.025091\n",
      "         Iterations 14\n"
     ]
    }
   ],
   "source": [
    "result2 = logit.fit()"
   ]
  },
  {
   "cell_type": "code",
   "execution_count": 87,
   "metadata": {},
   "outputs": [
    {
     "name": "stdout",
     "output_type": "stream",
     "text": [
      "                           Logit Regression Results                           \n",
      "==============================================================================\n",
      "Dep. Variable:                   sell   No. Observations:                 9010\n",
      "Model:                          Logit   Df Residuals:                     9003\n",
      "Method:                           MLE   Df Model:                            6\n",
      "Date:                Sun, 03 Mar 2019   Pseudo R-squ.:                  0.9624\n",
      "Time:                        14:35:51   Log-Likelihood:                -226.07\n",
      "converged:                       True   LL-Null:                       -6007.2\n",
      "                                        LLR p-value:                     0.000\n",
      "===============================================================================\n",
      "                  coef    std err          z      P>|z|      [0.025      0.975]\n",
      "-------------------------------------------------------------------------------\n",
      "const         -81.1906      5.534    -14.670      0.000     -92.038     -70.343\n",
      "time_spent      0.3521      0.024     14.766      0.000       0.305       0.399\n",
      "used_search    -0.0879      0.413     -0.213      0.832      -0.898       0.722\n",
      "click           2.1380      0.296      7.227      0.000       1.558       2.718\n",
      "sell_old       -0.4202      0.285     -1.472      0.141      -0.980       0.139\n",
      "campaign_1     -0.0841      0.423     -0.199      0.842      -0.913       0.745\n",
      "campaign_2      0.0641      0.400      0.160      0.873      -0.719       0.848\n",
      "===============================================================================\n",
      "\n",
      "Possibly complete quasi-separation: A fraction 0.86 of observations can be\n",
      "perfectly predicted. This might indicate that there is complete\n",
      "quasi-separation. In this case some parameters will not be identified.\n"
     ]
    }
   ],
   "source": [
    "print(result2.summary())"
   ]
  },
  {
   "cell_type": "markdown",
   "metadata": {},
   "source": [
    "The results indicated that \"time_spent\" and \"click\" are significant predictors for sale."
   ]
  }
 ],
 "metadata": {
  "kernelspec": {
   "display_name": "Python 3",
   "language": "python",
   "name": "python3"
  },
  "language_info": {
   "codemirror_mode": {
    "name": "ipython",
    "version": 3
   },
   "file_extension": ".py",
   "mimetype": "text/x-python",
   "name": "python",
   "nbconvert_exporter": "python",
   "pygments_lexer": "ipython3",
   "version": "3.7.1"
  }
 },
 "nbformat": 4,
 "nbformat_minor": 2
}
